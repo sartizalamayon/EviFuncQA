{
 "cells": [
  {
   "cell_type": "code",
   "execution_count": 2,
   "id": "a1dcd165",
   "metadata": {},
   "outputs": [],
   "source": [
    "import pandas as pd\n",
    "df = pd.read_csv('Prot2text_UniProt.csv')"
   ]
  },
  {
   "cell_type": "code",
   "execution_count": 11,
   "id": "15ef87c5",
   "metadata": {},
   "outputs": [
    {
     "name": "stdout",
     "output_type": "stream",
     "text": [
      "<class 'pandas.core.frame.DataFrame'>\n",
      "RangeIndex: 256690 entries, 0 to 256689\n",
      "Data columns (total 34 columns):\n",
      " #   Column                              Non-Null Count   Dtype  \n",
      "---  ------                              --------------   -----  \n",
      " 0   Entry                               256690 non-null  object \n",
      " 1   name                                256690 non-null  object \n",
      " 2   Full Name                           255980 non-null  object \n",
      " 3   taxon                               256392 non-null  object \n",
      " 4   sequence                            256690 non-null  object \n",
      " 5   function                            256690 non-null  object \n",
      " 6   AlphaFoldDB                         256690 non-null  object \n",
      " 7   Protein names                       256681 non-null  object \n",
      " 8   Gene Names                          247647 non-null  object \n",
      " 9   Organism                            256681 non-null  object \n",
      " 10  Length                              256681 non-null  float64\n",
      " 11  Active site                         55837 non-null   object \n",
      " 12  Catalytic activity                  132908 non-null  object \n",
      " 13  Binding site                        115900 non-null  object \n",
      " 14  Cofactor                            65251 non-null   object \n",
      " 15  DNA binding                         4886 non-null    object \n",
      " 16  EC number                           141536 non-null  object \n",
      " 17  Rhea ID                             120214 non-null  object \n",
      " 18  Site                                18265 non-null   object \n",
      " 19  Temperature dependence              1848 non-null    object \n",
      " 20  Pathway                             68691 non-null   object \n",
      " 21  pH dependence                       3190 non-null    object \n",
      " 22  BRENDA                              10270 non-null   object \n",
      " 23  Reactome                            18470 non-null   object \n",
      " 24  SABIO-RK                            3333 non-null    object \n",
      " 25  UniPathway                          66801 non-null   object \n",
      " 26  Subcellular location [CC]           167776 non-null  object \n",
      " 27  Domain [CC]                         23271 non-null   object \n",
      " 28  Domain [FT]                         63134 non-null   object \n",
      " 29  Gene Ontology (biological process)  222047 non-null  object \n",
      " 30  Gene Ontology (cellular component)  215299 non-null  object \n",
      " 31  Gene Ontology (molecular function)  234925 non-null  object \n",
      " 32  Motif                               12019 non-null   object \n",
      " 33  Topological domain                  13374 non-null   object \n",
      "dtypes: float64(1), object(33)\n",
      "memory usage: 66.6+ MB\n"
     ]
    }
   ],
   "source": [
    "df.info()"
   ]
  },
  {
   "cell_type": "code",
   "execution_count": 10,
   "id": "20707593",
   "metadata": {},
   "outputs": [],
   "source": [
    "import pandas as pd\n",
    "import IPython.display as disp\n",
    "\n",
    "# Build coverage table\n",
    "def show_coverage(df):\n",
    "    coverage = []\n",
    "    total_rows = len(df)\n",
    "\n",
    "    for i, col in enumerate(df.columns):\n",
    "        non_null = df[col].notna().sum()\n",
    "        unique_count = df[col].nunique(dropna=True)\n",
    "        coverage.append({\n",
    "            \"Col #\": i,\n",
    "            \"Column\": col,\n",
    "            \"Non-null count\": non_null,\n",
    "            \"Coverage %\": round((non_null / total_rows) * 100, 2),\n",
    "            \"Unique count\": unique_count\n",
    "        })\n",
    "\n",
    "    coverage_df = pd.DataFrame(coverage)\n",
    "\n",
    "    # Sort by coverage % descending (optional)\n",
    "    coverage_df = coverage_df.sort_values(\"Coverage %\", ascending=False)\n",
    "\n",
    "    # Show as a nice table\n",
    "\n",
    "    disp.display(coverage_df)\n"
   ]
  },
  {
   "cell_type": "code",
   "execution_count": 5,
   "id": "1dd4e823",
   "metadata": {},
   "outputs": [
    {
     "name": "stdout",
     "output_type": "stream",
     "text": [
      "# 1---Entry: ['B7LNJ1' 'Q6LG09' 'Q01345']---\n",
      "# 2---name: ['LPLT_ESCF3' 'OTC_PHOPR' 'NHEB_ONCMY']---\n",
      "# 3---sequence: ['MSESVHTNTSLWSKGMKAVIVAQFLSAFGDNALLFATLALLKAQFYPEWSQPVLQMVFVGAYILFAPFVGQVADSFAKGRVMMFANGLKLLGAASICFGFNPFVGYTLVGIGAAAYSPAKYGILGELTTGDKLVKANGLMEASTIAAILLGSVAGGVLADLHVLVALAACALAYAGAVAANIYIPKLAAARPGQSWNVLKMTCSFKSACTSLWQNGETRFSLVGTSLFWGAGVTLRFLLVLWVPVALGITDNATPTYLNAMVAIGIVLGAGAAAKLVTLETVSRCMPAGILIGVVVLFFSLQHELLPAYALLMLIGVLGGFFVVPLNALLQERGKKSVGAGNAIAVQNLGENSAMLLMLGIYSLAVLVGIPVVPIGIGFGTLFALAITALWIWQRRH'\n",
      " 'MSFNLRNRNFLKLLDFTGKEIEHLIALAQDLKHAKYAGTEQQKLKGKNIALIFEKTSTRTRCAFEVAAHDQGAHVTYIGGGSQMGHKESTKDTARVLGRFYDGIEYRGFGQDVVETLGEHAGVPVWNGLTDEWHPTQIIADWMTMLEHGNGKRLNQMKLAYMGDAKNNMGNSLMVGAAKVGMEIRLVGPKAYWPDPALVAECNELCKISGGKIVITDNVQEGVDSVDFIYGDVWVSMGEPEELWATRINDLAPYQVNMSVITATQNPAVKYMHCLPAFHNDETRVGKKIEEKFNMKGLEVTEDVFESSYTICFDEAENRMHSIKAIMVATLGD'\n",
      " 'MPAFSCAFPGCRRDLLVIVLVVFVGIGLPIEASAPAYQSHGTEGSHLTNITNTKKAFPVLAVNYEHVRKPFEIALWILLALLMKLGFHLIPRLSAVVPESCLLIVVGLLVGGLIKVIGEEPPVLDSQLFFLCLLPPIILDAGYFLPIRPFTENVGTILVFAVIGTLWNAFFMGGLLYALCQIESVGLSGVDLLACLLFGSIVSAVDPVAVLAVFEEIHINELVHILVFGESLLNDAVTVVLYNLFEEFSKVGTVTVLDVFLGVVCFFVVSLGGVLVGAIYGFLAAFTSRFTSHTRVIEPLFVFLYSYMAYLSSEMFHLSGIMALIACGVVMRPYVEANISHKSYTTIKYFLKMWSSVSETLIFIFLGVSTVAGPHAWNWTFVITTVILCLVSRVLGVIGLTFIINKFRIVKLTKKDQFIVAYGGLRGAIAFSLGYLLSNSHQMRNLFLTAIITVIFFTVFVQGMTIRPLVELLAVKKKKESKPSINEEIHTEFLDHLLTGVEGVCGHYGHYHWKEKLNRFNKTYVKRWLIAGENFKEPELIAFYRKMELKQAIMMVESGQLPSVLPSTISMQNIQPRAIPRVSKKREEEIRRILRANLQNNKQKMRSRSYSRHTLFDADEEDNVSEVRLRKTKMEMERRVSVMERRMSHYLTVPANRESPRPGVRRVRFESDNQVFSADSFPTVHFEQPSPPSTPDAVSLEEEEEEVPKRPSLKADIEGPRGNASDNHQGELDYQRLARCLSDPGPNKDKEDDDPFMSC']---\n",
      "# 4---function: ['Catalyzes the facilitated diffusion of 2-acyl-glycero-3-phosphoethanolamine (2-acyl-GPE) into the cell.'\n",
      " 'Reversibly catalyzes the transfer of the carbamoyl group from carbamoyl phosphate (CP) to the N(epsilon) atom of ornithine (ORN) to produce L-citrulline.'\n",
      " 'Involved in pH regulation to eliminate acids generated by active metabolism or to counter adverse environmental conditions. Major proton extruding system driven by the inward sodium ion chemical gradient.']---\n",
      "# 5---Gene Names: ['lplT EFER_2769' 'argF PBPRB1924' 'gmsA DDB_G0286015']---\n",
      "# 6---Organism: ['Escherichia fergusonii (strain ATCC 35469 / DSM 13698 / CCUG 18766 / IAM 14443 / JCM 21226 / LMG 7866 / NBRC 102419 / NCTC 12128 / CDC 0568-73)'\n",
      " 'Photobacterium profundum (strain SS9)'\n",
      " 'Oncorhynchus mykiss (Rainbow trout) (Salmo gairdneri)']---\n",
      "# 7---Length: [397. 333. 759.]---\n",
      "# 8---Active site: ['ACT_SITE 262; /evidence=\"ECO:0000255|PROSITE-ProRule:PRU10088\"; ACT_SITE 397; /evidence=\"ECO:0000255|PROSITE-ProRule:PRU10088\"; ACT_SITE 415; /evidence=\"ECO:0000255|PROSITE-ProRule:PRU10088\"'\n",
      " 'ACT_SITE 154; /note=\"Nucleophile\"; /evidence=\"ECO:0000269|PubMed:15081808\"; ACT_SITE 215; /note=\"Charge relay system\"; /evidence=\"ECO:0000305|PubMed:15103133\"; ACT_SITE 268; /note=\"Charge relay system\"; /evidence=\"ECO:0000305|PubMed:15103133\"'\n",
      " 'ACT_SITE 86; /note=\"Nucleophile\"; /evidence=\"ECO:0000255|HAMAP-Rule:MF_00421\"; ACT_SITE 195; /evidence=\"ECO:0000255|HAMAP-Rule:MF_00421\"; ACT_SITE 197; /evidence=\"ECO:0000255|HAMAP-Rule:MF_00421\"']---\n",
      "# 9---Catalytic activity: ['CATALYTIC ACTIVITY: Reaction=carbamoyl phosphate + L-ornithine = L-citrulline + phosphate + H(+); Xref=Rhea:RHEA:19513, ChEBI:CHEBI:15378, ChEBI:CHEBI:43474, ChEBI:CHEBI:46911, ChEBI:CHEBI:57743, ChEBI:CHEBI:58228; EC=2.1.3.3; Evidence={ECO:0000255|HAMAP-Rule:MF_01109};'\n",
      " 'CATALYTIC ACTIVITY: Reaction=tRNA(Trp) + L-tryptophan + ATP = L-tryptophyl-tRNA(Trp) + AMP + diphosphate + H(+); Xref=Rhea:RHEA:24080, Rhea:RHEA-COMP:9671, Rhea:RHEA-COMP:9705, ChEBI:CHEBI:15378, ChEBI:CHEBI:30616, ChEBI:CHEBI:33019, ChEBI:CHEBI:57912, ChEBI:CHEBI:78442, ChEBI:CHEBI:78535, ChEBI:CHEBI:456215; EC=6.1.1.2; Evidence={ECO:0000255|HAMAP-Rule:MF_00140};'\n",
      " 'CATALYTIC ACTIVITY: Reaction=UMP + diphosphate = 5-phospho-alpha-D-ribose 1-diphosphate + uracil; Xref=Rhea:RHEA:13017, ChEBI:CHEBI:17568, ChEBI:CHEBI:33019, ChEBI:CHEBI:57865, ChEBI:CHEBI:58017; EC=2.4.2.9; Evidence={ECO:0000255|HAMAP-Rule:MF_01219};']---\n",
      "# 10---Binding site: ['BINDING 57..60; /ligand=\"carbamoyl phosphate\"; /ligand_id=\"ChEBI:CHEBI:58228\"; /evidence=\"ECO:0000255|HAMAP-Rule:MF_01109\"; BINDING 83; /ligand=\"carbamoyl phosphate\"; /ligand_id=\"ChEBI:CHEBI:58228\"; /evidence=\"ECO:0000255|HAMAP-Rule:MF_01109\"; BINDING 107; /ligand=\"carbamoyl phosphate\"; /ligand_id=\"ChEBI:CHEBI:58228\"; /evidence=\"ECO:0000255|HAMAP-Rule:MF_01109\"; BINDING 134..137; /ligand=\"carbamoyl phosphate\"; /ligand_id=\"ChEBI:CHEBI:58228\"; /evidence=\"ECO:0000255|HAMAP-Rule:MF_01109\"; BINDING 168; /ligand=\"L-ornithine\"; /ligand_id=\"ChEBI:CHEBI:46911\"; /evidence=\"ECO:0000255|HAMAP-Rule:MF_01109\"; BINDING 232; /ligand=\"L-ornithine\"; /ligand_id=\"ChEBI:CHEBI:46911\"; /evidence=\"ECO:0000255|HAMAP-Rule:MF_01109\"; BINDING 236..237; /ligand=\"L-ornithine\"; /ligand_id=\"ChEBI:CHEBI:46911\"; /evidence=\"ECO:0000255|HAMAP-Rule:MF_01109\"; BINDING 274..275; /ligand=\"carbamoyl phosphate\"; /ligand_id=\"ChEBI:CHEBI:58228\"; /evidence=\"ECO:0000255|HAMAP-Rule:MF_01109\"; BINDING 319; /ligand=\"carbamoyl phosphate\"; /ligand_id=\"ChEBI:CHEBI:58228\"; /evidence=\"ECO:0000255|HAMAP-Rule:MF_01109\"'\n",
      " 'BINDING 13..15; /ligand=\"ATP\"; /ligand_id=\"ChEBI:CHEBI:30616\"; /evidence=\"ECO:0000255|HAMAP-Rule:MF_00140\"; BINDING 21..22; /ligand=\"ATP\"; /ligand_id=\"ChEBI:CHEBI:30616\"; /evidence=\"ECO:0000255|HAMAP-Rule:MF_00140\"; BINDING 137; /ligand=\"L-tryptophan\"; /ligand_id=\"ChEBI:CHEBI:57912\"; /evidence=\"ECO:0000255|HAMAP-Rule:MF_00140\"; BINDING 149..151; /ligand=\"ATP\"; /ligand_id=\"ChEBI:CHEBI:30616\"; /evidence=\"ECO:0000255|HAMAP-Rule:MF_00140\"; BINDING 208; /ligand=\"ATP\"; /ligand_id=\"ChEBI:CHEBI:30616\"; /evidence=\"ECO:0000255|HAMAP-Rule:MF_00140\"; BINDING 217..221; /ligand=\"ATP\"; /ligand_id=\"ChEBI:CHEBI:30616\"; /evidence=\"ECO:0000255|HAMAP-Rule:MF_00140\"'\n",
      " 'BINDING 98; /ligand=\"substrate\"; /evidence=\"ECO:0000269|PubMed:16128806\"; BINDING 101; /ligand=\"substrate\"; /evidence=\"ECO:0000269|PubMed:16128806\"; BINDING 268; /ligand=\"substrate\"; /evidence=\"ECO:0000269|PubMed:16128806\"']---\n",
      "# 11---Cofactor: ['COFACTOR: Name=Mn(2+); Xref=ChEBI:CHEBI:29035; Evidence={ECO:0000255|HAMAP-Rule:MF_00453}; Note=Binds 1 Mn(2+) ion per subunit. {ECO:0000255|HAMAP-Rule:MF_00453};'\n",
      " 'COFACTOR: Name=Mn(2+); Xref=ChEBI:CHEBI:29035; Evidence={ECO:0000255|HAMAP-Rule:MF_00740}; Note=Binds 2 manganese ions. {ECO:0000255|HAMAP-Rule:MF_00740};'\n",
      " 'COFACTOR: Name=Mg(2+); Xref=ChEBI:CHEBI:18420; Evidence={ECO:0000255|HAMAP-Rule:MF_00034}; Note=Binds 2 Mg(2+) ion per subunit. {ECO:0000255|HAMAP-Rule:MF_00034};']---\n",
      "# 12---DNA binding: ['DNA_BIND 246..305; /note=\"Homeobox\"; /evidence=\"ECO:0000255|PROSITE-ProRule:PRU00108\"'\n",
      " 'DNA_BIND 34..110; /note=\"Nuclear receptor\"; /evidence=\"ECO:0000255|PROSITE-ProRule:PRU00407\"'\n",
      " 'DNA_BIND 47..67; /note=\"H-T-H motif\"; /evidence=\"ECO:0000255|HAMAP-Rule:MF_00015\"']---\n",
      "# 13---Rhea ID: ['RHEA:19513' 'RHEA:24080' 'RHEA:13017']---\n",
      "# 14---Site: ['SITE 228; /note=\"Important for catalytic activity\"; /evidence=\"ECO:0000255|HAMAP-Rule:MF_01962\"'\n",
      " 'SITE 259..260; /note=\"Cleavage (non-hydrolytic); by autocatalysis\"; /evidence=\"ECO:0000255|HAMAP-Rule:MF_00663\"'\n",
      " 'SITE 10; /note=\"Discriminates between blocked and unblocked aminoacyl-tRNA\"; /evidence=\"ECO:0000255|HAMAP-Rule:MF_00083\"; SITE 93; /note=\"Stabilizes the basic form of H active site to accept a proton\"; /evidence=\"ECO:0000255|HAMAP-Rule:MF_00083\"']---\n",
      "# 15---Pathway: ['PATHWAY: Amino-acid biosynthesis; L-arginine biosynthesis; L-arginine from L-ornithine and carbamoyl phosphate: step 1/3. {ECO:0000255|HAMAP-Rule:MF_01109}.'\n",
      " 'PATHWAY: Purine metabolism; IMP biosynthesis via de novo pathway; 5-amino-1-(5-phospho-D-ribosyl)imidazole from N(2)-formyl-N(1)-(5-phospho-D-ribosyl)glycinamide: step 1/2. {ECO:0000255|HAMAP-Rule:MF_00421}.'\n",
      " 'PATHWAY: Carbohydrate biosynthesis; gluconeogenesis. {ECO:0000255|HAMAP-Rule:MF_00453}.']---\n",
      "# 16---Reactome: ['R-DDI-204005;R-DDI-2132295;R-DDI-5694530;R-DDI-6798695;'\n",
      " 'R-MMU-8951664;R-MMU-983168;' 'R-HSA-171319;R-HSA-6790901;']---\n",
      "# 17---SABIO-RK: ['P74836;' 'P39979;' 'F8JX40;']---\n",
      "# 18---UniPathway: ['UPA00068;' 'UPA00074;' 'UPA00138;']---\n",
      "# 19---Subcellular location [CC]: ['SUBCELLULAR LOCATION: Cell inner membrane {ECO:0000255|HAMAP-Rule:MF_01585}; Multi-pass membrane protein {ECO:0000255|HAMAP-Rule:MF_01585}.'\n",
      " 'SUBCELLULAR LOCATION: Cytoplasm {ECO:0000255|HAMAP-Rule:MF_01109}.'\n",
      " 'SUBCELLULAR LOCATION: Basolateral cell membrane; Multi-pass membrane protein.']---\n",
      "# 20---Domain [CC]: ['DOMAIN: The C-terminal propeptide, also known as COLFI domain, have crucial roles in tissue growth and repair by controlling both the intracellular assembly of procollagen molecules and the extracellular assembly of collagen fibrils. It binds a calcium ion which is essential for its function. {ECO:0000250}.'\n",
      " 'DOMAIN: The PRC barrel domain binds ribosomal protein uS19. {ECO:0000255|HAMAP-Rule:MF_00014}.'\n",
      " \"DOMAIN: Possesses an unusual extended V-shaped dimeric structure with each monomer consisting of three distinct domains arranged along a curved 'spinal' alpha-helix. The N-terminal catalytic domain specifically recognizes the glutamate moiety of the substrate. The second domain is the NADPH-binding domain, and the third C-terminal domain is responsible for dimerization. {ECO:0000255|HAMAP-Rule:MF_00087}.\"]---\n",
      "# 21---Domain [FT]: ['DOMAIN 30..157; /note=\"SCP\"'\n",
      " 'DOMAIN 80..175; /note=\"Toprim\"; /evidence=\"ECO:0000255|HAMAP-Rule:MF_00017\"'\n",
      " 'DOMAIN 4..226; /note=\"Glutamine amidotransferase type-1\"; /evidence=\"ECO:0000255|HAMAP-Rule:MF_00421\"']---\n",
      "# 22---Gene Ontology (biological process): ['arginine biosynthetic process via ornithine [GO:0042450]; citrulline biosynthetic process [GO:0019240]; L-arginine biosynthetic process [GO:0006526]'\n",
      " 'regulation of intracellular pH [GO:0051453]; sodium ion import across plasma membrane [GO:0098719]'\n",
      " 'conjugation with cellular fusion [GO:0000747]; immune response [GO:0006955]; positive regulation of apoptotic signaling pathway [GO:2001235]; proteolysis involved in protein catabolic process [GO:0051603]; sexual reproduction [GO:0019953]']---\n",
      "# 23---Gene Ontology (cellular component): ['plasma membrane [GO:0005886]' 'cytoplasm [GO:0005737]'\n",
      " 'basolateral plasma membrane [GO:0016323]']---\n",
      "# 24---Gene Ontology (molecular function): ['lysophospholipid:sodium symporter activity [GO:0051978]'\n",
      " 'amino acid binding [GO:0016597]; ornithine carbamoyltransferase activity [GO:0004585]'\n",
      " 'potassium:proton antiporter activity [GO:0015386]; sodium:proton antiporter activity [GO:0015385]']---\n",
      "# 25---Motif: ['MOTIF 14..22; /note=\"\\'HIGH\\' region\"; /evidence=\"ECO:0000255|HAMAP-Rule:MF_00140\"; MOTIF 217..221; /note=\"\\'KMSKS\\' region\"; /evidence=\"ECO:0000255|HAMAP-Rule:MF_00140\"'\n",
      " 'MOTIF 90..102; /note=\"PRPP-binding\"; /evidence=\"ECO:0000255|HAMAP-Rule:MF_01219\"'\n",
      " 'MOTIF 185..190; /note=\"Selectivity filter\"']---\n",
      "# 26---Topological domain: ['TOPO_DOM 1..17; /note=\"Periplasmic\"; /evidence=\"ECO:0000255|HAMAP-Rule:MF_01585\"; TOPO_DOM 39..52; /note=\"Cytoplasmic\"; /evidence=\"ECO:0000255|HAMAP-Rule:MF_01585\"; TOPO_DOM 74..90; /note=\"Periplasmic\"; /evidence=\"ECO:0000255|HAMAP-Rule:MF_01585\"; TOPO_DOM 112..144; /note=\"Cytoplasmic\"; /evidence=\"ECO:0000255|HAMAP-Rule:MF_01585\"; TOPO_DOM 166; /note=\"Periplasmic\"; /evidence=\"ECO:0000255|HAMAP-Rule:MF_01585\"; TOPO_DOM 188..226; /note=\"Cytoplasmic\"; /evidence=\"ECO:0000255|HAMAP-Rule:MF_01585\"; TOPO_DOM 248..256; /note=\"Periplasmic\"; /evidence=\"ECO:0000255|HAMAP-Rule:MF_01585\"; TOPO_DOM 278..280; /note=\"Cytoplasmic\"; /evidence=\"ECO:0000255|HAMAP-Rule:MF_01585\"; TOPO_DOM 302..304; /note=\"Periplasmic\"; /evidence=\"ECO:0000255|HAMAP-Rule:MF_01585\"; TOPO_DOM 326..343; /note=\"Cytoplasmic\"; /evidence=\"ECO:0000255|HAMAP-Rule:MF_01585\"; TOPO_DOM 365..366; /note=\"Periplasmic\"; /evidence=\"ECO:0000255|HAMAP-Rule:MF_01585\"; TOPO_DOM 388..397; /note=\"Cytoplasmic\"; /evidence=\"ECO:0000255|HAMAP-Rule:MF_01585\"'\n",
      " 'TOPO_DOM 1..14; /note=\"Cytoplasmic\"; /evidence=\"ECO:0000255\"; TOPO_DOM 35..75; /note=\"Extracellular\"; /evidence=\"ECO:0000255\"; TOPO_DOM 96..97; /note=\"Cytoplasmic\"; /evidence=\"ECO:0000255\"; TOPO_DOM 118..122; /note=\"Extracellular\"; /evidence=\"ECO:0000255\"; TOPO_DOM 143..149; /note=\"Cytoplasmic\"; /evidence=\"ECO:0000255\"; TOPO_DOM 170..195; /note=\"Extracellular\"; /evidence=\"ECO:0000255\"; TOPO_DOM 215..225; /note=\"Cytoplasmic\"; /evidence=\"ECO:0000255\"; TOPO_DOM 245..261; /note=\"Extracellular\"; /evidence=\"ECO:0000255\"; TOPO_DOM 283..311; /note=\"Cytoplasmic\"; /evidence=\"ECO:0000255\"; TOPO_DOM 331..352; /note=\"Extracellular\"; /evidence=\"ECO:0000255\"; TOPO_DOM 373..376; /note=\"Cytoplasmic\"; /evidence=\"ECO:0000255\"; TOPO_DOM 399..446; /note=\"Extracellular\"; /evidence=\"ECO:0000255\"; TOPO_DOM 468..759; /note=\"Cytoplasmic\"; /evidence=\"ECO:0000255\"'\n",
      " 'TOPO_DOM 1..5; /note=\"Lumenal\"; /evidence=\"ECO:0000305\"; TOPO_DOM 27..323; /note=\"Cytoplasmic\"; /evidence=\"ECO:0000305\"']---\n",
      "# 27---reactions: ['carbamoyl phosphate + L-ornithine = phosphate + L-citrulline; carbamoyl phosphate + L-ornithine = phosphate + L-citrulline; carbamoyl phosphate + L-ornithine = phosphate + L-citrulline; carbamoyl phosphate + L-ornithine = phosphate + L-citrulline; carbamoyl phosphate + L-ornithine = phosphate + L-citrulline; carbamoyl phosphate + L-ornithine = phosphate + L-citrulline; carbamoyl phosphate + L-ornithine = phosphate + L-citrulline'\n",
      " \"Hydrolysis of proteins with broad specificity for peptide bonds. Preferentially cleaves -Arg-Arg-/- bonds in small molecule substrates (thus differing from cathepsin L). In addition to being an endopeptidase, shows peptidyl-dipeptidase activity, liberating C-terminal dipeptides; Hydrolysis of proteins with broad specificity for peptide bonds. Preferentially cleaves -Arg-Arg-/- bonds in small molecule substrates (thus differing from cathepsin L). In addition to being an endopeptidase, shows peptidyl-dipeptidase activity, liberating C-terminal dipeptides; Hydrolysis of proteins with broad specificity for peptide bonds. Preferentially cleaves -Arg-Arg-/- bonds in small molecule substrates (thus differing from cathepsin L). In addition to being an endopeptidase, shows peptidyl-dipeptidase activity, liberating C-terminal dipeptides; Hydrolysis of proteins with broad specificity for peptide bonds. Preferentially cleaves -Arg-Arg-/- bonds in small molecule substrates (thus differing from cathepsin L). In addition to being an endopeptidase, shows peptidyl-dipeptidase activity, liberating C-terminal dipeptides; preferential cleavage with hydrophobic residues at P2, P1 and P1'; preferential cleavage with hydrophobic residues at P2, P1 and P1'; ; Similar to that of papain; similar to that of papain. As compared to cathepsin B, cathepsin L exhibits higher activity towards protein substrates, but has little activity on Z-Arg-Arg-NHMec, and no peptidyl-dipeptidase activity; Hydrolysis of proteins, acting as an aminopeptidase (notably, cleaving Arg-/- bonds) as well as an endopeptidase; Hydrolysis of proteins, acting as an aminopeptidase (notably, cleaving Arg-/- bonds) as well as an endopeptidase; Hydrolysis of proteins, acting as an aminopeptidase (notably, cleaving Arg-/- bonds) as well as an endopeptidase; Hydrolysis of proteins, acting as an aminopeptidase (notably, cleaving Arg-/- bonds) as well as an endopeptidase; Hydrolysis of proteins, acting as an aminopeptidase (notably, cleaving Arg-/- bonds) as well as an endopeptidase; Hydrolysis of proteins with broad specificity for peptide bonds, but preference for an amino acid bearing a large hydrophobic side chain at the P2 position. Does not accept Val in P1'; interconversion of the three forms of tyrosine aminotransferase, EC 2.6.1.5; preferential cleavage: Gly-/-, in proteins and small molecule substrates; specific cleavage of Arg-/-Ile bond in Factor X to form Factor Xa; similar to cathepsin L, but with much less activity on Z-Phe-Arg-/-NHMec, and more activity on the Z-Val-Val-Arg-/- compound; Selective cleavage of Gln-/-Gly bond in the poliovirus polyprotein. In other picornavirus reactions Glu may be substituted for Gln, and Ser or Thr for Gly; selective cleavage of Tyr-/-Gly bond in picornavirus polyprotein; hydrolysis of proteins with broad specificity for peptide bonds, similar to those of papain and chymopapain; hydrolysis of proteins with broad specificity for peptide bonds, similar to those of papain and chymopapain; hydrolysis of proteins with broad specificity for peptide bonds, similar to those of papain and chymopapain; hydrolysis of proteins with broad specificity for peptide bonds, similar to those of papain and chymopapain; hydrolysis of proteins with broad specificity for peptide bonds. Best reported small molecule substrate Bz-Phe-Val-Arg-/-NHMec, but broader specificity than fruit bromelain; hydrolysis of proteins with broad specificity for peptide bonds. Best reported small molecule substrate Bz-Phe-Val-Arg-/-NHMec, but broader specificity than fruit bromelain; broad specificity for cleavage of proteins, but strong preference for Z-Arg-Arg-/-NHMec amongst small molecule substrates; Hydrolysis of proteins with broad specificity for peptide bonds. Bz-Phe-Val-Arg-/-NHMec is a good synthetic substrate, but there is no action on Z-Arg-Arg-NHMec (c.f. stem bromelain); hydrolysis of proteins and small molecule substrates at -Asn-/-Xaa- bonds; hydrolysis of proteins and small molecule substrates at -Asn-/-Xaa- bonds; hydrolysis of proteins and small molecule substrates at -Asn-/-Xaa- bonds; hydrolysis of proteins, including basement membrane collagen and azocasein. Preferential cleavage: Arg-Arg-/- in small molecule substrates including Z-Arg-Arg-/-NHMec; Strict requirement for an Asp residue at position P1 and has a preferred cleavage sequence of Tyr-Val-Ala-Asp-/-; hydrolysis of proteins and small molecule substrates, with a preference for Arg in P1; hydrolysis of proteins and small molecule substrates, with a preference for Arg in P1; hydrolysis of proteins and small molecule substrates, with a preference for Arg in P1; hydrolysis of proteins and small molecule substrates, with a preference for Arg in P1; Broad proteolytic activity. With small-molecule substrates and inhibitors, the major determinant of specificity is P2, which is preferably Leu, Met &gt; Phe, and not Arg; Cleaves proteins of the adenovirus and its host cell at two consensus sites: -Yaa-Xaa-Gly-Gly-/-Xaa- and -Yaa-Xaa-Gly-Xaa-/-Gly- (in which Yaa is Met, Ile or Leu, and Xaa is any amino acid); Cleaves proteins of the adenovirus and its host cell at two consensus sites: -Yaa-Xaa-Gly-Gly-/-Xaa- and -Yaa-Xaa-Gly-Xaa-/-Gly- (in which Yaa is Met, Ile or Leu, and Xaa is any amino acid); Cleaves proteins of the adenovirus and its host cell at two consensus sites: -Yaa-Xaa-Gly-Gly-/-Xaa- and -Yaa-Xaa-Gly-Xaa-/-Gly- (in which Yaa is Met, Ile or Leu, and Xaa is any amino acid); Inactivates bleomycin B2 (a cytotoxic glycometallopeptide) by hydrolysis of a carboxyamide bond of beta-aminoalanine, but also shows general aminopeptidase activity. The specificity varies somewhat with source, but amino acid arylamides of Met, Leu and Ala are preferred; Inactivates bleomycin B2 (a cytotoxic glycometallopeptide) by hydrolysis of a carboxyamide bond of beta-aminoalanine, but also shows general aminopeptidase activity. The specificity varies somewhat with source, but amino acid arylamides of Met, Leu and Ala are preferred; The recombinant enzyme cleaves synthetic substrates with Phe and Leu (better than Val) in P2, with high specificity constant (kcat/Km) comparable to that of cathepsin L; The recombinant human enzyme hydrolyses synthetic endopeptidase substrates including Z-Phe-Arg-NHMec and Z-Arg-Arg-NHMec; The recombinant enzyme hydrolyses proteins (serum albumin, collagen) and synthetic substrates (Z-Phe-Arg-NHMec > Z-Leu-Arg-NHMec > Z-Val-Arg-NHMec); Hydrolyses glutaminyl bonds, and activity is further restricted by preferences for the amino acids in P6 - P1' that vary with the species of potyvirus, e.g. Glu-Xaa-Xaa-Tyr-Xaa-Gln-/-(Ser or Gly) for the enzyme from tobacco etch virus. The natural substrate is the viral polyprotein, but other proteins and oligopeptides containing the appropriate consensus sequence are also cleaved.; hydrolyses a Gly-/-Gly bond at its own C-terminus, commonly in the sequence -Tyr-Xaa-Val-Gly-/-Gly, in the processing of the potyviral polyprotein; autocatalytically cleaves itself from the polyprotein of the foot-and-mouth disease virus by hydrolysis of a Lys-/-Gly bond, but then cleaves host cell initiation factor eIF-4G at bonds -Gly-/-Arg- and -Lys-/-Arg-; endopeptidase with strict specificity for lysyl bonds; broad endopeptidase action on proteins including elastin, but rather limited hydrolysis of small-molecule substrates. Assays are conveniently made with hemoglobin, casein or Z-Phe-Arg-NHMec as substrate; broad endopeptidase action on proteins including elastin, but rather limited hydrolysis of small-molecule substrates. Assays are conveniently made with hemoglobin, casein or Z-Phe-Arg-NHMec as substrate; broad endopeptidase action on proteins including elastin, but rather limited hydrolysis of small-molecule substrates. Assays are conveniently made with hemoglobin, casein or Z-Phe-Arg-NHMec as substrate; broad endopeptidase action on proteins including elastin, but rather limited hydrolysis of small-molecule substrates. Assays are conveniently made with hemoglobin, casein or Z-Phe-Arg-NHMec as substrate; all bonds known to be hydrolysed by this endopeptidase have arginine in P1 and an acidic residue in P4. P6 is often occupied by an acidic residue or by an hydroxy-amino-acid residue, the phosphorylation of which enhances cleavage; all bonds known to be hydrolysed by this endopeptidase have arginine in P1 and an acidic residue in P4. P6 is often occupied by an acidic residue or by an hydroxy-amino-acid residue, the phosphorylation of which enhances cleavage; endopeptidase of broad specificity, hydrolysing substrates of both cathepsin L and cathepsin B; broad endopeptidase specificity similar to that of cathepsin L; broad endopeptidase specificity; broad endopeptidase specificity; broad endopeptidase activity; strict requirement for an Asp residue at P1, with Asp316 being essential for proteolytic activity and has a preferred cleavage sequence of Val-Asp-Val-Ala-Asp-/-; strict requirement for an Asp residue at positions P1 and P4. It has a preferred cleavage sequence of Asp-Xaa-Xaa-Asp-/- with a hydrophobic amino-acid residue at P2 and a hydrophilic amino-acid residue at P3, although Val or Ala are also accepted at this position; strict requirement for Asp at the P1 position. It has a preferred cleavage sequence of Tyr-Val-Ala-Asp-/- but also cleaves at Asp-Glu-Val-Asp-/-; strict requirement for Asp at position P1 and has a preferred cleavage sequence of Val-Glu-His-Asp-/-; strict requirement for an Asp residue at position P1 and has a preferred cleavage sequence of Asp-Glu-Val-Asp-/-; strict requirement for Asp at position P1 and has a preferred cleavage sequence of (Leu/Asp/Val)-Glu-Thr-Asp-/-(Gly/Ser/Ala); strict requirement for an Asp residue at position P1 and with a marked preference for His at position P2. It has a preferred cleavage sequence of Leu-Gly-His-Asp-/-Xaa; strict requirement for Asp at position P1 and has a preferred cleavage sequence of Leu-Gln-Thr-Asp-/-Gly; strict requirement for Asp at the P1 position and has a preferred cleavage sequence of (Ile/Leu/Val/Phe)-Gly-His-Asp-/-; broad endopeptidase specificity; the proteolytic activity of Der f 1 is a major contributor to its allergenicity. Cysteine protease activity of Der p 1 enhances total IgE production; endopeptidase with a preference for cleavage when the P1 position is occupied by Glu-/- and the P1' position is occupied by Gly-/-; preferential cleavage of peptides with a proline residue at the P2 position; Hydrolysis of the alpha-linked peptide bond in the sequence Gly-Gly-/-Ala-Thr-Tyr at the C-terminal end of the small ubiquitin-like modifier (SUMO) propeptide, Smt3, leading to the mature form of the protein. A second reaction involves the cleavage of an epsilon-linked peptide bond between the C-terminal glycine of the mature SUMO and the lysine epsilon-amino group of the target protein; TSAVLQ-/-SGFRK-NH2 and SGVTFQ-/-GKFKK the two peptides corresponding to the two self-cleavage sites of the SARS 3C-like proteinase are the two most reactive peptide substrates. The enzyme exhibits a strong preference for substrates containing Gln at P1 position and Leu at P2 position.; The enzyme catalyses a cell wall sorting reaction in which a surface protein with a sorting signal containing a LPXTG motif is cleaved between the Thr and Gly residue. The resulting threonine carboxyl end of the protein is covalently attached to a pentaglycine cross-bridge of peptidoglycan.; The enzyme catalyses a cell wall sorting reaction in which a surface protein with a sorting signal containing a NPXTN motif is cleaved between the Thr and Asn residue. The resulting threonine carboxyl end of the protein is covalently attached to a pentaglycine cross-bridge of peptidoglycan.; Preferential cleavage: Arg-/-, including Arg-/-Pro, but not Lys-\"\n",
      " 'ATP + L-tryptophan + tRNATrp = AMP + diphosphate + L-tryptophyl-tRNATrp; ATP + L-tryptophan + tRNATrp = AMP + diphosphate + L-tryptophyl-tRNATrp; ATP + L-tryptophan + tRNATrp = AMP + diphosphate + L-tryptophyl-tRNATrp; ATP + L-tryptophan + tRNATrp = AMP + diphosphate + L-tryptophyl-tRNATrp; ATP + L-tryptophan + tRNATrp = AMP + diphosphate + L-tryptophyl-tRNATrp; ATP + L-tryptophan + tRNATrp = AMP + diphosphate + L-tryptophyl-tRNATrp']---\n",
      "# 28---cofactors: ['more' 'ATP; ATP; ATP; ATP; ATP; more' 'ATP; ATP; ATP; ADP; ADP']---\n",
      "# 29---km_values: ['0.05 {L-ornithine}; 1.3 {L-ornithine}; 2 {L-ornithine}; 2 {L-ornithine}; 20 {L-ornithine}; 10 {L-ornithine}; 10 {L-ornithine}; 1.2 {L-ornithine}; 1.2 {L-ornithine}; 1.2 {L-ornithine}; 2.1 {L-ornithine}; 2.8 {L-ornithine}; 1.6 {L-ornithine}; 2.6 {L-ornithine}; 3.4 {L-ornithine}; 34 {L-ornithine}; 30 {L-ornithine}; 49 {L-ornithine}; 350 {L-ornithine}; 1.1 {L-ornithine}; 1.1 {L-ornithine}; 1.1 {L-ornithine}; 1 {L-ornithine}; 1 {L-ornithine}; 0.25 {L-ornithine}; 0.25 {Carbamoylphosphate}; 0.033 {Carbamoylphosphate}; 0.087 {Carbamoylphosphate}; 0.45 {L-ornithine}; 0.45 {L-ornithine}; 0.33 {L-ornithine}; 0.33 {L-ornithine}; 0.11 {L-ornithine}; 2.3 {phosphate}; 10.4 {L-citrulline}; 0.8 {ornithine}; 1.8 {ornithine}; 1.85 {ornithine}; 0.09 {Carbamoyl phosphate}; 25 {L-lysine}; 43.5 {Diaminobutane}; 0.625 {Carbamoyl phosphate}; 45 {L-ornithine}; 1 {Carbamoyl phosphate}; 0.9 {Carbamoyl phosphate}; 8 {L-ornithine}; 1.1 {Carbamoyl phosphate}; 1.78 {L-ornithine}; 3.34 {L-ornithine}; 5.67 {L-ornithine}; 22.49 {L-ornithine}; 0.001 {L-ornithine}; 0.0008 {Carbamoyl phosphate}; 0.00232 {L-ornithine}; 0.00176 {Carbamoyl phosphate}; -999 {more}; 0.3 {Carbamoyl phosphate}; 0.3 {Carbamoyl phosphate}; 0.26 {Carbamoyl phosphate}; 0.5 {Carbamoyl phosphate}; 0.4 {L-ornithine}; 0.4 {Carbamoyl phosphate}; 0.28 {Carbamoyl phosphate}; 0.9 {L-ornithine}; 0.22 {Carbamoyl phosphate}; 1.4 {Carbamoyl phosphate}; 0.32 {Carbamoyl phosphate}; 0.81 {L-ornithine}; 0.33 {Carbamoyl phosphate}; 0.59 {L-ornithine}; 0.34 {Carbamoyl phosphate}; 17 {L-ornithine}; 0.27 {Carbamoyl phosphate}; 0.73 {L-ornithine}; 0.53 {L-ornithine}; 0.53 {L-ornithine}; 0.53 {Carbamoyl phosphate}; 0.61 {L-ornithine}; 0.44 {L-ornithine}; 0.68 {L-ornithine}; 0.93 {Carbamoyl phosphate}; 7.3 {L-ornithine}; 32 {L-ornithine}; 36.4 {L-ornithine}; 0.008 {Carbamoyl phosphate}; 0.0285 {L-ornithine}; 0.06 {Carbamoyl phosphate}; 0.36 {Carbamoyl phosphate}; 0.85 {ornithine}; 0.85 {ornithine}; 0.55 {L-ornithine}; 0.36 {L-ornithine}; 0.42 {L-ornithine}; 1.24 {Carbamoyl phosphate}; 0.13 {Carbamoyl phosphate}; 0.13 {Carbamoyl phosphate}; 0.15 {Carbamoyl phosphate}; 0.15 {Carbamoyl phosphate}'\n",
      " \"0.2 {benzyloxycarbonyl-Phe-Arg-4-methylcoumaryl-7-amide}; 20 {benzoyl-DL-Arg-p-nitroanilide}; 0.006 {benzyloxycarbonyl-Arg-Arg-4-methylcoumaryl-7-amide}; 2.5 {benzoyl-DL-Arg-beta-naphthylamide}; 0.058 {benzyloxycarbonyl-Phe-Arg-4-methylcoumaryl-7-amide}; 0.00145 {hemoglobin}; 0.09-0.29 {benzyloxycarbonyl-Arg-Arg-4-methoxy-beta-naphthylamide}; 0.262 {benzyloxycarbonyl-Arg-Arg-4-methylcoumaryl-7-amide}; 0.51-2.36 {benzoyl-DL-Arg-beta-naphthylamide}; 0.685 {benzoyl-DL-Arg-p-nitroanilide}; 0.021 {benzyloxycarbonyl-Phe-Arg-4-methylcoumaryl-7-amide}; 0.041 {benzyloxycarbonyl-Arg-Arg-4-methylcoumaryl-7-amide}; 0.093 {benzyloxycarbonyl-Arg-Arg-4-methylcoumaryl-7-amide}; 0.129 {benzyloxycarbonyl-Phe-Arg-4-methylcoumaryl-7-amide}; 0.02 {protamine}; 0.02 {benzyloxycarbonyl-Arg-Arg-4-methoxy-beta-naphthylamide}; 0.13 {D-Pro-Phe-Arg-p-nitroanilide}; 0.18 {benzoyl-Phe-Val-Arg-p-nitroanilide}; 0.07 {benzyloxycarbonyl-Ala-Arg-Arg-4-methoxy-beta-naphthylamide}; 0.2 {benzoyl-Pro-Phe-Arg-p-nitroanilide}; 24 {benzoyl-DL-Arg-beta-naphthylamide}; 0.59 {benzoyl-Pro-Phe-Arg-p-nitroanilide}; 0.0232 {benzoyl-Phe-Val-Arg-p-nitroanilide}; 0.091 {benzyloxycarbonyl-Val-Lys-Lys-Arg-4-methoxy-beta-naphthylamide}; 6.7 {benzoyl-DL-Arg-beta-naphthylamide}; 0.0561 {benzyloxycarbonyl-Val-Lys-Lys-Arg-4-methoxy-beta-naphthylamide}; 1.25 {benzoyl-DL-Arg-beta-naphthylamide}; 0.17 {benzyloxycarbonyl-Arg-Arg-4-methylcoumaryl-7-amide}; 0.09 {benzyloxycarbonyl-Phe-Arg-4-methylcoumaryl-7-amide}; 1 {benzoyl-DL-Arg-p-nitroanilide}; 2 {benzoyl-DL-Arg-beta-naphthylamide}; 3.3 {benzoyl-DL-Arg-beta-naphthylamide}; 0.93 {benzoyl-DL-Arg-beta-naphthylamide}; 0.00143-0.00217 {hemoglobin}; 1.82 {benzoyl-DL-Arg-beta-naphthylamide}; 2.08 {benzoyl-DL-Arg-p-nitroanilide}; 0.032 {benzyloxycarbonyl-Arg-Arg-4-methylcoumaryl-7-amide}; 0.06 {Tos-Gly-Pro-Arg-4-methylcoumarin 7-amide}; 0.19 {N-benzyloxycarbonyl-Phe-Arg-4-methylcoumarin 7-amide}; 0.007 {N-benzyloxycarbonyl-Val-Ile-Arg-4-methylcoumarin 7-amide}; 0.35 {Boc-Asp-Pro-Arg-4-methylcoumarin 7-amide}; 0.53 {Boc-Val-Pro-Arg-4-methylcoumarin 7-amide}; 1.22 {N-benzyloxycarbonyl-Arg-Arg-4-methylcoumarin 7-amide}; 4.53 {D-Val-Leu-Arg-4-methylcoumarin 7-amide}; 0.02643 {Z-L-Phe-L-Arg 7-amido-4-methylcoumarin}; 0.0125 {o-aminobenzoyl-L-Phe-L-Arg-L-Lys-epsilon-N-2,4-dinitrophenylamide}; 0.03 {benzoyl-L-Phe-L-Arg-4-methylcoumarin-7-amide}; 0.05 {Arg-4-methylcoumaryl-7-amide}; 0.089 {epsilon-aminocaproic acid-L-Leu-Gly-4-methylcoumarin-7-amide}; 0.1 {N-benzyloxycarbonyl-Arg-Arg-4-methyl-7-amidocoumarin}; 0.3 {Boc-L-Leu-L-Lys-L-Arg-4-methylcoumaryl-7-amide}; 0.0005 {2,4-dinitrophenyl-GFLFW-OH}; 0.0005 {2,4-dinitrophenyl-GFFFW-OH}; 0.0011 {2,4-dinitrophenyl-GFYFW-OH}; 0.0011 {2,4-dinitrophenyl-GYRFW-OH}; 0.0014 {2,4-dinitrophenyl-GFGFW-OH}; 0.003 {Abz-FR-3-dinitrophenyl-2,3-diaminopropionic acid-W-OH}; 0.012 {benzyloxycarbonyl-Val-Lys-Lys-Arg-4-methoxy-beta-naphthylamide}; 0.012 {2,4-dinitrophenyl-GERFW-OH}; 0.012 {2,4-dinitrophenyl-GFRWI-OH}; 0.0033 {2,4-dinitrophenyl-GFRIW-OH}; 0.008 {o-aminobenzoic acid-L-Lys-L-Leu-Gly-L-Phe-L-Ser-L-Lys-L-Gln-2,4-dinitrophenyl-ethylenediamine}; 0.013 {o-aminobenzoyl-L-Phe-L-Arg-L-Lys-epsilon-N-2,4-dinitrophenylamide}; 0.005 {2,4-dinitrophenyl-GFRRW-OH}; 0.015 {o-aminobenzoic acid-L-Lys-L-Leu-L-(O-benzyl)threonine-L-Phe-L-Ser-L-Lys-L-Gln-2,4-dinitrophenyl-ethylenediamine}; 0.015 {benzoyl-L-4-aminocyclohexyl-Ala-L-Arg-4-methylcoumarin-7-amide}; 0.022 {benzyloxycarbonyl-Ala-Arg-Arg-4-methoxy-beta-naphthylamide}; 0.027 {phenylacetyl-L-Phe-L-Arg-4-methylcoumarin-7-amide}; 0.032 {benzoyl-L-Arg-L-Arg-4-methylcoumarin-7-amide}; 0.032 {benzoyl-L-4-aminomethyl-N-isopropyl-Phe-L-Arg-4-methylcoumarin-7-amide}; 0.038 {benzyloxycarbonyl-Arg-Arg-4-methylcoumaryl-7-amide}; 0.038 {benzyloxycarbonyl-Phe-Arg-4-methylcoumaryl-7-amide}; 0.252 {benzyloxycarbonyl-Phe-Arg-4-methylcoumaryl-7-amide}; 0.4 {acetyl-L-Arg-L-Arg-4-methylcoumarin-7-amide}; 0.0004 {2,4-dinitrophenyl-GFVFW-OH}; 0.0006 {2,4-dinitrophenyl-GFQFW-OH}; 0.009 {2,4-dinitrophenyl-GFRWA-OH}; 0.023 {Z-L-Phe-L-Arg-4-methylcoumarin-7-amide}; 0.023 {benzoyl-L-4-guanidine-Phe-L-Arg-4-methylcoumarin-7-amide}; 0.0012 {2,4-dinitrophenyl-GFSFW-OH}; 0.0012 {2,4-dinitrophenyl-GFRFW-OH}; 0.0018 {2,4-dinitrophenyl-GFRVW-OH}; 0.0021 {2,4-dinitrophenyl-GFKFW-OH}; 0.0021 {2,4-dinitrophenyl-GFRLW-OH}; 0.0021 {Abz-FF-3-dinitrophenyl-2,3-diaminopropionic acid-W-OH}; 0.0045 {2,4-dinitrophenyl-GFRQW-OH}; 0.0045 {2,4-dinitrophenyl-GFRHW-OH}; 0.014 {o-aminobenzoyl-L-Phe-L-Arg-L-Lys-epsilon-N-2,4-dinitrophenylamide}; 0.0023 {2,4-dinitrophenyl-GVRFW-OH}; 0.01 {epsilon-aminocaproic acid-L-Leu-L-(S-benzyl)cysteine-4-methylcoumarin-7-amide}; 0.0017 {2,4-dinitrophenyl-GFLFW-OH}; 0.0007 {2,4-dinitrophenyl-GFHFW-OH}; 0.0019 {2,4-dinitrophenyl-GIRFW-OH}; 0.0036 {2,4-dinitrophenyl-GFRYW-OH}; 0.0042 {2,4-dinitrophenyl-GFRWL-OH}; 1.2 {Cbz-L-Arg-L-Arg-7-amido-4-trifluoromethylcoumarin}; 0.0008 {2,4-dinitrophenyl-GFEFW-OH}; 0.0008 {2,4-dinitrophenyl-GFRKW-OH}; 0.033 {o-aminobenzoic acid-L-Lys-L-Leu-L-Phe-L-Phe-L-Ser-L-Lys-L-Gln-2,4-dinitrophenyl-ethylenediamine}; 0.034 {epsilon-aminocaproic acid-L-Leu-L-Phe-4-methylcoumarin-7-amide}; 0.034 {benzoyl-L-His-L-Arg-4-methylcoumarin-7-amide}; 0.055 {benzyloxycarbonyl-Arg-Arg-4-methoxy-beta-naphthylamide}; 0.055 {epsilon-aminocaproic acid-L-R-4-methylcoumarin-7-amide}; 0.055 {carbobenzoxy-Phe-Arg-7-amido-4-methylcoumarin}; 0.0016 {2,4-dinitrophenyl-GFAFW-OH}; 0.0055 {2,4-dinitrophenyl-GFRWD-OH}; 0.017 {o-aminobenzoic acid-L-Lys-L-Leu-L-(O-benzyl)serine-L-Phe-L-Ser-L-Lys-L-Gln-2,4-dinitrophenyl-ethylenediamine}; 0.046 {benzyloxycarbonyl-Arg-Arg-4-methylcoumaryl-7-amide}; 0.0052 {2,4-dinitrophenyl-GFRAW-OH}; 0.024 {o-aminobenzoic acid-L-Lys-L-Leu-L-Arg-L-Phe-L-Ser-L-Lys-L-Gln-2,4-dinitrophenyl-ethylenediamine}; 0.071 {benzyloxycarbonyl-Phe-Arg-4-methylcoumaryl-7-amide}; 0.0161 {2,4-dinitrophenyl-GARFW-OH}; 0.0053 {2,4-dinitrophenyl-GFRDW-OH}; 0.016 {o-aminobenzoyl-L-Phe-L-Arg-L-Lys-epsilon-N-2,4-dinitrophenylamide}; 0.0022 {2,4-dinitrophenyl-GPRFW-OH}; 0.0022 {2,4-dinitrophenyl-GFRWF-OH}; 0.0029 {epsilon-aminocaproic acid-L-Leu-L-(O-benzyl)threonine-4-methylcoumarin-7-amide}; 0.0029 {epsilon-aminocaproic acid-L-Leu-L-(O-benzyl)serine-4-methylcoumarin-7-amide}; 0.0034 {2,4-dinitrophenyl-GFDFW-OH}; 0.0128 {2,4-dinitrophenyl-GFRWS-OH}; 0.056 {acetyl-L-Phe-L-Arg-4-methylcoumarin-7-amide}; 0.0077 {2,4-dinitrophenyl-GFRGW-OH}; 0.0086 {2,4-dinitrophenyl-GHRFW-OH}; 0.019 {o-aminobenzoic acid-L-Lys-L-Leu-L-(S-benzyl)cysteine-L-Phe-L-Ser-L-Lys-L-Gln-2,4-dinitrophenyl-ethylenediamine}; 0.019 {benzoyl-L-4-aminomethyl-Phe-L-Arg-4-methylcoumarin-7-amide}; 0.047 {o-aminobenzoyl-L-Phe-L-Arg-L-Lys-epsilon-N-2,4-dinitrophenylamide}; 0.047 {N-benzyloxycarbonyl-Phe-Arg-4-methyl-7-amidocoumarin}; 0.047 {epsilon-aminocaproic acid-L-Leu-L-(O-methyl)-tyrosine-4-methylcoumarin-7-amide}; 0.081 {phenylacetyl-L-Arg-L-Arg-4-methylcoumarin-7-amide}; 0.039 {benzoyl-L-3-pyridyl-Ala-L-Arg-4-methylcoumarin-7-amide}; 0.0066 {2,4-dinitrophenyl-GRRFW-OH}; 0.0066 {2,4-dinitrophenyl-GFRWY-OH}; 0.043 {o-aminobenzoyl-L-Phe-L-Arg-L-Lys-epsilon-N-2,4-dinitrophenylamide}; 0.131 {benzyloxycarbonyl-F-R-4-methylcoumarin-7-amide}; 0.88 {Tos-Gly-Pro-Arg-4-methyl-7-amidocoumarin}; 0.082 {Z-L-Arg-L-Arg-4-methylcoumarin-7-amide}; 0.052 {benzoyl-L-4-piperidinyl-Ala-L-Arg-4-methylcoumarin-7-amide}; 1.67 {Boc-Val-Leu-Lys-4-methyl-7-amidocoumarin}; 0.0038 {2,4-dinitrophenyl-GSRFW-OH}; 0.0038 {Abz-FR-epsilon-dinitrophenyl-L-lysyl-2,3-diaminopropionic acid-W-OH}; 0.0223 {2,4-dinitrophenyl-GFRWV-OH}; 0.0096 {2,4-dinitrophenyl-GDRFW-OH}; 0.0096 {2,4-dinitrophenyl-GFREW-OH}; 1.16 {Boc-Asp-Pro-Arg-4-methyl-7-amidocoumarin}; 0.0162 {2,4-dinitrophenyl-GFRWG-OH}; 0.0179 {Abz-FRA-epsilon-dinitrophenyl-L-lysyl-2,3-diaminopropionic acid-OH}; 0.0095 {2,4-dinitrophenyl-GFRSW-OH}; 0.0124 {2,4-dinitrophenyl-GFRWP-OH}; 0.184 {benzyloxycarbonyl-Arg-Arg-4-methylcoumaryl-7-amide}; 0.467 {benzyloxycarbonyl-Arg-Arg-4-methylcoumaryl-7-amide}; 0.0177 {Abz-FR-epsilon-dinitrophenyl-L-lysyl-2,3-diaminopropionic acid-P-OH}; 0.0115 {2,4-dinitrophenyl-GFRWR-OH}; 0.0041 {2,4-dinitrophenyl-GKRFW-OH}; 0.0126 {2,4-dinitrophenyl-GFRWK-OH}; 0.0106 {2,4-dinitrophenyl-GLRFW-OH}; 0.0106 {2,4-dinitrophenyl-GFRWE-OH}; 0.0328 {Abz-FRF-epsilon-dinitrophenyl-L-lysyl-2,3-diaminopropionic acid-OH}; 0.247 {acetyl-F-R-4-methylcoumarin-7-amide}; 0.85 {benzyloxycarbonyl-Arg-Arg-7-amido-4-methylcoumarin}; 0.015 {N-[(benzyloxy)carbonyl]-L-alanyl-N-[4-([[(5-[[5-(dimethylamino)naphthalene-1-sulfonyl]amino]pentyl)carbamoyl]oxy]methyl)phenyl]-N6-(2,4-dinitrophenyl)-L-lysinamide}; 0.0059 {Abz-GIVRAK(Dnp)-OH}; 0.075 {Nalpha-benzoyl-Phe-Arg-7-amido-4-methylcoumarin}; 0.212 {Nalpha-benzoyl-Arg-Arg-7-amido-4-methylcoumarin}; 0.00288 {N,N'-diBoc-dityrosine-Gly-(isoniazid)2}; 0.00201 {N,N'-diBoc-dityrosine-Lys-(isoniazid)2}; 0.34 {benzyloxycarbonyl-Arg-Arg-4-methylcoumaryl-7-amide}; 0.043 {Nalpha-benzoyl-Phe-Arg-7-amido-4-methylcoumarin}; 0.226 {Nalpha-benzoyl-Arg-Arg-7-amido-4-methylcoumarin}; 1.02 {alpha-N-benzoyl-DL-Arg-beta-naphthylamide}; 1.5-2 {alpha-N-benzoyl-DL-Arg-beta-naphthylamide}; 0.07 {benzoyl-Phe-Val-Arg-p-nitroanilide}; 0.2 {benzyloxycarbonyl-Val-Lys-Lys-Arg-4-methoxy-beta-naphthylamide}; 1 {benzoyl-Pro-Phe-Arg-p-nitroanilide}; 0.14 {benzyloxycarbonyl-Val-Lys-Lys-Arg-4-methoxy-beta-naphthylamide}; 0.43 {benzoyl-Pro-Phe-Arg-p-nitroanilide}; 0.8 {benzoyl-DL-Arg-beta-naphthylamide}; 0.13 {benzyloxycarbonyl-Ala-Arg-Arg-4-methoxy-beta-naphthylamide}; 0.13 {benzoyl-Phe-Val-Arg-p-nitroanilide}; 0.066 {benzyloxycarbonyl-Ala-Arg-Arg-4-methoxy-beta-naphthylamide}; 0.91 {benzyloxycarbonyl-Val-Lys-Lys-Arg-4-methoxy-beta-naphthylamide}; 2.9 {benzoyl-DL-Arg-beta-naphthylamide}; 0.072 {N-t-butyloxycarbonyl-Gln-p-nitrophenyl ester}; 1.25 {benzyloxycarbonyl-Ala-Arg-Arg-4-methoxy-beta-naphthylamide}; 0.204-0.225 {benzyloxycarbonyl-Phe-Arg-4-methylcoumaryl-7-amide}; 0.0014 {Abz-FRF(NO2)A}; 0.0008 {Abz-GIVRAK-Dnp}; 0.048 {benzyloxycarbonyl-Phe-Arg-7-amido-4-methylcoumarin}; 0.099 {benzyloxycarbonyl-Arg-Arg-7-amido-4-methylcoumarin}; 0.001 {4-(4-dimethylaminophenylazo)benzoyl-RLVG-beta-(2-naphthyl)alanine-E-5-[(2-aminoethyl)amino]naphthalene-1-sulfonic acid}; 0.003 {4-(4-dimethylaminophenylazo)benzoyl-RLVGFD-5-[(2-aminoethyl)amino]naphthalene-1-sulfonic acid}; 0.004 {4-(4-dimethylaminophenylazo)benzoyl-IEGIE-5-[(2-aminoethyl)amino]naphthalene-1-sulfonic acid}; 0.0049 {4-(4-dimethylaminophenylazo)benzoyl-RLEGIE-5-[(2-aminoethyl)amino]naphthalene-1-sulfonic acid}; 0.0046 {4-(4-dimethylaminophenylazo)benzoyl-L-Leu-L-Arg-Gly-L-Phe-D-Glu-5-[(2-aminoethyl)amino]naphthalene-1-sulfonic acid}; 0.0046 {4-(4-dimethylaminophenylazo)benzoyl-RIEGIE-5-[(2-aminoethyl)amino]naphthalene-1-sulfonic acid}; 0.0059 {4-(4-dimethylaminophenylazo)benzoyl-RLVGF-L-alpha-aminoadipic acid-5-[(2-aminoethyl)amino]naphthalene-1-sulfonic acid}; 0.0036 {4-(4-dimethylaminophenylazo)benzoyl-L-Arg-L-Leu-L-Arg-Gly-L-Phe-D-Glu-5-[(2-aminoethyl)amino]naphthalene-1-sulfonic acid}; 0.0055 {4-(4-dimethylaminophenylazo)benzoyl-RIIEGIE-5-[(2-aminoethyl)amino]naphthalene-1-sulfonic acid}; 0.0037 {4-(4-dimethylaminophenylazo)benzoyl-L-Leu-L-Arg-Gly-L-Phe-L-Glu-5-[(2-aminoethyl)amino]naphthalene-1-sulfonic acid}; 0.0037 {4-(4-dimethylaminophenylazo)benzoyl-RIEGIE-5-[(2-aminoethyl)amino]naphthalene-1-sulfonic acid}; 0.0047 {4-(4-dimethylaminophenylazo)benzoyl-RLVGWE-5-[(2-aminoethyl)amino]naphthalene-1-sulfonic acid}; 0.006 {4-(4-dimethylaminophenylazo)benzoyl-LRGIE-5-[(2-aminoethyl)amino]naphthalene-1-sulfonic acid}; 0.0082 {4-(4-dimethylaminophenylazo)benzoyl-L-Leu-L-Arg-Gly-L-Phe-L-Glu-5-[(2-aminoethyl)amino]naphthalene-1-sulfonic acid}; 0.0035 {4-(4-dimethylaminophenylazo)benzoyl-L-Arg-L-Leu-L-Arg-Gly-L-Phe-L-Glu-5-[(2-aminoethyl)amino]naphthalene-1-sulfonic acid}; 0.0035 {4-(4-dimethylaminophenylazo)benzoyl-R-LVGFE-5-[(2-aminoethyl)amino]naphthalene-1-sulfonic acid}; 0.0053 {4-(4-dimethylaminophenylazo)benzoyl-L-Arg-L-Leu-L-Arg-Gly-L-Phe-L-Glu-5-[(2-aminoethyl)amino]naphthalene-1-sulfonic acid}; 0.0022 {4-(4-dimethylaminophenylazo)benzoyl-RLVGFE-5-[(2-aminoethyl)amino]naphthalene-1-sulfonic acid}; 0.0029 {4-(4-dimethylaminophenylazo)benzoyl-RLVGF-L-alpha-aminoadipic acid-5-[(2-aminoethyl)amino]naphthalene-1-sulfonic acid}; 0.0034 {4-(4-dimethylaminophenylazo)benzoyl-RLEGIE-5-[(2-aminoethyl)amino]naphthalene-1-sulfonic acid}; 0.0145 {4-(4-dimethylaminophenylazo)benzoyl-RLVGFD-5-[(2-aminoethyl)amino]naphthalene-1-sulfonic acid}; 0.53 {benzoyl-DL-Arg-beta-naphthylamide}; 0.0056 {4-(4-dimethylaminophenylazo)benzoyl-LEGIE-5-[(2-aminoethyl)amino]naphthalene-1-sulfonic acid}; 0.0066 {4-(4-dimethylaminophenylazo)benzoyl-LRGIE-5-[(2-aminoethyl)amino]naphthalene-1-sulfonic acid}; 0.0038 {4-(4-dimethylaminophenylazo)benzoyl-RLVG-beta-(2-naphthyl)alanine-E-5-[(2-aminoethyl)amino]naphthalene-1-sulfonic acid}; 0.0028 {4-(4-dimethylaminophenylazo)benzoyl-L-Arg-L-Leu-L-Arg-Gly-L-Phe-D-Glu-5-[(2-aminoethyl)amino]naphthalene-1-sulfonic acid}; 0.0078 {4-(4-dimethylaminophenylazo)benzoyl-RLVGWE-5-[(2-aminoethyl)amino]naphthalene-1-sulfonic acid}; 0.0078 {4-(4-dimethylaminophenylazo)benzoyl-L-Leu-L-Arg-Gly-L-Phe-D-Glu-5-[(2-aminoethyl)amino]naphthalene-1-sulfonic acid}; 0.114-0.125 {benzyloxycarbonyl-Arg-Arg-4-methylcoumaryl-7-amide}; 0.00611 {Nalpha-carbobenzoxy-L-Arg-L-Arg-7-amido-4-trifluoromethylcoumarin}; 0.04068 {Z-L-Phe-L-Arg 7-amido-4-methylcoumarin}; 0.0656 {benzyloxycarbonyl-L-phenylalaninyl-L-arginine 4-methylcoumaryl-7-amide}; 0.0608 {benzyloxycarbonyl-L-leucyl-L-arginine-4-methylcoumaryl-7-amide}; 0.0358 {benzyloxycarbonyl-L-phenylalaninyl-L-arginine 4-methylcoumaryl-7-amide}; 0.0287 {benzyloxycarbonyl-L-leucyl-L-arginine-4-methylcoumaryl-7-amide}; 0.2622 {benzyloxycarbonyl-Arg-Arg-7-amido-4-methylcoumarin}; 1.2 {benzoyl-DL-Arg-beta-naphthylamide}; 1.6 {benzoyl-DL-Arg-p-nitroanilide}; 0.193 {benzyloxycarbonyl-Val-Arg-4-methylcoumarinyl-7-amide}; 0.2466 {acetyl-Ala-Ile-Arg-7-amino-4-methylcoumarin}; 0.2163 {acetyl-Ala-Ile-Arg-7-amino-4-methylcoumarin}; 0.1387 {acetyl-Ala-Ile-Arg-7-amino-4-methylcoumarin}; 0.2089 {acetyl-Ala-Ile-Arg-7-amino-4-methylcoumarin}; 0.2239 {acetyl-Ala-Ile-Arg-7-amino-4-methylcoumarin}; 0.1178 {acetyl-Ala-Ile-Arg-7-amino-4-methylcoumarin}; 0.2477 {acetyl-Ala-Ile-Arg-7-amino-4-methylcoumarin}; 0.2138 {acetyl-Ala-Ile-Arg-7-amino-4-methylcoumarin}; 0.2023 {acetyl-Ala-Ile-Arg-7-amino-4-methylcoumarin}; 0.1832 {acetyl-Ala-Ile-Arg-7-amino-4-methylcoumarin}; -999 {more}; -999 {more}; -999 {more}; -999 {more}; 0.063 {p-nitrobenzyloxycarbonyl-Gly-p-nitrophenyl ester}; 0.22 {benzyloxycarbonyl-Lys-p-nitrophenyl ester}; 0.0236 {N-benzyloxycarbonyl-Gly-p-nitrophenyl ester}; 0.132 {N-benzyloxycarbonyl-Ala-p-nitrophenyl ester}; 0.61 {tert-butyloxycarbonyl-Ala-p-nitrophenyl ester}; 0.334 {cinnamoyl-Gly-p-nitrophenyl ester}; 0.422 {N-benzoyl-Gly-p-nitrophenyl ester}; 2.64 {Nalpha-benzyloxycarbonyl-Nepsilon-t-butyloxycarbonyl-Lys-Phe}; 0.438 {t-butyloxycarbonyl-Gly-p-nitrophenyl ester}; 0.262 {benzyloxycarbonyl-Lys-p-nitrophenyl ester}; 0.494 {benzyloxycarbonyl-Lys-p-nitrophenyl ester}; 0.588 {Nalpha-benzyloxycarbonyl-Lys-p-nitrophenyl ester}; 0.605 {Nalpha-benzyloxycarbonyl-Lys-p-nitrophenyl ester}; 0.637 {Nalpha-benzyloxycarbonyl-Lys-p-nitrophenyl ester}; 0.664 {Nalpha-benzyloxycarbonyl-Lys-p-nitrophenyl ester}; 0.667 {Nalpha-benzyloxycarbonyl-Lys-p-nitrophenyl ester}; 2.28 {benzyloxycarbonyl-Lys-Phe}; 3.88 {benzyloxycarbonyl-Glu-Phe}; 5.05 {Nalpha-benzyloxycarbonyl-Lys-Phe}; -999 {more}; -999 {more}; 0.31 {benzoyl-Gly p-nitrophenyl ester}; 0.022 {benzyloxycarbonyl-Lys p-nitrophenyl ester}; 0.12 {benzyloxycarbonyl-Gly p-nitrophenyl ester}; 0.25 {N-acetyl-L-Phe-Gly methyl ester}; 1.8 {Nalpha-benzoyl-L-Arg p-nitroanilide}; 1.8 {Nalpha-benzoyl-L-Arg p-nitroanilide}; 2.6 {Nalpha-benzoyl-L-Arg p-nitroanilide}; 0.044 {butyloxycarbonyl-Phe-NH-CH2CN}; 21 {benzoyl-Lys methyl ester}; 78 {acetyl-Lys methyl ester}; 11.2 {Nalpha-benzoyl-L-Arg p-nitroanilide}; 61 {benzoyl-Arg ethyl ester}; 0.0262 {Nalpha-benzyloxycarbonyl-L-Lys p-nitrophenyl ester}; 89 {benzoyl-L-Arg ethyl ester}; 0.543 {N-acetyl-L-Phe-Gly methyl ester}; 0.893 {N-acetyl-L-Phe-Gly methyl ester}; -999 {casein}; -999 {whey protein isolate}; -999 {milk protein concentrate}; 0.0125 {casein}; 0.0582 {N-alpha-benzyloxycarbonyl-L-lysine 4-nitrophenyl ester}; 0.01592 {casein}; 0.006 {benzyloxycarbonyl-Phe-Arg-4-methylcoumarin 7-amide}; 0.005 {succinyl-Ala-Phe-Lys-4-methylcoumarin 7-amide}; 0.0007 {benzyloxycarbonyl-Phe-Arg-4-methylcoumarin 7-amide}; 0.006 {benzoyl-Phe-Val-Arg-4-methylcoumarin 7-amide}; 0.0018 {benzyloxycarbonyl-Phe-Arg-4-methylcoumarin 7-amide}; 0.00044 {L-Phe-L-Arg-7-amido-4-methylcoumarin}; 0.00046 {L-Phe-L-Arg-7-amido-4-methylcoumarin}; 0.00033 {L-Phe-L-Arg-7-amido-4-methylcoumarin}; 0.00041 {L-Phe-L-Arg-7-amido-4-methylcoumarin}; 0.00047 {L-Phe-L-Arg-7-amido-4-methylcoumarin}; 0.00037 {L-Phe-L-Arg-7-amido-4-methylcoumarin}; 0.01242 {L-Val-L-Leu-L-Arg-7-amido-4-methylcoumarin}; 0.00695 {L-Val-L-Leu-L-Arg-7-amido-4-methylcoumarin}; 0.04371 {Pro-Phe-Arg-4-methylcoumarin 7-amide}; 0.03416 {benzyloxycarbonyl-Phe-Arg-4-methylcoumarin 7-amide}; 0.1417 {tert-butyloxycarbonyl-Val-Leu-Lys-4-methylcoumarin 7-amide}; 0.00168 {benzyloxycarbonyl-Phe-Arg-4-methylcoumarin 7-amide}; 0.007 {Benzyloxycarbonyl-Lys-Arg}; 0.0176 {benzyloxycarbonyl-Arg-Arg-7-amido-4-methylcoumarin}; 0.0157 {benzyloxycarbonyl-Phe-Arg-7-amido-4-methylcoumarin}; 0.069 {N-carbobenzoxy-L-phenylalanine-L-arginine 7-amido-4-methylcoumarin}; 0.0011 {benzyloxycarbonyl-Phe-Arg-4-methylcoumarin 7-amide}; 0.0011 {benzyloxycarbonyl-Phe-Arg-4-methylcoumarin 7-amide}; 0.0192 {benzyloxycarbonyl-L-Phe-L-Arg-7-amido-4-methylcoumarin}; 0.0014 {benzyloxycarbonyl-Phe-Arg-7-amido-4-methylcoumarin}; 0.0014 {benzyloxycarbonyl-Phe-Arg-7-amido-4-methylcoumarin}; 0.00825 {benzyloxycarbonyl-Phe-Arg-7-amido-4-methylcoumarin}; 0.012 {N-[(benzyloxy)carbonyl]-L-alanyl-N-[4-([[(5-[[5-(dimethylamino)naphthalene-1-sulfonyl]amino]pentyl)carbamoyl]oxy]methyl)phenyl]-N6-(2,4-dinitrophenyl)-L-lysinamide}; 0.0015 {benzyloxycarbonyl-Phe-Arg-7-amido-4-methylcoumarin}; 0.0012 {benzyloxycarbonyl-Phe-Arg-7-amido-4-methylcoumarin}; 0.0017 {benzyloxycarbonyl-Phe-Arg-7-amido-4-methylcoumarin}; 0.000037 {Abz-PRKQLAT-acetyl-K-AARKSAK-Dnp}; 0.00016 {Abz-PR-acetyl-K-QLATKAARKSAK-Dnp}; 0.0409 {GPR-4-nitroanilide}; 0.0061 {VLK-4-nitroanilide}; 0.000063 {Abz-PRKQLATKAARKSAK-Dnp}; 0.000073 {Abz-PRKQLATKAAR-dimethyl-K-SAK-Dnp}; 1.026 {EFL-4-nitroanilide}; 0.2632 {EFL-4-nitroanilide}; 0.0664 {VLK-4-nitroanilide}; 0.007227 {benzyloxycarbonyl-L-Phe-L-Arg-7-amido-4-methylcoumarin}; 0.00019 {2-aminobenzoyl-Lys-Leu-Arg-Ser-Asn-Lys-Gln-N-(2,4-dinitrophenyl)ethylenediamine}; 0.00019 {2-aminobenzoyl-Lys-Leu-Arg-Ser-Gln-Lys-Gln-N-(2,4-dinitrophenyl)ethylenediamine}; 0.00024 {2-aminobenzoyl-Lys-Leu-Arg-Ser-Gly-Lys-Gln-N-(2,4-dinitrophenyl)ethylenediamine}; 0.00026 {2-aminobenzoyl-Lys-Leu-Gly-Ser-Ser-Lys-Gln-N-(2,4-dinitrophenyl)ethylenediamine}; 0.00026 {2-aminobenzoyl-Lys-Phe-Arg-Ser-Ser-Lys-Gln-N-(2,4-dinitrophenyl)ethylenediamine}; 0.00056 {2-aminobenzoyl-Lys-Leu-Gln-Ser-Ser-Lys-Gln-N-(2,4-dinitrophenyl)ethylenediamine}; 0.0011 {benzyloxycarbonyl-Phe-Arg-7-amido-4-methylcoumarin}; 0.0011 {2-aminobenzoyl-Lys-Leu-Ser-Ser-Ser-Lys-Gln-N-(2,4-dinitrophenyl)ethylenediamine}; 0.0011 {2-aminobenzoyl-Glu-Leu-Lys-Leu-Gln-N-(2,4-dinitrophenyl)ethylenediamine}; 0.012 {2-aminobenzoyl-Lys-Ser-Arg-Ser-Ser-Lys-Gln-N-(2,4-dinitrophenyl)ethylenediamine}; 0.00014 {2-aminobenzoyl-Lys-Leu-Arg-Ser-His-Lys-Gln-N-(2,4-dinitrophenyl)ethylenediamine}; 0.00035 {2-aminobenzoyl-His-Leu-Arg-Ser-Ser-Lys-Gln-N-(2,4-dinitrophenyl)ethylenediamine}; 0.00035 {2-aminobenzoyl-Lys-Leu-Arg-Ser-Pro-Lys-Gln-N-(2,4-dinitrophenyl)ethylenediamine}; 0.0002 {2-aminobenzoyl-Lys-Leu-Arg-Asn-Ser-Lys-Gln-N-(2,4-dinitrophenyl)ethylenediamine}; 0.0002 {2-aminobenzoyl-Lys-Leu-Arg-His-Ser-Lys-Gln-N-(2,4-dinitrophenyl)ethylenediamine}; 0.0015 {2-aminobenzoyl-Lys-Leu-Asn-Ser-Ser-Lys-Gln-N-(2,4-dinitrophenyl)ethylenediamine}; 0.0049 {2-aminobenzoyl-Lys-Thr-Arg-Ser-Ser-Lys-Gln-N-(2,4-dinitrophenyl)ethylenediamine}; 0.005 {2-aminobenzoyl-Lys-Asn-Arg-Ser-Ser-Lys-Gln-N-(2,4-dinitrophenyl)ethylenediamine}; 0.00013 {2-aminobenzoyl-Lys-Leu-Arg-Ser-Val-Lys-Gln-N-(2,4-dinitrophenyl)ethylenediamine}; 0.00013 {2-aminobenzoyl-Lys-Leu-Arg-Ser-Ile-Lys-Gln-N-(2,4-dinitrophenyl)ethylenediamine}; 0.00027 {2-aminobenzoyl-Lys-Leu-Arg-Gln-Ser-Lys-Gln-N-(2,4-dinitrophenyl)ethylenediamine}; 0.00027 {Abz-3-biphenyl-L-Ala-Arg-Ala-Ser-Tyr(3-NO2)-NH2}; 0.0004 {2-aminobenzoyl-Lys-Leu-Arg-Ile-Ser-Lys-Gln-N-(2,4-dinitrophenyl)ethylenediamine}; 0.0006 {2-aminobenzoyl-Lys-Lys-epsilon-amino-caproic acid-Glu-Leu-Lys-Leu-Gln-N-(2,4-dinitrophenyl)ethylenediamine}; 0.00023 {2-aminobenzoyl-Ile-Leu-Arg-Ser-Ser-Lys-Gln-N-(2,4-dinitrophenyl)ethylenediamine}; 0.00023 {2-aminobenzoyl-Lys-Leu-Arg-Val-Ser-Lys-Gln-N-(2,4-dinitrophenyl)ethylenediamine}; 0.00023 {2-aminobenzoyl-Lys-Leu-Arg-Ser-Ala-Lys-Gln-N-(2,4-dinitrophenyl)ethylenediamine}; 0.00028 {2-aminobenzoyl-Lys-Leu-Val-Ser-Ser-Lys-Gln-N-(2,4-dinitrophenyl)ethylenediamine}; 0.00055 {2-aminobenzoyl-Lys-Leu-Thr-Ser-Ser-Lys-Gln-N-(2,4-dinitrophenyl)ethylenediamine}; 0.0025 {2-aminobenzoyl-Glu-Glu-epsilon-amino-caproic acid-Glu-Leu-Lys-Leu-Gln-N-(2,4-dinitrophenyl)ethylenediamine}; 0.0026 {2-aminobenzoyl-Lys-Arg-Arg-Ser-Ser-Lys-Gln-N-(2,4-dinitrophenyl)ethylenediamine}; 0.014 {benzyloxycarbonyl-Gly-Pro-Arg-7-amido-4-methylcoumarin}; 0.00042 {2-aminobenzoyl-Lys-Tyr-Arg-Ser-Ser-Lys-Gln-N-(2,4-dinitrophenyl)ethylenediamine}; 0.0023 {2-aminobenzoyl-Gly-Leu-Arg-Ser-Ser-Lys-Gln-N-(2,4-dinitrophenyl)ethylenediamine}; 0.0017 {benzyloxycarbonyl-Phe-Arg-4-methylcoumarin 7-amide}; 0.0017 {2-aminobenzoyl-Lys-Leu-Arg-Glu-Ser-Lys-Gln-N-(2,4-dinitrophenyl)ethylenediamine}; 0.00018 {2-aminobenzoyl-Lys-Leu-Arg-Arg-Ser-Lys-Gln-N-(2,4-dinitrophenyl)ethylenediamine}; 0.00045 {2-aminobenzoyl-Ala-Leu-Arg-Ser-Ser-Lys-Gln-N-(2,4-dinitrophenyl)ethylenediamine}; 0.00017 {2-aminobenzoyl-Lys-Leu-Ile-Ser-Ser-Lys-Gln-N-(2,4-dinitrophenyl)ethylenediamine}; 0.00017 {2-aminobenzoyl-Lys-Leu-Lys-Ser-Ser-Lys-Gln-N-(2,4-dinitrophenyl)ethylenediamine}; 0.00017 {2-aminobenzoyl-Lys-Ile-Arg-Ser-Ser-Lys-Gln-N-(2,4-dinitrophenyl)ethylenediamine}; 0.00017 {2-aminobenzoyl-Lys-Leu-Arg-Gly-Ser-Lys-Gln-N-(2,4-dinitrophenyl)ethylenediamine}; 0.00017 {2-aminobenzoyl-Lys-Leu-Arg-Ser-Arg-Lys-Gln-N-(2,4-dinitrophenyl)ethylenediamine}; 0.0055 {2-aminobenzoyl-Lys-Leu-Glu-Ser-Ser-Lys-Gln-N-(2,4-dinitrophenyl)ethylenediamine}; 0.0013 {benzyloxycarbonyl-Leu-Arg-7-amido-4-methylcoumarin}; 0.00015 {2-aminobenzoyl-Lys-Leu-Arg-Ser-Ser-Lys-Gln-N-(2,4-dinitrophenyl)ethylenediamine}; 0.0024 {benzyloxycarbonyl-Phe-Arg-4-methylcoumarin 7-amide}; 0.006 {2-aminobenzoyl-Lys-Leu-Pro-Ser-Ser-Lys-Gln-N-(2,4-dinitrophenyl)ethylenediamine}; 0.035 {2-aminobenzoyl-Lys-Asp-Arg-Ser-Ser-Lys-Gln-N-(2,4-dinitrophenyl)ethylenediamine}; 0.00021 {2-aminobenzoyl-Lys-Leu-His-Ser-Ser-Lys-Gln-N-(2,4-dinitrophenyl)ethylenediamine}; 0.00072 {2-aminobenzoyl-Lys-Leu-Arg-Ser-Glu-Lys-Gln-N-(2,4-dinitrophenyl)ethylenediamine}; 0.0022 {2-aminobenzoyl-Glu-Leu-Arg-Ser-Ser-Lys-Gln-N-(2,4-dinitrophenyl)ethylenediamine}; 0.0034 {2-aminobenzoyl-Lys-His-Arg-Ser-Ser-Lys-Gln-N-(2,4-dinitrophenyl)ethylenediamine}; 0.0034 {2-aminobenzoyl-Val-Leu-Arg-Ser-Ser-Lys-Gln-N-(2,4-dinitrophenyl)ethylenediamine}; 0.0085 {2-aminobenzoyl-Lys-Gln-Arg-Ser-Ser-Lys-Gln-N-(2,4-dinitrophenyl)ethylenediamine}; 0.081 {benzyloxycarbonyl-Gly-Pro-Arg-7-amido-4-methylcoumarin}; 0.0038 {2-aminobenzoyl-Lys-Leu-Asp-Ser-Ser-Lys-Gln-N-(2,4-dinitrophenyl)ethylenediamine}; 0.0038 {2-aminobenzoyl-Lys-Trp-Arg-Ser-Ser-Lys-Gln-N-(2,4-dinitrophenyl)ethylenediamine}; 0.0097 {2-aminobenzoyl-Lys-Glu-Arg-Ser-Ser-Lys-Gln-N-(2,4-dinitrophenyl)ethylenediamine}; 0.0028 {2-aminobenzoyl-Lys-Met-Arg-Ser-Ser-Lys-Gln-N-(2,4-dinitrophenyl)ethylenediamine}; 0.0096 {2-aminobenzoyl-Lys-Gly-Arg-Ser-Ser-Lys-Gln-N-(2,4-dinitrophenyl)ethylenediamine}; 0.00071 {2-aminobenzoyl-Asn-Leu-Arg-Ser-Ser-Lys-Gln-N-(2,4-dinitrophenyl)ethylenediamine}; 0.0087 {benzyloxycarbonyl-Phe-Arg-7-amido-4-methylcoumarin}; 0.00016 {2-aminobenzoyl-Arg-Leu-Arg-Ser-Ser-Lys-Gln-N-(2,4-dinitrophenyl)ethylenediamine}; 0.0067 {2-aminobenzoyl-Lys-Pro-Arg-Ser-Ser-Lys-Gln-N-(2,4-dinitrophenyl)ethylenediamine}; 0.00059 {2-aminobenzoyl-Lys-Val-Arg-Ser-Ser-Lys-Gln-N-(2,4-dinitrophenyl)ethylenediamine}; 0.00075 {2-aminobenzoyl-Gln-Leu-Arg-Ser-Ser-Lys-Gln-N-(2,4-dinitrophenyl)ethylenediamine}; 0.00153 {Abz-3-biphenyl-L-Ala-Arg-Ala-Ala-Tyr(3-NO2)-NH2}; 0.0098 {benzyloxycarbonyl-Leu-Arg-7-amido-4-methylcoumarin}; 0.00047 {2-aminobenzoyl-Lys-Leu-Met-Ser-Ser-Lys-Gln-N-(2,4-dinitrophenyl)ethylenediamine}; 0.00095 {2-aminobenzoyl-Lys-Leu-Ala-Ser-Ser-Lys-Gln-N-(2,4-dinitrophenyl)ethylenediamine}; 0.00104 {Abz-3-biphenyl-L-Ala-Arg-Ala-Gln-Tyr(3-NO2)-NH2}; 0.0022 {benzyloxycarbonyl-Phe-Arg-4-methylcoumarin 7-amide}; 0.00125 {benzyloxycarbonyl-Phe-Arg-4-methylcoumarin 7-amide}; 0.0045 {benzyloxycarbonyl-Phe-Arg-4-methylcoumarin 7-amide}; 0.01 {benzyloxycarbonyl-Lys-p-nitrophenyl ester}; 0.007 {benzyloxycarbonyl-Phe-Arg-4-methylcoumarin 7-amide}; 0.0825 {leucine enkephalin}; 0.0208 {Leu-Trp-Met-Arg-Phe-Ala}; 0.1096 {methionine enkephalin-Arg-Phe}; 0.00571 {benzyloxycarbonyl-L-Phe-L-Arg-7-amido-4-methylcoumarin}; 0.04882 {benzyloxycarbonyl-L-Phe-L-Arg-7-amido-4-methylcoumarin}; 210 {Ala-4-methylcoumaryl-7-amide}; 72 {Arg-4-methylcoumaryl-7-amide}; 35.4 {Leu-4-methylcoumaryl-7-amide}; 184 {Lys-4-methylcoumaryl-7-amide}; 0.22 {L-Leu-beta-naphthylamide}; 1.12 {L-Arg-L-Arg-beta-naphthylamide}; 0.322 {L-Arg-beta-naphthylamide}; 4.32 {benzoyl-DL-Arg-2-naphthylamide}; 0.05 {benzoyl-DL-Arg-2-naphthylamide}; 0.05 {H-L-Arg-NH-4-methylcoumaryl-7-amide}; 0.15 {Arg-4-methylcoumaryl-7-amide}; 0.097 {Arg-2-naphthylamide}; 0.039 {benzoyl-DL-Arg-2-naphthylamide}; 0.092 {Z-L-Phe-L-Arg-NH-4-methylcoumaryl-7-amide}; 3.6 {H-L-Arg-NH-4-methylcoumaryl-7-amide}; 0.637 {benzoyl-Arg-2-naphthylamide}; -999 {more}; 7 {succinyl-Ala-Ala-Ala-4-nitroanilide}; 3 {succinyl-Ala-Pro-Ala-4-nitroanilide}; 0.7 {succinyl-Ala-Ala-Ala-Ala-4-nitroanilide}; 0.7 {succinyl-Ala-Ala-Ala-Ala-Ala-4-nitroanilide}; 0.076 {citrulline-4-methylcoumaryl-7-amide}; 0.321 {benzoyl-Arg-4-methylcoumaryl-7-amide}; 3.5 {benzyloxycarbonyl-Pro-Ala-Ala-Ala-Pro-NH2}; 0.097 {Arg-4-methylcoumaryl-7-amide}; 2.9 {succinyl-Pro-Ala-Ala-4-nitroanilide}; 7.4 {benzyloxycarbonyl-Pro-Ala-Ala-Ala-Pro}; 10.2 {succinyl-Ala-Ala-4-nitroanilide}; 27.8 {succinyl-Ala-Ala-Pro-4-nitroanilide}; 0.1 {L-Arg-4-methylcoumaryl-7-amide}; 0.038 {benzoyl-L-Phe-L-Val-L-Arg-4-methylcoumaryl-7-amide}; 0.025 {benzoyl-L-Phe-L-Val-L-Arg-4-methylcoumaryl-7-amide}; 0.22 {L-Leu-2-naphthylamide}; 0.097 {L-Arg-2-naphthylamide}; 0.46 {benzoyl-L-Arg-2-naphthylamide}; 0.082 {benzoyl-L-Phe-L-Arg-7-amido-4-methylcoumarin}; 0.167 {Leu-2-naphthylamide}; 0.128 {Met-2-naphthylamide}; 0.169 {Arg-2-naphthylamide}; 0.367 {alpha-N-benzoyl-DL-Arg-beta-naphthylamide}; 0.203 {L-Leu-beta-naphthylamide}; -999 {whey protein isolate}; -999 {milk protein concentrate}; 0.089 {benzyloxycarbonyl-Phe-Arg 4-methylcoumarin-7-amide}; 0.3 {benzoyl-thiocarbamic acid methyl ester}; 0.008 {N-benzyloxycarbonyl-Gly p-nitrophenyl ester}; 0.005 {Dabcyl-Lys-Phe-Gly-Gly-Ala-Ala-Edans}; 0.027 {methyl red-Abu-Ser-Ala-Pro-Val-Lys-Ala-Lys(N6-(5-carboxyfluorescein))-NH2}; 0.027 {methyl red-Abu-Ser-Ala-Pro-Val-Lys-Ala-Lys(N6-(5-carboxyfluorescein))-NH2}; 0.11 {N-(beta-phenylpropionyl)Gly methyl thiono ester}; 0.2 {methyl red-Abu-Ala-Pro-Val-Lys-Lys(N5-(5-carboxyfluorescein))-NH2}; 0.2 {methyl red-Abu-Ala-Pro-Val-Lys-Lys(N5-(5-carboxyfluorescein))-NH2}; 0.4 {benzyloxycarbonyl-L-Phe-L-Arg 4-methylcoumarin-7-amide}; 0.28 {benzyl-Phe-Val-Arg-4-nitroanilide}; 0.43 {benzyloxycarbonyl-Phe-Arg 4-methylcoumarin-7-amide}; 20 {Nalpha-benzyloxycarbonyl-L-histidinamide}; 1.8 {benzyloxycarbonyl-L-citrullyl-L-Arg 4-methylcoumarin-7-amide}; 10 {Nalpha-benzoyl-L-citrulline methyl ester}; 0.77 {benzoyl-thiocarbamic acid}; 0.00057 {casein}; 0.048 {alpha-benzoyl-L-argininamide}; 32 {Nalpha-benzoyl-L-argininamide}; 40 {Nalpha-benzoyl-L-argininamide}; 16 {benzoyl-thiocarbamic acid ethyl ester}; 18.2 {Nalpha-benzoyl-L-Arg ethyl ester}; 0.119 {methyl red-Abu-Ala-Pro-Val-Lys-Lys(N5-(5-carboxyfluorescein))-NH2}; 0.119 {methyl red-Abu-Ala-Pro-Val-Lys-Lys(N5-(5-carboxyfluorescein))-NH2}; 5.6 {benzyloxycarbonyl-Arg-Arg 4-methylcoumarin-7-amide}; 0.94 {benzyloxycarbonyl-Arg-Arg 4-methylcoumarin-7-amide}; 15 {Nalpha-benzoyl-L-Arg ethyl ester}; 0.42 {benzyloxycarbonyl-L-Phe-L-Arg 4-methylcoumarin-7-amide}; 0.191 {benzyloxycarbonyl-Phe-Arg 4-methylcoumarin-7-amide}; 18 {Nalpha-benzoyl-L-Arg ethyl ester}; 18 {Nalpha-benzoyl-L-Arg ethyl ester}; 23 {Nalpha-benzoyl-L-Arg ethyl ester}; 21 {N-benzoylglycinamide}; 0.00061 {casein}; 0.00066 {casein}; 0.0519 {Nalpha-benzoyl-L-Arg ethyl ester}; 0.616 {benzyl-Phe-Val-Arg-4-nitroanilide}; 0.0681 {Nalpha-benzoyl-L-Arg ethyl ester}; 0.301 {N-benzoyl-Gly methyl thiono ester}; 1.296 {benzyloxycarbonyl-citrullyl-Arg 4-methylcoumarin-7-amide}; 1.48 {benzyloxycarbonyl-Phe-Arg 4-methylcoumarin-7-amide}; 2.03 {benzyloxycarbonyl-citrullyl-Arg 4-methylcoumarin-7-amide}; 2.27 {benzyloxycarbonyl-Arg-Arg 4-methylcoumarin-7-amide}; 6.63 {N-(beta-phenylpropionyl)Gly methyl ester}; 18.54 {Nalpha-benzoyl-Gly methyl ester}; 21.8 {N-benzoyl-Gly methyl ester}; 320 {N-benzyloxycarbonyl-Gly-Gly}; 0.344 {benzyl-Phe-Val-Arg-4-nitroanilide}; 0.00385 {Dabcyl-Lys-Phe-Gly-Gly-Ala-Ala-Edans}; 0.221 {benzyl-Phe-Val-Arg-4-nitroanilide}; 0.285 {benzyl-Phe-Val-Arg-4-nitroanilide}; 0.00212 {N-alpha-benzyloxycarbonyl-L-lysine 4-nitrophenyl ester}; 0.02075 {Dabcyl-Lys-Phe-Gly-Gly-Ala-Ala-Edans}; 1.765 {Dabcyl-Lys-Phe-Gly-Gly-Ala-Ala-Edans}; 0.01243 {Dabcyl-Lys-Phe-Gly-Gly-Ala-Ala-Edans}; 0.0000082 {casein}; 0.1015 {methyl red-Abu-Ser-Ala-Pro-Val-Lys-Ala-Lys(N6-(5-carboxyfluorescein))-NH2}; 0.1015 {methyl red-Abu-Ser-Ala-Pro-Val-Lys-Ala-Lys(N6-(5-carboxyfluorescein))-NH2}; 0.464 {benzyl-Phe-Val-Arg-4-nitroanilide}; 0.00691 {N,N-diBoc-dityrosine-(isoniazid)2}; -999 {more}; -999 {more}; -999 {more}; -999 {more}; -999 {more}; -999 {more}; 0.00062 {casein}; 0.00062 {casein}; 0.00079 {casein}; 0.00079 {casein}; 0.73 {ubiquitin-7-amido-4-trifluoromethylcoumarin}; 1.84 {ubiquitin-7-amido-4-trifluoromethylcoumarin}; 55 {Boc-L-His}; -999 {casein}; -999 {casein}; 0.06 {carboxybenzoyl-Phe-Arg-7-(4-methyl)coumarylamide}; 0.0063 {casein}; 0.0065 {casein}; 812.1 {casein}; 700.5 {casein}; 530.7 {casein}; 0.16 {tert-butyloxycarbonyl-Ala-Ala-Gly 4-methylcoumarin 7-amide}; 0.08 {tert-butyloxycarbonyl-Ala-Ala-Ala 4-methylcoumarin 7-amide}; 5.2 {tert-butyloxycarbonyl-Ala-Ala-Gly 4-nitroanilide}; 0.027 {D-Ile-Pro-Arg-4-nitroanilide}; 0.061 {N-p-tosyl-Gly-Pro-Arg-4-nitroanilide}; 0.109 {D-Ala-Pro-Arg-4-nitroanilide}; 0.306 {Glu-Glu-Pro-Arg-4-nitroanilide}; 0.153 {N-p-tosyl-Gly-Pro-Lys-4-nitroanilide}; 0.2265 {PQVR-7-amido-4-methylcoumarin}; 0.01182 {tert-benzyloxycarbonyl-QVR-7-amido-4-methylcoumarin}; 0.3933 {LPAPR-7-amido-4-methylcoumarin}; 0.3463 {QSPVR-7-amido-4-methylcoumarin}; 0.2675 {QVR-7-amido-4-methylcoumarin}; -999 {more}; 0.011 {benzyloxycarbonyl-Val-Val-Arg-7-amido-4-methylcoumarin}; 0.024 {benzyloxycarbonyl-Val-Val-Arg-7-amido-4-methylcoumarin}; 0.17 {GRWHKFSVRWE}; 0.04 {GRWHKISVRWE}; 0.09 {GRWHKLSVRWE}; 0.0267 {benzyloxycarbonyl-Leu-Arg-7-amido-4-methylcoumarin}; 0.0343 {benzyloxycarbonyl-Leu-Arg-7-amido-4-methylcoumarin}; 0.0184 {benzyloxycarbonyl-Val-Val-Arg-7-amido-4-methylcoumarin}; 0.0198 {benzyloxycarbonyl-Leu-Arg-7-amido-4-methylcoumarin}; 0.0315 {benzyloxycarbonyl-Leu-Arg-7-amido-4-methylcoumarin}; 0.0171 {benzyloxycarbonyl-Leu-Arg-7-amido-4-methylcoumarin}; 0.0534 {benzyloxycarbonyl-Leu-Arg-7-amido-4-methylcoumarin}; 0.0125 {benzyloxycarbonyl-Phe-Val-Arg-7-amido-4-methylcoumarin}; 0.057 {(7-[[(2S)-2-(4-[(1S)-1-cyclohexyl-1-[(phenylcarbonyl)amino]ethyl]-1H-1,2,3-triazol-1-yl)hexanoyl]amino]-4-methyl-2-oxo-2H-chromen-3-yl)acetic acid}; 0.3 {(7-[[(2S)-2-(4-[(1S)-1,2-dimethyl-1-[(thiophen-3-ylcarbonyl)amino]propyl]-1H-1,2,3-triazol-1-yl)hexanoyl]amino]-4-methyl-2-oxo-2H-chromen-3-yl)acetic acid}; 0.41 {(7-[[(2S)-2-(4-[(1S)-1,2-dimethyl-1-[(phenylcarbonyl)amino]propyl]-1H-1,2,3-triazol-1-yl)hexanoyl]amino]-4-methyl-2-oxo-2H-chromen-3-yl)acetic acid}; 0.0015 {o-aminobenzoic acid-Leu-Glu-Gln-(N-[2,4-dinitrophenyl]ethylenediamine)}; 0.0015 {GRWHTVGLIWE-Lys(2,4-dinitrophenyl)-D-Arg-NH2}; 0.0021 {GRWHTFGLRWE-Lys(2,4-dinitrophenyl)-D-Arg-NH2}; 0.014 {benzyloxycarbonyl-Val-Val-Arg-7-amido-4-methylcoumarin}; 0.0016 {GRWH-norleucine-VGLRWE-Lys(2,4-dinitrophenyl)-D-Arg-NH2}; 0.017 {(4-methyl-7-[[(2S)-2-(4-[(1S)-1-(4-methylcyclohexyl)-1-[(thiophen-3-ylcarbonyl)amino]ethyl]-1H-1,2,3-triazol-1-yl)hexanoyl]amino]-2-oxo-2H-chromen-3-yl)acetic acid}; 0.13 {(7-[[(2S)-2-(4-[(1S)-1-cyclohexyl-1-[(thiophen-3-ylcarbonyl)amino]ethyl]-1H-1,2,3-triazol-1-yl)hexanoyl]amino]-4-methyl-2-oxo-2H-chromen-3-yl)acetic acid}; 0.0082 {GRWHTVGLRFE-Lys(2,4-dinitrophenyl)-D-Arg-NH2}; 0.0082 {GRWHTVGLRIE-Lys(2,4-dinitrophenyl)-D-Arg-NH2}; 0.0034 {benzyloxycarbonyl-Leu-Leu-Arg-7-amido-4-methylcoumarin}; 0.0048 {GRWHTVGFRWE-Lys(2,4-dinitrophenyl)-D-Arg-NH2}; 0.0093 {GRWHTTGLRWE-Lys(2,4-dinitrophenyl)-D-Arg-NH2}; 0.0028 {GRWHTVDLRWE-Lys(2,4-dinitrophenyl)-D-Arg-NH2}; 0.0182 {benzyloxycarbonyl-Phe-Arg-7-amido-4-methylcoumarin}; 0.0121 {benzyloxycarbonyl-Phe-Val-Arg-7-amido-4-methylcoumarin}; 0.0177 {benzyloxycarbonyl-Val-Val-Arg-7-amido-4-methylcoumarin}; 0.00312 {GRWHTVGLHWE-Lys(2,4-dinitrophenyl)-D-Arg-NH2}; 0.00073 {GRWHTVG-norleucine-RWE-Lys(2,4-dinitrophenyl)-D-Arg-NH2}; 0.00105 {GRWHTVGLKWE-Lys(2,4-dinitrophenyl)-D-Arg-NH2}; 0.00131 {GRWHTVGLPWE-Lys(2,4-dinitrophenyl)-D-Arg-NH2}; 0.00142 {GRWHFVGLRWE-Lys(2,4-dinitrophenyl)-D-Arg-NH2}; 0.00048 {GRWHIVGLRWE-Lys(2,4-dinitrophenyl)-D-Arg-NH2}; 0.0158 {benzyloxycarbonyl-Val-Val-Arg-7-amido-4-methylcoumarin}; 0.00527 {GRWHTVGLFWE-Lys(2,4-dinitrophenyl)-D-Arg-NH2}; 0.00525 {GRWHTVGKRWE-Lys(2,4-dinitrophenyl)-D-Arg-NH2}; 0.0249 {GRWHTVQLRWE-Lys(2,4-dinitrophenyl)-D-Arg-NH2}; 0.00188 {GRWHDVGLRWE-Lys(2,4-dinitrophenyl)-D-Arg-NH2}; 0.00395 {GRWHTIGLRWE-Lys(2,4-dinitrophenyl)-D-Arg-NH2}; 0.00259 {GRWHTVGLQWE-Lys(2,4-dinitrophenyl)-D-Arg-NH2}; 0.0208 {benzyloxycarbonyl-Phe-Arg-7-amido-4-methylcoumarin}; 0.00171 {GRWHTVG-citrulline-RWE-Lys(2,4-dinitrophenyl)-D-Arg-NH2}; 0.00314 {GRWHTVGLDWE-Lys(2,4-dinitrophenyl)-D-Arg-NH2}; 0.00782 {GRWHTKGLRWE-Lys(2,4-dinitrophenyl)-D-Arg-NH2}; 0.00324 {GRWHPVGLRWE-Lys(2,4-dinitrophenyl)-D-Arg-NH2}; 0.00258 {GRWHTVFLRWE-Lys(2,4-dinitrophenyl)-D-Arg-NH2}; 0.00276 {GRWHVVGLRWE-Lys(2,4-dinitrophenyl)-D-Arg-NH2}; 0.00418 {GRWHT-norleucine-GLRWE-Lys(2,4-dinitrophenyl)-D-Arg-NH2}; 0.00237 {GRWHTVGVRWE-Lys(2,4-dinitrophenyl)-D-Arg-NH2}; 0.00237 {GRWHTVGLRWE-Lys(2,4-dinitrophenyl)-D-Arg-NH2}; 0.00198 {GRWHTVGIRWE-Lys(2,4-dinitrophenyl)-D-Arg-NH2}; 0.00556 {(7-methoxycoumarin-4-yl)-acetyl-GRWPPMGLPWEK(2,4-dinitrophenyl)-D-Arg-NH2}; 0.00194 {GRWHKVGLRWE-Lys(2,4-dinitrophenyl)-D-Arg-NH2}; 0.00244 {GRWHTVGRRWE-Lys(2,4-dinitrophenyl)-D-Arg-NH2}; 0.00514 {GRWHGVGLRWE-Lys(2,4-dinitrophenyl)-D-Arg-NH2}; 0.01286 {GRWHTGGLRWE-Lys(2,4-dinitrophenyl)-D-Arg-NH2}; 0.01237 {GRWHTDGLRWE-Lys(2,4-dinitrophenyl)-D-Arg-NH2}; 0.00591 {GRWHTPGLRWE-Lys(2,4-dinitrophenyl)-D-Arg-NH2}; 0.00779 {GRWHTMGLRWE-Lys(2,4-dinitrophenyl)-D-Arg-NH2}; 0.02747 {GRWHTVKLRWE-Lys(2,4-dinitrophenyl)-D-Arg-NH2}; 0.00506 {GRWHTVTLRWE-Lys(2,4-dinitrophenyl)-D-Arg-NH2}; 0.01047 {GRWHTV-norleucine-LRWE-Lys(2,4-dinitrophenyl)-D-Arg-NH2}; 0.01998 {GRWHTVPLRWE-Lys(2,4-dinitrophenyl)-D-Arg-NH2}; 0.00512 {GRWHTVILRWE-Lys(2,4-dinitrophenyl)-D-Arg-NH2}; 0.03787 {GRWHTVGLRKE-Lys(2,4-dinitrophenyl)-D-Arg-NH2}; 0.01493 {GRWHTVGLRHE-Lys(2,4-dinitrophenyl)-D-Arg-NH2}; 0.01648 {GRWHTVGLRGE-Lys(2,4-dinitrophenyl)-D-Arg-NH2}; 0.01668 {GRWHTVGLRDE-Lys(2,4-dinitrophenyl)-D-Arg-NH2}; 0.01154 {GRWHTVGLRRE-Lys(2,4-dinitrophenyl)-D-Arg-NH2}; 0.019 {benzyloxycarbonyl-Phe-Arg-7-amido-4-methylcoumarin}; 0.288 {benzyloxycarbonyl-Val-Val-Arg-7-amido-4-methylcoumarin}; 0.042 {benzyloxycarbonyl-Phe-Arg-7-amido-4-methylcoumarin}; 0.006 {benzyloxycarbonyl-Val-Val-Arg-7-amido-4-methylcoumarin}; 0.0073 {tert-butyloxycarbonyl-Phe-Leu-Arg-7-amido-4-methylcoumarin}; 0.0375 {tert-butyloxycarbonyl-Phe-Phe-Arg-7-amido-4-methylcoumarin}; 0.0081 {benzoyl-Phe-Val-Arg-7-amido-4-methylcoumarin}; 0.0175 {benzyloxycarbonyl-Val-Val-Arg-7-amido-4-methylcoumarin}; 0.0147 {benzyloxycarbonyl-Phe-Arg-7-amido-4-methylcoumarin}; 0.013 {benzyloxycarbonyl-Val-Val-Arg-7-amido-4-methylcoumarin}; 1.3 {Asp-Ser-Leu-Glu-Thr-Leu-Phe-Gln-Gly-Pro-Val-Tyr-Lys-Asp-Leu-Glu}; 0.0058 {4-(4-dimethylaminophenylazo)benzoic acid-KTSAVLQSGFRKME-5-[(2-aminoethyl)amino]naphthalene-1-sulfonic acid}; 0.25-2.6 {peptides derived from polyprotein cleavage sites}; 0.00024 {5-chloropyridin-3-yl furan-2-carboxylate}; 0.00012 {5-bromopyridin-3-yl furan-3-carboxylate}; 0.00018 {(E)-5-chloropyridin-3-yl 3-(furan-2-yl)acrylate}; 0.099 {SLEVLFQGPVRR}; 0.391 {SLEVLFQGPVRR}; 2.33 {N-acetyl-DEFQLQ-4-nitroanilide}; 0.075 {2-(N-methylamino)benzoyl-TSAVLQSGFRK-(2,4-dinitrophenyl)-Met}; 0.075 {2-(N-methylamino)benzoyl-IAALFQGPPK(2,4-dinitrophenyl)FR}; 0.0825 {Dabcyl-RTATVQGPSLDFKE-Edans}; 0.0667 {2-(N-methylamino)benzoyl-IEAAFQGPPK(2,4-dinitrophenyl)FR}; 0.0632 {Dabcyl-IEALFQGPPKFRE-Edans}; 0.0482 {2-(N-methylamino)benzoyl-IELLFQGPPK(2,4-dinitrophenyl)FR}; 0.0735 {2-(N-methylamino)benzoyl-DEAMEQGVSDYIK-2,4-dinitrophenyl}; 0.0582 {2-(N-methylamino)benzoyl-RTATVQGPSLDFK-2,4-dinitrophenyl}; 0.0431 {(2-(N-methylamino)benzoyl)-IEALFQGPPK(2,4-dinitrophenyl)-FR}; 0.0924 {2-(N-methylamino)benzoyl-RQAVTQGFPTELK-2,4-dinitrophenyl}; 0.05078 {4-(4-dimethylaminophenylazo)benzoyl-ASFMNQSKVRRFE-5'-[(2-aminoethyl)amino] naphthalene-1-sulfonic acid}; -999 {more}; -999 {more}; 0.037 {TENLYFQSGTRR}; 0.087 {TENLYFQSGTRR}; 0.05078 {Dabcyl-ASFMNQSKVRRFE-Edans}; 0.045 {MBP-LEVLFQ-C}; 0.045 {MBP-LEVLFQ-G}; 0.045 {MBP-LEVLFQ-S}; 0.089 {MBP-LEVLFQ-Q}; 0.049 {MBP-LEVLFQ-S}; 0.027 {MBP-LEVLFQ-A}; 0.038 {MBP-LEVLFQ-I}; 0.065 {MBP-LEVLFQ-T}; 0.034 {MBP-LEVLFQ-A}; 0.08 {MBP-LEVLFQ-N}; 0.046 {MBP-LEVLFQ-L}; 0.048 {MBP-LEVLFQ-M}; 0.053 {MBP-LEVLFQ-C}; 0.047 {MBP-LEVLFQ-G}; 0.0982 {EALFQ-4-nitroanilide}; 0.02 {2-aminobenzoyl-AALFQGPLQ-EDDnp}; 0.014 {2-aminobenzoyl-EALFQGPLQ-EDDnp}; 0.016 {2-aminobenzoyl-EALFQGPLQ-EDDnp}; 0.0185 {2-aminobenzoyl-EALFQGPAQ-EDDnp}; 0.0213 {2-aminobenzoyl-EALFQGPAQ-EDDnp}; 0.0182 {2-aminobenzoyl-AALFQGPLQ-EDDnp}; 0.0179 {2-aminobenzoyl-EALFQGPLQ-EDDnp}; 0.0264 {2-aminobenzoyl-EAAFQGPLQ-EDDnp}; 0.0203 {2-aminobenzoyl-EALFQGPLQ-EDDnp}; 0.0435 {2-aminobenzoyl-EALAQGPLQ-EDDnp}; 0.0413 {2-aminobenzoyl-EALAQGPLQ-EDDnp}; 0.0349 {2-aminobenzoyl-EAAFQGPLQ-EDDnp}; 0.0393 {2-aminobenzoyl-EALFQAPLQ-EDDnp}; 0.0533 {2-aminobenzoyl-EALFQGALQ-EDDnp}; 0.3 {Ac-EFQLQ-4-nitroanilide}; 0.8 {Ac-DEFQLQ-4-nitroanilide}; 1.5 {Ac-FQLQ-4-nitroanilide}; 0.0155 {Dabcyl-RDKIPFMGYRGQDE-Edans-NH2}; 0.0069 {Dabcyl-RDKIGFRGKFGQDE-Edans-NH2}; 0.0213 {Dabcyl-RDKITTLGKFGQDE-Edans-NH2}; 0.0079 {Dabcyl-RDKIPFRGYYGQDE-Edans-NH2}; 0.0325 {Dabcyl-RDKITFMGKFGQDE-Edans-NH2}; 0.54 {Thr-Arg-Pro-Ile-Ile-Thr-Thr-Ala-Gly-Pro-Ser-Asp-Met-Tyr-Val-His}; 0.25 {Glu-Arg-Ala-Ser-Leu-Ile-Thr-Thr-Gly-Pro-Tyr-Gly-His-Gln-Ser-Gly}; 0.5 {Thr-Arg-Pro-Ile-Ile-Thr-Thr-Ala-Gly-Pro-Ser-Asp-Met-Val-Tyr}; 0.52 {Thr-Arg-Pro-Ile-Ile-Thr-Thr-Ala-Gly-Pro-Ser-Asp-Met-Tyr-Val-His}; 0.0125 {Nalpha-carbobenzoxy-Gly p-nitrophenyl ester}; 0.012 {N-benzyloxycarbonyl-D-Tyr p-nitrophenyl ester}; 0.025 {p-nitrophenyl N-benzoylglycinate}; 0.2 {N-benzyloxycarbonyl-D-Ala p-nitrophenyl ester}; 0.0059 {Nalpha-carbobenzoxy-Ala p-nitrophenyl ester}; 3.3 {benzoyl-DL-Arg-p-nitroanilide}; 0.024 {N-benzyloxycarbonyl-D-Leu p-nitrophenyl ester}; 1.1 {p-nitrophenyl N-formylglycinate}; 0.0034 {Nalpha-carbobenzoxy-Tyr p-nitrophenyl ester}; 0.0076 {p-nitrophenyl N-trans-cinnamoylglycinate}; 0.128 {N-benzyloxycarbonyl-D-Phe p-nitrophenyl ester}; 0.052 {Nalpha-carbobenzoxy-Lys p-nitrophenyl ester}; 0.0134 {Nalpha-carbobenzoxy-Gly p-nitrophenyl ester}; 0.0087 {Nalpha-carbobenzoxy-Lys p-nitrophenyl ester}; 0.0172 {Nalpha-carbobenzoxy-glycylglycine p-nitrophenyl ester}; 21.3 {Nalpha-benzoyl-L-Arg ethyl ester}; 0.0067 {p-nitrophenyl N-trans-cinnamoylglycinate}; 0.0272 {benzoyl-Gly-p-nitrophenyl ester}; 0.189 {benzoyl-Gly-p-nitrophenyl ester}; 0.0377 {Nalpha-carbobenzoxy-Phe p-nitrophenyl ester}; 0.0122 {Nalpha-carbobenzoxy-Ala p-nitrophenyl ester}; 0.0248 {benzoyl-Gly-p-nitrophenyl ester}; 0.0183 {p-nitrophenyl N-benzyloxycarbonylglycinate}; 0.0194 {p-nitrophenyl N-benzyloxycarbonylglycinate}; 0.0214 {p-nitrophenyl N-benzoylglycinate}; 0.0258 {Nalpha-carbobenzoxy-Ala p-nitrophenyl ester}; 0.0283 {benzoyl-Gly-p-nitrophenyl ester}; 0.0327 {Nalpha-carbobenzoxy-Val p-nitrophenyl ester}; 0.0513 {benzoyl-Gly-p-nitrophenyl ester}; 0.0598 {Nalpha-carbobenzoxy-Gly p-nitrophenyl ester}; 0.309 {p-nitrophenyl N-acetylglycinate}; 0.328 {p-nitrophenyl N-acetylglycinate}; -999 {more}; -999 {more}; 0.3 {benzyloxycarbonyl-Phe-Arg-NH-(4-nitrophenyl)}; 0.0024 {benzoyl-Phe-Val-Arg-NH-7-amido-4-methylcoumarin}; 0.013 {azocasein}; 0.02 {azocasein}; 0.017 {azocasein}; 0.016 {azocasein}; 0.59 {azocasein}; 0.0137 {casein}; 0.009 {N-Benzyloxycarbonyl-Gly 4-nitrophenyl ester}; 0.028 {benzyloxycarbonyl-Lys nitrophenyl ester}; 0.035 {benzyloxycarbonyl-Lys nitrophenyl ester}; 16 {benzoyl-DL-Arg 4-nitroanilide}; 18 {benzoyl-DL-Arg 4-nitroanilide}; 0.0067 {Benzyloxycarbonyl-Phe-Arg 4-methylcoumarin 7-amide}; 0.000096 {Succinyl-albumin}; -999 {more}; -999 {more}; -999 {more}; -999 {more}; -999 {more}; -999 {more}; -999 {more}; -999 {more}; 0.018 {benzyloxycarbonyl-Phe-Arg-7-amido-4-methylcoumarin}; 0.0045 {PLN}; 11 {benzyloxycarbonyl-Arg-Arg 4-nitroanilide}; 1.6 {benzoyl-Phe-Val-Arg 4-nitroanilide}; 0.0044 {Benzyloxycarbonyl-Gly-Phe-citrulline 4-methylcoumarin 7-amide}; 0.0105 {benzyloxycarbonyl-Phe-Val-Arg-7-amido-4-methylcoumarin}; 0.0111 {Benzyloxycarbonyl-Phe-citrulline 4-methylcoumarin 7-amide}; 0.0131 {benzoyl-Phe-Val-Arg 4-methylcoumarin 7-amide}; 0.0445 {benzyloxycarbonyl-Arg-Arg 4-methylcoumarin 7-amide}; 0.0484 {benzoyl-Phe-Arg-7-amido-4-methylcoumarin}; 0.198 {benzyloxycarbonyl-Arg-Arg-7-amido-4-methylcoumarin}; 0.00694 {PLK}; 0.00536 {VLK}; 0.00592 {PLQ}; 0.00394 {PLR}; 0.00429 {VLR}; 0.00415 {ALR}; 0.00585 {ALK}; -999 {more}; -999 {more}; 67 {benzoyl-L-Arg amide}; -999 {more}; -999 {more}; -999 {more}; -999 {more}; -999 {more}; -999 {whey protein isolate}; -999 {milk protein concentrate}; 0.003 {benzyloxycarbonyl-Phe-Val-Arg-NH-4-methylcoumarin 7-amide}; 0.04 {Bz-Phe-Val-Arg-4-nitroanilide}; 0.217 {casein}; 0.4 {L-Pyroglutamyl-L-Phe-L-Leu 4-nitroanilide}; 0.25 {Bz-Phe-Val-Arg-4-nitroanilide}; 0.25 {Bz-Phe-Val-Arg-4-nitroanilide}; 0.25 {Bz-Phe-Val-Arg-4-nitroanilide}; 0.25 {Bz-Phe-Val-Arg-4-nitroanilide}; 0.25 {Bz-Phe-Val-Arg-4-nitroanilide}; 0.22 {Bz-Phe-Val-Arg-4-nitroanilide}; 3.1 {benzoyl-L-Arg amide}; 1.2 {benzoyl-L-Arg amide}; 0.0153 {Benzyloxycarbonyl-Gly-Phe-citrulline 4-methylcoumarin 7-amide}; 2.3 {L-Pyroglutamyl-L-Phe-L-Leu 4-nitroanilide}; 5.26 {casein}; 0.27 {Bz-Phe-Val-Arg-4-nitroanilide}; 0.27 {Bz-Phe-Val-Arg-4-nitroanilide}; 32 {benzoyl-L-Arg methyl ester}; 0.056 {Bz-Phe-Val-Arg-4-nitroanilide}; 0.53 {N-Benzyloxycarbonyl-L-Phe-L-Ser methyl ester}; 0.0081 {benzyloxycarbonyl-Arg-Arg-NH-4-methylcoumarin 7-amide}; 0.0039 {benzyloxycarbonyl-Phe-Val-Arg-NH-4-methylcoumarin 7-amide}; 6 {benzoyl-L-Arg amide}; 170 {benzoyl-L-Arg ethyl ester}; 0.118 {Bz-Phe-Val-Arg-4-nitroanilide}; 0.118 {Bz-Phe-Val-Arg-4-nitroanilide}; 190 {benzoyl-L-Arg ethyl ester}; 9.5 {benzoyl-L-Arg amide}; 0.052 {Bz-Phe-Val-Arg-4-nitroanilide}; 0.249 {benzyl-Phe-Val-Arg-4-nitroanilide}; 200 {benzoyl-L-Arg ethyl ester}; 210 {Benzoyl-Gly ethyl ester}; 0.0097 {benzoyl-Phe-Val-Arg 4-methylcoumarin 7-amide}; 6.6 {benzoyl-L-Arg amide}; 0.0952 {Bz-Phe-Val-Arg-4-nitroanilide}; 0.0074 {benzyloxycarbonyl-Arg-Arg-NH-4-methylcoumarin 7-amide}; 0.079 {Bz-Phe-Val-Arg-4-nitroanilide}; 0.129 {casein}; 0.0154 {benzyloxycarbonyl-Arg-Arg 4-methylcoumarin 7-amide}; 0.0831 {Benzyloxycarbonyl-Phe-Arg 4-methylcoumarin 7-amide}; 2.42 {L-Pyroglutamyl-L-Phe-L-Leu 4-nitroanilide}; 57 {benzoyl-L-Arg ethyl ester}; 84 {tosyl-L-Lys ethyl ester}; 0.152 {Bz-Phe-Val-Arg-4-nitroanilide}; 2.83 {casein}; 0.221 {casein}; 0.0554 {benzyloxycarbonyl-Phe-Arg-NH-4-methylcoumarin 7-amide}; 0.305 {Bz-Phe-Val-Arg-4-nitroanilide}; 0.305 {Bz-Phe-Val-Arg-4-nitroanilide}; 0.0495 {Bz-Phe-Val-Arg-4-nitroanilide}; 0.0636 {benzyloxycarbonyl-Phe-Arg-NH-4-methylcoumarin 7-amide}; 4.09 {casein}; 0.2558 {Bz-Phe-Val-Arg-4-nitroanilide}; 0.2497 {Bz-Phe-Val-Arg-4-nitroanilide}; 0.03919 {Bz-Phe-Val-Arg-4-nitroanilide}; 0.05731 {Bz-Phe-Val-Arg-4-nitroanilide}; 4 {Nalpha-benzoyl-Arg amide}; 4 {Nalpha-benzoyl-Arg amide}; 2.1 {Nalpha-benzoyl-Arg amide}; 43 {N-benzoyl-L-Arg ethyl ester}; 0.0832 {casein}; 0.03456 {casein}; 0.03424 {N-carbobenzoxyglycine p-nitrophenyl ester}; 0.235 {ovalbumin}; -999 {more}; -999 {more}; 0.253 {ovalbumin}; 0.0421 {N-carbobenzoxyglycine 4-nitrophenyl ester}; 0.0421 {N-carbobenzoxyglycine 4-nitrophenyl ester}; 0.03424 {N-carbobenzoxyglycine 4-nitrophenyl ester}; 0.09 {benzyloxycarbonyl-Ala-Ala-Asn-4-methylcoumarin-7-amide}; 0.07 {acetyl-Thr-Ala-Asn-4-methylcoumarin-7-amide}; 0.286 {acetyl-Pro-Thr-Asn-4-methylcoumarin-7-amide}; 0.023 {Dinitrophenyl-Pro-Glu-Ala-Asn-NH2}; 0.033 {Dinitrophenyl-Pro-Glu-Ala-Asn-NH2}; 0.05 {benzyloxycarbonyl-Ile-Ser-Asn-4-methylcoumarin-7-amide}; 0.67 {benzyloxycarbonyl-Ala-Ala-Asn-4-methylcoumarin-7-amide}; -999 {more}; 0.08 {benzyloxycarbonyl-Ala-Ala-Asn-4-methylcoumarin-7-amide}; 0.128 {acetyl-Thr-Ala-Asn-4-methylcoumarin-7-amide}; 0.122 {acetyl-Pro-Thr-Asn-4-methylcoumarin-7-amide}; 0.05195 {benzyloxycarbonyl-Ala-Ala-Asn-7-amido-4-methylcoumarin}; 0.05 {benzyloxycarbonyl-Ala-Ala-Asn-4-methylcoumarin-7-amide}; 0.0015 {benzyloxycarbonyl-Arg-Arg 4-methylcoumarin 7-amide}; 0.032 {Benzyloxycarbonyl-Phe-Arg 4-methylcoumarin 7-amide}; 0.000004 {pro-interleukin-1beta}; 0.0000134 {4-[[4'-(dimethylamino)phenyl]azo]-benzoic acid-YVADAPV-5-[(2'-aminoethyl)-amino]naphthalenesulfonic acid}; 0.0000115 {acetyl-YVAD-7-amido-4-methylcoumarin}; 0.0000215 {succinyl-YVAD-4-nitroanilide}; 0.049 {Ac-SLLSDGID-7-amido-4-carbamoylmethylcoumarin}; 0.022 {Ac-LLSDGID-7-amido-4-carbamoylmethylcoumarin}; 0.038 {Ac-SLLSDGIDE-7-amido-4-carbamoylmethylcoumarin}; 0.038 {Ac-SDGIDEE-7-amido-4-carbamoylmethylcoumarin}; 0.047 {Ac-SLLSDGIDEE-7-amido-4-carbamoylmethylcoumarin}; 0.115 {Ac-LSDGIDE-7-amido-4-carbamoylmethylcoumarin}; 0.087 {Ac-SLLSDG-7-amido-4-carbamoylmethylcoumarin}; 0.052 {Ac-SLLSDGI-7-amido-4-carbamoylmethylcoumarin}; 0.0115 {Ac-WQPD-7-amido-4-carbamoylmethylcoumarin}; -999 {more}; 0.045 {acetyl-DQMD-4-nitroanilide}; 0.004 {acetyl-WEHD-7-amido-4-methylcoumarin}; 0.018 {acetyl-LEVD-4-nitroanilide}; 0.02 {succinyl-YVAD-7-amido-4-methylcoumarin}; 0.023 {acetyl-YVAD-4-nitroanilide}; 0.12 {acetyl-VQVD-4-nitroanilide}; 0.046 {acetyl-VEID-4-nitroanilide}; 0.006 {succinyl-YVAD-4-nitroanilide}; 0.105 {acetyl-YEVDGW-amide}; 0.0073 {acetyl-YEVD-4-nitroanilide}; 0.0085 {acetyl-LEVD-4-nitroanilide}; 0.049 {SLLSDGID}; 0.049 {SLLSDGID}; 0.022 {LLSDGID}; 0.022 {LLSDGID}; 0.038 {acetyl-WEHD-7-amido-4-methylcoumarin}; 0.038 {SLLSDGIDE}; 0.038 {SLLSDGIDE}; 0.038 {SDGIDEE}; 0.038 {SDGIDEE}; 0.021 {acetyl-FEAD-7-amido-4-methylcoumarin}; 0.016 {acetyl-WQPD-7-amido-4-methylcoumarin}; 0.016 {Ac-WQPD-7-amido-4-carbamoylmethylcoumarin}; 0.047 {SLLSDGIDEE}; 0.047 {SLLSDGIDEE}; 0.115 {LSDGIDE}; 0.115 {LSDGIDE}; 0.087 {SLLSDG}; 0.087 {SLLSDG}; 0.052 {SLLSDGI}; 0.052 {SLLSDGI}; 0.038 {Ac-WEHD-7-amido-4-trifluoromethylcoumarin}; 0.038 {Ac-WEHD-7-amido-4-trifluoromethylcoumarin}; 0.021 {Ac-FEAD-7-amido-4-carbamoylmethylcoumarin}; 0.021 {Ac-FEAD-7-amido-4-carbamoylmethylcoumarin}; 0.00026 {prothrombin}; 0.0066 {prothrombin}; -999 {more}; 0.0044 {Z-Phe-Arg-7-amido-4-methylcoumarin}; 0.005 {carbobenzyloxy-Leu-Arg-4-methylcoumaryl-7-amide}; 0.026 {carbobenzyloxy-Leu-Arg-4-methylcoumaryl-7-amide}; 0.016 {carbobenzyloxy-Leu-Arg-4-methylcoumaryl-7-amide}; 0.0192 {benzyloxycarbonyl-Phe-Arg-7-amido-4-methylcoumarin}; 0.0192 {Z-Phe-Arg-7-amido-4-methylcoumarin}; 0.0133 {benzyloxycarbonyl-Leu-Arg-7-amido-4-methylcoumarin}; 0.0133 {Z-Leu-Arg-7-amido-4-methylcoumarin}; 0.0328 {Z-Gly-Pro-Arg-7-amido-4-methylcoumarin}; 0.0328 {benzyloxycarbonyl-Gly-Pro-Arg-7-amido-4-methylcoumarin}; 0.293 {carbobenzyloxy-Leu-Arg-4-methylcoumaryl-7-amide}; 0.0033 {Z-Leu-Arg-7-amido-4-methylcoumarin}; 0.005 {Z-Phe-Arg-7-amido-4-methylcoumarin}; 0.0026 {Z-Leu-Arg-7-amido-4-methylcoumarin}; 0.0046 {Z-Leu-Arg-7-amido-4-methylcoumarin}; 0.0058 {Z-Gly-Pro-Arg-7-amido-4-methylcoumarin}; 0.0094 {carbobenzoxy-Phe-Arg-7-amido-4-methylcoumarin}; 0.0024 {Z-Leu-Arg-7-amido-4-methylcoumarin}; 0.0037 {Z-Leu-Arg-7-amido-4-methylcoumarin}; 0.0037 {Z-Leu-Arg-7-amido-4-methylcoumarin}; 0.0037 {Z-Gly-Pro-Arg-7-amido-4-methylcoumarin}; 0.048 {Z-Gly-Pro-Arg-7-amido-4-methylcoumarin}; 0.036 {Z-Gly-Pro-Arg-7-amido-4-methylcoumarin}; 0.0035 {Z-Leu-Arg-7-amido-4-methylcoumarin}; 0.0034 {Z-Gly-Pro-Arg-7-amido-4-methylcoumarin}; 0.0043 {Z-Gly-Pro-Arg-7-amido-4-methylcoumarin}; 0.0075 {carbobenzyloxy-Leu-Arg-4-methylcoumaryl-7-amide}; 0.0038 {Z-Gly-Pro-Arg-7-amido-4-methylcoumarin}; 0.0097 {Z-Phe-Arg-7-amido-4-methylcoumarin}; 0.0174 {benzyloxycarbonyl-Gly-Pro-Arg-7-amido-4-methylcoumarin}; 0.0026 {benzyloxycarbonyl-Leu-Arg-7-amido-4-methylcoumarin}; 0.036 {benzyloxycarbonyl-Gly-Pro-Arg-7-amido-4-methylcoumarin}; 0.0097 {benzyloxycarbonyl-Phe-Arg-7-amido-4-methylcoumarin}; 0.03 {tert-butyloxycarbonyl-Val-Leu-Lys 4-methylcoumarin 7-amide}; 0.05 {Succinyl-Leu-Tyr 4-methylcoumarin 7-amide}; 0.16 {Acetyl-Phe-Arg 4-methylcoumarin 7-amide}; 0.17 {Benzyloxycarbonyl-Glu-Arg 4-methylcoumarin 7-amide}; 0.002 {Z-Leu-Arg-7-amido-4-methylcoumarin}; 0.021 {benzyloxycarbonyl-Phe-Arg-7-amido-4-methylcoumarin}; 0.0004 {Benzyloxycarbonyl-Leu-Leu-Arg 4-methylcoumarin 7-amide}; 0.023 {benzyloxycarbonyl-Arg-Arg 4-methylcoumarin 7-amide}; 0.28 {Pro-Phe-Arg 4-methylcoumarin 7-amide}; 0.0032 {benzyloxycarbonyl-Val-Val-Arg-7-amido-4-methylcoumarin}; 0.033 {Benzyloxycarbonyl-Val-Arg 4-methylcoumarin 7-amide}; 0.000006 {N-[(1S)-2,2,2-trifluoro-1-[4'-(methylsulfonyl)biphenyl-4-yl]ethyl]-L-leucyl-L-methioninamide}; 0.34 {benzoyl-Phe-Val-Arg 4-methylcoumarin 7-amide}; 0.036 {CBZ-Phe-Arg-4-methylcoumarin 7-amide}; 1.1 {tosyl-Gly-Pro-Arg 4-methylcoumarin 7-amide}; 0.0083 {benzyloxycarbonyl-Leu-Arg 4-methylcoumarin 7-amide}; 0.0185 {Benzyloxycarbonyl-Val-Val-Arg 4-methylcoumarin 7-amide}; 0.0077 {benzyloxycarbonyl-Val-Val-Arg-7-amido-4-methylcoumarin}; 0.24 {tert-butyloxycarbonyl-Val-Pro-Arg 4-methylcoumarin 7-amide}; 0.044 {Benzyloxycarbonyl-Val-Val-Arg 4-methylcoumarin 7-amide}; 0.058 {Benzyloxycarbonyl-Phe-Arg 4-methylcoumarin 7-amide}; 0.0075 {Benzyloxycarbonyl-Phe-Arg 4-methylcoumarin 7-amide}; 0.0051 {benzyloxycarbonyl-Phe-Arg-7-amido-4-methylcoumarin}; 0.51 {benzoyl-Arg 4-methylcoumarin 7-amide}; 0.0038 {benzyloxycarbonyl-Leu-Arg 4-methylcoumarin 7-amide}; 0.0131 {Benzyloxycarbonyl-Val-Arg 4-methylcoumarin 7-amide}; 0.000087 {N-[(1S)-2,2,2-trifluoro-1-[4'-(methylsulfonyl)biphenyl-4-yl]ethyl]-L-leucyl-L-alaninamide}; 0.000119 {N-[(1S)-2,2,2-trifluoro-1-[4'-(methylsulfonyl)biphenyl-4-yl]ethyl]-L-leucylglycinamide}; 0.013 {Benzyloxycarbonyl-Leu-Leu-Arg 4-methylcoumarin 7-amide}; 0.013 {Benzyloxycarbonyl-Leu-Leu-Arg 4-methylcoumarin 7-amide}; 0.019 {CBZ-Phe-Arg-4-methylcoumarin 7-amide}; 0.0014 {rhodamine 110,bis-(L-leucyl-L-arginylglycylglycine amide),tetrahydrochloride}; 0.005 {rhodamine 110,bis-(L-leucyl-L-arginylglycylglycine amide),tetrahydrochloride}; 0.0024 {(Nle-Arg-Gly-Gly-NH)2-rhodamine}; 0.000758 {(N-carbobenzyloxy-Nle-Arg-Gly-Gly-NH)2-rhodamine}; 0.00183 {rhodamine 110,bis-(L-leucyl-L-arginylglycylglycine amide),tetrahydrochloride}; 0.00474 {(N-carbobenzyloxy-Met-Arg-Gly-Gly-NH)2-rhodamine}; 0.00517 {(Ile-Arg-Gly-Gly-NH)2-rhodamine}; -999 {2-[5-Amino-2-(4-fluoro-phenyl)-6-oxo-6H-pyrimidin-1-yl]-N-(1-benzyl-2-oxo-2-thiazol-2-yl-ethyl)-acetamide}; 0.0034 {(Leu-Arg-Gly-Gly-NH)2-rhodamine}; 0.0099 {(Leu-Arg-Gly-Gly-NH)2-rhodamine}; 0.0092 {(Leu-Arg-Gly-Gly-NH)2-rhodamine}; 0.0948 {(Leu-Arg-Gly-Gly-NH)2-rhodamine}; 0.19 {bleomycin B2}; 0.805 {6'-deoxy bleomycin A2}; 0.72 {6'-deoxy tallysomycin H1}; 0.592 {bleomycin A2}; 0.854 {bleomycin Z}; 0.743 {tallysomycin H1}; 0.942 {6'-deoxy bleomycin Z}; 0.7 {bleomycin A2}; 1.3 {bleomycin A2}; 0.45 {tallysomycin S10b}; 0.49 {deglyco bleomycin A2}; 0.7 {peplomycin}; 0.83 {bleomycin A2}; 0.056 {bleomycin B2}; 2.25 {butylamino-3-propylamino-3-propylamine bleomycin}; 0.79 {bleomycin B2}; 0.79 {peplomycin}; 0.5 {Met-Ala-Ser}; 1.7 {Gly-Phe}; 7 {Met-paranitroanilide}; 0.2 {Gly-Gly-Phe-Leu}; 4.6 {Gly-Leu}; 0.29 {Gly-Gly-Phe}; 0.78 {Gly-Gly-Gly-Gly}; 12.5 {Leu-p-nitroanilide}; 0.13 {Gly-Gly-Gly-Ala}; 4.7 {Gly-Lys}; 0.66 {Gly-Gly-Ala}; 0.63 {Thr-Ser-Lys}; 2.7 {Thr-Ser}; 4.1 {Gly-Gly-NH2}; 0.75 {Gly-Gly-Arg}; 1.01 {Gly-Gly-D-Leu}; 1.05 {Gly-Gly-Gly}; 1.05 {Gly-Gly-Tyr}; 3.5 {Phe-p-nitroanilide}; 5.6 {Gly-D-Leu}; 2.9 {Gly-Ala}; 0.57 {Gly-Gly-Leu}; 0.46 {bleomycin A2}; 1.24 {Gly-Gly-Gly-Gly}; 9.5 {Met-Ala}; 6.1 {Arg-p-nitroanilide}; 9.9 {Lys-p-nitroanilide}; 13.5 {Gly-NH2}; 1.14 {Gly-Gly-Glu}; 9.7 {Gly-p-nitroanilide}; 10.1 {Gly-Gly}; 14.8 {Gly-Asp}; 17.4 {Ala-p-nitroanilide}; 28.4 {Asp-p-nitroanilide}; 0.00023 {N-benzyloxycarbonyl-L-Leu-L-Arg-4-methylcoumarin 7-amide}; 0.00044 {N-benzyloxycarbonyl-L-Phe-L-Arg-4-methylcoumarin 7-amide}; 0.00124 {N-benzyloxycarbonyl-L-Val-L-Arg-4-methylcoumarin 7-amide}; 0.00287 {N-benzyloxycarbonyl-L-Arg-L-Arg-4-methylcoumarin 7-amide}; 0.017 {benzyloxycarbonyl-Phe-Arg-4-methylcoumaryl-7-amide}; 0.043 {benzyloxycarbonyl-Phe-Arg-4-methylcoumarin 7-amide}; 0.002 {2-aminobenzoyl-ELKLQ-N-(2,4-dinitrophenyl)ethylenediamine}; 0.0006 {2-aminobenzoyl-KLRVSKQ-N-(2,4-dinitrophenyl)ethylenediamine}; 0.0006 {2-aminobenzoyl-KLRSIKQ-N-(2,4-dinitrophenyl)ethylenediamine}; 0.0012 {2-aminobenzoyl-KLRSSKQ-N-(2,4-dinitrophenyl)ethylenediamine}; 0.0017 {2-aminobenzoyl-EE-epsilon-amino-caproic acid-ELKLQ-N-(2,4-dinitrophenyl)ethylenediamine}; 0.0008 {2-aminobenzoyl-KK-epsilon-amino-caproic acid-ELKLQ-N-(2,4-dinitrophenyl)ethylenediamine}; 0.0016 {2-aminobenzoyl-ALRSSKQ-N-(2,4-dinitrophenyl)ethylenediamine}; 0.0048 {Z-Phe-Arg-4-methyl-7-coumaryl amide}; 0.0041 {Z-Phe-Arg-4-methyl-7-coumaryl amide}; -999 {more}; -999 {more}; 0.0045 {benzyloxycarbonyl-Phe-Arg-7-amido-4-methylcoumarin}; 0.0024 {benzyloxycarbonyl-Val-Val-Arg-7-amido-4-methylcoumarin}; 0.0057 {benzyloxycarbonyl-Phe-Arg-7-amido-4-methylcoumarin}; 0.0057 {benzyloxycarbonyl-Phe-Arg-7-amido-4-methylcoumarin}; 0.0069 {benzyloxycarbonyl-Phe-Arg-7-amido-4-methylcoumarin}; 0.0069 {benzyloxycarbonyl-Phe-Arg-7-amido-4-methylcoumarin}; 0.0044 {benzyloxycarbonyl-Phe-Arg-7-amido-4-methylcoumarin}; 0.0048 {benzyloxycarbonyl-Phe-Arg-7-amido-4-methylcoumarin}; 0.217 {acetyl-Arg-Glu-Thr-Val-Arg-Phe-Gln-Ser-Asp-amide}; 0.216 {acetyl-Asn-Asn-Val-Arg-Phe-Gln-Ser-Leu-amide}; 0.05 {WDGGEVAHQAGESV}; 0.06 {WDGGEVAHQAGESV}; 0.45 {WDGGEVAHQAGESV}; 0.15 {WDGGEVAHQAGESV}; 0.69 {WDGGEVAHQAGESV}; 11.4 {WDGGEVAHQAGESV}; 0.44 {WDGGEVAHQAGESV}; 1.67 {WDGGEVAHQAGESV}; 0.108 {TETVRFQSGTRR}; 0.082 {TETVRFQSGTRR}; 0.0057 {norovirus P domain-fused RNA interaction-mediated domain}; 0.069 {Pro-Thr-Thr-Glu-Leu-Tyr-Phe-Gln-Ser-Gly-Thr-Val-Asp-Arg-Arg}; 0.271 {Pro-Thr-Thr-Glu-Leu-Tyr-Phe-Gln-Ser-Gly-Thr-Val-Asp-Arg-Arg}; 0.00654 {norovirus P domain-fused RNA interaction-mediated domain}; 0.00682 {norovirus P domain-fused RNA interaction-mediated domain}; 1.2 {acetyl-Glu-Pro-Thr-Val-Tyr-His-Gln-Thr-Leu-amide}; 0.62 {acetyl-Glu-Pro-Thr-Val-Tyr-His-Gln-Thr-Leu-amide}; 0.52 {acetyl-Glu-Pro-Thr-Val-Tyr-His-Gln-Thr-Leu-amide}; 0.51 {acetyl-Glu-Pro-Thr-Val-Tyr-His-Gln-Thr-Leu-amide}; 2.64 {acetyl-Glu-Pro-Thr-Val-Tyr-His-Gln-Thr-Leu-amide}; 1.14 {acetyl-Glu-Pro-Thr-Val-Tyr-His-Gln-Thr-Leu-amide}; 2.22 {acetyl-Glu-Pro-Thr-Val-Tyr-His-Gln-Thr-Leu-amide}; 2.83 {acetyl-Glu-Pro-Thr-Val-Tyr-His-Gln-Thr-Leu-amide}; -999 {more}; 0.0227 {Val-Gln-Arg-Lys-Leu-Lys-4-methylcoumarin 7-amide}; -999 {more}; -999 {more}; 0.05 {N-p-tosyl-Gly-Pro-Lys-p-nitroanilide}; 0.18 {benzyloxycarbonyl-L-Lys-p-nitroanilide}; 0.2 {D-Val-Leu-Lys-p-nitroanilide}; 0.0029 {hemoglobin}; 0.126 {D-Val-Phe-Lys-p-nitroanilide}; 0.5 {N-benzyloxycarbonyl-Phe-Leu-Glu-NH-p-nitroanilide}; 0.014 {2-aminobenzoyl-Ile-Ala-Lys-Asp-5-amino-2-nitrobenzoylamide}; 3.3 {N-Suc-Gly-Phe-Gly-p-nitroanilide}; 0.154 {2-aminobenzoyl-Phe-Gly-Ala-Lys-5-amino-2-nitrobenzoylamide}; 0.0056 {2-aminobenzoyl-Phe-Gly-Ala-Lys-5-amino-2-nitrobenzoylamide}; 0.0076 {2-aminobenzoyl-Ile-Ala-Ala-Gly-5-amino-2-nitrobenzoylamide}; 0.271 {2-aminobenzoyl-Ile-Ala-Ala-Gly-5-amino-2-nitrobenzoylamide}; 0.385 {2-aminobenzoyl-Phe-Gly-Ala-Lys-5-amino-2-nitrobenzoylamide}; 0.612 {2-aminobenzoyl-Ile-Ala-Lys-Asp-5-amino-2-nitrobenzoylamide}; 0.1639 {2-aminobenzoyl-Ile-Ala-Ala-Gly-5-amino-2-nitrobenzoylamide}; 0.5871 {2-aminobenzoyl-Ile-Ala-Lys-Asp-5-amino-2-nitrobenzoylamide}; 0.032 {cystatin D}; 0.033 {cystatin C}; 0.293 {acetyl-Asp-Arg-Glu-Ile-Nle-Arg-7-amido-4-methylcoumarin}; 0.003 {Z-Arg-Arg-7-amido-4-methylcoumarin}; 0.022 {Z-Leu-Arg 7-amido-4-methylcoumarin}; 0.039 {Z-Phe-Arg 7-amido-4-methylcoumarin}; 0.058 {Z-Val-Val-Arg 7-amido-4-methylcoumarin}; 0.043 {Z-Val-Arg-7-amido-4-methylcoumarin}; 0.001 {Ac-Phe-Arg-7-amido-4-methylcoumarin}; 0.004 {o-aminobenzoyl-KLRFAKQ-N-(2,4-dinitrophenyl)-ethylenediamine}; 0.0021 {N-alpha-benzyloxy-carbonyl-L-phenylalanyl-L-alanine-(7-amido-4-methylcoumarin)}; 0.0021 {N-alpha-benzyloxycarbonyl-L-tyrosyl-L-alanine-(7-amido-4-methylcoumarin)}; 0.0021 {o-aminobenzoyl-HLRFSKQ-N-(2,4-dinitrophenyl)-ethylenediamine}; 0.0025 {N-alpha-benzyloxycarbonyl-L-arginyl-L-alanine-(7-amido-4-methylcoumarin)}; 0.0046 {o-aminobenzoyl-KLRFFKQ-N-(2,4-dinitrophenyl)-ethylenediamine}; 0.0046 {o-aminobenzoyl-KLRFSRQ-N-(2,4-dinitrophenyl)-ethylenediamine}; 0.0023 {2-aminobenzoyl-Phe-Arg-(2,4-dinitrophenyl)-epsilon-NH2-lysine-Trp-OH}; 0.0036 {2-aminobenzoyl-Phe-Arg-(2,4-dinitrophenyl)-epsilon-NH2-lysine-Pro-OH}; 0.0036 {o-aminobenzoyl-LLRFSKQ-N-(2,4-dinitrophenyl)-ethylenediamine}; 0.0032 {o-aminobenzoyl-KRRFSKQ-N-(2,4-dinitrophenyl)-ethylenediamine}; 0.0058 {epsilon-NH2(capryl)-L-(SBzl)C-7-amido-4-methylcoumarin}; 0.0013 {2-aminobenzoyl-FRA-(2,4-dinitrophenyl)-epsilon-NH2-lysine-NH2}; 0.006 {o-aminobenzoyl-KARFSKQ-N-(2,4-dinitrophenyl)-ethylenediamine}; 0.0035 {2-aminobenzoyl-FRA-(2,4-dinitrophenyl)-epsilon-NH2-lysine-OH}; 0.0022 {o-aminobenzoyl-KLRFSKQ-N-(2,4-dinitrophenyl)-ethylenediamine}; 0.0073 {o-aminobenzoyl-KLRFSKQ-N-(2,4-dinitrophenyl)-ethylenediamine}; 0.0039 {2-aminobenzoyl-FRF-(2,4-dinitrophenyl)-epsilon-NH2-lysine-OH}; 0.0044 {o-aminobenzoyl-ALRFSKQ-N-(2,4-dinitrophenyl)-ethylenediamine}; 0.019 {2-aminobenzoyl-ARF-(2,4-dinitrophenyl)-epsilon-NH2-lysine-OH}; 0.0051 {o-aminobenzoyl-KLRFAKQ-N-(2,4-dinitrophenyl)-ethylenediamine}; 0.0051 {o-aminobenzoyl-KFRFSKQ-N-(2,4-dinitrophenyl)-ethylenediamine}; 0.0114 {o-aminobenzoyl-KLGFSKQ-N-(2,4-dinitrophenyl)-ethylenediamine}; 0.0038 {o-aminobenzoyl-KLRLSKQ-N-(2,4-dinitrophenyl)-ethylenediamine}; 0.0028 {o-aminobenzoyl-KLFFSKQ-N-(2,4-dinitrophenyl)-ethylenediamine}; 0.0078 {o-aminobenzoyl-KLRFSPQ-N-(2,4-dinitrophenyl)-ethylenediamine}; 0.0079 {o-aminobenzoyl-KLKFSKQ-N-(2,4-dinitrophenyl)-ethylenediamine}; 0.0079 {o-aminobenzoyl-KLRFPKQ-N-(2,4-dinitrophenyl)-ethylenediamine}; 0.0117 {o-aminobenzoyl-KPRFSKQ-N-(2,4-dinitrophenyl)-ethylenediamine}; 0.0132 {o-aminobenzoyl-KLRRSKQ-N-(2,4-dinitrophenyl)-ethylenediamine}; 0.00095 {2-aminobenzoyl-RRF-(2,4-dinitrophenyl)-epsilon-NH2-lysine-OH}; 0.001 {2-aminobenzoic acid-KLRFSKQ-N-(2,4-dinitrophenyl)ethylenediamine}; 0.001 {benzoyl-Tyr-Arg-7-amido-4-methylcoumarin}; 0.0011 {benzyloxycarbonyl-FR-aminomethyl coumarin}; 0.003 {benzyloxycarbonyl-Phe-Arg-aminomethyl coumarin}; 0.0003 {2-aminobenzoic acid-KLRFSKQ-N-(2,4-dinitrophenyl)ethylenediamine}; 0.0006 {benzoyl-Phe-Arg-7-amido-4-methylcoumarin}; 0.029 {azocasein}; 0.00096 {benzyloxycarbonyl-Phe-Arg-aminomethyl coumarin}; 0.0012 {benzoyl-Phe-Arg-7-amido-4-methylcoumarin}; 0.00012 {2-aminobenzoyl-LGMISLMKRPQ-N-(2,4-dinitrophenyl)ethylenediamine}; 0.0017 {benzoyl-Phe-Arg-7-amido-4-methylcoumarin}; 0.028 {azocasein}; 0.011 {N-carbobenzoxy-Arg-Arg-2-(4-methoxy)-naphthylamide}; 0.0008 {benzyloxycarbonyl-Phe-Arg-aminomethyl coumarin}; 0.0032 {benzyloxycarbonyl-Phe-Arg-aminomethyl coumarin}; 0.033 {N-carbobenzoxy-VVR-4-nitroanilide}; 0.066 {benzoyl-PFR-4-nitroanilide}; 0.043 {benzoyl-His-Arg-7-amido-4-methylcoumarin}; 0.0119 {benzoyl-RR-aminomethyl coumarin}; 0.000065 {2-aminobenzoyl-LGMISLMKRPQ-N-(2,4-dinitrophenyl)ethylenediamine}; 0.01-0.015 {benzoyl-Phe-Arg-7-amido-4-methylcoumarin}; 0.045 {benzyloxycarbonyl-Arg-Arg-7-amido-4-methylcoumarin}; 0.00056 {benzyloxycarbonyl-Phe-Arg-7-amido-4-methylcoumarin}; 0.012 {benzyloxycarbonyl-Arg-Arg-7-amido-4-methylcoumarin}; 0.038 {benzyloxycarbonyl-Arg-Ala-7-amido-4-methylcoumarin}; 0.078 {benzyloxycarbonyl-Arg-Arg-7-amido-4-methylcoumarin}; 0.00068 {benzyloxycarbonyl-Phe-Arg-7-amido-4-methylcoumarin}; 0.0025 {benzyloxycarbonyl-Phe-Arg-7-amido-4-methylcoumarin}; 0.0046 {benzyloxycarbonyl-Arg-Arg-7-amido-4-methylcoumarin}; 0.028 {benzyloxycarbonyl-Arg-Arg-7-amido-4-methylcoumarin}; 0.0007 {benzyloxycarbonyl-Phe-Arg-7-amido-4-methylcoumarin}; 0.0019 {benzyloxycarbonyl-Phe-Arg-7-amido-4-methylcoumarin}; 0.0036 {benzyloxycarbonyl-Arg-Arg-7-amido-4-methylcoumarin}; 0.011 {benzyloxycarbonyl-Arg-Arg-7-amido-4-methylcoumarin}; 0.0016 {benzyloxycarbonyl-Phe-Arg-7-amido-4-methylcoumarin}; 0.017 {benzyloxycarbonyl-Arg-Arg-7-amido-4-methylcoumarin}; 0.0013 {benzyloxycarbonyl-Phe-Arg-7-amido-4-methylcoumarin}; 0.00054 {benzyloxycarbonyl-Phe-Arg-7-amido-4-methylcoumarin}; 0.0052 {benzyloxycarbonyl-Phe-Arg-7-amido-4-methylcoumarin}; 0.0037 {benzyloxycarbonyl-Arg-Arg-7-amido-4-methylcoumarin}; 0.00062 {benzyloxycarbonyl-Phe-Arg-7-amido-4-methylcoumarin}; 0.0029 {benzyloxycarbonyl-Arg-Arg-7-amido-4-methylcoumarin}; 0.0043 {benzyloxycarbonyl-Arg-Arg-7-amido-4-methylcoumarin}; 0.056 {benzyloxycarbonyl-Arg-Arg-7-amido-4-methylcoumarin}; 0.163 {benzyloxycarbonyl-Arg-Ala-7-amido-4-methylcoumarin}; 0.0066 {benzyloxycarbonyl-Arg-Arg-7-amido-4-methylcoumarin}; 0.068 {benzyloxycarbonyl-Arg-Arg-7-amido-4-methylcoumarin}; 0.00061 {benzyloxycarbonyl-Phe-Arg-7-amido-4-methylcoumarin}; 0.0041 {benzyloxycarbonyl-Arg-Arg-7-amido-4-methylcoumarin}; 0.00077 {benzyloxycarbonyl-Phe-Arg-7-amido-4-methylcoumarin}; 0.00088 {benzyloxycarbonyl-Phe-Arg-7-amido-4-methylcoumarin}; 0.00087 {benzyloxycarbonyl-Phe-Arg-7-amido-4-methylcoumarin}; 0.063 {succinyl-protamine}; 0.00005 {fodrin}; 0.002 {succinyl-bovine serum albumin}; 0.2 {succinyl-L-Leu-L-Leu-L-Val-7-amido-4-methylcoumarin}; 0.2 {succinyl-L-Leu-L-Leu-L-Val-L-Tyr-7-amido-4-methylcoumarin}; 0.37 {N-benzyloxycarbonyl-L-Leu-L-Arg-4-methoxy-2-naphthylamide}; 0.0046 {K-(5(6)-carboxyfluorescein)-EVYGMMK(4-(4-dimethylaminophenylazo)benzoyl)-OH}; 0.19 {N-benzyloxycarbonyl-L-Leu-L-Arg-7-amido-4-methylcoumarin}; 0.43 {succinyl-L-Leu-L-Tyr-4-methoxy-2-naphthylamide}; 1.2 {succinyl-L-Leu-L-Met-7-amido-4-methylcoumarin}; 4.7 {succinyl-L-Leu-L-Tyr-7-amido-4-methylcoumarin}; 0.053 {casein}; 0.043 {2-aminobenzoyl-EVYGMMY(3-NO2)-OH}; 0.46 {N-benzyloxycarbonyl-L-Leu-L-Arg-7-amido-4-trifluoromethylcoumarin}; 5.9 {tert-butyloxycarbonyl-L-Val-L-Leu-L-Lys-7-amido-4-methylcoumarin}; 0.00074 {4,4-difluoro-5,7-dimethyl-4-bora-31,4a-diaza-s-indacene-3-propioyl-labeled casein}; 0.0131 {fluorescin thiocarbamoyl-labeled casein}; 0.284 {succinyl-insulin B}; 0.0081 {succinyl-casein}; 0.0081 {succinyl-casein}; 2 {succinyl-bovine serum albumin}; 63 {succinyl-protamine}; 283.5 {succinyl-insulin B}; 7.5 {Boc-Val-Leu-Lys-methylcoumarin}; 5.33 {t-Boc-Leu-Met-methylcoumarin}; 3.18 {succinyl-Leu-Tyr-7-amido-4-methylcoumarin}; 19.32 {succinyl-Leu-Leu-Val-Tyr-methylcoumarin}; 0.431 {succinyl-Leu-Tyr-7-amido-4-methylcoumarin}; 2.1 {succinyl-Leu-Tyr-7-amido-4-methylcoumarin}; 4.68 {succinyl-Leu-Met-7-amido-4-methylcoumarin}; 0.461 {succinyl-Leu-Leu-Val-Tyr-7-amido-4-methylcoumarin}; 0.459 {succinyl-Leu-Leu-Val-Tyr-7-amido-4-methylcoumarin}; 2.13 {succinyl-Leu-Tyr-7-amido-4-methylcoumarin}; 8.12 {t-butyloxycarbonyl-Val-Leu-Lys-7-amido-4-methylcoumarin}; 4.66 {succinyl-Leu-Met-7-amido-4-methylcoumarin}; 8.11 {t-butyloxycarbonyl-Val-Leu-Lys-7-amido-4-methylcoumarin}; 2.2 {succinyl-bovine serum albumin}; 10 {succinyl-casein}; 101.3 {succinyl-protamine}; 453.7 {succinyl-insulin B}; 0.15 {acetyl-VDVADGW-amide}; 0.053 {acetyl-VDVAD-4-nitroanilide}; 0.53 {acetyl-VDQQD-4-nitroanilide}; 0.06 {Abz-VDVADFA-Dap(Dnp)}; 0.049 {Abz-VDVADGA-Dap(Dnp)}; 0.025 {Ac-VDVAD-7-amido-4-trifluoromethylcoumarin}; 0.086 {Abz-VDVADVA-Dap(Dnp)}; 0.073 {Abz-VDVADVA-Dap(Dnp)}; 0.097 {Abz-VDVADGA-Dap(Dnp)}; 0.064 {Abz-VDVADVA-Dap(Dnp)}; 0.058 {Abz-VDVADFA-Dap(Dnp)}; 0.128 {Abz-VDVADQA-Dap(Dnp)}; 0.112 {Abz-VDVADGA-Dap(Dnp)}; 0.121 {Abz-VDVADQA-Dap(Dnp)}; 0.079 {Abz-VDVADFA-Dap(Dnp)}; 0.114 {Abz-VDVADQA-Dap(Dnp)}; 0.152 {Abz-VDVADPA-Dap(Dnp)}; 0.305 {Abz-VDVADPA-Dap(Dnp)}; 0.147 {acetyl-L-Leu-L-Asp-L-Val-L-Ala-L-Asp-4-nitroanilide}; 0.0003 {N-(5(6)-carboxyfluoresceinyl)-6-aminohexanoyl-Asp-Gly-Val-Asp-6-aminohexanoyl-N6-[methyl red]-Lys-[N-(6-aminohexyl)-Gly]8-N2-(6-aminohexyl)-Gly-NH2}; 0.0002 {N-(5(6)-carboxyfluoresceinyl)-6-aminohexanoyl-Asp-Leu-Pro-Asp-6-aminohexanoyl-N6-[methyl red]-Lys-[N-(6-aminohexyl)-Gly]8-N2-(6-aminohexyl)-Gly-NH2}; 0.0002 {N-(5(6)-carboxyfluoresceinyl)-6-aminohexanoyl-Asp-Val-Pro-Asp-6-aminohexanoyl-N6-[methyl red]-Lys-[N-(6-aminohexyl)-Gly]8-N2-(6-aminohexyl)-Gly-NH2}; 0.0015 {N-(5(6)-carboxyfluoresceinyl)-6-aminohexanoyl-Asp-Ala-Val-Asp-6-aminohexanoyl-N6-[methyl red]-Lys-[N-(6-aminohexyl)-Gly]8-N2-(6-aminohexyl)-Gly-NH2}; 0.008 {benzoyl-L-Asp-L-Glu-L-Val-L-Asp-7-amido-4-methylcoumarin}; 0.002 {benzoyl-L-Asp-L-Glu-L-Val-L-Asp-7-amido-4-methylcoumarin}; 0.013 {benzoyl-L-Asp-L-Glu-L-Val-L-Asp-7-amido-4-methylcoumarin}; 0.0625 {DEVD-4-nitroanilide}; 0.0004 {N-(5(6)-carboxyfluoresceinyl)-6-aminohexanoyl-Asp-Asn-Val-Asp-6-aminohexanoyl-N6-[methyl red]-Lys-[N-(6-aminohexyl)-Gly]8-N2-(6-aminohexyl)-Gly-NH2}; 0.0004 {N-(5(6)-carboxyfluoresceinyl)-6-aminohexanoyl-Asp-Ala-Pro-Asp-6-aminohexanoyl-N6-[methyl red]-Lys-[N-(6-aminohexyl)-Gly]8-N2-(6-aminohexyl)-Gly-NH2}; 0.0006 {N-(5(6)-carboxyfluoresceinyl)-6-aminohexanoyl-Asp-Glu-Val-Asp-6-aminohexanoyl-N6-[methyl red]-Lys-[N-(6-aminohexyl)-Gly]8-N2-(6-aminohexyl)-Gly-NH2}; 0.0006 {N-(5(6)-carboxyfluoresceinyl)-6-aminohexanoyl-Asp-Gly-Pro-Asp-6-aminohexanoyl-N6-[methyl red]-Lys-[N-(6-aminohexyl)-Gly]8-N2-(6-aminohexyl)-Gly-NH2}; 0.067 {acetyl-L-Asp-L-Glu-L-Val-L-Asp-4-nitroanilide}; 0.0018 {N-(5(6)-carboxyfluoresceinyl)-6-aminohexanoyl-Asp-Val-Val-Asp-6-aminohexanoyl-N6-[methyl red]-Lys-[N-(6-aminohexyl)-Gly]8-N2-(6-aminohexyl)-Gly-NH2}; 0.0008 {N-(5(6)-carboxyfluoresceinyl)-6-aminohexanoyl-Asp-Leu-Val-Asp-6-aminohexanoyl-N6-[methyl red]-Lys-[N-(6-aminohexyl)-Gly]8-N2-(6-aminohexyl)-Gly-NH2}; 0.0008 {N-(5(6)-carboxyfluoresceinyl)-6-aminohexanoyl-Asp-Asn-Pro-Asp-6-aminohexanoyl-N6-[methyl red]-Lys-[N-(6-aminohexyl)-Gly]8-N2-(6-aminohexyl)-Gly-NH2}; 1.6 {acetyl-L-Asp-L-Met-L-Gln-L-Asp-4-nitroanilide}; 0.0069 {benzoyl-L-Asp-L-Glu-L-Val-L-Asp-7-amido-4-methylcoumarin}; 0.0048 {acetyl-L-Asp-L-Glu-L-Val-L-Asp-7-amido-4-methylcoumarin}; 0.0097 {benzoyl-L-Asp-L-Glu-L-Val-L-Asp-7-amido-4-methylcoumarin}; 0.0088 {acetyl-L-Asp-L-Glu-L-Val-L-Asp-7-amido-4-methylcoumarin}; 0.0138 {acetyl-L-Asp-L-Glu-L-Val-L-Asp-7-amido-4-methylcoumarin}; 0.222 {acetyl-L-Asp-L-Val-L-Ala-L-Asp-4-nitroanilide}; 0.0255 {benzoyl-L-Asp-L-Glu-L-Val-L-Asp-7-amido-4-methylcoumarin}; 0.0122 {acetyl-L-Asp-L-Glu-L-Val-L-Asp-7-amido-4-methylcoumarin}; 0.0335 {acetyl-L-Asp-L-Glu-L-Val-L-Asp-7-amido-4-methylcoumarin}; 0.164 {acetyl-L-Val-L-Asp-L-Val-L-Ala-L-Asp-4-nitroanilide}; 0.0163 {acetyl-L-Asp-L-Glu-L-Val-L-Asp-7-amido-4-methylcoumarin}; -999 {more}; 0.005 {acetyl-DEVD-7-amido-4-methylcoumarin}; 0.015 {acetyl-DEVD-7-amido-4-methylcoumarin}; 0.02 {acetyl-DEVD-7-amido-4-methylcoumarin}; 0.2 {acetyl-VDQMDGW-amide}; 0.067 {acetyl-VDVAD-4-nitroanilide}; 0.25 {acetyl-VEID-4-nitroanilide}; 0.37 {acetyl-YEVD-4-nitroanilide}; 0.0023 {DEVD-NucView488}; 0.01 {acetyl-DEVD-7-amido-4-methylcoumarin}; 0.011 {acetyl-DEVD-4-nitroanilide}; 0.0016 {5'-tetramethylrhodamine-5(6)-carboxamide-DEVD-cyanine 5}; 0.0086 {acetyl-DEVD-7-amido-4-methylcoumarin}; 5.6 {acetyl-DEVD-7-amido-4-methylcoumarin}; 10.4 {acetyl-DEVD-7-amido-4-methylcoumarin}; 0.044 {acetyl-DQMD-4-nitroanilide}; 29 {acetyl-YVAD-4-nitroanilide}; 0.51 {acetyl-VQVD-4-nitroanilide}; 10.7 {acetyl-DEVD-7-amido-4-methylcoumarin}; 0.0144 {acetyl-DEVD-7-amido-4-methylcoumarin}; 0.00077 {DW3-FQ}; 0.00073 {DEVD-FQ}; 0.0139 {acetyl-DEVD-7-amido-4-methylcoumarin}; 0.0337 {Ac-DEVD-4-methylcoumarin 7-amide}; 0.032 {acetyl-DEVD-4-nitroanilide}; 0.09 {succinyl-YVAD-4-nitroanilide}; 0.09 {succinyl-YVAD-7-amido-4-methylcoumarin}; 0.43 {acetyl-LEVDGW-amide}; 0.35 {acetyl-DQMD-4-nitroanilide}; 0.035 {acetyl-YVAD-amido-4-methylcoumarin}; 0.048 {succinyl-YVAD-4-nitroanilide}; 0.031 {acetyl-WEHD-7-amido-4-methylcoumarin}; 0.031 {acetyl-YEVD-4-nitroanilide}; 0.044 {acetyl-LEVD-4-nitroanilide}; 0.079 {acetyl-WEHD-7-amido-4-methylcoumarin}; 0.72 {acetyl-VQVD-4-nitroanilide}; 0.874 {acetyl-YVAD-4-nitroanilide}; 0.205 {acetyl-VEID-4-nitroanilide}; 0.049 {SLLSDGID}; 0.022 {LLSDGID}; 0.038 {acetyl-WEHD-7-amido-4-methylcoumarin}; 0.038 {SLLSDGIDE}; 0.038 {SDGIDEE}; 0.021 {acetyl-FEAD-7-amido-4-methylcoumarin}; 0.016 {acetyl-WQPD-7-amido-4-methylcoumarin}; 0.047 {SLLSDGIDEE}; 0.115 {LSDGIDE}; 0.087 {SLLSDG}; 0.052 {SLLSDGI}; -999 {more}; 0.681 {acetyl-Tyr-Val-Ala-Asp-4-nitroanilide}; 0.017 {acetyl-WEHD-7-amido-4-methylcoumarin}; 0.073 {acetyl-WQPD-7-amido-4-methylcoumarin}; 0.019 {acetyl-FEAD-7-amido-4-methylcoumarin}; -999 {more}; 0.015 {acetyl-WEHD-7-amido-4-methylcoumarin}; 0.86 {succinyl-YVAD-7-amido-4-methylcoumarin}; 0.03 {acetyl-VEID-4-nitroanilide}; 0.16 {acetyl-LEVD-4-nitroanilide}; 0.17 {acetyl-VEHD-7-amido-4-methylcoumarin}; 0.18 {acetyl-DEVD-4-nitroanilide}; 1.3 {acetyl-DQMD-4-nitroanilide}; 7 {acetyl-VDQQD-4-nitroanilide}; 1.2 {acetyl-YEVD-4-nitroanilide}; 0.58 {acetyl-VQVD-4-nitroanilide}; 0.14 {N-acetyl-VEID-7-amido-4-methylcoumarin}; 0.08 {(N-acetyl-VEID)2-rhodamine110}; 0.0326 {Ac-Val-Glu-Ile-Asp-7-amido-4-trifluoromethylcoumarin}; 0.093 {N-acetyl-VEID-7-amido-4-methylcoumarin}; 0.087 {N-acetyl-Asp-Glu-Val-Asp-7-amido-4-trifluoromethylcoumarin}; 0.126 {N-acetyl-Asp-Glu-Val-Asp-7-amido-4-methylcoumarin}; 0.082 {N-acetyl-VEID-7-amido-4-methylcoumarin}; 0.176 {N-acetyl-VEID-7-amido-4-methylcoumarin}; 0.0345 {Ac-Val-Glu-Ile-Asp-7-amido-4-trifluoromethylcoumarin}; 0.0134 {N-acetyl-Val-Glu-Ile-Asp-7-amido-4-methylcoumarin}; 0.109 {N-acetyl-VEID-7-amido-4-methylcoumarin}; 0.0227 {Ac-Val-Glu-Ile-Asp-7-amido-4-trifluoromethylcoumarin}; 0.315 {Ac-Val-Glu-Ile-Asp-7-amido-4-trifluoromethylcoumarin}; 0.0333 {Ac-Val-Glu-Ile-Asp-7-amido-4-trifluoromethylcoumarin}; 0.246 {N-acetyl-Val-Glu-His-Asp-7-amido-4-methylcoumarin}; 0.0371 {Ac-Val-Glu-Ile-Asp-7-amido-4-trifluoromethylcoumarin}; 0.0312 {Ac-Val-Glu-Ile-Asp-7-amido-4-trifluoromethylcoumarin}; 0.0277 {N-acetyl-Val-Glu-Ile-Asp-7-amido-4-methylcoumarin}; 0.02371 {N-acetyl-Val-Glu-Ile-Asp-7-amido-4-methylcoumarin}; 0.03063 {N-acetyl-Val-Glu-Ile-Asp-7-amido-4-methylcoumarin}; 0.023 {methyl red-Abu-Ser-Ala-Pro-Val-Lys-Ala-Lys(N6-(5-carboxyfluorescein))-NH2}; 0.023 {methyl red-Abu-Ser-Ala-Pro-Val-Lys-Ala-Lys(N6-(5-carboxyfluorescein))-NH2}; 0.0025 {benzyloxycarbonyl-Phe-Arg-4-methylcoumarin 7-amide}; 0.01 {benzyloxycarbonyl-Lys phenyl ester}; 0.026 {methyl red-Abu-Ser-Ala-Pro-Val-Lys-Ala-Lys(N6-(5-carboxyfluorescein))-NH2}; 0.026 {methyl red-Abu-Ser-Ala-Pro-Val-Lys-Ala-Lys(N6-(5-carboxyfluorescein))-NH2}; 5 {benzoyl-Arg-4-nitroanilide}; 0.0075 {benzyloxycarbonyl-Lys phenyl ester}; 13 {benzoyl-Arg-4-nitroanilide}; 8.6 {benzoyl-Arg-4-nitroanilide}; 0.000131 {Succinyl-albumin}; 0.0502 {methyl red-Abu-Ala-Pro-Val-Lys-Lys(N5-(5-carboxyfluorescein))-NH2}; 0.0502 {methyl red-Abu-Ala-Pro-Val-Lys-Lys(N5-(5-carboxyfluorescein))-NH2}; 0.0506 {methyl red-Abu-Ala-Pro-Val-Lys-Lys(N5-(5-carboxyfluorescein))-NH2}; 0.0506 {methyl red-Abu-Ala-Pro-Val-Lys-Lys(N5-(5-carboxyfluorescein))-NH2}; -999 {more}; 0.1 {acetyl-DEVD-7-amido-4-methylcoumarin}; 0.111 {N-acetyl-Asp-Glu-Val-Asp-p-nitroanilide}; 0.012 {acetyl-DEVD-4-nitroanilide}; 0.015 {acetyl-DEVD-7-amido-4-methylcoumarin}; 0.2 {acetyl-VDVAD-4-nitroanilide}; 0.49 {acetyl-YEVD-4-nitroanilide}; 3.1 {acetyl-VDQQD-4-nitroanilide}; 0.125 {acetyl-VDQVDGW-amide}; 0.13 {acetyl-DQMD-4-nitroanilide}; 0.13 {acetyl-VQVDGW-amide}; 2.1 {acetyl-YQVD-4-nitroanilide}; 0.57 {acetyl-YEID-4-nitroanilide}; 0.0605 {acetyl-DEVD-7-amido-4-fluoromethylcoumarin}; 0.415 {N-acetyl-Asp-Glu-Val-Asp-p-nitroanilide}; 0.0848 {N-acetyl-Asp-Glu-Val-Asp-p-nitroanilide}; 0.0646 {acetyl-DEVD-4-nitroanilide}; 0.2193 {Ac-DVAD-p-nitroanilide}; 0.3149 {Ac-VDVAD-p-nitroanilide}; 0.3239 {Ac-LDVAD-p-nitroanilide}; 0.9365 {N-acetyl-Asp-Glu-Val-Asp-p-nitroanilide}; 0.1193 {N-acetyl-Asp-Glu-Val-Asp-p-nitroanilide}; 0.2 {Ac-VEID-7-amido-4-methylcoumarin}; 0.041 {Ac-DEVD-7-amido-4-methylcoumarin}; 0.041 {Ac-DEVD-7-amido-4-methylcoumarin}; 0.0375 {N-acetyl-DEVD-7-amido-4-fluoromethylcoumarin}; 0.0054 {Ac-VEID-7-amido-4-methylcoumarin}; 0.0309 {N-acetyl-DEVD-7-amido-4-trifluoromethylcoumarin}; 0.0357 {N-acetyl-DEVD-7-amido-4-fluoromethylcoumarin}; 0.209 {N-acetyl-PEVD-7-amido-4-trifluoromethylcoumarin}; 0.0319 {N-acetyl-DEVD-7-amido-4-fluoromethylcoumarin}; 0.0478 {N-acetyl-DEVD-7-amido-4-fluoromethylcoumarin}; 0.0298 {N-acetyl-DEVD-7-amido-4-fluoromethylcoumarin}; 0.0366 {N-acetyl-DEVD-7-amido-4-fluoromethylcoumarin}; 0.0687 {N-acetyl-DEVD-7-amido-4-fluoromethylcoumarin}; 0.066 {acetyl-IETD-4-nitroanilide}; 0.0206 {acetyl-IETD-7-amido-4-fluoromethylcoumarin}; 0.0552 {acetyl-IETD-7-amido-4-fluoromethylcoumarin}; 0.0293 {acetyl-IETD-7-amido-4-fluoromethylcoumarin}; 0.0313 {acetyl-IETD-7-amido-4-fluoromethylcoumarin}; -999 {more}; 0.004 {acetyl-DEVD-7-amido-4-methylcoumarin}; 0.0045 {Ac-IETD-4-methylcoumarin 7-amide}; 0.007 {acetyl-DEVD-7-amido-4-methylcoumarin}; 0.139 {procaspase-3}; 0.466 {acetyl-LEHD-7-amido-4-trifluoromethylcoumarin}; 0.466 {acetyl-LEHD-7-amido-4-trifluoromethyl coumarin}; 0.686 {acetyl-LEHD-7-amido-4-trifluoromethylcoumarin}; 0.686 {acetyl-LEHD-7-amido-4-trifluoromethyl coumarin}; 0.78 {acetyl-VEHD-7-amido-4-methylcoumarin}; 0.408 {acetyl-VEHD-7-amido-4-methylcoumarin}; 0.042 {acetyl-VEHD-7-amido-4-methylcoumarin}; 0.15 {YVAD-7-amido-4-methylcoumarin}; 0.13 {DEVD-7-amido-4-methylcoumarin}; 0.071 {DEVD-7-amido-4-methylcoumarin}; 0.033 {casein}; 0.003 {2-aminobenzoic acid-Val-Ala-Nle-Ser-(3-nitro)-tyrosinyl-aspartamide}; 0.017 {casein}; 0.0154 {(2-aminobenzoyl)-Val-Ala-norLeu-Ser-Tyr(3-NO2)-Asp}; 14.4 {(2-aminobenzoyl)-Val-Ala-norLeu-Ser-Tyr(3-NO2)-Asp}; -999 {more}; -999 {more}; -999 {casein}; 0.0787 {DABCYL-TSAVLQSGFRKME-EDANS}; 0.11 {Dabcyl-KTSAVLQSGFRKME-EDANS}; 0.216 {Dabcyl-KTSAVLQSGFRKME-EDANS}; 0.039 {N-methylanthranilyl-TSAVLQSGFRK(2,4-dinitrophenyl)}; 0.0423 {DABCYL-TSAVLQSGFRKME-EDANS}; 0.03 {o-aminobenzoyl-TSAVLQSGFRK-2,4-dinitrophenyl amide}; 0.03 {o-aminobenzoyl-TSAVLQSGFRK-2,4-dinitrophenyl amide}; 0.045 {[4-(4-dimethylaminophenylazo)benzoic acid]-KTSAVLQSGFRKME-5-['-(aminoethyl)amino]-naphthalenesulfonic acid}; 0.18 {SITSAVLQ-p-nitroanilide}; 0.6 {SITSAVLQSGFRKMA}; 0.0005 {Abz-LYQPPQTSITSAVLQSGFRK(Dnp)NH2}; 0.0011 {Abz-SGADVLYQPPQTSITSAVLQSGFRK(Dnp)NH2}; 0.004 {o-aminobenzoyl-TSAVLQSGFRK-2,4-dinitrophenyl amide}; 0.012 {o-aminobenzoyl-TSAVLQSGFRK-2,4-dinitrophenyl amide}; 0.002 {Abz-SAVLQSGFRKMAK(Dnp)NH2}; 0.013 {o-aminobenzoyl-TSAVLQSGFRK-2,4-dinitrophenyl amide}; 0.013 {o-aminobenzoyl-TSAVLQSGFRK-2,4-dinitrophenyl amide}; 0.013 {o-aminobenzoyl-TSAVLQSGFRK-2,4-dinitrophenyl amide}; 0.013 {o-aminobenzoyl-TSAVLQSGFRK-2,4-dinitrophenyl amide}; 0.005 {o-aminobenzoyl-TSAVLQSGFRK-2,4-dinitrophenyl amide}; 0.005 {o-aminobenzoyl-TSAVLQSGFRK-2,4-dinitrophenyl amide}; 0.015 {o-aminobenzoyl-TSAVLQSGFRK-2,4-dinitrophenyl amide}; 0.018 {o-aminobenzoyl-TSAVLQSGFRK-2,4-dinitrophenyl amide}; 0.022 {o-aminobenzoyl-TSAVLQSGFRK-2,4-dinitrophenyl amide}; 0.021 {o-aminobenzoyl-TSAVLQSGFRK-2,4-dinitrophenyl amide}; 0.021 {o-aminobenzoyl-TSAVLQSGFRK-2,4-dinitrophenyl amide}; 0.023 {Abz-LQSGFRK(Dnp)NH2}; 0.014 {o-aminobenzoyl-TSAVLQSGFRK-2,4-dinitrophenyl amide}; 1.15 {TSAVLQSGFRK-NH2}; 0.01 {o-aminobenzoyl-TSAVLQSGFRK-2,4-dinitrophenyl amide}; 0.01 {o-aminobenzoyl-TSAVLQSGFRK-2,4-dinitrophenyl amide}; 0.0017 {Abz-LQSGFRK(Dnp)NH2}; 0.011 {o-aminobenzoyl-TSAVLQSGFRK-2,4-dinitrophenyl amide}; 0.011 {o-aminobenzoyl-TSAVLQSGFRK-2,4-dinitrophenyl amide}; 0.011 {Abz-QTSITSAVLQSGFRK(Dnp)NH2}; 0.033 {Abz-VLQSGFRK(Dnp)NH2}; 0.0016 {Abz-SAVLQSGK(Dnp)NH2}; 0.046 {GPFVDRQTAQAAGTDT-NH2}; 0.0013 {Abz-VLQSGFRK(Dnp)NH2}; 0.0013 {Abz-SAVLQSGFRKMAFPSGK(Dnp)NH2}; 0.0024 {Abz-SAVLQSGFRK(Dnp)NH2}; 0.006 {o-aminobenzoyl-TSAVLQSGFRK-2,4-dinitrophenyl amide}; 0.037 {o-aminobenzoyl-TSAVLQSGFRK-2,4-dinitrophenyl amide}; 0.146 {o-aminobenzoyl-TSAVLQSGFRY(NO2)G}; 0.016 {o-aminobenzoyl-TSAVLQSGFRK-2,4-dinitrophenyl amide}; 0.016 {Abz-SAVLQSGFRK(Dnp)NH2}; 0.073 {SITSAVLQ-p-nitrophenyl ester}; 0.286 {TFTRLQSLENV}; 0.051 {KVATVQSKMSD-NH2}; 0.68 {Thr-Ser-Ala-Val-Leu-Gln-4-nitroanilide}; 0.98 {Thr-Ser-Ala-Val-Leu-Gln-4-nitroanilide}; 0.0186 {Ser-Ala-Val-Leu-Gln-Met-Gly-Phe-Arg-Lys}; 0.0186 {SAVLQMGFRK}; 0.583 {SGVTFQGKFKK}; 0.306 {(Ala-Arg-Leu-Gln-NH)2-rhodamine}; 0.549 {FYPKLQASQAW}; 0.0136 {Abz-SAVLQSGK(Dnp)NH2}; 1.44 {ATVRLQAGNAT}; 0.0766 {Ser-Ala-Val-Leu-Gln-Met-Gly-Phe-Arg-Lys}; 0.0766 {SAVLQMGFRK}; 1.94 {PHTVLQAVGAC}; 0.0338 {TSAVLQSGFRK-NH2}; 61.9 {SWTSAVLQSGFRKWA}; 0.04938 {[4-(4-dimethylaminophenylazo)benzoic acid]-KNSTLQSGLRKE-[5-[2'-(aminoethyl)amino]-naphthalenesulfonic acid]}; 0.03817 {[4-(4-dimethylaminophenylazo)benzoic acid]-KNSTLQSGLRKE-[5-[2'-(aminoethyl)amino]-naphthalenesulfonic acid]}; 0.2226 {Thr-Ser-Ala-Val-Leu-Gln-p-nitroanilide}; 0.3534 {Thr-Ser-Ala-Val-Leu-Gln-p-nitroanilide}; 0.06783 {Dabcyl-KTSAVLQSGFRKME-EDANS}; 0.05642 {Dabcyl-KTSAVLQSGFRKME-EDANS}; -999 {more}; -999 {more}; -999 {more}; -999 {more}; 0.0245 {Dabcyl-KTSAVLQSGFRKME-EDANS-amide}; -999 {more}; 0.027 {N-carbobenzoxy-Lys p-nitrophenyl ester}; 0.0114 {N-carbobenzoxy-Lys p-nitrophenyl ester}; 0.0097 {N-carbobenzoxy-Lys p-nitrophenyl ester}; 0.0105 {N-carbobenzoxy-Lys p-nitrophenyl ester}; 0.0272 {N-carbobenzoxy-Lys p-nitrophenyl ester}; 0.0122 {N-carbobenzoxy-Lys p-nitrophenyl ester}; 0.0126 {N-carbobenzoxy-Lys p-nitrophenyl ester}; 0.0142 {N-carbobenzoxy-Lys p-nitrophenyl ester}; 0.0248 {N-carbobenzoxy-Lys p-nitrophenyl ester}; 0.0389 {N-carbobenzoxy-Lys p-nitrophenyl ester}; 0.82 {L-pyroglutamyl-L-phenylalanyl-L-leucine-4-nitroanilide}; 0.73 {L-pyroglutamyl-L-phenylalanyl-L-leucine-4-nitroanilide}; 0.1634 {N-alpha-benzyloxycarbonyl-L-Gln-4-nitrophenyl ester}; 0.163 {Nalpha-CBZ-L-Gln-4-nitrophenyl ester}; 0.013 {Dabcyl-QALPETGEE-Edans}; 0.02 {o-aminobenzoyl-Leu-Pro-Glu-Thr-Gly-2,4-dinitrophenyl ester}; 0.2 {Gly-Gly-Gly}; 0.00013 {o-aminobenzoyl-LPETG-2,4-dinitrophenyl ester}; 0.0018 {o-aminobenzoyl-LPETG-2,4-dinitrophenyl ester}; 0.014 {Dabcyl-QALPETGEE-Edans}; 0.14 {Gly5}; 0.137 {Gly}; 4.7 {N-(2-aminobenzoyl)-L-leucyl-L-prolyl-L-alpha-glutamyl-L-threonylglycyl-3-(2,4-dinitroanilino)-L-alaninamide}; 1.59 {YALPETGK}; 0.041 {Gly-Gly-Gly}; 0.0085 {o-aminobenzoyl-LPETG-2,4-dinitrophenyl ester}; 5.6 {Dnp-AQALPETGEE-NH2}; 10.6 {N-(2-aminobenzoyl)-L-leucyl-L-prolyl-L-alpha-glutamyl-L-threonylglycyl-3-(2,4-dinitroanilino)-L-alaninamide}; 10.4 {aminobenzoyl-LPETGG-diaminopropionic acid(dinitrophenol)-NH2}; 3.8 {N-(2-aminobenzoyl)-L-leucyl-L-prolyl-L-alpha-glutamyl-L-threonylglycyl-3-(2,4-dinitroanilino)-L-alaninamide}; 6.7 {N-(2-aminobenzoyl)-L-leucyl-L-prolyl-L-alpha-glutamyl-L-threonylglycyl-3-(2,4-dinitroanilino)-L-alaninamide}; 8.5 {N-(2-aminobenzoyl)-L-leucyl-L-prolyl-L-alpha-glutamyl-L-threonylglycyl-3-(2,4-dinitroanilino)-L-alaninamide}; 8.7 {aminobenzoyl-LPETGG-diaminopropionic acid(dinitrophenol)-NH2}; 0.0097 {Abz-LPETG-Dap(Dnp)}; 1.18 {agmatine}; 0.0087 {o-aminobenzoyl-LPETG-2,4-dinitrophenyl ester}; 0.79 {N-(2-aminobenzoyl)-L-leucyl-L-prolyl-L-alpha-glutamyl-L-threonylglycyl-3-(2,4-dinitroanilino)-L-alaninamide}; 0.0168 {Abz-LPETG-Dap(Dnp)}; 5.5 {Abz-LPETG-Dap(Dnp)-NH2}; 5.5 {Abz-LPETG-Dap(Dnp)-NH2}; 11.2 {N-(2-aminobenzoyl)-L-leucyl-L-prolyl-L-alpha-glutamyl-L-threonylglycyl-3-(2,4-dinitroanilino)-L-alaninamide}; 0.117 {o-aminobenzoyl-Leu-Pro-Glu-Thr-Gly-2,4-dinitrophenyl ester}; 12.7 {aminobenzoyl-LPETGG-diaminopropionic acid(dinitrophenol)-NH2}; 13.7 {aminobenzoyl-LPETGG-diaminopropionic acid(dinitrophenol)-NH2}; 6.56 {aminobenzoyl-LPETGG-diaminopropionic acid(dinitrophenol)-NH2}; 0.00932 {Abz-LPETG-Dap(Dnp)}; 0.00824 {Abz-LPETG-Dap(Dnp)}; 8.13 {aminobenzoyl-LPETGG-diaminopropionic acid(dinitrophenol)-NH2}; 0.01597 {Abz-LPETG-Dap(Dnp)}; 0.01391 {Abz-LPETG-Dap(Dnp)}; 6.74 {aminobenzoyl-LPETGG-diaminopropionic acid(dinitrophenol)-NH2}; 8.76 {aminobenzoyl-LPETGG-diaminopropionic acid(dinitrophenol)-NH2}; 9.14 {aminobenzoyl-LPETGG-diaminopropionic acid(dinitrophenol)-NH2}; 4.69 {aminobenzoyl-LPETGG-diaminopropionic acid(dinitrophenol)-NH2}; -999 {more}; -999 {more}; 0.038 {o-aminobenzoyl-LPETG-2,4-dinitrophenyl}; 0.035 {o-aminobenzoyl-LPETG-2,4-dinitrophenyl}; 0.0255 {Dabsyl-LLKTGVAS-Edans}; 0.0452 {Dabsyl-LPFTGGQG-Edans}; 0.0549 {Dabsyl-LPFAGGAG-Edans}; 25.4 {Ac-L-Lys-4-nitroanilide}; 0.852 {benzoyl-L-Arg-4-nitroanilide}; -999 {more}; 0.16 {benzoyl-Arg ethyl ester}; 0.26 {alpha-benzoyl-Arg ethyl ester}; 0.26 {p-Nitrophenyl p-guanidinobenzoate}; 1.3 {N-benzoyl-L-Arg amide}; 0.022 {p-toluenesulfonyl-L-Arg methyl ester}; 0.25 {Nalpha-p-tosyl-L-Arg amide}; 0.25 {Thr-Ala-Ala}; 0.22 {benzoyl-Arg ethyl ester}; 0.8 {p-toluenesulfonyl-L-Arg methyl ester}; 2.5 {p-Nitrophenyl p-guanidinobenzoate}; 3 {Nalpha-benzoyl-L-Lys methyl ester}; 0.36 {maleyl-Tyr-Arg ethyl ester}; 0.174 {alpha-benzoyl-Arg ethyl ester}; 0.235 {alpha-benzoyl-Arg ethyl ester}; 0.24-0.25 {alpha-benzoyl-Arg ethyl ester}; 0.3 {Nalpha-benzoyl-L-arginine-4-nitroanilide}; 0.34 {Nalpha-benzoyl-L-arginine-4-nitroanilide}\"\n",
      " \"0.2 {ATP}; 0.017 {L-tryptophan}; 0.00062 {tRNATrp}; 1 {P1,P3-bis(5'-adenosyl)triphosphate}; 1 {P1,P3-bis(5'-adenosyl)triphosphate}; 0.0011 {tRNATrp}; 0.0074 {L-tryptophan}; 0.088 {ATP}; 0.0005 {Trp}; 0.5 {ATP}; 0.5 {ATP}; 2 {ATP}; 2 {ATP}; 0.0025 {Trp}; 0.22 {ATP}; 0.00012 {tRNATrp}; 0.15 {ATP}; 0.00038 {tRNATrp}; 0.00045 {Trp}; 0.0008 {tRNATrp}; 0.005 {Trp}; 0.005 {Trp}; 0.03 {ATP}; 0.0002 {tRNATrp}; 0.0015 {L-tryptophan}; 0.002 {tRNATrp}; 0.252 {ATP}; 0.00031 {tRNATrp}; 0.0019 {L-tryptophan}; 0.129 {ATP}; 0.06 {tRNATrp(C34A)}; 0.012 {tRNATrp(pppG1)}; 0.015 {tRNATrp(G2A-C71U)}; 0.038 {tRNATrp(C34G)}; 0.038 {tRNATrp(C35G)}; 0.021 {tRNATrp(G1U-C72A)}; 0.021 {tRNATrp(C35U)}; 0.025 {tRNATrp(G1A-C72U)}; 0.0012 {tRNATrp}; 0.0021 {tRNAArg}; 0.0059 {tRNATrp(A36C)}; 0.014 {tRNATrp(C35A)}; 0.0017 {tRNATrp(A73C)}; 0.0019 {tRNATrp(G2C-G71G)}; 0.0058 {tRNATrp(G2U-C71A)}; 0.0058 {tRNATrp(A73G)}; 0.0058 {tRNATrp(A36U)}; 0.0055 {tRNATrp(G1C-G72G)}; 0.006 {tRNATrp(HOG1)}; 0.048 {tRNATrp(C34U)}; 0.0053 {tRNATrp(A36G)}; 0.0051 {tRNATrp(A73U)}; 0.0098 {tRNATrp(A36U, A73G)}; 0.027 {L-tryptophan}; 0.4 {ATP}; 0.0013 {tRNATrp}; 0.0052 {tRNATrp}; 0.0085 {tRNATrp}; 0.0248 {tRNATrp}; 0.00029 {tRNATrp}; 0.00141 {tRNATrp}; 0.00214 {tRNATrp}; 0.00223 {tRNATrp}; 0.00184 {tRNATrp}; 0.00527 {L-tryptophan}; 0.000943 {L-tryptophan}; 0.00005 {Archeoglobus fulgidus tRNATrp(A73C)}; 0.00005 {Archeoglobus fulgidus tRNATrp(A73U)}; 0.0001 {Bacillus subtilis tRNATrp(A73G)}; 0.00012 {Bacillus subtilis tRNATrp(A73C)}; 0.00012 {Bacillus subtilis tRNATrp(A73U)}; 0.00018 {bovine tRNATrp(G73, wild-type)}; 0.00017 {bovine tRNATrp(G73U)}; 0.00006 {Archeoglobus fulgidus tRNATrp(A73, wild-type)}; 0.00006 {Archeoglobus fulgidus tRNATrp(A73G)}; 0.00021 {bovine tRNATrp(G73A)}; 0.00009 {Bacillus subtilis tRNATrp(A73, wild-type)}; 0.00022 {bovine tRNATrp(G73C)}; 0.06 {Trp}; 0.0005 {tRNATrp}; 0.00052 {tRNATrp}; 0.0033 {Trp}; 0.065 {ATP}; 0.0021 {L-tryptophan}; 0.0046 {Trp}; 0.0023 {L-tryptophan}; 0.00018 {tRNATrp}; 0.046 {ATP}; 0.0037 {Trp}; 0.048 {ATP}; 0.041 {ATP}; 0.00126 {tRNATrp}; 0.128 {Trp}; 0.0038 {Trp}; 0.121 {ATP}; 0.0099 {Trp}; 0.00113 {tRNATrp}; 0.00061 {tRNATrp}; 0.278 {ATP}; 0.00022 {tRNATrp}; 0.00088 {tRNATrp}; 0.00073 {L-tryptophan}; 0.00087 {tRNATrp}; 0.00123 {tRNATrp}; 1.552 {ATP}; -999 {more}; -999 {more}; -999 {more}; -999 {more}; -999 {more}; 0.00121 {tRNATrp}; 0.00121 {tRNATrp}\"]---\n",
      "# 30---kcat_values: ['187 {ornithine}; 500 {ornithine}; 3500 {ornithine}; 2200 {ornithine}; 370 {ornithine}; 4300 {ornithine}; 2900 {ornithine}; 8.1 {L-citrulline}; 82 {Carbamoyl phosphate}; 7.9 {phosphate}; 94.2 {L-ornithine}; 90 {L-citrulline}; 3400 {ornithine}; 0.025 {Diaminobutane}; 49 {L-ornithine}; 0.0036 {L-lysine}; 382 {L-ornithine}; 690 {L-ornithine}; 750 {L-ornithine}; 546 {L-ornithine}; 235 {L-ornithine}; 694 {L-ornithine}; 18 {ornithine}; 120 {Carbamoyl phosphate}; 120 {Carbamoyl phosphate}; 0.7 {L-ornithine}; 110 {L-ornithine}; 130 {L-ornithine}; 150 {Carbamoyl phosphate}; 74 {Carbamoyl phosphate}; 360 {Carbamoyl phosphate}; 4.3 {L-ornithine}; 7.5 {Carbamoyl phosphate}; 4.6 {Carbamoyl phosphate}; 4.2 {Carbamoyl phosphate}; 350 {L-ornithine}; 290 {Carbamoyl phosphate}; 140 {Carbamoyl phosphate}; 52 {L-ornithine}; 5.1 {L-ornithine}; 170 {L-ornithine}; 170 {L-ornithine}; 180 {Carbamoyl phosphate}; 95 {L-ornithine}; 8.2 {L-ornithine}; 300 {Carbamoyl phosphate}; 410 {L-ornithine}; 410 {Carbamoyl phosphate}; 440 {L-ornithine}; 460 {L-ornithine}; 240 {L-ornithine}; 0.48 {Carbamoyl phosphate}; 88 {Carbamoyl phosphate}'\n",
      " \"2.4 {benzyloxycarbonyl-Phe-Arg-4-methylcoumaryl-7-amide}; 83 {benzoyl-DL-Arg-p-nitroanilide}; 12.2 {benzyloxycarbonyl-Arg-Arg-4-methylcoumaryl-7-amide}; 49.5 {benzyloxycarbonyl-Phe-Arg-4-methylcoumaryl-7-amide}; 34 {benzyloxycarbonyl-Phe-Arg-4-methylcoumaryl-7-amide}; 8.97 {benzyloxycarbonyl-Arg-Arg-4-methylcoumaryl-7-amide}; 0.19 {N-benzyloxycarbonyl-Phe-Arg-4-methylcoumarin 7-amide}; 0.69 {Boc-Asp-Pro-Arg-4-methylcoumarin 7-amide}; 0.14 {D-Val-Leu-Arg-4-methylcoumarin 7-amide}; 0.13 {Tos-Gly-Pro-Arg-4-methylcoumarin 7-amide}; 0.13 {N-benzyloxycarbonyl-Arg-Arg-4-methylcoumarin 7-amide}; 0.72 {Boc-Val-Pro-Arg-4-methylcoumarin 7-amide}; 0.51 {N-benzyloxycarbonyl-Val-Ile-Arg-4-methylcoumarin 7-amide}; 1.09 {N-benzyloxycarbonyl-Arg-Arg-4-methyl-7-amidocoumarin}; 43 {benzyloxycarbonyl-Arg-Arg-4-methylcoumaryl-7-amide}; 158 {benzyloxycarbonyl-Arg-Arg-4-methylcoumaryl-7-amide}; 0.28 {Boc-Asp-Pro-Arg-4-methyl-7-amidocoumarin}; 0.004 {Arg-4-methylcoumaryl-7-amide}; 0.125 {benzyloxycarbonyl-Ala-Arg-Arg-4-methoxy-beta-naphthylamide}; 0.139 {benzyloxycarbonyl-Arg-Arg-4-methoxy-beta-naphthylamide}; 0.149 {benzyloxycarbonyl-Arg-Arg-4-methylcoumaryl-7-amide}; 0.325 {benzyloxycarbonyl-Val-Lys-Lys-Arg-4-methoxy-beta-naphthylamide}; 0.445 {benzyloxycarbonyl-Phe-Arg-4-methylcoumaryl-7-amide}; 364 {benzyloxycarbonyl-Phe-Arg-4-methylcoumaryl-7-amide}; 2.26 {Tos-Gly-Pro-Arg-4-methyl-7-amidocoumarin}; 3.38 {Boc-Val-Leu-Lys-4-methyl-7-amidocoumarin}; 1.71 {N-benzyloxycarbonyl-Phe-Arg-4-methyl-7-amidocoumarin}; 67 {Nalpha-benzoyl-Arg-Arg-7-amido-4-methylcoumarin}; 115 {Nalpha-benzoyl-Phe-Arg-7-amido-4-methylcoumarin}; 0.036 {N,N'-diBoc-dityrosine-Lys-(isoniazid)2}; 43 {Abz-GIVRAK(Dnp)-OH}; 2.4 {N-[(benzyloxy)carbonyl]-L-alanyl-N-[4-([[(5-[[5-(dimethylamino)naphthalene-1-sulfonyl]amino]pentyl)carbamoyl]oxy]methyl)phenyl]-N6-(2,4-dinitrophenyl)-L-lysinamide}; 0.011 {N,N'-diBoc-dityrosine-Gly-(isoniazid)2}; 34 {Nalpha-benzoyl-Arg-Arg-7-amido-4-methylcoumarin}; 86 {Nalpha-benzoyl-Phe-Arg-7-amido-4-methylcoumarin}; 68 {benzyloxycarbonyl-Val-Lys-Lys-Arg-4-methoxy-beta-naphthylamide}; 87 {benzyloxycarbonyl-Ala-Arg-Arg-4-methoxy-beta-naphthylamide}; 63-71 {benzyloxycarbonyl-Phe-Arg-4-methylcoumaryl-7-amide}; 0.1 {Abz-GIVRAK-Dnp}; 2.9 {Abz-FRF(NO2)A}; 11 {benzyloxycarbonyl-Arg-Arg-7-amido-4-methylcoumarin}; 4.7 {benzyloxycarbonyl-Phe-Arg-7-amido-4-methylcoumarin}; 0.075 {benzoyl-DL-Arg-beta-naphthylamide}; 52-75 {benzyloxycarbonyl-Arg-Arg-4-methylcoumaryl-7-amide}; 277.6 {Nalpha-carbobenzoxy-L-Arg-L-Arg-7-amido-4-trifluoromethylcoumarin}; 0.327 {benzyloxycarbonyl-L-leucyl-L-arginine-4-methylcoumaryl-7-amide}; 0.318 {benzyloxycarbonyl-L-phenylalaninyl-L-arginine 4-methylcoumaryl-7-amide}; 0.512 {benzyloxycarbonyl-L-leucyl-L-arginine-4-methylcoumaryl-7-amide}; 0.476 {benzyloxycarbonyl-L-phenylalaninyl-L-arginine 4-methylcoumaryl-7-amide}; 0.000000001 {azocasein}; 0.00000000817 {gelatin}; 0.000625 {Collagen}; 3.45 {benzyloxycarbonyl-Arg-Arg-4-methylcoumaryl-7-amide}; 7.67 {benzyloxycarbonyl-Phe-Arg-4-methylcoumaryl-7-amide}; 8.12 {benzoyl-Phe-Val-Arg-4-methylcoumaryl-7-amide}; 0.52 {acetyl-Ala-Ile-Arg-7-amino-4-methylcoumarin}; 0.63 {acetyl-Ala-Ile-Arg-7-amino-4-methylcoumarin}; 0.4 {acetyl-Ala-Ile-Arg-7-amino-4-methylcoumarin}; 0.57 {acetyl-Ala-Ile-Arg-7-amino-4-methylcoumarin}; 0.69 {acetyl-Ala-Ile-Arg-7-amino-4-methylcoumarin}; 0.6 {acetyl-Ala-Ile-Arg-7-amino-4-methylcoumarin}; 0.62 {acetyl-Ala-Ile-Arg-7-amino-4-methylcoumarin}; 0.35 {acetyl-Ala-Ile-Arg-7-amino-4-methylcoumarin}; 0.39 {acetyl-Ala-Ile-Arg-7-amino-4-methylcoumarin}; 0.042 {benzyloxycarbonyl-Val-Arg-4-methylcoumarinyl-7-amide}; 2.14 {acetyl-Ala-Ile-Arg-7-amino-4-methylcoumarin}; -999 {more}; -999 {more}; 142 {benzyloxycarbonyl-Lys-p-nitrophenyl ester}; 2.3 {benzyloxycarbonyl-Glu-Phe}; 0.21 {N-benzoyl-Gly-p-nitrophenyl ester}; 182 {Nalpha-benzyloxycarbonyl-Lys-p-nitrophenyl ester}; 9.4 {N-benzyloxycarbonyl-Gly-p-nitrophenyl ester}; 1.09 {benzyloxycarbonyl-Lys-Phe}; 1.15 {p-nitrobenzyloxycarbonyl-Gly-p-nitrophenyl ester}; 8.6 {Nalpha-benzyloxycarbonyl-Nepsilon-t-butyloxycarbonyl-Lys-Phe}; 190 {Nalpha-benzyloxycarbonyl-Lys-p-nitrophenyl ester}; 174 {Nalpha-benzyloxycarbonyl-Lys-phenyl ester}; 178 {Nalpha-benzyloxycarbonyl-Lys-p-nitrophenyl ester}; 0.147 {t-butyloxycarbonyl-Gly-p-nitrophenyl ester}; 1.52 {cinnamoyl-Gly-p-nitrophenyl ester}; 4.31 {tert-butyloxycarbonyl-Ala-p-nitrophenyl ester}; 5.05 {Nalpha-benzyloxycarbonyl-Lys-Phe}; 29.7 {benzyloxycarbonyl-Lys-p-nitrophenyl ester}; 89.8 {benzyloxycarbonyl-Lys-p-nitrophenyl ester}; 118 {N-benzyloxycarbonyl-Ala-p-nitrophenyl ester}; 176 {Nalpha-benzyloxycarbonyl-Lys-p-nitrophenyl ester}; -999 {more}; -999 {more}; 3.4 {benzyloxycarbonyl 4-nitrophenyl ester}; 2.6 {benzoyl-L-Arg ethyl ester}; 6 {Benzyloxycarbonyl-Lys methyl ester}; 0.7 {acetyl-Lys methyl ester}; 33 {Nalpha-benzyloxycarbonyl-L-Lys p-nitrophenyl ester}; 5.8 {benzoyl-Gly p-nitrophenyl ester}; 29 {benzyloxycarbonyl-Lys p-nitrophenyl ester}; 4.5 {benzoyl-Arg ethyl ester}; 0.029 {benzoyl-Arg 4-nitroanilide}; 29.2 {casein}; 0.0065 {milk protein concentrate}; 0.0165 {whey protein isolate}; 42.8 {N-alpha-benzyloxycarbonyl-L-lysine 4-nitrophenyl ester}; 20.74 {casein}; 30 {benzyloxycarbonyl-Phe-Arg-4-methylcoumarin 7-amide}; 20 {benzyloxycarbonyl-Phe-Arg-4-methylcoumarin 7-amide}; 0.52 {L-Phe-L-Arg-7-amido-4-methylcoumarin}; 0.52 {L-Phe-L-Arg-7-amido-4-methylcoumarin}; 1.01 {L-Phe-L-Arg-7-amido-4-methylcoumarin}; 0.45 {L-Phe-L-Arg-7-amido-4-methylcoumarin}; 0.39 {L-Phe-L-Arg-7-amido-4-methylcoumarin}; 0.43 {L-Phe-L-Arg-7-amido-4-methylcoumarin}; 1.07 {L-Val-L-Leu-L-Arg-7-amido-4-methylcoumarin}; 0.89 {L-Val-L-Leu-L-Arg-7-amido-4-methylcoumarin}; 1.67 {tert-butyloxycarbonyl-Val-Leu-Lys-4-methylcoumarin 7-amide}; 1.52 {Pro-Phe-Arg-4-methylcoumarin 7-amide}; 9.5 {benzyloxycarbonyl-Phe-Arg-4-methylcoumarin 7-amide}; 15.8 {benzyloxycarbonyl-Phe-Arg-4-methylcoumarin 7-amide}; 12.8 {N-carbobenzoxy-L-phenylalanine-L-arginine 7-amido-4-methylcoumarin}; 0.0332 {benzyloxycarbonyl-L-Phe-L-Arg-7-amido-4-methylcoumarin}; 6.2 {benzyloxycarbonyl-Phe-Arg-7-amido-4-methylcoumarin}; 2-3.7 {benzyloxycarbonyl-Phe-Arg-7-amido-4-methylcoumarin}; 18 {benzyloxycarbonyl-Phe-Arg-7-amido-4-methylcoumarin}; 9 {benzyloxycarbonyl-Phe-Arg-7-amido-4-methylcoumarin}; 0.16 {N-[(benzyloxy)carbonyl]-L-alanyl-N-[4-([[(5-[[5-(dimethylamino)naphthalene-1-sulfonyl]amino]pentyl)carbamoyl]oxy]methyl)phenyl]-N6-(2,4-dinitrophenyl)-L-lysinamide}; 30 {benzyloxycarbonyl-Phe-Arg-7-amido-4-methylcoumarin}; 46 {benzyloxycarbonyl-Phe-Arg-7-amido-4-methylcoumarin}; 0.37 {Abz-PRKQLAT-acetyl-K-AARKSAK-Dnp}; 0.46 {Abz-PRKQLATKAARKSAK-Dnp}; 0.49 {Abz-PR-acetyl-K-QLATKAARKSAK-Dnp}; 0.51 {Abz-PRKQLATKAAR-dimethyl-K-SAK-Dnp}; 0.285 {benzyloxycarbonyl-L-Phe-L-Arg-7-amido-4-methylcoumarin}; 0.6685 {EFL-4-nitroanilide}; 0.00963 {EFL-4-nitroanilide}; 1.873 {VLK-4-nitroanilide}; 0.001726 {VLK-4-nitroanilide}; 0.003184 {GPR-4-nitroanilide}; 0.5 {benzyloxycarbonyl-Gly-Pro-Arg-7-amido-4-methylcoumarin}; 0.5 {2-aminobenzoyl-Lys-Leu-Val-Ser-Ser-Lys-Gln-N-(2,4-dinitrophenyl)ethylenediamine}; 0.5 {2-aminobenzoyl-Lys-Gly-Arg-Ser-Ser-Lys-Gln-N-(2,4-dinitrophenyl)ethylenediamine}; 1.1 {2-aminobenzoyl-Lys-Leu-Ala-Ser-Ser-Lys-Gln-N-(2,4-dinitrophenyl)ethylenediamine}; 1.1 {2-aminobenzoyl-Lys-Leu-Asn-Ser-Ser-Lys-Gln-N-(2,4-dinitrophenyl)ethylenediamine}; 3.5 {2-aminobenzoyl-Asn-Leu-Arg-Ser-Ser-Lys-Gln-N-(2,4-dinitrophenyl)ethylenediamine}; 3.8 {2-aminobenzoyl-Gln-Leu-Arg-Ser-Ser-Lys-Gln-N-(2,4-dinitrophenyl)ethylenediamine}; 3.8 {2-aminobenzoyl-Arg-Leu-Arg-Ser-Ser-Lys-Gln-N-(2,4-dinitrophenyl)ethylenediamine}; 3.7 {2-aminobenzoyl-Lys-Leu-Arg-Arg-Ser-Lys-Gln-N-(2,4-dinitrophenyl)ethylenediamine}; 3.7 {2-aminobenzoyl-Lys-Leu-Arg-Ser-His-Lys-Gln-N-(2,4-dinitrophenyl)ethylenediamine}; 3.4 {2-aminobenzoyl-Lys-Leu-Arg-Gly-Ser-Lys-Gln-N-(2,4-dinitrophenyl)ethylenediamine}; 0.1 {2-aminobenzoyl-Lys-Leu-Pro-Ser-Ser-Lys-Gln-N-(2,4-dinitrophenyl)ethylenediamine}; 0.1 {2-aminobenzoyl-Gly-Leu-Arg-Ser-Ser-Lys-Gln-N-(2,4-dinitrophenyl)ethylenediamine}; 0.2 {2-aminobenzoyl-Lys-Leu-Asp-Ser-Ser-Lys-Gln-N-(2,4-dinitrophenyl)ethylenediamine}; 0.4 {2-aminobenzoyl-Lys-Leu-Ile-Ser-Ser-Lys-Gln-N-(2,4-dinitrophenyl)ethylenediamine}; 0.4 {2-aminobenzoyl-Lys-Leu-Gly-Ser-Ser-Lys-Gln-N-(2,4-dinitrophenyl)ethylenediamine}; 0.4 {2-aminobenzoyl-Lys-Leu-Met-Ser-Ser-Lys-Gln-N-(2,4-dinitrophenyl)ethylenediamine}; 0.4 {2-aminobenzoyl-Lys-Asn-Arg-Ser-Ser-Lys-Gln-N-(2,4-dinitrophenyl)ethylenediamine}; 0.4 {2-aminobenzoyl-Lys-Thr-Arg-Ser-Ser-Lys-Gln-N-(2,4-dinitrophenyl)ethylenediamine}; 0.4 {2-aminobenzoyl-Lys-Asp-Arg-Ser-Ser-Lys-Gln-N-(2,4-dinitrophenyl)ethylenediamine}; 0.4 {2-aminobenzoyl-Lys-Glu-Arg-Ser-Ser-Lys-Gln-N-(2,4-dinitrophenyl)ethylenediamine}; 0.4 {2-aminobenzoyl-Glu-Glu-epsilon-amino-caproic acid-Glu-Leu-Lys-Leu-Gln-N-(2,4-dinitrophenyl)ethylenediamine}; 1.5 {2-aminobenzoyl-Lys-Leu-Ser-Ser-Ser-Lys-Gln-N-(2,4-dinitrophenyl)ethylenediamine}; 2.6 {2-aminobenzoyl-Lys-Leu-Glu-Ser-Ser-Lys-Gln-N-(2,4-dinitrophenyl)ethylenediamine}; 6 {2-aminobenzoyl-Lys-Leu-Arg-Ser-Pro-Lys-Gln-N-(2,4-dinitrophenyl)ethylenediamine}; 0.9 {2-aminobenzoyl-Lys-Leu-Gln-Ser-Ser-Lys-Gln-N-(2,4-dinitrophenyl)ethylenediamine}; 1.3 {2-aminobenzoyl-Lys-Leu-Thr-Ser-Ser-Lys-Gln-N-(2,4-dinitrophenyl)ethylenediamine}; 1.3 {2-aminobenzoyl-Lys-Leu-His-Ser-Ser-Lys-Gln-N-(2,4-dinitrophenyl)ethylenediamine}; 1.3 {2-aminobenzoyl-Lys-His-Arg-Ser-Ser-Lys-Gln-N-(2,4-dinitrophenyl)ethylenediamine}; 2.1 {2-aminobenzoyl-Val-Leu-Arg-Ser-Ser-Lys-Gln-N-(2,4-dinitrophenyl)ethylenediamine}; 2.3 {2-aminobenzoyl-Lys-Ile-Arg-Ser-Ser-Lys-Gln-N-(2,4-dinitrophenyl)ethylenediamine}; 2.3 {2-aminobenzoyl-Ile-Leu-Arg-Ser-Ser-Lys-Gln-N-(2,4-dinitrophenyl)ethylenediamine}; 2.3 {2-aminobenzoyl-Lys-Leu-Arg-Ser-Asn-Lys-Gln-N-(2,4-dinitrophenyl)ethylenediamine}; 3.1 {2-aminobenzoyl-Lys-Leu-Lys-Ser-Ser-Lys-Gln-N-(2,4-dinitrophenyl)ethylenediamine}; 3.2 {2-aminobenzoyl-Lys-Arg-Arg-Ser-Ser-Lys-Gln-N-(2,4-dinitrophenyl)ethylenediamine}; 3.2 {2-aminobenzoyl-Lys-Leu-Arg-Ser-Val-Lys-Gln-N-(2,4-dinitrophenyl)ethylenediamine}; 5.5 {2-aminobenzoyl-Lys-Leu-Arg-Val-Ser-Lys-Gln-N-(2,4-dinitrophenyl)ethylenediamine}; 1.7 {2-aminobenzoyl-Lys-Gln-Arg-Ser-Ser-Lys-Gln-N-(2,4-dinitrophenyl)ethylenediamine}; 27 {Abz-3-biphenyl-L-Ala-Arg-Ala-Gln-Tyr(3-NO2)-NH2}; 39 {benzyloxycarbonyl-Phe-Arg-4-methylcoumarin 7-amide}; 10 {benzyloxycarbonyl-Phe-Arg-4-methylcoumarin 7-amide}; 0.01 {benzyloxycarbonyl-Gly-Pro-Arg-7-amido-4-methylcoumarin}; 17 {benzyloxycarbonyl-Phe-Arg-4-methylcoumarin 7-amide}; 13.5 {2-aminobenzoyl-Lys-Phe-Arg-Ser-Ser-Lys-Gln-N-(2,4-dinitrophenyl)ethylenediamine}; 3.6 {2-aminobenzoyl-Lys-Leu-Arg-Ser-Arg-Lys-Gln-N-(2,4-dinitrophenyl)ethylenediamine}; 4.8 {2-aminobenzoyl-Lys-Leu-Arg-Ser-Gly-Lys-Gln-N-(2,4-dinitrophenyl)ethylenediamine}; 7.3 {2-aminobenzoyl-Lys-Leu-Arg-His-Ser-Lys-Gln-N-(2,4-dinitrophenyl)ethylenediamine}; 50 {benzyloxycarbonyl-Phe-Arg-4-methylcoumarin 7-amide}; 20.5 {benzyloxycarbonyl-Phe-Arg-7-amido-4-methylcoumarin}; 4 {2-aminobenzoyl-Lys-Met-Arg-Ser-Ser-Lys-Gln-N-(2,4-dinitrophenyl)ethylenediamine}; 4 {2-aminobenzoyl-Glu-Leu-Arg-Ser-Ser-Lys-Gln-N-(2,4-dinitrophenyl)ethylenediamine}; 5.8 {2-aminobenzoyl-Lys-Leu-Arg-Gln-Ser-Lys-Gln-N-(2,4-dinitrophenyl)ethylenediamine}; 1.9 {2-aminobenzoyl-Lys-Trp-Arg-Ser-Ser-Lys-Gln-N-(2,4-dinitrophenyl)ethylenediamine}; 1.9 {2-aminobenzoyl-Lys-Ser-Arg-Ser-Ser-Lys-Gln-N-(2,4-dinitrophenyl)ethylenediamine}; 1.9 {2-aminobenzoyl-Lys-Lys-epsilon-amino-caproic acid-Glu-Leu-Lys-Leu-Gln-N-(2,4-dinitrophenyl)ethylenediamine}; 5.4 {benzyloxycarbonyl-Phe-Arg-7-amido-4-methylcoumarin}; 4.6 {2-aminobenzoyl-Lys-Leu-Arg-Ser-Ser-Lys-Gln-N-(2,4-dinitrophenyl)ethylenediamine}; 2.4 {2-aminobenzoyl-Lys-Leu-Arg-Ser-Ile-Lys-Gln-N-(2,4-dinitrophenyl)ethylenediamine}; 1.2 {2-aminobenzoyl-Lys-Pro-Arg-Ser-Ser-Lys-Gln-N-(2,4-dinitrophenyl)ethylenediamine}; 1.2 {2-aminobenzoyl-Glu-Leu-Lys-Leu-Gln-N-(2,4-dinitrophenyl)ethylenediamine}; 4.2 {2-aminobenzoyl-Lys-Leu-Arg-Ser-Gln-Lys-Gln-N-(2,4-dinitrophenyl)ethylenediamine}; 3.9 {2-aminobenzoyl-Lys-Leu-Arg-Ile-Ser-Lys-Gln-N-(2,4-dinitrophenyl)ethylenediamine}; 5.3 {2-aminobenzoyl-Ala-Leu-Arg-Ser-Ser-Lys-Gln-N-(2,4-dinitrophenyl)ethylenediamine}; 5.9 {2-aminobenzoyl-His-Leu-Arg-Ser-Ser-Lys-Gln-N-(2,4-dinitrophenyl)ethylenediamine}; 4.9 {2-aminobenzoyl-Lys-Leu-Arg-Glu-Ser-Lys-Gln-N-(2,4-dinitrophenyl)ethylenediamine}; 6.3 {2-aminobenzoyl-Lys-Leu-Arg-Asn-Ser-Lys-Gln-N-(2,4-dinitrophenyl)ethylenediamine}; 6.4 {2-aminobenzoyl-Lys-Val-Arg-Ser-Ser-Lys-Gln-N-(2,4-dinitrophenyl)ethylenediamine}; 17.4 {Abz-3-biphenyl-L-Ala-Arg-Ala-Ala-Tyr(3-NO2)-NH2}; 17.6 {benzyloxycarbonyl-Leu-Arg-7-amido-4-methylcoumarin}; 25.8 {benzyloxycarbonyl-Phe-Arg-4-methylcoumarin 7-amide}; 7.8 {2-aminobenzoyl-Lys-Tyr-Arg-Ser-Ser-Lys-Gln-N-(2,4-dinitrophenyl)ethylenediamine}; 27.2 {benzyloxycarbonyl-Leu-Arg-7-amido-4-methylcoumarin}; 4.1 {2-aminobenzoyl-Lys-Leu-Arg-Ser-Ala-Lys-Gln-N-(2,4-dinitrophenyl)ethylenediamine}; 4.1 {2-aminobenzoyl-Lys-Leu-Arg-Ser-Glu-Lys-Gln-N-(2,4-dinitrophenyl)ethylenediamine}; 5.01 {Abz-3-biphenyl-L-Ala-Arg-Ala-Ser-Tyr(3-NO2)-NH2}; 19.8 {benzyloxycarbonyl-Lys-p-nitrophenyl ester}; 26 {benzyloxycarbonyl-Phe-Arg-4-methylcoumarin 7-amide}; 26.6 {Leu-Trp-Met-Arg-Phe-Ala}; 43.2 {methionine enkephalin-Arg-Phe}; 5.53 {benzyloxycarbonyl-Phe-Arg-4-methylcoumarin 7-amide}; 33.9 {leucine enkephalin}; 1.1 {Leu-4-methylcoumaryl-7-amide}; 2.2 {Arg-4-methylcoumaryl-7-amide}; 1.87 {Ala-4-methylcoumaryl-7-amide}; 4.13 {Lys-4-methylcoumaryl-7-amide}; 1.82 {Arg-2-naphthylamide}; 1.82 {benzoyl-Arg-2-naphthylamide}; 2.53 {Arg-4-methylcoumaryl-7-amide}; -999 {more}; 0.3 {succinyl-Ala-Ala-Ala-4-nitroanilide}; 0.8 {succinyl-Ala-Ala-Ala-Ala-Ala-4-nitroanilide}; 0.63 {benzoyl-Arg-4-methylcoumaryl-7-amide}; 0.9 {succinyl-Ala-Ala-Ala-Ala-4-nitroanilide}; 3.1 {citrulline-4-methylcoumaryl-7-amide}; 0.15 {succinyl-Pro-Ala-Ala-4-nitroanilide}; 7.7 {benzyloxycarbonyl-Pro-Ala-Ala-Ala-Pro-NH2}; 0.004 {succinyl-Ala-Ala-Pro-4-nitroanilide}; 5.3 {benzyloxycarbonyl-Pro-Ala-Ala-Ala-Pro}; 0.07 {succinyl-Ala-Ala-4-nitroanilide}; 8.13 {Arg-4-methylcoumaryl-7-amide}; 115 {Arg-2-naphthylamide}; 122 {Leu-2-naphthylamide}; 219 {Met-2-naphthylamide}; 3-6 {Dabcyl-Lys-Phe-Gly-Gly-Ala-Ala-Edans}; -999 {more}; -999 {more}; 0.03-0.55 {Dabcyl-Lys-Phe-Gly-Gly-Ala-Ala-Edans}; 0.41 {Dabcyl-Lys-Phe-Gly-Gly-Ala-Ala-Edans}; 0.833 {Dabcyl-Lys-Phe-Gly-Gly-Ala-Ala-Edans}; 16.9 {benzyloxycarbonyl-Phe-Arg 4-methylcoumarin-7-amide}; 3.4 {benzoyl-thiocarbamic acid ethyl ester}; 0.79 {benzyloxycarbonyl-Arg-Arg 4-methylcoumarin-7-amide}; 9.3 {benzyloxycarbonyl-Arg-Arg 4-methylcoumarin-7-amide}; 290 {benzyl-Phe-Val-Arg-4-nitroanilide}; 51 {benzyloxycarbonyl-L-Phe-L-Arg-7-amido-4-methylcoumarin}; 52 {benzyloxycarbonyl-L-Phe-L-Arg-7-amido-4-methylcoumarin}; 24 {Nalpha-benzoyl-L-Arg ethyl ester}; 0.0046 {whey protein isolate}; 0.42 {benzyloxycarbonyl-citrullyl-Arg 4-methylcoumarin-7-amide}; 180 {benzyl-Phe-Val-Arg-4-nitroanilide}; 217 {benzyl-Phe-Val-Arg-4-nitroanilide}; 1.18 {benzyloxycarbonyl-Arg-Arg 4-methylcoumarin-7-amide}; 5.67 {benzyloxycarbonyl-citrullyl-Arg 4-methylcoumarin-7-amide}; 0.064 {benzoyl-thiocarbamic acid methyl ester}; 2.78 {benzyloxycarbonyl-Phe-Arg 4-methylcoumarin-7-amide}; 3.48 {N-benzoyl-Gly methyl ester}; 8.14 {benzyloxycarbonyl-citrullyl-Arg 4-methylcoumarin-7-amide}; 16.4 {Nalpha-benzoyl-L-Arg ethyl ester}; 28.5 {Nalpha-benzoyl-L-Arg ethyl ester}; 41.6 {benzyloxycarbonyl-Phe-Arg 4-methylcoumarin-7-amide}; 3340 {benzoyl-thiocarbamic acid}; 243 {methyl red-Abu-Ser-Ala-Pro-Val-Lys-Ala-Lys(N6-(5-carboxyfluorescein))-NH2}; 2.77 {Dabcyl-Lys-Phe-Gly-Gly-Ala-Ala-Edans}; 0.00000045 {casein}; 189 {benzyl-Phe-Val-Arg-4-nitroanilide}; 6.86 {Dabcyl-Lys-Phe-Gly-Gly-Ala-Ala-Edans}; 35.6 {N-alpha-benzyloxycarbonyl-L-lysine 4-nitrophenyl ester}; 0.0000046 {casein}; 0.0053 {milk protein concentrate}; 215 {benzyl-Phe-Val-Arg-4-nitroanilide}; 309 {benzyl-Phe-Val-Arg-4-nitroanilide}; 1503 {methyl red-Abu-Ser-Ala-Pro-Val-Lys-Ala-Lys(N6-(5-carboxyfluorescein))-NH2}; 475 {methyl red-Abu-Ala-Pro-Val-Lys-Lys(N5-(5-carboxyfluorescein))-NH2}; 1773 {methyl red-Abu-Ala-Pro-Val-Lys-Lys(N5-(5-carboxyfluorescein))-NH2}; 0.00000028 {casein}; 0.00000035 {casein}; 0.0000038 {casein}; 0.79 {ubiquitin-7-amido-4-trifluoromethylcoumarin}; 0.96 {ubiquitin-7-amido-4-trifluoromethylcoumarin}; 1.5 {casein}; 1.7 {casein}; 0.0102 {casein}; 1.79 {casein}; 0.0162 {casein}; 0.00078 {Boc-L-His}; 1.604 {casein}; 1.386 {casein}; 22 {tert-butyloxycarbonyl-Ala-Ala-Gly 4-nitroanilide}; 0.08 {tert-butyloxycarbonyl-Ala-Ala-Ala 4-methylcoumarin 7-amide}; 5 {tert-butyloxycarbonyl-Ala-Ala-Gly 4-methylcoumarin 7-amide}; 0.0082 {D-Ile-Pro-Arg-4-nitroanilide}; 0.0073 {N-p-tosyl-Gly-Pro-Arg-4-nitroanilide}; 0.0132 {D-Ala-Pro-Arg-4-nitroanilide}; 0.0129 {N-p-tosyl-Gly-Pro-Lys-4-nitroanilide}; 0.0119 {Glu-Glu-Pro-Arg-4-nitroanilide}; 0.989 {tert-benzyloxycarbonyl-QVR-7-amido-4-methylcoumarin}; 4.578 {PQVR-7-amido-4-methylcoumarin}; 3.942 {LPAPR-7-amido-4-methylcoumarin}; 2.496 {QSPVR-7-amido-4-methylcoumarin}; 1.147 {QVR-7-amido-4-methylcoumarin}; 20.3 {benzyloxycarbonyl-Val-Val-Arg-7-amido-4-methylcoumarin}; -999 {more}; 33.1 {benzyloxycarbonyl-Val-Val-Arg-7-amido-4-methylcoumarin}; 3.5 {benzyloxycarbonyl-Leu-Arg-7-amido-4-methylcoumarin}; 2.8 {benzyloxycarbonyl-Leu-Arg-7-amido-4-methylcoumarin}; 3 {GRWHKISVRWE}; 44 {GRWHKLSVRWE}; 11 {GRWHKFSVRWE}; 1.57 {benzyloxycarbonyl-Leu-Arg-7-amido-4-methylcoumarin}; 1.72 {benzyloxycarbonyl-Leu-Arg-7-amido-4-methylcoumarin}; 2.66 {benzyloxycarbonyl-Leu-Arg-7-amido-4-methylcoumarin}; 2.57 {benzyloxycarbonyl-Leu-Arg-7-amido-4-methylcoumarin}; 3.3 {butyloxycarbonyl-L-Phe-L-Phe-L-Arg-7-amido-4-methylcoumarin}; 1.1 {benzyloxycarbonyl-Leu-Leu-Arg-7-amido-4-methylcoumarin}; 0.2 {(7-[[(2S)-2-(4-[(1S)-1-cyclohexyl-1-[(phenylcarbonyl)amino]ethyl]-1H-1,2,3-triazol-1-yl)hexanoyl]amino]-4-methyl-2-oxo-2H-chromen-3-yl)acetic acid}; 1.6 {benzyloxycarbonyl-Phe-Arg-7-amido-4-methylcoumarin}; 2 {benzyloxycarbonyl-Phe-Arg-7-amido-4-methylcoumarin}; 2.9 {benzyloxycarbonyl-Phe-Val-Arg-7-amido-4-methylcoumarin}; 21 {benzyloxycarbonyl-Val-Val-Arg-7-amido-4-methylcoumarin}; 2.5 {o-aminobenzoic acid-Leu-Glu-Gln-(N-[2,4-dinitrophenyl]ethylenediamine)}; 0.77 {(7-[[(2S)-2-(4-[(1S)-1,2-dimethyl-1-[(thiophen-3-ylcarbonyl)amino]propyl]-1H-1,2,3-triazol-1-yl)hexanoyl]amino]-4-methyl-2-oxo-2H-chromen-3-yl)acetic acid}; 0.45 {(7-[[(2S)-2-(4-[(1S)-1,2-dimethyl-1-[(phenylcarbonyl)amino]propyl]-1H-1,2,3-triazol-1-yl)hexanoyl]amino]-4-methyl-2-oxo-2H-chromen-3-yl)acetic acid}; 0.46 {(4-methyl-7-[[(2S)-2-(4-[(1S)-1-(4-methylcyclohexyl)-1-[(thiophen-3-ylcarbonyl)amino]ethyl]-1H-1,2,3-triazol-1-yl)hexanoyl]amino]-2-oxo-2H-chromen-3-yl)acetic acid}; 14.4 {benzyloxycarbonyl-Val-Val-Arg-7-amido-4-methylcoumarin}; 0.22 {(7-[[(2S)-2-(4-[(1S)-1-cyclohexyl-1-[(thiophen-3-ylcarbonyl)amino]ethyl]-1H-1,2,3-triazol-1-yl)hexanoyl]amino]-4-methyl-2-oxo-2H-chromen-3-yl)acetic acid}; 5.666 {(7-methoxycoumarin-4-yl)-acetyl-GRWPPMGLPWEK(2,4-dinitrophenyl)-D-Arg-NH2}; 65 {butyloxycarbonyl-Val-Leu-Lys-7-amido-4-methylcoumarin}; 30 {butyloxycarbonyl-Val-Leu-Lys-7-amido-4-methylcoumarin}; 7 {benzyloxycarbonyl-Phe-Arg-7-amido-4-methylcoumarin}; 8.6 {tert-butyloxycarbonyl-Phe-Phe-Arg-7-amido-4-methylcoumarin}; 15.1 {benzyloxycarbonyl-L-Val-L-Val-L-Arg-7-amido-4-methylcoumarin}; 13 {benzoyl-Phe-Val-Arg-7-amido-4-methylcoumarin}; 6.1 {tert-butyloxycarbonyl-Phe-Leu-Arg-7-amido-4-methylcoumarin}; 4.7 {benzyloxycarbonyl-Phe-Arg-7-amido-4-methylcoumarin}; 40.5 {benzyloxycarbonyl-L-Val-L-Val-L-Arg-7-amido-4-methylcoumarin}; 0.02 {benzoyl-Phe-Val-Arg-7-amido-4-methylcoumarin}; 0.0283 {benzyloxycarbonyl-Phe-Arg-7-amido-4-methylcoumarin}; 0.000000000583 {gelatin}; 0.000000011 {azocasein}; 0.000000548 {Collagen}; 12.4 {benzyloxycarbonyl-Val-Val-Arg-7-amido-4-methylcoumarin}; 27 {4-(4-dimethylaminophenylazo)benzoic acid-KTSAVLQSGFRKME-5-[(2-aminoethyl)amino]naphthalene-1-sulfonic acid}; 0.00025 {(E)-5-chloropyridin-3-yl 3-(furan-2-yl)acrylate}; 0.0011 {5-chloropyridin-3-yl furan-2-carboxylate}; 0.00119 {5-bromopyridin-3-yl furan-3-carboxylate}; 0.41 {SLEVLFQGPVRR}; 2.38 {SLEVLFQGPVRR}; 0.08 {N-acetyl-DEFQLQ-4-nitroanilide}; 0.005 {2-(N-methylamino)benzoyl-IEAAFQGPPK(2,4-dinitrophenyl)FR}; 0.004 {2-(N-methylamino)benzoyl-IELLFQGPPK(2,4-dinitrophenyl)FR}; 0.002 {Dabcyl-RTATVQGPSLDFKE-Edans}; 0.0035 {2-(N-methylamino)benzoyl-RTATVQGPSLDFK-2,4-dinitrophenyl}; 0.0005 {2-(N-methylamino)benzoyl-DEAMEQGVSDYIK-2,4-dinitrophenyl}; 0.003 {2-(N-methylamino)benzoyl-RQAVTQGFPTELK-2,4-dinitrophenyl}; 0.0085 {(2-(N-methylamino)benzoyl)-IEALFQGPPK(2,4-dinitrophenyl)-FR}; 0.0027 {2-(N-methylamino)benzoyl-IAALFQGPPK(2,4-dinitrophenyl)FR}; 0.0003 {2-(N-methylamino)benzoyl-TSAVLQSGFRK-(2,4-dinitrophenyl)-Met}; 0.0028 {Dabcyl-IEALFQGPPKFRE-Edans}; 0.036 {TENLYFQSGTRR}; 0.22 {TENLYFQSGTRR}; 0.16 {MBP-LEVLFQ-G}; 0.08 {MBP-LEVLFQ-T}; 0.077 {MBP-LEVLFQ-A}; 0.033 {MBP-LEVLFQ-Q}; 0.12 {MBP-LEVLFQ-L}; 0.14 {MBP-LEVLFQ-C}; 0.021 {MBP-LEVLFQ-C}; 0.021 {MBP-LEVLFQ-S}; 0.063 {MBP-LEVLFQ-I}; 0.18 {MBP-LEVLFQ-M}; 0.22 {MBP-LEVLFQ-G}; 0.084 {MBP-LEVLFQ-N}; 0.056 {MBP-LEVLFQ-S}; 0.032 {MBP-LEVLFQ-A}; 0.0042 {EALFQ-4-nitroanilide}; 0.01 {2-aminobenzoyl-EALAQGPLQ-EDDnp}; 0.01 {2-aminobenzoyl-AALFQGPLQ-EDDnp}; 0.34 {2-aminobenzoyl-EALFQAPLQ-EDDnp}; 0.87 {2-aminobenzoyl-EALFQGPLQ-EDDnp}; 0.08 {2-aminobenzoyl-EAAFQGPLQ-EDDnp}; 0.06 {2-aminobenzoyl-EALFQGPLQ-EDDnp}; 0.28 {2-aminobenzoyl-EALFQGALQ-EDDnp}; 0.96 {2-aminobenzoyl-AALFQGPLQ-EDDnp}; 0.03 {2-aminobenzoyl-EALFQGPLQ-EDDnp}; 0.03 {2-aminobenzoyl-EALFQGPAQ-EDDnp}; 0.66 {2-aminobenzoyl-EALAQGPLQ-EDDnp}; 2.72 {2-aminobenzoyl-EALFQGPAQ-EDDnp}; 2.02 {2-aminobenzoyl-EALFQGPLQ-EDDnp}; 3.34 {2-aminobenzoyl-EAAFQGPLQ-EDDnp}; 0.08 {Ac-FQLQ-4-nitroanilide}; 0.14 {Ac-EFQLQ-4-nitroanilide}; 0.33 {Ac-DEFQLQ-4-nitroanilide}; 0.00158 {TRPIITTA-p-nitroanilide}; 2.3 {p-nitrophenyl N-acetylglycinate}; 55 {Nalpha-carbobenzoxy-Lys p-nitrophenyl ester}; 2.5 {p-nitrophenyl N-formylglycinate}; 0.45 {N-benzyloxycarbonyl-D-Ala p-nitrophenyl ester}; 1.29 {Nalpha-benzoyl-L-Arg ethyl ester}; 29.8 {Nalpha-carbobenzoxy-Ala p-nitrophenyl ester}; 2.83 {Nalpha-carbobenzoxy-Phe p-nitrophenyl ester}; 3.41 {benzoyl-Gly-p-nitrophenyl ester}; 1.2 {N-benzyloxycarbonyl-D-Phe p-nitrophenyl ester}; 4.5 {Nalpha-carbobenzoxy-Leu p-nitrophenyl ester}; 31 {Nalpha-carbobenzoxy-Ala p-nitrophenyl ester}; 35 {Nalpha-carbobenzoxy-Lys p-nitrophenyl ester}; 12.4 {Nalpha-carbobenzoxy-Gly p-nitrophenyl ester}; 13.3 {p-nitrophenyl N-benzyloxycarbonylglycinate}; 1.02 {Nalpha-carbobenzoxy-Val p-nitrophenyl ester}; 3.28 {benzoyl-Gly-p-nitrophenyl ester}; 7.45 {Nalpha-carbobenzoxy-glycylglycine p-nitrophenyl ester}; 86.4 {p-nitrophenyl N-trans-cinnamoylglycinate}; 2.84 {p-nitrophenyl N-acetylglycinate}; 0.0096 {benzoyl-DL-Arg-p-nitroanilide}; 0.92 {N-benzyloxycarbonyl-D-Tyr p-nitrophenyl ester}; 1.85 {Nalpha-carbobenzoxy-Gly p-nitrophenyl ester}; 1.85 {N-benzyloxycarbonyl-D-Leu p-nitrophenyl ester}; 2.27 {Nalpha-carbobenzoxy-Tyr p-nitrophenyl ester}; 2.56 {benzoyl-Gly-p-nitrophenyl ester}; 3.04 {benzoyl-Gly-p-nitrophenyl ester}; 7.72 {p-nitrophenyl N-benzoylglycinate}; 9.25 {Nalpha-carbobenzoxy-Gly p-nitrophenyl ester}; 53.6 {p-nitrophenyl N-benzoylglycinate}; 95.7 {p-nitrophenyl N-benzyloxycarbonylglycinate}; 123 {p-nitrophenyl N-trans-cinnamoylglycinate}; 0.1 {azocasein}; 0.033 {azocasein}; 0.105 {azocasein}; 0.015 {azocasein}; 0.166 {azocasein}; 32.9 {casein}; 2.6 {Succinyl-albumin}; 0.15 {benzoyl-DL-Arg 4-nitroanilide}; 16.7 {N-Benzyloxycarbonyl-Gly 4-nitrophenyl ester}; 7.1 {Benzyloxycarbonyl-Phe-Arg 4-methylcoumarin 7-amide}; 0.14 {benzoyl-DL-Arg 4-nitroanilide}; 49 {benzyloxycarbonyl-Lys nitrophenyl ester}; -999 {more}; -999 {more}; 6.08 {PLK}; 7 {benzyloxycarbonyl-Phe-Val-Arg-7-amido-4-methylcoumarin}; 21 {Benzyloxycarbonyl-Phe-citrulline 4-methylcoumarin 7-amide}; 9.8 {PLQ}; 0.16 {benzyloxycarbonyl-Arg-Arg-7-amido-4-methylcoumarin}; 3.58 {ALK}; 13.9 {benzyloxycarbonyl-Phe-Val-Arg-7-amido-4-methylcoumarin}; 10.9 {benzoyl-Phe-Val-Arg 4-nitroanilide}; 0.13 {benzyloxycarbonyl-Arg-Arg 4-nitroanilide}; 0.321 {benzyloxycarbonyl-Arg-Arg 4-methylcoumarin 7-amide}; 3.54 {Benzyloxycarbonyl-Gly-Phe-citrulline 4-methylcoumarin 7-amide}; 63.8 {benzoyl-Phe-Val-Arg 4-methylcoumarin 7-amide}; 0.36 {PLN}; 1.58 {benzyloxycarbonyl-Phe-Arg-7-amido-4-methylcoumarin}; 4.96 {ALR}; 7.13 {VLR}; 5.62 {PLR}; 6.29 {VLK}; 6.08 {benzyloxycarbonyl-Phe-Arg-NH-4-methylcoumarin 7-amide}; 0.41 {casein}; 0.5 {benzoyl-L-Arg ethyl ester}; 0.55 {acetyl-Gly ethyl ester}; 0.97 {casein}; 0.99 {casein}; 3.4 {N-Benzyloxycarbonyl-L-Phe-L-Ser methyl ester}; 0.4 {benzyloxycarbonyl-L-Tyr 4-nitrophenyl ester}; 0.21 {Benzoyl-Gly ethyl ester}; 0.24 {Benzoyl-Gly ethyl ester}; 27 {benzyloxycarbonyl-Arg-Arg 4-methylcoumarin 7-amide}; 0.04 {benzyloxycarbonyl-Arg-Arg-NH-4-methylcoumarin 7-amide}; 9.8 {benzyloxycarbonyl-L-Lys 4-nitrophenyl ester}; 2.5 {benzyloxycarbonyl-L-Ala 4-nitrophenyl ester}; 7.4 {benzyloxycarbonyl-L-Lys 4-nitrophenyl ester}; 20 {benzyl-Phe-Val-Arg-4-nitroanilide}; 0.87 {L-Pyroglutamyl-L-Phe-L-Leu 4-nitroanilide}; 0.11 {benzoyl-L-Arg methyl ester}; 0.12 {Benzyloxycarbonyl-Gly-Phe-citrulline 4-methylcoumarin 7-amide}; 8.3 {benzyloxycarbonyl-L-Ala 4-nitrophenyl ester}; 0.96 {Bz-Phe-Val-Arg-4-nitroanilide}; 0.68 {L-Pyroglutamyl-L-Phe-L-Leu 4-nitroanilide}; 5.1 {benzyloxycarbonyl-Phe-Val-Arg-NH-4-methylcoumarin 7-amide}; 0.024 {benzyloxycarbonyl-Arg-Arg-NH-4-methylcoumarin 7-amide}; 0.13 {Benzyloxycarbonyl-Phe-Arg 4-methylcoumarin 7-amide}; 0.0035 {benzoyl-L-Arg amide}; 0.0039 {benzoyl-L-Arg amide}; 0.0046 {benzoyl-L-Arg amide}; 0.018 {benzoyl-L-Arg amide}; 0.027 {benzoyl-L-Arg amide}; 0.035 {Tosyl-L-Lys methyl ester}; 0.36 {Benzoyl-Gly ethyl ester}; 0.39 {Bz-Phe-Val-Arg-4-nitroanilide}; 0.39 {benzoyl-L-Arg ethyl ester}; 0.42 {benzoyl-L-Arg ethyl ester}; 0.44 {benzyloxycarbonyl-L-Tyr 4-nitrophenyl ester}; 0.893 {benzoyl-Phe-Val-Arg 4-methylcoumarin 7-amide}; 1.4-1.5 {Benzyloxycarbonyl-L-Asn 4-nitrophenyl ester}; 1.75 {Benzyloxycarbonyl-Gly 4-nitrophenyl ester}; 3.35 {Benzyloxycarbonyl-Gly 4-nitrophenyl ester}; 3.94 {L-Pyroglutamyl-L-Phe-L-Leu 4-nitroanilide}; 6.4 {benzyloxycarbonyl-Phe-Val-Arg-NH-4-methylcoumarin 7-amide}; 6.31 {Bz-Phe-Val-Arg-4-nitroanilide}; 0.29 {Bz-Phe-Val-Arg-4-nitroanilide}; 0.56 {benzyloxycarbonyl-Phe-Arg-NH-4-methylcoumarin 7-amide}; 0.49 {benzyloxycarbonyl-Phe-Arg-NH-4-methylcoumarin 7-amide}; 0.461 {Bz-Phe-Val-Arg-4-nitroanilide}; 4.32 {Bz-Phe-Val-Arg-4-nitroanilide}; 0.0041 {milk protein concentrate}; 6.55 {Bz-Phe-Val-Arg-4-nitroanilide}; 0.0053 {whey protein isolate}; 0.399 {Bz-Phe-Val-Arg-4-nitroanilide}; 18.33 {Bz-Phe-Val-Arg-4-nitroanilide}; 17.33 {casein}; 11.72 {casein}; 18.08 {casein}; 8.44 {Bz-Phe-Val-Arg-4-nitroanilide}; 19.43 {Bz-Phe-Val-Arg-4-nitroanilide}; 20.03 {Bz-Phe-Val-Arg-4-nitroanilide}; 20.03 {Bz-Phe-Val-Arg-4-nitroanilide}; 20.03 {Bz-Phe-Val-Arg-4-nitroanilide}; 20.03 {Bz-Phe-Val-Arg-4-nitroanilide}; 20.03 {Bz-Phe-Val-Arg-4-nitroanilide}; 20.03 {Bz-Phe-Val-Arg-4-nitroanilide}; 21.45 {Bz-Phe-Val-Arg-4-nitroanilide}; 21.45 {Bz-Phe-Val-Arg-4-nitroanilide}; 18.35 {Bz-Phe-Val-Arg-4-nitroanilide}; 16.94 {Bz-Phe-Val-Arg-4-nitroanilide}; 19.23 {Bz-Phe-Val-Arg-4-nitroanilide}; 19.44 {Bz-Phe-Val-Arg-4-nitroanilide}; 0.033 {Nalpha-benzoyl-Arg amide}; 0.027 {Nalpha-benzoyl-Arg amide}; 0.0094 {Nalpha-benzoyl-Arg amide}; 1.93 {N-carbobenzoxyglycine p-nitrophenyl ester}; 0.2 {N-carbobenzoxyglycine 4-nitrophenyl ester}; 0.2 {N-carbobenzoxyglycine 4-nitrophenyl ester}; 1.93 {N-carbobenzoxyglycine 4-nitrophenyl ester}; 0.1 {benzyloxycarbonyl-Ile-Ser-Asn-4-methylcoumarin-7-amide}; 17.9 {benzyloxycarbonyl-Ala-Ala-Asn-4-methylcoumarin-7-amide}; -999 {more}; 0.33 {benzyloxycarbonyl-Ala-Ala-Asn-7-amido-4-methylcoumarin}; 46 {benzyloxycarbonyl-Ala-Ala-Asn-4-methylcoumarin-7-amide}; 0.4 {Benzyloxycarbonyl-Phe-Arg 4-methylcoumarin 7-amide}; 130 {benzyloxycarbonyl-Arg-Arg 4-methylcoumarin 7-amide}; 0.41 {4-[[4'-(dimethylamino)phenyl]azo]-benzoic acid-YVADAPV-5-[(2'-aminoethyl)-amino]naphthalenesulfonic acid}; 1 {acetyl-YVAD-7-amido-4-methylcoumarin}; 1.6 {succinyl-YVAD-4-nitroanilide}; 1.2 {pro-interleukin-1beta}; 0.3 {Ac-LSDGIDE-7-amido-4-carbamoylmethylcoumarin}; 3 {Ac-SLLSDGIDE-7-amido-4-carbamoylmethylcoumarin}; 3.75 {Ac-SLLSDGI-7-amido-4-carbamoylmethylcoumarin}; 0.02 {Ac-SDGIDEE-7-amido-4-carbamoylmethylcoumarin}; 1.06 {Ac-SLLSDG-7-amido-4-carbamoylmethylcoumarin}; 4.93 {Ac-LLSDGID-7-amido-4-carbamoylmethylcoumarin}; 2.23 {Ac-SLLSDGID-7-amido-4-carbamoylmethylcoumarin}; 2.72 {Ac-SLLSDGIDEE-7-amido-4-carbamoylmethylcoumarin}; -999 {more}; 1 {succinyl-YVAD-4-nitroanilide}; 13 {acetyl-WEHD-7-amido-4-methylcoumarin}; 0.35 {succinyl-YVAD-7-amido-4-methylcoumarin}; 0.3 {LSDGIDE}; 0.3 {LSDGIDE}; 3 {SLLSDGIDE}; 3 {SLLSDGIDE}; 3.75 {SLLSDGI}; 3.75 {SLLSDGI}; 0.02 {SDGIDEE}; 0.02 {SDGIDEE}; 1.06 {SLLSDG}; 1.06 {SLLSDG}; 4.93 {LLSDGID}; 4.93 {LLSDGID}; 2.23 {SLLSDGID}; 2.23 {SLLSDGID}; 1.22 {acetyl-FEAD-7-amido-4-methylcoumarin}; 2.72 {SLLSDGIDEE}; 2.72 {SLLSDGIDEE}; 8.87 {acetyl-WEHD-7-amido-4-methylcoumarin}; 2.96 {acetyl-WQPD-7-amido-4-methylcoumarin}; 1.22 {Ac-FEAD-7-amido-4-carbamoylmethylcoumarin}; 1.22 {Ac-FEAD-7-amido-4-carbamoylmethylcoumarin}; 8.87 {Ac-WEHD-7-amido-4-trifluoromethylcoumarin}; 8.87 {Ac-WEHD-7-amido-4-trifluoromethylcoumarin}; 2.96 {Ac-WQPD-7-amido-4-carbamoylmethylcoumarin}; 2.96 {Ac-WQPD-7-amido-4-carbamoylmethylcoumarin}; 0.32 {prothrombin}; 0.076 {prothrombin}; 0.005 {Abz-HPGGPQ-(3 NO2-Tyr)}; 0.2 {Abz-RPPGFSPFR-(3-NO2-Tyr)}; 1.9 {benzyloxycarbonyl-Leu-Arg-7-amido-4-methylcoumarin}; 1.9 {Z-Leu-Arg-7-amido-4-methylcoumarin}; 0.07 {Z-Gly-Pro-Arg-7-amido-4-methylcoumarin}; 0.07 {benzyloxycarbonyl-Gly-Pro-Arg-7-amido-4-methylcoumarin}; 46.3 {carbobenzyloxy-Leu-Arg-4-methylcoumaryl-7-amide}; 0.13 {benzyloxycarbonyl-Phe-Arg-7-amido-4-methylcoumarin}; 0.13 {Z-Phe-Arg-7-amido-4-methylcoumarin}; 21.1 {carbobenzyloxy-Leu-Arg-4-methylcoumaryl-7-amide}; 95.7 {carbobenzyloxy-Leu-Arg-4-methylcoumaryl-7-amide}; 97.5 {carbobenzyloxy-Leu-Arg-4-methylcoumaryl-7-amide}; 1.1 {Abz-RPPGFSPFR-(3-NO2-Tyr)}; 3.7 {Z-Gly-Pro-Arg-7-amido-4-methylcoumarin}; 5.7 {Z-Leu-Arg-7-amido-4-methylcoumarin}; 2 {Z-Gly-Pro-Arg-7-amido-4-methylcoumarin}; 2.1 {Z-Gly-Pro-Arg-7-amido-4-methylcoumarin}; 2.9 {Z-Gly-Pro-Arg-7-amido-4-methylcoumarin}; 12.7 {Z-Leu-Arg-7-amido-4-methylcoumarin}; 17 {carbobenzoxy-Phe-Arg-7-amido-4-methylcoumarin}; 3.6 {Z-Gly-Pro-Arg-7-amido-4-methylcoumarin}; 1.9 {Z-Gly-Pro-Arg-7-amido-4-methylcoumarin}; 2.4 {Z-Gly-Pro-Arg-7-amido-4-methylcoumarin}; 1.8 {Abz-HPGGPQ-(3 NO2-Tyr)}; 6.4 {Z-Leu-Arg-7-amido-4-methylcoumarin}; 7.6 {Z-Leu-Arg-7-amido-4-methylcoumarin}; 5.6 {Z-Leu-Arg-7-amido-4-methylcoumarin}; 6.2 {Z-Leu-Arg-7-amido-4-methylcoumarin}; 9.1 {Z-Leu-Arg-7-amido-4-methylcoumarin}; 12.8 {Z-Phe-Arg-7-amido-4-methylcoumarin}; 56.1 {carbobenzyloxy-Leu-Arg-4-methylcoumaryl-7-amide}; 12.7 {benzyloxycarbonyl-Leu-Arg-7-amido-4-methylcoumarin}; 2.4 {benzyloxycarbonyl-Gly-Pro-Arg-7-amido-4-methylcoumarin}; 12.8 {benzyloxycarbonyl-Phe-Arg-7-amido-4-methylcoumarin}; 0.52 {tert-butyloxycarbonyl-Val-Leu-Lys 4-methylcoumarin 7-amide}; 3.5 {Benzyloxycarbonyl-Phe-Arg 4-methylcoumarin 7-amide}; 3.4 {benzyloxycarbonyl-Leu-Arg 4-methylcoumarin 7-amide}; 0.016 {Acetyl-Phe-Arg 4-methylcoumarin 7-amide}; 0.19 {benzyloxycarbonyl-Val-Val-Arg-7-amido-4-methylcoumarin}; 0.9 {Benzyloxycarbonyl-Phe-Arg 4-methylcoumarin 7-amide}; 2.2 {tosyl-Gly-Pro-Arg 4-methylcoumarin 7-amide}; 79 {Z-Leu-Arg-7-amido-4-methylcoumarin}; 2.9 {Benzyloxycarbonyl-Val-Arg 4-methylcoumarin 7-amide}; 39 {benzyloxycarbonyl-Phe-Arg-7-amido-4-methylcoumarin}; 0.01 {Benzyloxycarbonyl-Val-Val-Arg 4-methylcoumarin 7-amide}; 0.16 {Pro-Phe-Arg 4-methylcoumarin 7-amide}; 0.078 {Benzyloxycarbonyl-Leu-Leu-Arg 4-methylcoumarin 7-amide}; 0.98 {benzyloxycarbonyl-Leu-Arg 4-methylcoumarin 7-amide}; 0.37 {benzyloxycarbonyl-Val-Val-Arg-7-amido-4-methylcoumarin}; 0.02 {Benzyloxycarbonyl-Leu-Leu-Arg 4-methylcoumarin 7-amide}; 0.39 {benzoyl-Phe-Val-Arg 4-methylcoumarin 7-amide}; 0.008 {Succinyl-Leu-Tyr 4-methylcoumarin 7-amide}; 0.0005 {benzyloxycarbonyl-Arg-Arg 4-methylcoumarin 7-amide}; 0.021 {Benzyloxycarbonyl-Val-Val-Arg 4-methylcoumarin 7-amide}; 0.037 {Benzyloxycarbonyl-Glu-Arg 4-methylcoumarin 7-amide}; 0.083 {tert-butyloxycarbonyl-Val-Pro-Arg 4-methylcoumarin 7-amide}; 0.092 {benzoyl-Arg 4-methylcoumarin 7-amide}; 1.06 {Benzyloxycarbonyl-Val-Arg 4-methylcoumarin 7-amide}; 23.2 {N-[(1S)-2,2,2-trifluoro-1-[4'-(methylsulfonyl)biphenyl-4-yl]ethyl]-L-leucyl-L-alaninamide}; 23.2 {N-[(1S)-2,2,2-trifluoro-1-[4'-(methylsulfonyl)biphenyl-4-yl]ethyl]-L-leucylglycinamide}; 91 {benzyloxycarbonyl-Phe-Arg-7-amido-4-methylcoumarin}; 3.25 {N-[(1S)-2,2,2-trifluoro-1-[4'-(methylsulfonyl)biphenyl-4-yl]ethyl]-L-leucyl-L-methioninamide}; 0.00011 {2,2'-N,N'-bis(benzyloxycarbonyl)-L-leucinylcarbohydrazide}; 3-6 {(Leu-Arg-Gly-Gly-NH)2-rhodamine}; -999 {more}; -999 {2-[5-Amino-2-(4-fluoro-phenyl)-6-oxo-6H-pyrimidin-1-yl]-N-(1-benzyl-2-oxo-2-thiazol-2-yl-ethyl)-acetamide}; 2.78 {(Leu-Arg-Gly-Gly-NH)2-rhodamine}; 0.0023 {(Leu-Arg-Gly-Gly-NH)2-rhodamine}; 0.0248 {(Leu-Arg-Gly-Gly-NH)2-rhodamine}; 0.271 {(Leu-Arg-Gly-Gly-NH)2-rhodamine}; 15 {6'-deoxy bleomycin Z}; 9.8 {bleomycin Z}; 2.5 {6'-deoxy tallysomycin H1}; 4 {bleomycin A2}; 2.4 {tallysomycin H1}; 4.9 {6'-deoxy bleomycin A2}; 11 {bleomycin B2}; 0.2 {N-benzyloxycarbonyl-L-Arg-L-Arg-4-methylcoumarin 7-amide}; 1.3 {N-benzyloxycarbonyl-L-Leu-L-Arg-4-methylcoumarin 7-amide}; 1.3 {N-benzyloxycarbonyl-L-Val-L-Arg-4-methylcoumarin 7-amide}; 2.5 {N-benzyloxycarbonyl-L-Phe-L-Arg-4-methylcoumarin 7-amide}; 1.5 {benzyloxycarbonyl-Phe-Arg-4-methylcoumaryl-7-amide}; 2.9 {benzyloxycarbonyl-Phe-Arg-4-methylcoumaryl-7-amide}; 3.7 {Z-Phe-Arg-4-methyl-7-coumaryl amide}; 3.4 {Z-Phe-Arg-4-methyl-7-coumaryl amide}; 1.5 {2-aminobenzoyl-KLRSIKQ-N-(2,4-dinitrophenyl)ethylenediamine}; 0.9 {2-aminobenzoyl-KLRVSKQ-N-(2,4-dinitrophenyl)ethylenediamine}; 1.3 {2-aminobenzoyl-KLRSSKQ-N-(2,4-dinitrophenyl)ethylenediamine}; 1.3 {2-aminobenzoyl-EE-epsilon-amino-caproic acid-ELKLQ-N-(2,4-dinitrophenyl)ethylenediamine}; 1.7 {2-aminobenzoyl-KK-epsilon-amino-caproic acid-ELKLQ-N-(2,4-dinitrophenyl)ethylenediamine}; 0.6 {2-aminobenzoyl-ELKLQ-N-(2,4-dinitrophenyl)ethylenediamine}; 4 {2-aminobenzoyl-ALRSSKQ-N-(2,4-dinitrophenyl)ethylenediamine}; -999 {more}; -999 {more}; 1.3 {benzyloxycarbonyl-Phe-Arg-7-amido-4-methylcoumarin}; 1.4 {benzyloxycarbonyl-Phe-Arg-7-amido-4-methylcoumarin}; 19 {benzyloxycarbonyl-Val-Val-Arg-7-amido-4-methylcoumarin}; 5.4 {benzyloxycarbonyl-Phe-Arg-7-amido-4-methylcoumarin}; 5.3 {benzyloxycarbonyl-Phe-Arg-7-amido-4-methylcoumarin}; 7.6 {benzyloxycarbonyl-Phe-Arg-7-amido-4-methylcoumarin}; 8.2 {benzyloxycarbonyl-Phe-Arg-7-amido-4-methylcoumarin}; 156 {benzyloxycarbonyl-Phe-Arg-7-amido-4-methylcoumarin}; 0.071 {acetyl-Asn-Asn-Val-Arg-Phe-Gln-Ser-Leu-amide}; 0.079 {acetyl-Arg-Glu-Thr-Val-Arg-Phe-Gln-Ser-Asp-amide}; 0.005 {WDGGEVAHQAGESV}; 0.01 {WDGGEVAHQAGESV}; 0.004 {WDGGEVAHQAGESV}; 0.002 {WDGGEVAHQAGESV}; 0.063 {WDGGEVAHQAGESV}; 0.006 {WDGGEVAHQAGESV}; 0.23 {WDGGEVAHQAGESV}; 0.034 {WDGGEVAHQAGESV}; 0.092 {TETVRFQSGTRR}; 0.094 {TETVRFQSGTRR}; 0.033 {Pro-Thr-Thr-Glu-Leu-Tyr-Phe-Gln-Ser-Gly-Thr-Val-Asp-Arg-Arg}; 0.18 {Pro-Thr-Thr-Glu-Leu-Tyr-Phe-Gln-Ser-Gly-Thr-Val-Asp-Arg-Arg}; 0.00091 {norovirus P domain-fused RNA interaction-mediated domain}; 0.088406 {norovirus P domain-fused RNA interaction-mediated domain}; 0.044199 {norovirus P domain-fused RNA interaction-mediated domain}; 0.19 {acetyl-Glu-Pro-Thr-Val-Tyr-His-Gln-Thr-Leu-amide}; 0.34 {acetyl-Glu-Pro-Thr-Val-Tyr-His-Gln-Thr-Leu-amide}; 1.01 {acetyl-Glu-Pro-Thr-Val-Tyr-His-Gln-Thr-Leu-amide}; 0.12 {acetyl-Glu-Pro-Thr-Val-Tyr-His-Gln-Thr-Leu-amide}; 0.32 {acetyl-Glu-Pro-Thr-Val-Tyr-His-Gln-Thr-Leu-amide}; 0.22 {acetyl-Glu-Pro-Thr-Val-Tyr-His-Gln-Thr-Leu-amide}; 0.33 {acetyl-Glu-Pro-Thr-Val-Tyr-His-Gln-Thr-Leu-amide}; 0.373 {acetyl-Glu-Pro-Thr-Val-Tyr-His-Gln-Thr-Leu-amide}; 9.4 {hemoglobin}; 0.2 {N-Suc-Gly-Phe-Gly-p-nitroanilide}; 0.16 {N-benzyloxycarbonyl-Phe-Leu-Glu-NH-p-nitroanilide}; 0.002 {2-aminobenzoyl-Ile-Ala-Ala-Gly-5-amino-2-nitrobenzoylamide}; 0.012 {2-aminobenzoyl-Ile-Ala-Lys-Asp-5-amino-2-nitrobenzoylamide}; 0.023 {2-aminobenzoyl-Phe-Gly-Ala-Lys-5-amino-2-nitrobenzoylamide}; 0.056 {2-aminobenzoyl-Ile-Ala-Ala-Gly-5-amino-2-nitrobenzoylamide}; 0.032 {2-aminobenzoyl-Ile-Ala-Lys-Asp-5-amino-2-nitrobenzoylamide}; 0.089 {2-aminobenzoyl-Ile-Ala-Lys-Asp-5-amino-2-nitrobenzoylamide}; 0.886 {2-aminobenzoyl-Ile-Ala-Ala-Gly-5-amino-2-nitrobenzoylamide}; 0.0112 {2-aminobenzoyl-Phe-Gly-Ala-Lys-5-amino-2-nitrobenzoylamide}; 0.716 {2-aminobenzoyl-Phe-Gly-Ala-Lys-5-amino-2-nitrobenzoylamide}; 0.95 {Z-Phe-Arg 7-amido-4-methylcoumarin}; 0.73 {Z-Arg-Arg-7-amido-4-methylcoumarin}; 0.73 {Z-Leu-Arg 7-amido-4-methylcoumarin}; 0.94 {Z-Val-Arg-7-amido-4-methylcoumarin}; 0.51 {Z-Val-Val-Arg 7-amido-4-methylcoumarin}; 0.5 {o-aminobenzoyl-KPRFSKQ-N-(2,4-dinitrophenyl)-ethylenediamine}; 3.4 {2-aminobenzoyl-Phe-Arg-(2,4-dinitrophenyl)-epsilon-NH2-lysine-Trp-OH}; 0.1 {2-aminobenzoyl-ARF-(2,4-dinitrophenyl)-epsilon-NH2-lysine-OH}; 1.3 {o-aminobenzoyl-KARFSKQ-N-(2,4-dinitrophenyl)-ethylenediamine}; 2.8 {o-aminobenzoyl-KLRFPKQ-N-(2,4-dinitrophenyl)-ethylenediamine}; 5.5 {2-aminobenzoyl-FRA-(2,4-dinitrophenyl)-epsilon-NH2-lysine-OH}; 1.4 {2-aminobenzoyl-Phe-Arg-(2,4-dinitrophenyl)-epsilon-NH2-lysine-Pro-OH}; 2.9 {2-aminobenzoyl-FRF-(2,4-dinitrophenyl)-epsilon-NH2-lysine-OH}; 2.5 {o-aminobenzoyl-KLFFSKQ-N-(2,4-dinitrophenyl)-ethylenediamine}; 15.2 {o-aminobenzoyl-KLRFAKQ-N-(2,4-dinitrophenyl)-ethylenediamine}; 0.15 {N-alpha-benzyloxycarbonyl-L-arginyl-L-alanine-(7-amido-4-methylcoumarin)}; 9.7 {o-aminobenzoyl-KLRFFKQ-N-(2,4-dinitrophenyl)-ethylenediamine}; 7.7 {o-aminobenzoyl-KRRFSKQ-N-(2,4-dinitrophenyl)-ethylenediamine}; 12.5 {o-aminobenzoyl-KLRFSRQ-N-(2,4-dinitrophenyl)-ethylenediamine}; 13.9 {o-aminobenzoyl-KLRFSPQ-N-(2,4-dinitrophenyl)-ethylenediamine}; 1.9 {o-aminobenzoyl-KFRFSKQ-N-(2,4-dinitrophenyl)-ethylenediamine}; 1.9 {o-aminobenzoyl-KLRRSKQ-N-(2,4-dinitrophenyl)-ethylenediamine}; 4.3 {o-aminobenzoyl-KLRFSKQ-N-(2,4-dinitrophenyl)-ethylenediamine}; 10.8 {epsilon-NH2(capryl)-L-(SBzl)C-7-amido-4-methylcoumarin}; 4.2 {2-aminobenzoyl-FRA-(2,4-dinitrophenyl)-epsilon-NH2-lysine-NH2}; 4.5 {o-aminobenzoyl-ALRFSKQ-N-(2,4-dinitrophenyl)-ethylenediamine}; 6.9 {o-aminobenzoyl-KLRFSKQ-N-(2,4-dinitrophenyl)-ethylenediamine}; 6.7 {o-aminobenzoyl-LLRFSKQ-N-(2,4-dinitrophenyl)-ethylenediamine}; 0.14 {N-alpha-benzyloxy-carbonyl-L-phenylalanyl-L-alanine-(7-amido-4-methylcoumarin)}; 0.13 {N-alpha-benzyloxycarbonyl-L-tyrosyl-L-alanine-(7-amido-4-methylcoumarin)}; 0.13 {2-aminobenzoyl-RRF-(2,4-dinitrophenyl)-epsilon-NH2-lysine-OH}; 5.6 {o-aminobenzoyl-KLGFSKQ-N-(2,4-dinitrophenyl)-ethylenediamine}; 5.6 {o-aminobenzoyl-HLRFSKQ-N-(2,4-dinitrophenyl)-ethylenediamine}; 8.2 {o-aminobenzoyl-KLRFAKQ-N-(2,4-dinitrophenyl)-ethylenediamine}; 9.1 {o-aminobenzoyl-KLRLSKQ-N-(2,4-dinitrophenyl)-ethylenediamine}; 14.2 {o-aminobenzoyl-KLKFSKQ-N-(2,4-dinitrophenyl)-ethylenediamine}; -999 {more}; 0.08 {2-aminobenzoic acid-KLRFSKQ-N-(2,4-dinitrophenyl)ethylenediamine}; 0.025 {2-aminobenzoyl-LGMISLMKRPQ-N-(2,4-dinitrophenyl)ethylenediamine}; 0.0433 {benzoyl-Phe-Arg-7-amido-4-methylcoumarin}; 0.055 {benzoyl-Phe-Arg-7-amido-4-methylcoumarin}; 0.172 {benzoyl-His-Arg-7-amido-4-methylcoumarin}; 0.158 {benzyloxycarbonyl-FR-aminomethyl coumarin}; 0.0583 {2-aminobenzoyl-LGMISLMKRPQ-N-(2,4-dinitrophenyl)ethylenediamine}; 0.0683 {2-aminobenzoic acid-KLRFSKQ-N-(2,4-dinitrophenyl)ethylenediamine}; 0.0783 {benzoyl-RR-aminomethyl coumarin}; 0.0805 {N-carbobenzoxy-Arg-Arg-2-(4-methoxy)-naphthylamide}; 0.193 {benzoyl-Phe-Arg-7-amido-4-methylcoumarin}; 2.16 {benzyloxycarbonyl-Phe-Arg-aminomethyl coumarin}; 4.49 {benzyloxycarbonyl-Phe-Arg-aminomethyl coumarin}; 15 {benzyloxycarbonyl-Phe-Arg-7-amido-4-methylcoumarin}; 3.7 {benzyloxycarbonyl-Arg-Arg-7-amido-4-methylcoumarin}; 0.017 {benzyloxycarbonyl-Arg-Ala-7-amido-4-methylcoumarin}; 0.1 {benzyloxycarbonyl-Arg-Arg-7-amido-4-methylcoumarin}; 0.4 {benzyloxycarbonyl-Arg-Arg-7-amido-4-methylcoumarin}; 8 {benzyloxycarbonyl-Arg-Arg-7-amido-4-methylcoumarin}; 0.7 {benzyloxycarbonyl-Arg-Arg-7-amido-4-methylcoumarin}; 21 {benzyloxycarbonyl-Phe-Arg-7-amido-4-methylcoumarin}; 16 {benzyloxycarbonyl-Phe-Arg-7-amido-4-methylcoumarin}; 7.4 {benzyloxycarbonyl-Arg-Arg-7-amido-4-methylcoumarin}; 17 {benzyloxycarbonyl-Phe-Arg-7-amido-4-methylcoumarin}; 13.5 {benzyloxycarbonyl-Phe-Arg-7-amido-4-methylcoumarin}; 13.5 {benzyloxycarbonyl-Phe-Arg-7-amido-4-methylcoumarin}; 5.8 {benzyloxycarbonyl-Arg-Arg-7-amido-4-methylcoumarin}; 5.8 {benzyloxycarbonyl-Arg-Arg-7-amido-4-methylcoumarin}; 14 {benzyloxycarbonyl-Phe-Arg-7-amido-4-methylcoumarin}; 14 {benzyloxycarbonyl-Phe-Arg-7-amido-4-methylcoumarin}; 14 {benzyloxycarbonyl-Phe-Arg-7-amido-4-methylcoumarin}; 1.9 {benzyloxycarbonyl-Arg-Arg-7-amido-4-methylcoumarin}; 7.2 {benzyloxycarbonyl-Arg-Arg-7-amido-4-methylcoumarin}; 13 {benzyloxycarbonyl-Phe-Arg-7-amido-4-methylcoumarin}; 13 {benzyloxycarbonyl-Phe-Arg-7-amido-4-methylcoumarin}; 13 {benzyloxycarbonyl-Phe-Arg-7-amido-4-methylcoumarin}; 5.9 {benzyloxycarbonyl-Arg-Arg-7-amido-4-methylcoumarin}; 14.1 {benzyloxycarbonyl-Phe-Arg-7-amido-4-methylcoumarin}; 6.9 {benzyloxycarbonyl-Arg-Arg-7-amido-4-methylcoumarin}; 6.9 {benzyloxycarbonyl-Arg-Arg-7-amido-4-methylcoumarin}; 7.1 {benzyloxycarbonyl-Arg-Arg-7-amido-4-methylcoumarin}; 0.27 {benzyloxycarbonyl-Arg-Arg-7-amido-4-methylcoumarin}; 13.6 {benzyloxycarbonyl-Phe-Arg-7-amido-4-methylcoumarin}; 0.89 {benzyloxycarbonyl-Arg-Ala-7-amido-4-methylcoumarin}; 0.52 {N-benzyloxycarbonyl-L-Leu-L-Arg-4-methoxy-2-naphthylamide}; 0.11 {K-(5(6)-carboxyfluorescein)-EVYGMMK(4-(4-dimethylaminophenylazo)benzoyl)-OH}; 0.12 {succinyl-L-Leu-L-Tyr-4-methoxy-2-naphthylamide}; 0.025 {2-aminobenzoyl-EVYGMMY(3-NO2)-OH}; 0.07 {N-benzyloxycarbonyl-L-Leu-L-Arg-7-amido-4-trifluoromethylcoumarin}; 0.37 {succinyl-L-Leu-L-Tyr-7-amido-4-methylcoumarin}; 0.02 {N-benzyloxycarbonyl-L-Leu-L-Arg-7-amido-4-methylcoumarin}; 0.062 {succinyl-L-Leu-L-Met-7-amido-4-methylcoumarin}; 0.29 {succinyl-L-Leu-L-Leu-L-Val-7-amido-4-methylcoumarin}; 0.029 {succinyl-L-Leu-L-Leu-L-Val-L-Tyr-7-amido-4-methylcoumarin}; 0.49 {tert-butyloxycarbonyl-L-Val-L-Leu-L-Lys-7-amido-4-methylcoumarin}; 0.04 {succinyl-Leu-Tyr-7-amido-4-methylcoumarin}; 0.0394 {succinyl-Leu-Leu-Val-Tyr-methylcoumarin}; 0.341 {Boc-Val-Leu-Lys-methylcoumarin}; 0.546 {t-Boc-Leu-Met-methylcoumarin}; 0.083 {succinyl-Leu-Tyr-7-amido-4-methylcoumarin}; 1.06 {t-butyloxycarbonyl-Val-Leu-Lys-7-amido-4-methylcoumarin}; 0.063 {succinyl-Leu-Leu-Val-Tyr-7-amido-4-methylcoumarin}; 0.062 {succinyl-Leu-Leu-Val-Tyr-7-amido-4-methylcoumarin}; 1.08 {t-butyloxycarbonyl-Val-Leu-Lys-7-amido-4-methylcoumarin}; 0.084 {succinyl-Leu-Tyr-7-amido-4-methylcoumarin}; 0.186 {succinyl-Leu-Met-7-amido-4-methylcoumarin}; 0.189 {succinyl-Leu-Met-7-amido-4-methylcoumarin}; -999 {more}; 2.1 {Abz-VDVADQA-Dap(Dnp)}; 1.7 {Abz-VDVADVA-Dap(Dnp)}; 54 {Abz-VDVADVA-Dap(Dnp)}; 3.6 {Abz-VDVADFA-Dap(Dnp)}; 0.6 {Ac-VDVAD-7-amido-4-trifluoromethylcoumarin}; 190 {Abz-VDVADGA-Dap(Dnp)}; 4.6 {Abz-VDVADQA-Dap(Dnp)}; 270 {Abz-VDVADGA-Dap(Dnp)}; 7.9 {Abz-VDVADFA-Dap(Dnp)}; 0.0057 {Abz-VDVADQA-Dap(Dnp)}; 0.032 {Abz-VDVADGA-Dap(Dnp)}; 0.0023 {Abz-VDVADVA-Dap(Dnp)}; 0.00084 {Abz-VDVADFA-Dap(Dnp)}; 0.0099 {Abz-VDVADPA-Dap(Dnp)}; 0.00081 {Abz-VDVADPA-Dap(Dnp)}; -999 {acetyl-L-Asp-L-Glu-L-Val-L-Asp-7-amido-4-methylcoumarin}; 0.03-0.55 {benzoyl-L-Asp-L-Glu-L-Val-L-Asp-7-amido-4-methylcoumarin}; 1.1 {benzoyl-L-Asp-L-Glu-L-Val-L-Asp-7-amido-4-methylcoumarin}; 1.1 {benzoyl-L-Asp-L-Glu-L-Val-L-Asp-7-amido-4-methylcoumarin}; 3.5 {acetyl-L-Asp-L-Glu-L-Val-L-Asp-7-amido-4-methylcoumarin}; 3.5 {acetyl-L-Asp-L-Met-L-Gln-L-Asp-4-nitroanilide}; 0.017 {N-(5(6)-carboxyfluoresceinyl)-6-aminohexanoyl-Asp-Asn-Pro-Asp-6-aminohexanoyl-N6-[methyl red]-Lys-[N-(6-aminohexyl)-Gly]8-N2-(6-aminohexyl)-Gly-NH2}; 0.8 {acetyl-L-Val-L-Asp-L-Val-L-Ala-L-Asp-4-nitroanilide}; 0.9 {acetyl-L-Asp-L-Val-L-Ala-L-Asp-4-nitroanilide}; 0.84 {acetyl-L-Leu-L-Asp-L-Val-L-Ala-L-Asp-4-nitroanilide}; 1.37 {acetyl-L-Asp-L-Glu-L-Val-L-Asp-7-amido-4-methylcoumarin}; 0.16 {benzoyl-L-Asp-L-Glu-L-Val-L-Asp-7-amido-4-methylcoumarin}; 0.08 {acetyl-L-Asp-L-Glu-L-Val-L-Asp-7-amido-4-methylcoumarin}; 0.06 {benzoyl-L-Asp-L-Glu-L-Val-L-Asp-7-amido-4-methylcoumarin}; 0.0217 {N-(5(6)-carboxyfluoresceinyl)-6-aminohexanoyl-Asp-Ala-Pro-Asp-6-aminohexanoyl-N6-[methyl red]-Lys-[N-(6-aminohexyl)-Gly]8-N2-(6-aminohexyl)-Gly-NH2}; 0.015 {N-(5(6)-carboxyfluoresceinyl)-6-aminohexanoyl-Asp-Glu-Val-Asp-6-aminohexanoyl-N6-[methyl red]-Lys-[N-(6-aminohexyl)-Gly]8-N2-(6-aminohexyl)-Gly-NH2}; 0.015 {N-(5(6)-carboxyfluoresceinyl)-6-aminohexanoyl-Asp-Leu-Val-Asp-6-aminohexanoyl-N6-[methyl red]-Lys-[N-(6-aminohexyl)-Gly]8-N2-(6-aminohexyl)-Gly-NH2}; 1.54 {acetyl-L-Asp-L-Glu-L-Val-L-Asp-7-amido-4-methylcoumarin}; 0.013 {N-(5(6)-carboxyfluoresceinyl)-6-aminohexanoyl-Asp-Asn-Val-Asp-6-aminohexanoyl-N6-[methyl red]-Lys-[N-(6-aminohexyl)-Gly]8-N2-(6-aminohexyl)-Gly-NH2}; 0.33 {acetyl-L-Asp-L-Glu-L-Val-L-Asp-7-amido-4-methylcoumarin}; 0.0183 {N-(5(6)-carboxyfluoresceinyl)-6-aminohexanoyl-Asp-Ala-Val-Asp-6-aminohexanoyl-N6-[methyl red]-Lys-[N-(6-aminohexyl)-Gly]8-N2-(6-aminohexyl)-Gly-NH2}; 0.00917 {N-(5(6)-carboxyfluoresceinyl)-6-aminohexanoyl-Asp-Gly-Pro-Asp-6-aminohexanoyl-N6-[methyl red]-Lys-[N-(6-aminohexyl)-Gly]8-N2-(6-aminohexyl)-Gly-NH2}; 0.023 {N-(5(6)-carboxyfluoresceinyl)-6-aminohexanoyl-Asp-Val-Val-Asp-6-aminohexanoyl-N6-[methyl red]-Lys-[N-(6-aminohexyl)-Gly]8-N2-(6-aminohexyl)-Gly-NH2}; 0.023 {N-(5(6)-carboxyfluoresceinyl)-6-aminohexanoyl-Asp-Leu-Pro-Asp-6-aminohexanoyl-N6-[methyl red]-Lys-[N-(6-aminohexyl)-Gly]8-N2-(6-aminohexyl)-Gly-NH2}; 1.43 {benzoyl-L-Asp-L-Glu-L-Val-L-Asp-7-amido-4-methylcoumarin}; 0.88 {acetyl-L-Asp-L-Glu-L-Val-L-Asp-4-nitroanilide}; 0.028 {N-(5(6)-carboxyfluoresceinyl)-6-aminohexanoyl-Asp-Val-Pro-Asp-6-aminohexanoyl-N6-[methyl red]-Lys-[N-(6-aminohexyl)-Gly]8-N2-(6-aminohexyl)-Gly-NH2}; 0.0083 {N-(5(6)-carboxyfluoresceinyl)-6-aminohexanoyl-Asp-Gly-Val-Asp-6-aminohexanoyl-N6-[methyl red]-Lys-[N-(6-aminohexyl)-Gly]8-N2-(6-aminohexyl)-Gly-NH2}; 7.08 {benzoyl-L-Asp-L-Glu-L-Val-L-Asp-7-amido-4-methylcoumarin}; 19.04 {benzoyl-L-Asp-L-Glu-L-Val-L-Asp-7-amido-4-methylcoumarin}; 6.01 {acetyl-L-Asp-L-Glu-L-Val-L-Asp-7-amido-4-methylcoumarin}; 19.56 {acetyl-L-Asp-L-Glu-L-Val-L-Asp-7-amido-4-methylcoumarin}; -999 {more}; 14 {acetyl-DEVD-7-amido-4-methylcoumarin}; 9.1 {acetyl-DEVD-7-amido-4-methylcoumarin}; -999 {more}; 0.5 {acetyl-YVAD-amido-4-methylcoumarin}; 1.1 {succinyl-YVAD-4-nitroanilide}; 0.4 {succinyl-YVAD-amido-4-methylcoumarin}; 1.2 {acetyl-WEHD 7-amido-4-methylcoumarin}; 1.07 {succinyl-YVAD-4-nitroanilide}; 0.3 {LSDGIDE}; 3 {SLLSDGIDE}; 3.75 {SLLSDGI}; 0.02 {SDGIDEE}; 1.06 {SLLSDG}; 4.93 {LLSDGID}; 2.23 {SLLSDGID}; 1.22 {acetyl-FEAD-7-amido-4-methylcoumarin}; 2.72 {SLLSDGIDEE}; 8.87 {acetyl-WEHD-7-amido-4-methylcoumarin}; 2.96 {acetyl-WQPD-7-amido-4-methylcoumarin}; 9.2 {acetyl-WEHD-7-amido-4-methylcoumarin}; 0.58 {acetyl-FEAD-7-amido-4-methylcoumarin}; 1.53 {acetyl-WQPD-7-amido-4-methylcoumarin}; 2.3 {acetyl-WEHD-7-amido-4-methylcoumarin}; -999 {more}; 1 {N-acetyl-Ile-Val-Leu-Asp-7-amido-4-methylcoumarin}; 6 {N-acetyl-Thr-Glu-Val-Asp-7-amido-4-methylcoumarin}; 0.7 {N-acetyl-VEID-7-amido-4-methylcoumarin}; 2 {Ac-Val-Glu-Ile-Asp-7-amido-4-trifluoromethylcoumarin}; 3.2 {N-acetyl-Asp-Glu-Val-Asp-7-amido-4-trifluoromethylcoumarin}; 5.5 {N-acetyl-Asp-Glu-Val-Asp-7-amido-4-methylcoumarin}; 3.6 {N-acetyl-Val-Glu-Ile-Asp-7-amido-4-methylcoumarin}; 0.05 {Ac-Val-Glu-Ile-Asp-7-amido-4-trifluoromethylcoumarin}; 43 {N-acetyl-Val-Glu-His-Asp-7-amido-4-methylcoumarin}; 1.59 {N-acetyl-Val-Glu-Ile-Asp-7-amido-4-methylcoumarin}; 2.42 {Ac-Val-Glu-Ile-Asp-7-amido-4-trifluoromethylcoumarin}; 0.015 {N-acetyl-VEID-7-amido-4-methylcoumarin}; 1.66 {N-acetyl-Val-Glu-Ile-Asp-7-amido-4-methylcoumarin}; 2.51 {Ac-Val-Glu-Ile-Asp-7-amido-4-trifluoromethylcoumarin}; 2.27 {Ac-Val-Glu-Ile-Asp-7-amido-4-trifluoromethylcoumarin}; 1.39 {N-acetyl-Val-Glu-Ile-Asp-7-amido-4-methylcoumarin}; 1.71 {Ac-Val-Glu-Ile-Asp-7-amido-4-trifluoromethylcoumarin}; 0.051 {N-acetyl-VEID-7-amido-4-methylcoumarin}; 2.04 {Ac-Val-Glu-Ile-Asp-7-amido-4-trifluoromethylcoumarin}; 0.371 {N-acetyl-VEID-7-amido-4-methylcoumarin}; 0.309 {N-acetyl-VEID-7-amido-4-methylcoumarin}; 2.9 {benzyloxycarbonyl-Phe-Arg-4-methylcoumarin 7-amide}; 0.05 {benzoyl-Arg-4-nitroanilide}; 4 {Succinyl-albumin}; 14 {benzyloxycarbonyl-Lys phenyl ester}; 360 {methyl red-Abu-Ser-Ala-Pro-Val-Lys-Ala-Lys(N6-(5-carboxyfluorescein))-NH2}; 15.5 {benzyloxycarbonyl-Lys phenyl ester}; 133 {methyl red-Abu-Ser-Ala-Pro-Val-Lys-Ala-Lys(N6-(5-carboxyfluorescein))-NH2}; 0.003 {benzoyl-Arg-4-nitroanilide}; 590 {methyl red-Abu-Ala-Pro-Val-Lys-Lys(N5-(5-carboxyfluorescein))-NH2}; 246 {methyl red-Abu-Ala-Pro-Val-Lys-Lys(N5-(5-carboxyfluorescein))-NH2}; 6.08 {Ac-DVAD-p-nitroanilide}; 6.08 {Ac-LDVAD-p-nitroanilide}; -999 {more}; 0.1 {N-acetyl-Asp-Glu-Val-Asp-p-nitroanilide}; 5.5 {acetyl-DEVD-7-amido-4-methylcoumarin}; 3.6 {N-acetyl-Asp-Glu-Val-Asp-p-nitroanilide}; 10.3 {acetyl-DEVD-p-nitroanilide}; 1.9 {N-acetyl-Asp-Glu-Val-Asp-p-nitroanilide}; 4.4 {N-acetyl-Asp-Glu-Val-Asp-p-nitroanilide}; 6.3 {acetyl-DEVD-7-amido-4-methylcoumarin}; 6.9 {acetyl-DEVD-7-amido-4-fluoromethylcoumarin}; 0.008 {N-acetyl-Asp-Glu-Val-Asp-p-nitroanilide}; 1.26 {Ac-VDVAD-p-nitroanilide}; 0.9467 {Ac-DVAD-p-nitroanilide}; 1.102 {Ac-LDVAD-p-nitroanilide}; 3.4 {N-acetyl-DEVD-7-amido-4-fluoromethylcoumarin}; 0.1 {Ac-VEID-7-amido-4-methylcoumarin}; 0.9 {Ac-DEVD-7-amido-4-methylcoumarin}; 0.9 {N-acetyl-PEVD-7-amido-4-trifluoromethylcoumarin}; 2.9 {N-acetyl-DEVD-7-amido-4-fluoromethylcoumarin}; 4.3 {N-acetyl-DEVD-7-amido-4-fluoromethylcoumarin}; 2.4 {Ac-DEVD-7-amido-4-methylcoumarin}; 3.9 {N-acetyl-DEVD-7-amido-4-fluoromethylcoumarin}; 4.4 {N-acetyl-DEVD-7-amido-4-fluoromethylcoumarin}; 5.6 {N-acetyl-DEVD-7-amido-4-trifluoromethylcoumarin}; 9.5 {N-acetyl-DEVD-7-amido-4-fluoromethylcoumarin}; 4.1 {N-acetyl-DEVD-7-amido-4-fluoromethylcoumarin}; 0.65 {acetyl-IETD-7-amido-4-fluoromethylcoumarin}; 0.78 {acetyl-IETD-7-amido-4-fluoromethylcoumarin}; 0.98 {acetyl-IETD-7-amido-4-fluoromethylcoumarin}; 1.25 {acetyl-IETD-7-amido-4-fluoromethylcoumarin}; 0.37 {acetyl-DEVD-7-amido-4-methylcoumarin}; 0.1 {acetyl-VEHD-7-amido-4-methylcoumarin}; 0.2 {acetyl-VEHD-7-amido-4-methylcoumarin}; 0.2 {2-aminobenzoic acid-Val-Ala-Nle-Ser-(3-nitro)-tyrosinyl-aspartamide}; 5.38 {DABCYL-TSAVLQSGFRKME-EDANS}; 0.0012 {Dabcyl-KTSAVLQSGFRKME-EDANS}; 0.0014 {Dabcyl-KTSAVLQSGFRKME-EDANS}; 0.37 {N-methylanthranilyl-TSAVLQSGFRK(2,4-dinitrophenyl)}; 2.88 {DABCYL-TSAVLQSGFRKME-EDANS}; 3.3 {Abz-SAVLQSGFRK(Dnp)NH2}; -999 {more}; 0.017 {2-aminobenzoyl-TSAVLQSGFRK-2,4-dinitrophenyl amide}; 0.017 {2-aminobenzoyl-TSAVLQSGFRK-2,4-dinitrophenyl amide}; 0.63 {Thr-Ser-Ala-Val-Leu-Gln-p-nitroanilide}; 0.1 {Thr-Ser-Ala-Val-Leu-Gln-p-nitroanilide}; 1.5 {[4-(4-dimethylaminophenylazo)benzoic acid]-KTSAVLQSGFRKME-5-[2'-(aminoethyl)amino]-naphthalenesulfonic acid}; 1.6 {SAVLQMGFRK}; 3 {Abz-SAVLQSGFRKMAK(Dnp)NH2}; 2.9 {Abz-SAVLQSGFRKMAFPSGK(Dnp)NH2}; 0.039 {2-aminobenzoyl-TSAVLQSGFRK-2,4-dinitrophenyl amide}; 0.04 {Abz-VLQSGFRK(Dnp)NH2}; 0.77 {Abz-VLQSGFRK(Dnp)NH2}; 0.86 {SITSAVLQ-p-nitroanilide}; 76 {GPFVDRQTAQAAGTDT-NH2}; 0.16 {[4-(4-dimethylaminophenylazo)benzoic acid]-KNSTLQSGLRKE-[5-[2'-(aminoethyl)amino]-naphthalenesulfonic acid]}; 0.6 {SITSAVLQ-p-nitrophenyl ester}; 0.6 {Abz-QTSITSAVLQSGFRK(Dnp)NH2}; 0.11 {Abz-SAVLQSGK(Dnp)NH2}; 0.11 {Thr-Ser-Ala-Val-Leu-Gln-4-nitroanilide}; 0.033 {2-aminobenzoyl-TSAVLQSGFRK-2,4-dinitrophenyl amide}; 0.033 {2-aminobenzoyl-TSAVLQSGFRK-2,4-dinitrophenyl amide}; 0.025 {2-aminobenzoyl-TSAVLQSGFRK-2,4-dinitrophenyl amide}; 0.28 {Abz-LYQPPQTSITSAVLQSGFRK(Dnp)NH2}; 8.5 {SITSAVLQSGFRKMA}; 0.38 {o-aminobenzoyl-TSAVLQSGFRY(NO2)G}; 0.38 {Abz-SGADVLYQPPQTSITSAVLQSGFRK(Dnp)NH2}; 0.004 {Abz-SAVLQSGK(Dnp)NH2}; 0.07 {Abz-SAVLQSGFRK(Dnp)NH2}; 12.2 {TSAVLQSGFRK-NH2}; 0.02 {Abz-LQSGFRK(Dnp)NH2}; 0.14 {[4-(4-dimethylaminophenylazo)benzoic acid]-KNSTLQSGLRKE-[5-[2'-(aminoethyl)amino]-naphthalenesulfonic acid]}; 0.027 {Ser-Ala-Val-Leu-Gln-Met-Gly-Phe-Arg-Lys}; 0.027 {2-aminobenzoyl-TSAVLQSGFRK-2,4-dinitrophenyl amide}; 0.035 {2-aminobenzoyl-TSAVLQSGFRK-2,4-dinitrophenyl amide}; 0.001 {2-aminobenzoyl-TSAVLQSGFRK-2,4-dinitrophenyl amide}; 0.003 {Abz-LQSGFRK(Dnp)NH2}; 0.03 {2-aminobenzoyl-TSAVLQSGFRK-2,4-dinitrophenyl amide}; 0.31 {Thr-Ser-Ala-Val-Leu-Gln-p-nitroanilide}; 0.022 {2-aminobenzoyl-TSAVLQSGFRK-2,4-dinitrophenyl amide}; 0.0153 {(Ala-Arg-Leu-Gln-NH)2-rhodamine}; 0.27 {Ser-Ala-Val-Leu-Gln-Met-Gly-Phe-Arg-Lys}; 2.55 {SGVTFQGKFKK}; 1.68 {PHTVLQAVGAC}; 0.48 {Thr-Ser-Ala-Val-Leu-Gln-p-nitroanilide}; 1.57 {FYPKLQASQAW}; 16.2 {SAVLQMGFRK}; 455 {KVATVQSKMSD-NH2}; 0.0015 {Thr-Ser-Ala-Val-Leu-Gln-4-nitroanilide}; 0.00004 {2-aminobenzoyl-TSAVLQSGFRK-2,4-dinitrophenyl amide}; 0.0021 {2-aminobenzoyl-TSAVLQSGFRK-2,4-dinitrophenyl amide}; 0.0022 {2-aminobenzoyl-TSAVLQSGFRK-2,4-dinitrophenyl amide}; 0.032 {2-aminobenzoyl-TSAVLQSGFRK-2,4-dinitrophenyl amide}; 0.0007 {2-aminobenzoyl-TSAVLQSGFRK-2,4-dinitrophenyl amide}; 0.0034 {2-aminobenzoyl-TSAVLQSGFRK-2,4-dinitrophenyl amide}; 0.00021 {2-aminobenzoyl-TSAVLQSGFRK-2,4-dinitrophenyl amide}; 0.0017 {2-aminobenzoyl-TSAVLQSGFRK-2,4-dinitrophenyl amide}; 0.0048 {2-aminobenzoyl-TSAVLQSGFRK-2,4-dinitrophenyl amide}; 0.0048 {2-aminobenzoyl-TSAVLQSGFRK-2,4-dinitrophenyl amide}; 0.0006 {2-aminobenzoyl-TSAVLQSGFRK-2,4-dinitrophenyl amide}; 3.29 {ATVRLQAGNAT}; 0.0069 {2-aminobenzoyl-TSAVLQSGFRK-2,4-dinitrophenyl amide}; 4753 {TSAVLQSGFRK-NH2}; 0.847 {TFTRLQSLENV}; 22.3 {N-carbobenzoxy-Lys p-nitrophenyl ester}; 46.2 {N-carbobenzoxy-Lys p-nitrophenyl ester}; 47.6 {N-carbobenzoxy-Lys p-nitrophenyl ester}; 33.8 {N-carbobenzoxy-Lys p-nitrophenyl ester}; 25.8 {N-carbobenzoxy-Lys p-nitrophenyl ester}; 34.6 {N-carbobenzoxy-Lys p-nitrophenyl ester}; 42.9 {N-carbobenzoxy-Lys p-nitrophenyl ester}; 49.2 {N-carbobenzoxy-Lys p-nitrophenyl ester}; 54.7 {N-carbobenzoxy-Lys p-nitrophenyl ester}; 59.6 {N-carbobenzoxy-Lys p-nitrophenyl ester}; 121.5 {N-alpha-benzyloxycarbonyl-L-Gln-4-nitrophenyl ester}; 121.5 {Nalpha-CBZ-L-Gln-4-nitrophenyl ester}; -999 {more}; 1.1 {aminobenzoyl-LPETGG-diaminopropionic acid(dinitrophenol)-NH2}; 0.3 {Abz-LPETG-Dap(Dnp)}; 0.15 {aminobenzoyl-LPETGG-diaminopropionic acid(dinitrophenol)-NH2}; 0.69 {N-(2-aminobenzoyl)-L-leucyl-L-prolyl-L-alpha-glutamyl-L-threonylglycyl-3-(2,4-dinitroanilino)-L-alaninamide}; 0.78 {N-(2-aminobenzoyl)-L-leucyl-L-prolyl-L-alpha-glutamyl-L-threonylglycyl-3-(2,4-dinitroanilino)-L-alaninamide}; 1.09 {aminobenzoyl-LPETGG-diaminopropionic acid(dinitrophenol)-NH2}; 0.16 {aminobenzoyl-LPETGG-diaminopropionic acid(dinitrophenol)-NH2}; 135 {Dabcyl-QALPETGEE-Edans}; 125 {Dabcyl-QALPETGEE-Edans}; 1.13 {aminobenzoyl-LPETGG-diaminopropionic acid(dinitrophenol)-NH2}; 1.13 {aminobenzoyl-LPETGG-diaminopropionic acid(dinitrophenol)-NH2}; 0.37 {Abz-LPETG-Dap(Dnp)}; 0.18 {Gly-Gly-Gly}; 0.013 {Dnp-AQALPETGEE-NH2}; 0.72 {N-(2-aminobenzoyl)-L-leucyl-L-prolyl-L-alpha-glutamyl-L-threonylglycyl-3-(2,4-dinitroanilino)-L-alaninamide}; 0.29 {aminobenzoyl-LPETGG-diaminopropionic acid(dinitrophenol)-NH2}; 0.29 {Abz-LPETG-Dap(Dnp)}; 0.27 {Abz-LPETG-Dap(Dnp)-NH2}; 0.27 {Abz-LPETG-Dap(Dnp)-NH2}; 0.0019 {aminobenzoyl-LPETGG-diaminopropionic acid(dinitrophenol)-NH2}; 0.0003 {N-(2-aminobenzoyl)-L-leucyl-L-prolyl-L-alpha-glutamyl-L-threonylglycyl-3-(2,4-dinitroanilino)-L-alaninamide}; 0.0123 {aminobenzoyl-LPETGG-diaminopropionic acid(dinitrophenol)-NH2}; 0.00021 {Abz-LPETG-Dap(Dnp)}; 0.0006 {N-(2-aminobenzoyl)-L-leucyl-L-prolyl-L-alpha-glutamyl-L-threonylglycyl-3-(2,4-dinitroanilino)-L-alaninamide}; 0.00046 {N-(2-aminobenzoyl)-L-leucyl-L-prolyl-L-alpha-glutamyl-L-threonylglycyl-3-(2,4-dinitroanilino)-L-alaninamide}; 0.00019 {Abz-LPETG-Dap(Dnp)}; 0.00098 {Abz-LPETG-Dap(Dnp)}; 0.000628 {aminobenzoyl-LPETGG-diaminopropionic acid(dinitrophenol)-NH2}; 0.000019 {N-(2-aminobenzoyl)-L-leucyl-L-prolyl-L-alpha-glutamyl-L-threonylglycyl-3-(2,4-dinitroanilino)-L-alaninamide}; 0.0000067 {o-aminobenzoyl-LPETG-2,4-dinitrophenyl}; 0.0000083 {o-aminobenzoyl-LPETG-2,4-dinitrophenyl}; 0.01 {Dabsyl-LPFAGGAG-Edans}; 0.013 {Dabsyl-LPFTGGQG-Edans}; 0.01-1 {Dabsyl-LLKTGVAS-Edans}; 109.3 {benzoyl-L-Arg-4-nitroanilide}; 22.53 {Ac-L-Lys-4-nitroanilide}; -999 {more}; 22 {Nalpha-benzoyl-L-Lys methyl ester}; 9.8 {Nalpha-p-tosyl-L-Arg methyl ester}; 10 {Nalpha-p-tosyl-L-Arg amide}; 31 {p-Nitrophenyl p-guanidinobenzoate}; 87 {N-benzoyl-L-Arg amide}; 86 {p-toluenesulfonyl-L-Arg methyl ester}; 91-92 {alpha-benzoyl-Arg ethyl ester}; 580 {alpha-benzoyl-Arg ethyl ester}; 643 {alpha-benzoyl-Arg ethyl ester}; 824 {maleyl-Tyr-Arg ethyl ester}; 1170 {benzoyl-Arg ethyl ester}; 38.8 {Nalpha-benzoyl-L-arginine-4-nitroanilide}; 69.5 {Nalpha-benzoyl-L-arginine-4-nitroanilide}\"\n",
      " '5.7 {ammonia}; 13.9 {tRNATrp}; 1.1 {ATP}; 1.1 {L-tryptophan}; 1 {tRNATrp}; 2.94 {tRNATrp}; 3-6 {tRNATrp}; 3.17 {tRNATrp}; 24.5 {L-tryptophan}; 13.6 {L-tryptophan}; 2.22 {tRNATrp}; 0.17 {tRNATrp(C34A)}; 2.3 {tRNATrp(G1A-C72U)}; 3.2 {tRNATrp(HOG1)}; 5.5 {tRNATrp(A73C)}; 1.7 {tRNATrp(G2C-G71G)}; 21 {tRNATrp(A36U)}; 16 {tRNATrp}; 0.34 {tRNATrp(G1C-G72G)}; 0.15 {tRNATrp(C35A)}; 0.16 {tRNAArg}; 0.11 {tRNATrp(C34U)}; 0.47 {tRNATrp(C35U)}; 19 {tRNATrp(G2A-C71U)}; 7.2 {tRNATrp(G2U-C71A)}; 0.62 {tRNATrp(A73G)}; 4.4 {tRNATrp(A36G)}; 4.5 {tRNATrp(pppG1)}; 6.1 {tRNATrp(A73U)}; 11 {tRNATrp(A36C)}; 0.13 {tRNATrp(C34G)}; 0.46 {tRNATrp(G1U-C72A)}; 0.27 {tRNATrp(A36U, A73G)}; 0.079 {tRNATrp(C35G)}; 1.4 {ATP}; 1.2 {L-tryptophan}; 3.3 {tRNATrp}; 1.37 {tRNATrp}; 0.047 {tRNATrp}; 0.063 {tRNATrp}; 1.33 {tRNATrp}; 0.0009 {tRNATrp}; 0.48 {tRNATrp}; 1.39 {tRNATrp}; 0.028 {tRNATrp}; 5.11 {tRNATrp}; 5.45 {L-tryptophan}; 4.88 {L-tryptophan}; 0.53 {Archeoglobus fulgidus tRNATrp(A73, wild-type)}; 0.04 {bovine tRNATrp(G73U)}; 0.04 {Bacillus subtilis tRNATrp(A73G)}; 0.05 {Bacillus subtilis tRNATrp(A73U)}; 0.08 {bovine tRNATrp(G73A)}; 0.11 {Archeoglobus fulgidus tRNATrp(A73C)}; 0.06 {bovine tRNATrp(G73C)}; 0.06 {Bacillus subtilis tRNATrp(A73C)}; 0.07 {Archeoglobus fulgidus tRNATrp(A73G)}; 0.14 {Bacillus subtilis tRNATrp(A73, wild-type)}; 0.03 {bovine tRNATrp(G73, wild-type)}; 0.09 {Archeoglobus fulgidus tRNATrp(A73U)}; 6.08 {L-tryptophan}; 6.08 {L-tryptophan}; 6.08 {tRNATrp}; 6.08 {tRNATrp}; 2-8 {Trp}; 18 {Trp}; 15 {ATP}; 15 {Trp}; 0.016 {tRNATrp}; 0.9 {L-tryptophan}; 0.9 {tRNATrp}; 22 {ATP}; 22 {Trp}; 27 {ATP}; 16 {ATP}; 16 {Trp}; 17 {ATP}; 0.59 {L-tryptophan}; 0.59 {tRNATrp}; 0.78 {tRNATrp}; 46 {ATP}; 46 {Trp}; 0.32 {tRNATrp}; 0.32 {tRNATrp}; 0.67 {tRNATrp}; 0.03 {tRNATrp}; 0.61 {L-tryptophan}; 0.61 {tRNATrp}; 419 {ATP}; 419 {Trp}; 0.02 {tRNATrp}; 0.02 {tRNATrp}']---\n",
      "# 31---ph_optimum: ['8; 8; 8; 8; 8; 8; 7.6; 7.9; 9.5; 9.5; 8.6; 8.2; 8.2; 8.2; 9; 9; 6.7; 7.5; 7.5; 6.5; 7.3; 7.25; 7.2; 7.2; 7.1; 8.4; 8.4; 8.5; 8.5; 8.5; 8.5; 8.5; 8.5; 7; 7; 7; 7; 9.5-10; 8.5-9.5; 8.4-8.8; 10; 5-6; 8.3; 8.3; 7.8; 7.8; 8.8; 7.4; 7.7'\n",
      " '6.2; 6.2; 5.3-5.5; 4-5; 4-5; 5.5; 5.5; 5.5; 5.5; 6; 6; 6; 6; 6; 6; 6; 4.2-4.7; 4.1; 5.5-7; 7.6; 4.8; 5.2; 3.3; 6.8; 6.8; 5; 5; 5; 5; 5; 5; 5; 5; 7.5; 7.5; 4.5; 4.5; 4.5; 4.5; 4.5; 4.5; 7.4; 7.4; 6.2-6.4; 6.5; 6.5; 6.5; 6.5; 4.5-6; 4.5-6; 4.4-5.5; 4; 5.4; 5.4; 4.5-6.5; 5.5-6.5; 5-6.5; 6-6.5; 6.4; 6.1; 6-7; 6-7; 6-6.8; 7-7.5; 3.5; 3.5; 6.7; 8; 4.5-5.5; 4.5-5.5; 8; 7.4; 7.6; 5; 5-6; 5-6.5; 5-7; 6.5; 8.5; 8.5; 7.2; 7; 7; 6; 5.5; 5-6; 5-6; 5-5.5; 5-5.5; 4.1; 3.3; 5.2; 5.2; 5.2; 7; 7; 7; 5.5-6; 5.5-6; 5.6; 5.6; 6-7; 4; 5.5; 5.5; 5.5; 6.1; 4.8; 7.4; 4.5-5.5; 6; 6; 6; 6; 6; 6.5; 6.5; 6.5; 6.5; 7.5; 3.5; 5; 5; 5; 5; 4.5; 4.5; 4.5; 8; 4.4; 3.4; 6; 6; 5-6; 6.8; 6.8; 5.5; 5.5; 8; 7.5; 6.5; 6.5; 6.5; 6.5; 6.5; 6.5-7.2; 7.2; 6.6; 7; 7; 5; 7.5; 7.5; 6.2; 8.2; 6.3; 7.1; 6-6.5; 9.5; 6.4; 6.9; 3.5; 3.2; 8; 8; 8; 8; 8; 6.5; 6.5; 6.5; 6.5; 7.2; 7.2; 7; 7; 7; 7; 7; 9; 9; 9; 9; 6; 6; 6; 6; 6; 6.8; 6.8; -999; -999; 6.6; 6.9; 6.9; 8; 7-7.5; 7.5; 7; 7; -999; 7.4; 7.2; 7.8; 8; 7; -999; 5.5; 5.5; 5.5; 7.5; 8.5; 4.5; 6; 6; 6.5; 6.5; 6.5; 6.5; 6.5; 6.5; 6-6.5; 6-6.5; 6-6.5; 8; 6.5; 8; 8; 7-8.5; 7; 7; 7.2; 7-8; 7.5; 7.5; 7.5; 7.4; 7.4; 8.5; 7-7.6; 7-8; 7.4; 7.4; 8; 7-8.5; 6; 9; 6.5; 6.8; 8; 8; 7.6; 7; 7; 7; -999; -999; -999; -999; 6.8; 6.8; 5-7.4; 5.5-7; 5-5.5; 7.5; 7.5; 7.5; 6-7; 6-7; 5; 10; 7-8.5; 5-8; 4-4.5; 3.2; 4.6; 4.6; 8; 8; 7; 7; 7; 7; 6; 6; 6; -999; -999; 8.3; 5; 4; 3.5; 3.5-4; 5.5-8; 7; 7; 7; 6.5; 6.5; 6.5; 6; 6; 6; 6; 7.5; 7.5; 7.5; 7.7; 7.7; 4.5; 2.9; 2.9; 8; 8; 5.4; 5.4; 5.4; 5; 5; 5; 5-5.5; 5.1; -999; -999; 6.5-8; 4-6; 4; 4; 6.1; 7; 7; 7; 7; 7; 5.5; 5.5; 5.5; 5.5; 5.5; 5.5; 5.8; 5.8; 5.8; 5.8; 5.8; 6.8; 6.5; 7.5; 6-6.5; 3-4; 6.4; 5.6; 6.7; 6.5; 7.4; 7.5; 7; -999; 6; 9.5; 5.5; 5-6; 4.4; 5.5-8; 6-8; 8; 7.4; 7.5; 7.5; 7.2; 7.6-8.3; 7.4; 8.1; 7.5; 7.5; 7.5; 7.5-8; 7.6; 8; 8; 8; 9.5; 9.5; 6.4; 5-5.5; 8; 7.5; -999; 6-7.4; 5.5; 5.5; 5-6; 6-6.5; 6; 6.1; 3.8; 4-7; 7; 7; 6.5; 6.5-7; 5; 6.5-7; 7.2; -999; 7.4; 7.5; 7.5; 7-7.5; 6.8-7.8; 7; 7.5; 5.2-6.8; 6; 6.5; 6.5; 5.5; 5.5; 5.5-6; 5.5-6.5; 5.5; 5.5; 6.5; 5.7; 8.5; 7; 7.4; 7.5; 8; 8; 8; 7.8; 7.1; 7.6-8.3; 7.4; 7.5; 7.5; 7.5; 8.5; 7.6; 8; 8; 8; 6.5; 7.5; 7.6; 7; -999; 8-8.8; 7.7; 5; 5-5.5; 8; 8; 6-7; 5.5; 4.5; 7.6; 7.6; 6.5; 6.5; 6.5; 6.5; 7; 9; -999; 5; 6.8; 6.8; 6; 6; 7.5; 7.5; 7.5; 7.5-8; 6.5; 6.5; 7.3; 7.3; 7; 7.4; 7-7.5; 7.5-8; 7.7; 7.5; 7.5; 6.9; 6.9; 7.6; 7.1; 6.5-7.2; 6.5; 6.5; 7.4; 7.5; 8; 7-8; 7.2; 7; 7.2; 7.5; 7.5-8; 7.4; 7.4; 7.4; 7-7.5; 7.2; -999; 7.5; 7.4; 7; 7-9; 5.5-8; 7.2; 7.2; 6.2; -999; 4.91; 7.4; 7.2; 7; 7; 7.5; 6.5; 7.4; 8; 7.5; 7.2; 6.5-7.5; 7.5; 7.5; 6.5; 7.2; 6.2; 6.5-7; 7.4; 7.5; 7; 7.4; 7; 5; 7.4; 8; 8.5; 6; 7; 8.62; 7; 6-7; 6-8; 4.5; 6.5; 8; 8-9; 6.5; 7-8; 9; 7.5; 7.6; 7; 7; 8; 8; 7.4; 7.4; 6; 7-7.5; 7.5-8.5; 6-8; 8.5; 9.4-10.2; 6-7; 8; 8.5-9; 7.65; 7.5; 7.5; 7; 8-9; 7; 6.5; 7.5; 7.2; 7; 7.3; 7.4-7.8; 7.4-7.8; 7-7.2'\n",
      " '8; 8; 8; 8; 8.5; 6.5-7.5; 8.5-9.2; 9; 7; 7.8; 7.5; 7.5; 7.5; 7.5; 7.5']---\n",
      "# 32---temperature_optimum: ['55;40;40-45;38-40;35-45;65;25;60;28;37'\n",
      " '45;40;40;22;22;37;37;37;37;55;55;37-40;25;30;37-42;50;50;50;28;35;42;42;42;37;25;50;60;55;40;20;27;37;50;50;56;40;37;37;55;55;30;28;28;42;25;35;45;36;40;40;37;45-50;49;38;38;50;85;65;65;65;37;37;37;40;40;75;75;25;27;30;60;60;60;60;60;60;60;60;70;70;70;80;80;80;80;80;20;20;55;37;40;37;37;37;50;35;25;30;25;25;4-25;22;22;30;30;37;37;37;37;37;50;37;55;30;25;60;37;25;45;37;25;50-60;62.5;60-70;60;60;60;65;30;37;37;37;60;60;45;45;70;80;80;25;50-60;50-70;59;59;55;55;55;65;60-80;50;30;35;25;37;37;37;37;37-45;35-39;30;37;30;40;22;22;22;37;37;25-37;45;37;28;30;22;25;30;25;25;22;37;37;30;37;15;15;25;37;37;37;30;40;22;22;22;37;35;37;30;22;28;37;37;30;25;25;24;37;37;30;30;22;37;37;25;35;22;37;37;37;30;40;25;30;37;23;42;25;37;22;37;37;37;37;37;37;22;37;60;60;37;30;22-37;22;30;42;37;42;25;22;23;37;37;30'\n",
      " '30;60;65;22;22;22;25;25;37;37;37;37;20;20']---\n",
      "# 33---EC_final: [\"['2.1.3.3']\" \"['3.4.22.-']\" \"['6.1.1.2']\"]---\n",
      "# 34---ReactZyme_Substrate: ['NC(=O)OP(=O)([O-])[O-].[NH3+]CCC[C@H]([NH3+])C(=O)[O-]'\n",
      " '*P(=O)([O-])OC[C@H]1O[C@@H](N2C=NC3=C(N)N=CN=C32)[C@H](O)[C@@H]1O.NC1=NC=NC2=C1N=CN2[C@@H]1O[C@H](COP(=O)([O-])OP(=O)([O-])OP(=O)([O-])[O-])[C@@H](O)[C@H]1O.[NH3+][C@@H](CC1=CNC2=C1C=CC=C2)C(=O)[O-]'\n",
      " 'O=C1C=CN([C@@H]2O[C@H](COP(=O)([O-])[O-])[C@@H](O)[C@H]2O)C(=O)N1.O=P([O-])([O-])OP(=O)([O-])O']---\n",
      "# 35---ReactZyme_Product: ['NC(=O)NCCC[C@H]([NH3+])C(=O)[O-].O=P([O-])([O-])O.[H+]'\n",
      " '*P(=O)([O-])OC[C@H]1O[C@@H](N2C=NC3=C2N=CN=C3N)[C@H](O)[C@@H]1OC(=O)[C@@H](N)CC1=CNC2=C1C=CC=C2.NC1=NC=NC2=C1N=CN2[C@@H]1O[C@H](COP(=O)([O-])[O-])[C@@H](O)[C@H]1O.O=P([O-])([O-])OP(=O)([O-])O.[H+]'\n",
      " 'O=C1C=CNC(=O)N1.O=P([O-])([O-])OC[C@H]1O[C@H](OP(=O)([O-])OP(=O)([O-])[O-])[C@H](O)[C@@H]1O']---\n"
     ]
    }
   ],
   "source": [
    "# Print 3 unique values from each column \n",
    "i = 1\n",
    "for col in df.columns:\n",
    "    unique_vals = df[col].dropna().unique()[:3]\n",
    "    print(f\"# {i}---{col}: {unique_vals}---\")\n",
    "    i += 1"
   ]
  },
  {
   "cell_type": "code",
   "execution_count": 7,
   "id": "c6050f30",
   "metadata": {},
   "outputs": [
    {
     "name": "stdout",
     "output_type": "stream",
     "text": [
      "Top 5 cols: coverage=99.96%\n",
      "   ('Gene Names', 'Gene Ontology (molecular function)', 'Gene Ontology (biological process)', 'Gene Ontology (cellular component)', 'Subcellular location [CC]')\n",
      "Top 6 cols: coverage=99.96%\n",
      "   ('Gene Names', 'Gene Ontology (molecular function)', 'Gene Ontology (biological process)', 'Gene Ontology (cellular component)', 'Subcellular location [CC]', 'EC_final')\n",
      "Top 7 cols: coverage=99.96%\n",
      "   ('Gene Names', 'Gene Ontology (molecular function)', 'Gene Ontology (biological process)', 'Gene Ontology (cellular component)', 'Subcellular location [CC]', 'EC_final', 'Catalytic activity')\n",
      "Top 8 cols: coverage=99.96%\n",
      "   ('Gene Names', 'Gene Ontology (molecular function)', 'Gene Ontology (biological process)', 'Gene Ontology (cellular component)', 'Subcellular location [CC]', 'EC_final', 'Catalytic activity', 'reactions')\n",
      "Top 9 cols: coverage=99.96%\n",
      "   ('Gene Names', 'Gene Ontology (molecular function)', 'Gene Ontology (biological process)', 'Gene Ontology (cellular component)', 'Subcellular location [CC]', 'EC_final', 'Catalytic activity', 'reactions', 'Rhea ID')\n",
      "Top 10 cols: coverage=99.96%\n",
      "   ('Gene Names', 'Gene Ontology (molecular function)', 'Gene Ontology (biological process)', 'Gene Ontology (cellular component)', 'Subcellular location [CC]', 'EC_final', 'Catalytic activity', 'reactions', 'Rhea ID', 'ph_optimum')\n",
      "Top 11 cols: coverage=99.96%\n",
      "   ('Gene Names', 'Gene Ontology (molecular function)', 'Gene Ontology (biological process)', 'Gene Ontology (cellular component)', 'Subcellular location [CC]', 'EC_final', 'Catalytic activity', 'reactions', 'Rhea ID', 'ph_optimum', 'Binding site')\n",
      "Top 12 cols: coverage=99.96%\n",
      "   ('Gene Names', 'Gene Ontology (molecular function)', 'Gene Ontology (biological process)', 'Gene Ontology (cellular component)', 'Subcellular location [CC]', 'EC_final', 'Catalytic activity', 'reactions', 'Rhea ID', 'ph_optimum', 'Binding site', 'temperature_optimum')\n",
      "Top 13 cols: coverage=99.96%\n",
      "   ('Gene Names', 'Gene Ontology (molecular function)', 'Gene Ontology (biological process)', 'Gene Ontology (cellular component)', 'Subcellular location [CC]', 'EC_final', 'Catalytic activity', 'reactions', 'Rhea ID', 'ph_optimum', 'Binding site', 'temperature_optimum', 'km_values')\n",
      "Top 14 cols: coverage=99.96%\n",
      "   ('Gene Names', 'Gene Ontology (molecular function)', 'Gene Ontology (biological process)', 'Gene Ontology (cellular component)', 'Subcellular location [CC]', 'EC_final', 'Catalytic activity', 'reactions', 'Rhea ID', 'ph_optimum', 'Binding site', 'temperature_optimum', 'km_values', 'kcat_values')\n"
     ]
    }
   ],
   "source": [
    "import itertools\n",
    "import pandas as pd\n",
    "\n",
    "# Always-take columns (100% coverage)\n",
    "core_cols = [\"Entry\", \"name\", \"sequence\", \"function\", \"Organism\", \"Length\"]\n",
    "\n",
    "# Candidate columns to test\n",
    "candidates = [\n",
    "    \"Gene Names\",\n",
    "    \"Gene Ontology (molecular function)\",\n",
    "    \"Gene Ontology (biological process)\",\n",
    "    \"Gene Ontology (cellular component)\",\n",
    "    \"Subcellular location [CC]\",\n",
    "    \"EC_final\",\n",
    "    \"Catalytic activity\",\n",
    "    \"reactions\",\n",
    "    \"Rhea ID\",\n",
    "    \"ph_optimum\",\n",
    "    \"Binding site\",\n",
    "    \"temperature_optimum\",\n",
    "    \"km_values\",\n",
    "    \"kcat_values\"\n",
    "]\n",
    "\n",
    "results = []\n",
    "\n",
    "# Try subsets of size 5 to all 12\n",
    "for k in range(5, len(candidates)+1):\n",
    "    best_combo = None\n",
    "    best_cov = 0\n",
    "    for combo in itertools.combinations(candidates, k):\n",
    "        mask = df[list(combo)].notna().any(axis=1)\n",
    "        coverage = mask.mean() * 100\n",
    "        if coverage > best_cov:\n",
    "            best_cov = coverage\n",
    "            best_combo = combo\n",
    "    results.append((k, best_cov, best_combo))\n",
    "\n",
    "# Print results\n",
    "for k, cov, combo in results:\n",
    "    print(f\"Top {k} cols: coverage={cov:.2f}%\")\n",
    "    print(\"  \", combo)\n"
   ]
  },
  {
   "cell_type": "code",
   "execution_count": null,
   "id": "573b3be1",
   "metadata": {},
   "outputs": [
    {
     "data": {
      "text/plain": [
       "'\\n- Core Identity -> Entry, sequence, Organism, Length\\n\\n- Ontology/function -> Gene Ontology (molecular function), Gene Ontology (biological process), Gene Ontology (cellular component), EC_final, Catalytic activity, Rhea ID\\n\\n- Mechanistic features -> \"InterPro_domains\", Active_site (Active_site, Binding site, Site), Cofactor\\n\\n- Context -> Subcellular_location, Pathway (Pathway, KEGG_Pathways, UniPathway, Reactome)\\n\\n- External enrichments: PPI (STRING with score), Drug_target (DrugBank/TTD)\\n\\n- Provenance: evidence codes, source DBs, references\\n\\n-> Answer: Function\\n\\nLookFor -> PPI (STRING with score), Drug_target (DrugBank/TTD)\\nLikelyInfered -> Topological domain, Motif, DNA binding\\n\\nNeeds Checking -> \\n20\\t20\\tDomain [FT]\\t63134\\t24.60\\t36131 x\\n19\\t19\\tDomain [CC]\\t23271\\t9.07\\t7099\\n\\nKeep 1 ->\\n1\\t1\\tname\\t256690\\t100.00\\t256690 \\n4\\t4\\tGene Names\\t247647\\t96.48\\t2307451\\n\\nDeop ->\\n\\n'"
      ]
     },
     "execution_count": 8,
     "metadata": {},
     "output_type": "execute_result"
    }
   ],
   "source": [
    "\n",
    "\"\"\"\n",
    "Needs Checking -> \n",
    "20\t20\tDomain [FT]\t63134\t24.60\t36131 x -> ENrichmennt interpro, Pfam, SCope\n",
    "19\t19\tDomain [CC]\t23271\t9.07\t7099 -> Drop\n",
    "\n",
    "Keep 1 ->\n",
    "1\t1\tname\t256690\t100.00\t256690 -> Keep \n",
    "4\t4\tGene Names\t247647\t96.48\t2307451 -> Keep \n",
    "\n",
    "Deop ->\n",
    "30\t30\tph_optimum\t117435\t45.75\t2967\n",
    "31\t31\ttemperature_optimum\t115511\t45.00\t2133\n",
    "28\t28\tkm_values\t115494\t44.99\t3510\n",
    "29\t29\tkcat_values\t102786\t40.04\t2754\n",
    "\"\"\"\n",
    "\n"
   ]
  },
  {
   "cell_type": "code",
   "execution_count": 12,
   "id": "e538f645",
   "metadata": {},
   "outputs": [],
   "source": [
    "df = df.drop(columns=[\"taxon\", \"AlphaFoldDB\", \"Full Name\", \"Domain [CC]\"])"
   ]
  },
  {
   "cell_type": "code",
   "execution_count": 13,
   "id": "e2d0892d",
   "metadata": {},
   "outputs": [
    {
     "name": "stdout",
     "output_type": "stream",
     "text": [
      "<class 'pandas.core.frame.DataFrame'>\n",
      "RangeIndex: 256690 entries, 0 to 256689\n",
      "Data columns (total 30 columns):\n",
      " #   Column                              Non-Null Count   Dtype  \n",
      "---  ------                              --------------   -----  \n",
      " 0   Entry                               256690 non-null  object \n",
      " 1   name                                256690 non-null  object \n",
      " 2   sequence                            256690 non-null  object \n",
      " 3   function                            256690 non-null  object \n",
      " 4   Protein names                       256681 non-null  object \n",
      " 5   Gene Names                          247647 non-null  object \n",
      " 6   Organism                            256681 non-null  object \n",
      " 7   Length                              256681 non-null  float64\n",
      " 8   Active site                         55837 non-null   object \n",
      " 9   Catalytic activity                  132908 non-null  object \n",
      " 10  Binding site                        115900 non-null  object \n",
      " 11  Cofactor                            65251 non-null   object \n",
      " 12  DNA binding                         4886 non-null    object \n",
      " 13  EC number                           141536 non-null  object \n",
      " 14  Rhea ID                             120214 non-null  object \n",
      " 15  Site                                18265 non-null   object \n",
      " 16  Temperature dependence              1848 non-null    object \n",
      " 17  Pathway                             68691 non-null   object \n",
      " 18  pH dependence                       3190 non-null    object \n",
      " 19  BRENDA                              10270 non-null   object \n",
      " 20  Reactome                            18470 non-null   object \n",
      " 21  SABIO-RK                            3333 non-null    object \n",
      " 22  UniPathway                          66801 non-null   object \n",
      " 23  Subcellular location [CC]           167776 non-null  object \n",
      " 24  Domain [FT]                         63134 non-null   object \n",
      " 25  Gene Ontology (biological process)  222047 non-null  object \n",
      " 26  Gene Ontology (cellular component)  215299 non-null  object \n",
      " 27  Gene Ontology (molecular function)  234925 non-null  object \n",
      " 28  Motif                               12019 non-null   object \n",
      " 29  Topological domain                  13374 non-null   object \n",
      "dtypes: float64(1), object(29)\n",
      "memory usage: 58.8+ MB\n"
     ]
    }
   ],
   "source": [
    "df.info()"
   ]
  },
  {
   "cell_type": "code",
   "execution_count": 14,
   "id": "5e1b751a",
   "metadata": {},
   "outputs": [],
   "source": [
    "df.to_csv(\"Prot2text_UniProt_final.csv\", index=False)"
   ]
  },
  {
   "cell_type": "code",
   "execution_count": null,
   "id": "85a6d6b1",
   "metadata": {},
   "outputs": [],
   "source": [
    "\"\"\"\n",
    "- Core Identity -> @Entry (100%), @sequence (100%), Organism (100%), Length (100%), name (100%), Domain [FT] (24.60%)\n",
    "\n",
    "- Ontology/function -> Gene Ontology (molecular function) (91.52%), Gene Ontology (biological process) (86.50%), \n",
    "   Gene Ontology (cellular component) (83.88%), EC_final (55.31%), Catalytic activity (51.78%), \n",
    "\n",
    "- Mechanistic features -> InterPro_domains (NA), Active site (21.75%) / Binding site (45.15%) / Site (7.12%), \n",
    "   cofactors (32.74%) / Cofactor (25.42%)\n",
    "\n",
    "- Context -> Subcellular location [CC] (65.36%), Pathway (26.76%) / KEGG_Pathways (NA) / UniPathway (26.02%) / Reactome (7.20%)\n",
    "\n",
    "- Likely Infered -> Topological domain (5.21%), Motif (4.68%), DNA binding (1.90%)\n",
    "\n",
    "-> Answer -> function (100%)\n",
    "\n",
    "-> ID COLS -> Rhea ID (46.83%) / SABIO-RK (1.30%) / Reactome (7.20%) / KEGG_Pathways (26.76%) / UniPathway (26.02%) \n",
    "\n",
    "\"\"\""
   ]
  },
  {
   "cell_type": "markdown",
   "id": "7d880d5f",
   "metadata": {},
   "source": [
    "# - Core Identity -> Entry (100%), sequence (100%), Organism (100%), Length (100%), name (100%), Domain [FT] (24.60%)"
   ]
  },
  {
   "cell_type": "code",
   "execution_count": 20,
   "id": "301609a8",
   "metadata": {},
   "outputs": [
    {
     "data": {
      "text/plain": [
       "array(['Lysophospholipid transporter LplT',\n",
       "       'Ornithine carbamoyltransferase (OTCase) (EC 2.1.3.3)',\n",
       "       'Na(+)/H(+) exchanger beta (Beta-NHE) (Na(+)/H(+) antiporter)',\n",
       "       ..., 'Protein PET20, mitochondrial (Petite colonies protein 20)',\n",
       "       'Fluoroquinolones export ATP-binding protein Rv2688c (EC 7.6.2.-)',\n",
       "       'Homeotic protein spalt-major'], dtype=object)"
      ]
     },
     "execution_count": 20,
     "metadata": {},
     "output_type": "execute_result"
    }
   ],
   "source": [
    "df['Protein names'].unique()  # show top 20"
   ]
  },
  {
   "cell_type": "code",
   "execution_count": 22,
   "id": "87b6948f",
   "metadata": {},
   "outputs": [
    {
     "data": {
      "text/plain": [
       "array(['LPLT_ESCF3', 'OTC_PHOPR', 'NHEB_ONCMY', ..., 'BSHC_CARHZ',\n",
       "       'TERB2_DANRE', 'SALM_DROME'], dtype=object)"
      ]
     },
     "execution_count": 22,
     "metadata": {},
     "output_type": "execute_result"
    }
   ],
   "source": [
    "df['name'].unique()  # show top 20"
   ]
  },
  {
   "cell_type": "code",
   "execution_count": 23,
   "id": "367ad174",
   "metadata": {},
   "outputs": [
    {
     "data": {
      "text/plain": [
       "array(['lplT EFER_2769', 'argF PBPRB1924', nan, ..., 'bshC CHY_1902',\n",
       "       'terb2 zgc:111992', 'salm sal CG6464'], dtype=object)"
      ]
     },
     "execution_count": 23,
     "metadata": {},
     "output_type": "execute_result"
    }
   ],
   "source": [
    "df[\"Gene Names\"].unique()  # show top 20"
   ]
  },
  {
   "cell_type": "code",
   "execution_count": 32,
   "id": "70c0fdb7",
   "metadata": {},
   "outputs": [
    {
     "data": {
      "text/html": [
       "<div>\n",
       "<style scoped>\n",
       "    .dataframe tbody tr th:only-of-type {\n",
       "        vertical-align: middle;\n",
       "    }\n",
       "\n",
       "    .dataframe tbody tr th {\n",
       "        vertical-align: top;\n",
       "    }\n",
       "\n",
       "    .dataframe thead th {\n",
       "        text-align: right;\n",
       "    }\n",
       "</style>\n",
       "<table border=\"1\" class=\"dataframe\">\n",
       "  <thead>\n",
       "    <tr style=\"text-align: right;\">\n",
       "      <th></th>\n",
       "      <th>Organism</th>\n",
       "      <th>Organism_clean</th>\n",
       "    </tr>\n",
       "  </thead>\n",
       "  <tbody>\n",
       "    <tr>\n",
       "      <th>78438</th>\n",
       "      <td>Prochlorococcus marinus subsp. pastoris (strai...</td>\n",
       "      <td>Prochlorococcus marinus subsp. pastoris</td>\n",
       "    </tr>\n",
       "    <tr>\n",
       "      <th>137143</th>\n",
       "      <td>Homo sapiens (Human)</td>\n",
       "      <td>Homo sapiens</td>\n",
       "    </tr>\n",
       "    <tr>\n",
       "      <th>250151</th>\n",
       "      <td>Leptospira interrogans serogroup Icterohaemorr...</td>\n",
       "      <td>Leptospira interrogans serogroup Icterohaemorr...</td>\n",
       "    </tr>\n",
       "    <tr>\n",
       "      <th>114992</th>\n",
       "      <td>Debaryomyces hansenii (strain ATCC 36239 / CBS...</td>\n",
       "      <td>Debaryomyces hansenii</td>\n",
       "    </tr>\n",
       "    <tr>\n",
       "      <th>181736</th>\n",
       "      <td>Marchantia polymorpha (Common liverwort) (Marc...</td>\n",
       "      <td>Marchantia polymorpha</td>\n",
       "    </tr>\n",
       "    <tr>\n",
       "      <th>109480</th>\n",
       "      <td>Bartonella bacilliformis (strain ATCC 35685 / ...</td>\n",
       "      <td>Bartonella bacilliformis</td>\n",
       "    </tr>\n",
       "    <tr>\n",
       "      <th>129102</th>\n",
       "      <td>Dictyostelium discoideum (Social amoeba)</td>\n",
       "      <td>Dictyostelium discoideum</td>\n",
       "    </tr>\n",
       "    <tr>\n",
       "      <th>98468</th>\n",
       "      <td>Wolbachia sp. subsp. Brugia malayi (strain TRS)</td>\n",
       "      <td>Wolbachia sp. subsp. Brugia malayi</td>\n",
       "    </tr>\n",
       "    <tr>\n",
       "      <th>101893</th>\n",
       "      <td>Geotalea uraniireducens (strain Rf4) (Geobacte...</td>\n",
       "      <td>Geotalea uraniireducens</td>\n",
       "    </tr>\n",
       "    <tr>\n",
       "      <th>105045</th>\n",
       "      <td>Bartonella quintana (strain Toulouse) (Rochali...</td>\n",
       "      <td>Bartonella quintana</td>\n",
       "    </tr>\n",
       "  </tbody>\n",
       "</table>\n",
       "</div>"
      ],
      "text/plain": [
       "                                                 Organism  \\\n",
       "78438   Prochlorococcus marinus subsp. pastoris (strai...   \n",
       "137143                               Homo sapiens (Human)   \n",
       "250151  Leptospira interrogans serogroup Icterohaemorr...   \n",
       "114992  Debaryomyces hansenii (strain ATCC 36239 / CBS...   \n",
       "181736  Marchantia polymorpha (Common liverwort) (Marc...   \n",
       "109480  Bartonella bacilliformis (strain ATCC 35685 / ...   \n",
       "129102           Dictyostelium discoideum (Social amoeba)   \n",
       "98468     Wolbachia sp. subsp. Brugia malayi (strain TRS)   \n",
       "101893  Geotalea uraniireducens (strain Rf4) (Geobacte...   \n",
       "105045  Bartonella quintana (strain Toulouse) (Rochali...   \n",
       "\n",
       "                                           Organism_clean  \n",
       "78438             Prochlorococcus marinus subsp. pastoris  \n",
       "137143                                       Homo sapiens  \n",
       "250151  Leptospira interrogans serogroup Icterohaemorr...  \n",
       "114992                              Debaryomyces hansenii  \n",
       "181736                              Marchantia polymorpha  \n",
       "109480                           Bartonella bacilliformis  \n",
       "129102                           Dictyostelium discoideum  \n",
       "98468                  Wolbachia sp. subsp. Brugia malayi  \n",
       "101893                            Geotalea uraniireducens  \n",
       "105045                                Bartonella quintana  "
      ]
     },
     "execution_count": 32,
     "metadata": {},
     "output_type": "execute_result"
    }
   ],
   "source": [
    "import re\n",
    "\n",
    "def extract_scientific_name(org):\n",
    "    if pd.isna(org):\n",
    "        return org\n",
    "    # take text before first '('\n",
    "    cleaned = org.split(\"(\")[0].strip()\n",
    "    # special case: if it ends with \"sp\", add back the dot\n",
    "    if re.search(r\"\\bsp$\", cleaned):\n",
    "        cleaned += \".\"\n",
    "    # remove accidental trailing slashes or spaces\n",
    "    cleaned = re.sub(r\"[\\s/]+$\", \"\", cleaned)\n",
    "    return cleaned\n",
    "\n",
    "# test again on 100 random rows\n",
    "df_test = df.sample(100, random_state=42).copy()\n",
    "df_test[\"Organism_clean\"] = df_test[\"Organism\"].apply(extract_scientific_name)\n",
    "\n",
    "df_test[[\"Organism\", \"Organism_clean\"]].head(10)"
   ]
  },
  {
   "cell_type": "code",
   "execution_count": 33,
   "id": "9e801056",
   "metadata": {},
   "outputs": [],
   "source": [
    "# apply cleaning to full dataset\n",
    "df[\"Organism\"] = df[\"Organism\"].apply(extract_scientific_name)\n"
   ]
  },
  {
   "cell_type": "code",
   "execution_count": 34,
   "id": "5eed75ec",
   "metadata": {},
   "outputs": [
    {
     "data": {
      "text/plain": [
       "array(['Escherichia fergusonii', 'Photobacterium profundum',\n",
       "       'Oncorhynchus mykiss', ..., 'Sulfitobacter sp.',\n",
       "       'Lobophytum crassum', 'Streptomyces pratensis'], dtype=object)"
      ]
     },
     "execution_count": 34,
     "metadata": {},
     "output_type": "execute_result"
    }
   ],
   "source": [
    "df['Organism'].unique()  # show top 20"
   ]
  },
  {
   "cell_type": "code",
   "execution_count": 35,
   "id": "0247a748",
   "metadata": {},
   "outputs": [],
   "source": [
    "df = df.drop(columns=[\"Protein names\", 'Gene Names'])"
   ]
  },
  {
   "cell_type": "code",
   "execution_count": 36,
   "id": "c232bcd9",
   "metadata": {},
   "outputs": [
    {
     "name": "stdout",
     "output_type": "stream",
     "text": [
      "<class 'pandas.core.frame.DataFrame'>\n",
      "RangeIndex: 256690 entries, 0 to 256689\n",
      "Data columns (total 28 columns):\n",
      " #   Column                              Non-Null Count   Dtype  \n",
      "---  ------                              --------------   -----  \n",
      " 0   Entry                               256690 non-null  object \n",
      " 1   name                                256690 non-null  object \n",
      " 2   sequence                            256690 non-null  object \n",
      " 3   function                            256690 non-null  object \n",
      " 4   Organism                            256681 non-null  object \n",
      " 5   Length                              256681 non-null  float64\n",
      " 6   Active site                         55837 non-null   object \n",
      " 7   Catalytic activity                  132908 non-null  object \n",
      " 8   Binding site                        115900 non-null  object \n",
      " 9   Cofactor                            65251 non-null   object \n",
      " 10  DNA binding                         4886 non-null    object \n",
      " 11  EC number                           141536 non-null  object \n",
      " 12  Rhea ID                             120214 non-null  object \n",
      " 13  Site                                18265 non-null   object \n",
      " 14  Temperature dependence              1848 non-null    object \n",
      " 15  Pathway                             68691 non-null   object \n",
      " 16  pH dependence                       3190 non-null    object \n",
      " 17  BRENDA                              10270 non-null   object \n",
      " 18  Reactome                            18470 non-null   object \n",
      " 19  SABIO-RK                            3333 non-null    object \n",
      " 20  UniPathway                          66801 non-null   object \n",
      " 21  Subcellular location [CC]           167776 non-null  object \n",
      " 22  Domain [FT]                         63134 non-null   object \n",
      " 23  Gene Ontology (biological process)  222047 non-null  object \n",
      " 24  Gene Ontology (cellular component)  215299 non-null  object \n",
      " 25  Gene Ontology (molecular function)  234925 non-null  object \n",
      " 26  Motif                               12019 non-null   object \n",
      " 27  Topological domain                  13374 non-null   object \n",
      "dtypes: float64(1), object(27)\n",
      "memory usage: 54.8+ MB\n"
     ]
    }
   ],
   "source": [
    "df.info()"
   ]
  },
  {
   "cell_type": "code",
   "execution_count": 37,
   "id": "e8089098",
   "metadata": {},
   "outputs": [
    {
     "data": {
      "text/plain": [
       "array([nan, 'DOMAIN 30..157; /note=\"SCP\"',\n",
       "       'DOMAIN 80..175; /note=\"Toprim\"; /evidence=\"ECO:0000255|HAMAP-Rule:MF_00017\"',\n",
       "       ...,\n",
       "       'DOMAIN 194..428; /note=\"Grh/CP2 DB\"; /evidence=\"ECO:0000255|PROSITE-ProRule:PRU01313\"',\n",
       "       'DOMAIN 43..489; /note=\"Trm1 methyltransferase\"; /evidence=\"ECO:0000255|PROSITE-ProRule:PRU00958\"',\n",
       "       'DOMAIN 18..246; /note=\"ABC transporter\"; /evidence=\"ECO:0000255|PROSITE-ProRule:PRU00434\"'],\n",
       "      dtype=object)"
      ]
     },
     "execution_count": 37,
     "metadata": {},
     "output_type": "execute_result"
    }
   ],
   "source": [
    "df['Domain [FT]'].unique()"
   ]
  },
  {
   "cell_type": "markdown",
   "id": "c017bab1",
   "metadata": {},
   "source": [
    "# Ontology/function -> Gene Ontology (molecular function) (91.52%), Gene Ontology (biological process) (86.50%), Gene Ontology (cellular component) (83.88%), EC number (55.31%), Catalytic activity (51.78%), Rhea ID (46.83%) / SABIO-RK (1.30%)"
   ]
  },
  {
   "cell_type": "code",
   "execution_count": 38,
   "id": "96c8e495",
   "metadata": {},
   "outputs": [
    {
     "data": {
      "text/plain": [
       "array(['lysophospholipid:sodium symporter activity [GO:0051978]',\n",
       "       'amino acid binding [GO:0016597]; ornithine carbamoyltransferase activity [GO:0004585]',\n",
       "       'potassium:proton antiporter activity [GO:0015386]; sodium:proton antiporter activity [GO:0015385]',\n",
       "       ...,\n",
       "       'DNA binding [GO:0003677]; guanyl-nucleotide exchange factor activity [GO:0005085]; small GTPase binding [GO:0031267]; zinc ion binding [GO:0008270]',\n",
       "       'DNA-binding transcription activator activity, RNA polymerase II-specific [GO:0001228]; RNA polymerase II cis-regulatory region sequence-specific DNA binding [GO:0000978]; sequence-specific DNA binding [GO:0043565]; sequence-specific double-stranded DNA binding [GO:1990837]',\n",
       "       'tRNA (guanine(26)-N2)-dimethyltransferase activity [GO:0160104]; tRNA (guanine(26)-N2/guanine(27)-N2)-dimethyltransferase activity [GO:0160103]; tRNA binding [GO:0000049]'],\n",
       "      dtype=object)"
      ]
     },
     "execution_count": 38,
     "metadata": {},
     "output_type": "execute_result"
    }
   ],
   "source": [
    "df['Gene Ontology (molecular function)'].unique()\n"
   ]
  },
  {
   "cell_type": "code",
   "execution_count": 39,
   "id": "d5af0d27",
   "metadata": {},
   "outputs": [
    {
     "data": {
      "text/plain": [
       "array([nan,\n",
       "       'arginine biosynthetic process via ornithine [GO:0042450]; citrulline biosynthetic process [GO:0019240]; L-arginine biosynthetic process [GO:0006526]',\n",
       "       'regulation of intracellular pH [GO:0051453]; sodium ion import across plasma membrane [GO:0098719]',\n",
       "       ...,\n",
       "       'compound eye development [GO:0048749]; compound eye morphogenesis [GO:0001745]; cuticle pattern formation [GO:0035017]; dorsal/ventral pattern formation, imaginal disc [GO:0007450]; female germ-line stem cell population maintenance [GO:0036099]; follicle cell of egg chamber development [GO:0030707]; germarium-derived egg chamber formation [GO:0007293]; imaginal disc-derived leg morphogenesis [GO:0007480]; imaginal disc-derived leg segmentation [GO:0036011]; imaginal disc-derived wing margin morphogenesis [GO:0008587]; imaginal disc-derived wing morphogenesis [GO:0007476]; negative regulation of Notch signaling pathway [GO:0045746]; positive regulation of Notch signaling pathway [GO:0045747]; protein glycosylation [GO:0006486]; regulation of Notch signaling pathway [GO:0008593]; wing disc anterior/posterior pattern formation [GO:0048100]; wing disc dorsal/ventral pattern formation [GO:0048190]',\n",
       "       'tRNA methylation [GO:0030488]; tRNA N2-guanine methylation [GO:0002940]',\n",
       "       'antennal joint development [GO:0048098]; compound eye photoreceptor cell differentiation [GO:0001751]; glial cell development [GO:0021782]; imaginal disc-derived wing vein morphogenesis [GO:0008586]; male genitalia development [GO:0030539]; male gonad development [GO:0008584]; muscle organ morphogenesis [GO:0048644]; negative regulation of terminal cell fate specification, open tracheal system [GO:0035155]; notum cell fate specification [GO:0035310]; oenocyte development [GO:0007438]; open tracheal system development [GO:0007424]; R7 cell differentiation [GO:0045466]; R8 cell differentiation [GO:0045465]; regulation of alternative mRNA splicing, via spliceosome [GO:0000381]; regulation of cell fate specification [GO:0042659]; regulation of DNA-templated transcription [GO:0006355]; regulation of transcription by RNA polymerase II [GO:0006357]; sensory organ development [GO:0007423]; sensory perception of sound [GO:0007605]; somatic muscle development [GO:0007525]; spiracle morphogenesis, open tracheal system [GO:0035277]; tracheal pit formation in open tracheal system [GO:0035202]'],\n",
       "      dtype=object)"
      ]
     },
     "execution_count": 39,
     "metadata": {},
     "output_type": "execute_result"
    }
   ],
   "source": [
    "df['Gene Ontology (biological process)'].unique()"
   ]
  },
  {
   "cell_type": "code",
   "execution_count": 40,
   "id": "a085552f",
   "metadata": {},
   "outputs": [
    {
     "data": {
      "text/plain": [
       "array(['plasma membrane [GO:0005886]', 'cytoplasm [GO:0005737]',\n",
       "       'basolateral plasma membrane [GO:0016323]', ...,\n",
       "       'cytosol [GO:0005829]; early endosome [GO:0005769]; endocytic vesicle [GO:0030139]; recycling endosome [GO:0055037]',\n",
       "       'cytoplasm [GO:0005737]; Golgi medial cisterna [GO:0005797]; Golgi membrane [GO:0000139]; Golgi stack [GO:0005795]',\n",
       "       'mitochondrion [GO:0005739]; nuclear envelope [GO:0005635]; nuclear inner membrane [GO:0005637]; nucleus [GO:0005634]'],\n",
       "      dtype=object)"
      ]
     },
     "execution_count": 40,
     "metadata": {},
     "output_type": "execute_result"
    }
   ],
   "source": [
    "df['Gene Ontology (cellular component)'].unique()"
   ]
  },
  {
   "cell_type": "code",
   "execution_count": 41,
   "id": "0850a20a",
   "metadata": {},
   "outputs": [
    {
     "data": {
      "text/plain": [
       "array([nan, '2.1.3.3', '3.4.22.-', ..., '5.1.1.12', '2.1.1.333',\n",
       "       '4.1.2.46'], dtype=object)"
      ]
     },
     "execution_count": 41,
     "metadata": {},
     "output_type": "execute_result"
    }
   ],
   "source": [
    "df['EC number'].unique()"
   ]
  },
  {
   "cell_type": "code",
   "execution_count": 42,
   "id": "bb6a73c6",
   "metadata": {},
   "outputs": [
    {
     "data": {
      "text/plain": [
       "array([nan,\n",
       "       'CATALYTIC ACTIVITY: Reaction=carbamoyl phosphate + L-ornithine = L-citrulline + phosphate + H(+); Xref=Rhea:RHEA:19513, ChEBI:CHEBI:15378, ChEBI:CHEBI:43474, ChEBI:CHEBI:46911, ChEBI:CHEBI:57743, ChEBI:CHEBI:58228; EC=2.1.3.3; Evidence={ECO:0000255|HAMAP-Rule:MF_01109};',\n",
       "       'CATALYTIC ACTIVITY: Reaction=tRNA(Trp) + L-tryptophan + ATP = L-tryptophyl-tRNA(Trp) + AMP + diphosphate + H(+); Xref=Rhea:RHEA:24080, Rhea:RHEA-COMP:9671, Rhea:RHEA-COMP:9705, ChEBI:CHEBI:15378, ChEBI:CHEBI:30616, ChEBI:CHEBI:33019, ChEBI:CHEBI:57912, ChEBI:CHEBI:78442, ChEBI:CHEBI:78535, ChEBI:CHEBI:456215; EC=6.1.1.2; Evidence={ECO:0000255|HAMAP-Rule:MF_00140};',\n",
       "       ...,\n",
       "       'CATALYTIC ACTIVITY: Reaction=3-O-(alpha-L-fucosyl)-L-threonyl-[EGF-like domain protein] + UDP-N-acetyl-alpha-D-glucosamine = 3-O-(N-acetyl-beta-D-glucosaminyl-(1->3)-alpha-L-fucosyl)-L-threonyl-[EGF-like domain protein] + UDP + H(+); Xref=Rhea:RHEA:70531, Rhea:RHEA-COMP:17922, Rhea:RHEA-COMP:17923, ChEBI:CHEBI:15378, ChEBI:CHEBI:57705, ChEBI:CHEBI:58223, ChEBI:CHEBI:189631, ChEBI:CHEBI:189634; EC=2.4.1.222; CATALYTIC ACTIVITY: Reaction=3-O-(alpha-L-fucosyl)-L-seryl-[EGF-like domain protein] + UDP-N-acetyl-alpha-D-glucosamine = 3-O-(N-acetyl-beta-D-glucosaminyl-(1->3)-alpha-L-fucosyl)-L-seryl-[EGF-like domain protein] + UDP + H(+); Xref=Rhea:RHEA:70511, Rhea:RHEA-COMP:17919, Rhea:RHEA-COMP:17920, ChEBI:CHEBI:15378, ChEBI:CHEBI:57705, ChEBI:CHEBI:58223, ChEBI:CHEBI:189632, ChEBI:CHEBI:189633; EC=2.4.1.222;',\n",
       "       'CATALYTIC ACTIVITY: Reaction=guanosine(26) in tRNA + 2 S-adenosyl-L-methionine = N(2)-dimethylguanosine(26) in tRNA + 2 S-adenosyl-L-homocysteine + 2 H(+); Xref=Rhea:RHEA:43140, Rhea:RHEA-COMP:10359, Rhea:RHEA-COMP:10360, ChEBI:CHEBI:15378, ChEBI:CHEBI:57856, ChEBI:CHEBI:59789, ChEBI:CHEBI:74269, ChEBI:CHEBI:74513; EC=2.1.1.216; Evidence={ECO:0000255|PROSITE-ProRule:PRU00958, ECO:0000269|PubMed:9801306};',\n",
       "       'CATALYTIC ACTIVITY: Reaction=2-[(2R,5Z)-2-carboxy-4-methylthiazol-5(2H)-ylidene]ethyl phosphate + 4-amino-2-methyl-5-(diphosphooxymethyl)pyrimidine + 2 H(+) = thiamine phosphate + CO2 + diphosphate; Xref=Rhea:RHEA:47844, ChEBI:CHEBI:15378, ChEBI:CHEBI:16526, ChEBI:CHEBI:33019, ChEBI:CHEBI:37575, ChEBI:CHEBI:57841, ChEBI:CHEBI:62899; EC=2.5.1.3; Evidence={ECO:0000250|UniProtKB:Q5M731}; CATALYTIC ACTIVITY: Reaction=2-(2-carboxy-4-methylthiazol-5-yl)ethyl phosphate + 4-amino-2-methyl-5-(diphosphooxymethyl)pyrimidine + 2 H(+) = thiamine phosphate + CO2 + diphosphate; Xref=Rhea:RHEA:47848, ChEBI:CHEBI:15378, ChEBI:CHEBI:16526, ChEBI:CHEBI:33019, ChEBI:CHEBI:37575, ChEBI:CHEBI:57841, ChEBI:CHEBI:62890; EC=2.5.1.3; Evidence={ECO:0000250|UniProtKB:Q5M731}; CATALYTIC ACTIVITY: Reaction=4-methyl-5-(2-phosphooxyethyl)-thiazole + 4-amino-2-methyl-5-(diphosphooxymethyl)pyrimidine + H(+) = thiamine phosphate + diphosphate; Xref=Rhea:RHEA:22328, ChEBI:CHEBI:15378, ChEBI:CHEBI:33019, ChEBI:CHEBI:37575, ChEBI:CHEBI:57841, ChEBI:CHEBI:58296; EC=2.5.1.3; Evidence={ECO:0000250|UniProtKB:Q5M731}; CATALYTIC ACTIVITY: Reaction=4-amino-5-hydroxymethyl-2-methylpyrimidine + ATP = 4-amino-2-methyl-5-(phosphooxymethyl)pyrimidine + ADP + H(+); Xref=Rhea:RHEA:23096, ChEBI:CHEBI:15378, ChEBI:CHEBI:16892, ChEBI:CHEBI:30616, ChEBI:CHEBI:58354, ChEBI:CHEBI:456216; EC=2.7.1.49; Evidence={ECO:0000250|UniProtKB:P30137};'],\n",
       "      dtype=object)"
      ]
     },
     "execution_count": 42,
     "metadata": {},
     "output_type": "execute_result"
    }
   ],
   "source": [
    "df['Catalytic activity'].unique()"
   ]
  },
  {
   "cell_type": "markdown",
   "id": "125e5b0e",
   "metadata": {},
   "source": [
    "# Mechanistic features -> Active site (21.75%) / Binding site (45.15%) / Site (7.12%), cofactors (32.74%) / Cofactor (25.42%)\n"
   ]
  },
  {
   "cell_type": "code",
   "execution_count": 43,
   "id": "ca057002",
   "metadata": {},
   "outputs": [
    {
     "data": {
      "text/plain": [
       "array([nan,\n",
       "       'ACT_SITE 262; /evidence=\"ECO:0000255|PROSITE-ProRule:PRU10088\"; ACT_SITE 397; /evidence=\"ECO:0000255|PROSITE-ProRule:PRU10088\"; ACT_SITE 415; /evidence=\"ECO:0000255|PROSITE-ProRule:PRU10088\"',\n",
       "       'ACT_SITE 154; /note=\"Nucleophile\"; /evidence=\"ECO:0000269|PubMed:15081808\"; ACT_SITE 215; /note=\"Charge relay system\"; /evidence=\"ECO:0000305|PubMed:15103133\"; ACT_SITE 268; /note=\"Charge relay system\"; /evidence=\"ECO:0000305|PubMed:15103133\"',\n",
       "       ...,\n",
       "       'ACT_SITE 246; /note=\"Nucleophile\"; /evidence=\"ECO:0000305|PubMed:16797589\"',\n",
       "       'ACT_SITE 259; /note=\"Charge relay system\"; /evidence=\"ECO:0000250\"; ACT_SITE 282; /note=\"Charge relay system\"; /evidence=\"ECO:0000250\"; ACT_SITE 333; /note=\"Charge relay system\"; /evidence=\"ECO:0000250\"',\n",
       "       'ACT_SITE 327; /evidence=\"ECO:0000250\"'], dtype=object)"
      ]
     },
     "execution_count": 43,
     "metadata": {},
     "output_type": "execute_result"
    }
   ],
   "source": [
    "df[\"Active site\"].unique()"
   ]
  },
  {
   "cell_type": "code",
   "execution_count": 44,
   "id": "354a4b97",
   "metadata": {},
   "outputs": [
    {
     "data": {
      "text/plain": [
       "array([nan,\n",
       "       'BINDING 57..60; /ligand=\"carbamoyl phosphate\"; /ligand_id=\"ChEBI:CHEBI:58228\"; /evidence=\"ECO:0000255|HAMAP-Rule:MF_01109\"; BINDING 83; /ligand=\"carbamoyl phosphate\"; /ligand_id=\"ChEBI:CHEBI:58228\"; /evidence=\"ECO:0000255|HAMAP-Rule:MF_01109\"; BINDING 107; /ligand=\"carbamoyl phosphate\"; /ligand_id=\"ChEBI:CHEBI:58228\"; /evidence=\"ECO:0000255|HAMAP-Rule:MF_01109\"; BINDING 134..137; /ligand=\"carbamoyl phosphate\"; /ligand_id=\"ChEBI:CHEBI:58228\"; /evidence=\"ECO:0000255|HAMAP-Rule:MF_01109\"; BINDING 168; /ligand=\"L-ornithine\"; /ligand_id=\"ChEBI:CHEBI:46911\"; /evidence=\"ECO:0000255|HAMAP-Rule:MF_01109\"; BINDING 232; /ligand=\"L-ornithine\"; /ligand_id=\"ChEBI:CHEBI:46911\"; /evidence=\"ECO:0000255|HAMAP-Rule:MF_01109\"; BINDING 236..237; /ligand=\"L-ornithine\"; /ligand_id=\"ChEBI:CHEBI:46911\"; /evidence=\"ECO:0000255|HAMAP-Rule:MF_01109\"; BINDING 274..275; /ligand=\"carbamoyl phosphate\"; /ligand_id=\"ChEBI:CHEBI:58228\"; /evidence=\"ECO:0000255|HAMAP-Rule:MF_01109\"; BINDING 319; /ligand=\"carbamoyl phosphate\"; /ligand_id=\"ChEBI:CHEBI:58228\"; /evidence=\"ECO:0000255|HAMAP-Rule:MF_01109\"',\n",
       "       'BINDING 13..15; /ligand=\"ATP\"; /ligand_id=\"ChEBI:CHEBI:30616\"; /evidence=\"ECO:0000255|HAMAP-Rule:MF_00140\"; BINDING 21..22; /ligand=\"ATP\"; /ligand_id=\"ChEBI:CHEBI:30616\"; /evidence=\"ECO:0000255|HAMAP-Rule:MF_00140\"; BINDING 137; /ligand=\"L-tryptophan\"; /ligand_id=\"ChEBI:CHEBI:57912\"; /evidence=\"ECO:0000255|HAMAP-Rule:MF_00140\"; BINDING 149..151; /ligand=\"ATP\"; /ligand_id=\"ChEBI:CHEBI:30616\"; /evidence=\"ECO:0000255|HAMAP-Rule:MF_00140\"; BINDING 208; /ligand=\"ATP\"; /ligand_id=\"ChEBI:CHEBI:30616\"; /evidence=\"ECO:0000255|HAMAP-Rule:MF_00140\"; BINDING 217..221; /ligand=\"ATP\"; /ligand_id=\"ChEBI:CHEBI:30616\"; /evidence=\"ECO:0000255|HAMAP-Rule:MF_00140\"',\n",
       "       ...,\n",
       "       'BINDING 164; /ligand=\"substrate\"; /evidence=\"ECO:0000250\"; BINDING 237; /ligand=\"substrate\"; /evidence=\"ECO:0000250\"; BINDING 238; /ligand=\"Mn(2+)\"; /ligand_id=\"ChEBI:CHEBI:29035\"; /evidence=\"ECO:0000250\"; BINDING 351; /ligand=\"Mn(2+)\"; /ligand_id=\"ChEBI:CHEBI:29035\"; /evidence=\"ECO:0000250\"',\n",
       "       'BINDING 70; /ligand=\"S-adenosyl-L-methionine\"; /ligand_id=\"ChEBI:CHEBI:59789\"; /evidence=\"ECO:0000250|UniProtKB:O67010\"; BINDING 146; /ligand=\"S-adenosyl-L-methionine\"; /ligand_id=\"ChEBI:CHEBI:59789\"; /evidence=\"ECO:0000250|UniProtKB:O67010\"; BINDING 164; /ligand=\"S-adenosyl-L-methionine\"; /ligand_id=\"ChEBI:CHEBI:59789\"; /evidence=\"ECO:0000250|UniProtKB:O67010\"; BINDING 195; /ligand=\"S-adenosyl-L-methionine\"; /ligand_id=\"ChEBI:CHEBI:59789\"; /evidence=\"ECO:0000250|UniProtKB:O67010\"; BINDING 330; /ligand=\"Zn(2+)\"; /ligand_id=\"ChEBI:CHEBI:29105\"; /evidence=\"ECO:0000250|UniProtKB:O67010\"; BINDING 333; /ligand=\"Zn(2+)\"; /ligand_id=\"ChEBI:CHEBI:29105\"; /evidence=\"ECO:0000250|UniProtKB:O67010\"; BINDING 370; /ligand=\"Zn(2+)\"; /ligand_id=\"ChEBI:CHEBI:29105\"; /evidence=\"ECO:0000250|UniProtKB:O67010\"; BINDING 373; /ligand=\"Zn(2+)\"; /ligand_id=\"ChEBI:CHEBI:29105\"; /evidence=\"ECO:0000250|UniProtKB:O67010\"',\n",
       "       'BINDING 372..376; /ligand=\"4-amino-2-methyl-5-(diphosphooxymethyl)pyrimidine\"; /ligand_id=\"ChEBI:CHEBI:57841\"; /evidence=\"ECO:0000250\"; BINDING 404; /ligand=\"4-amino-2-methyl-5-(diphosphooxymethyl)pyrimidine\"; /ligand_id=\"ChEBI:CHEBI:57841\"; /evidence=\"ECO:0000250\"; BINDING 405; /ligand=\"Mg(2+)\"; /ligand_id=\"ChEBI:CHEBI:18420\"; /evidence=\"ECO:0000250\"; BINDING 424; /ligand=\"Mg(2+)\"; /ligand_id=\"ChEBI:CHEBI:18420\"; /evidence=\"ECO:0000250\"; BINDING 443; /ligand=\"4-amino-2-methyl-5-(diphosphooxymethyl)pyrimidine\"; /ligand_id=\"ChEBI:CHEBI:57841\"; /evidence=\"ECO:0000250\"; BINDING 469..471; /ligand=\"2-[(2R,5Z)-2-carboxy-4-methylthiazol-5(2H)-ylidene]ethyl phosphate\"; /ligand_id=\"ChEBI:CHEBI:62899\"; /evidence=\"ECO:0000250\"; BINDING 472; /ligand=\"4-amino-2-methyl-5-(diphosphooxymethyl)pyrimidine\"; /ligand_id=\"ChEBI:CHEBI:57841\"; /evidence=\"ECO:0000250\"; BINDING 499; /ligand=\"2-[(2R,5Z)-2-carboxy-4-methylthiazol-5(2H)-ylidene]ethyl phosphate\"; /ligand_id=\"ChEBI:CHEBI:62899\"; /evidence=\"ECO:0000250\"; BINDING 522..523; /ligand=\"2-[(2R,5Z)-2-carboxy-4-methylthiazol-5(2H)-ylidene]ethyl phosphate\"; /ligand_id=\"ChEBI:CHEBI:62899\"; /evidence=\"ECO:0000250\"'],\n",
       "      dtype=object)"
      ]
     },
     "execution_count": 44,
     "metadata": {},
     "output_type": "execute_result"
    }
   ],
   "source": [
    "df[\"Binding site\"].unique()"
   ]
  },
  {
   "cell_type": "code",
   "execution_count": 45,
   "id": "594ce194",
   "metadata": {},
   "outputs": [
    {
     "data": {
      "text/plain": [
       "array([nan,\n",
       "       'SITE 228; /note=\"Important for catalytic activity\"; /evidence=\"ECO:0000255|HAMAP-Rule:MF_01962\"',\n",
       "       'SITE 259..260; /note=\"Cleavage (non-hydrolytic); by autocatalysis\"; /evidence=\"ECO:0000255|HAMAP-Rule:MF_00663\"',\n",
       "       ...,\n",
       "       'SITE 112; /note=\"Interaction with substrate tRNA\"; /evidence=\"ECO:0000255|HAMAP-Rule:MF_00185\"',\n",
       "       'SITE 737; /note=\"Arginine finger; crucial for GTP hydrolysis by stabilizing the transition state\"; /evidence=\"ECO:0000255|PROSITE-ProRule:PRU00172\"',\n",
       "       'SITE 95; /note=\"Important for catalytic activity\"; /evidence=\"ECO:0000269|PubMed:17251184\"'],\n",
       "      dtype=object)"
      ]
     },
     "execution_count": 45,
     "metadata": {},
     "output_type": "execute_result"
    }
   ],
   "source": [
    "df['Site'].unique()"
   ]
  },
  {
   "cell_type": "code",
   "execution_count": 46,
   "id": "dcd11256",
   "metadata": {},
   "outputs": [],
   "source": [
    "df = df.drop(columns=[\"Site\"])"
   ]
  },
  {
   "cell_type": "code",
   "execution_count": 47,
   "id": "f7b97ac0",
   "metadata": {},
   "outputs": [
    {
     "name": "stdout",
     "output_type": "stream",
     "text": [
      "<class 'pandas.core.frame.DataFrame'>\n",
      "RangeIndex: 256690 entries, 0 to 256689\n",
      "Data columns (total 27 columns):\n",
      " #   Column                              Non-Null Count   Dtype  \n",
      "---  ------                              --------------   -----  \n",
      " 0   Entry                               256690 non-null  object \n",
      " 1   name                                256690 non-null  object \n",
      " 2   sequence                            256690 non-null  object \n",
      " 3   function                            256690 non-null  object \n",
      " 4   Organism                            256681 non-null  object \n",
      " 5   Length                              256681 non-null  float64\n",
      " 6   Active site                         55837 non-null   object \n",
      " 7   Catalytic activity                  132908 non-null  object \n",
      " 8   Binding site                        115900 non-null  object \n",
      " 9   Cofactor                            65251 non-null   object \n",
      " 10  DNA binding                         4886 non-null    object \n",
      " 11  EC number                           141536 non-null  object \n",
      " 12  Rhea ID                             120214 non-null  object \n",
      " 13  Temperature dependence              1848 non-null    object \n",
      " 14  Pathway                             68691 non-null   object \n",
      " 15  pH dependence                       3190 non-null    object \n",
      " 16  BRENDA                              10270 non-null   object \n",
      " 17  Reactome                            18470 non-null   object \n",
      " 18  SABIO-RK                            3333 non-null    object \n",
      " 19  UniPathway                          66801 non-null   object \n",
      " 20  Subcellular location [CC]           167776 non-null  object \n",
      " 21  Domain [FT]                         63134 non-null   object \n",
      " 22  Gene Ontology (biological process)  222047 non-null  object \n",
      " 23  Gene Ontology (cellular component)  215299 non-null  object \n",
      " 24  Gene Ontology (molecular function)  234925 non-null  object \n",
      " 25  Motif                               12019 non-null   object \n",
      " 26  Topological domain                  13374 non-null   object \n",
      "dtypes: float64(1), object(26)\n",
      "memory usage: 52.9+ MB\n"
     ]
    }
   ],
   "source": [
    "df.info()"
   ]
  },
  {
   "cell_type": "code",
   "execution_count": 49,
   "id": "69b84bfc",
   "metadata": {},
   "outputs": [
    {
     "data": {
      "text/plain": [
       "array([nan,\n",
       "       'COFACTOR: Name=Mn(2+); Xref=ChEBI:CHEBI:29035; Evidence={ECO:0000255|HAMAP-Rule:MF_00453}; Note=Binds 1 Mn(2+) ion per subunit. {ECO:0000255|HAMAP-Rule:MF_00453};',\n",
       "       'COFACTOR: Name=Mn(2+); Xref=ChEBI:CHEBI:29035; Evidence={ECO:0000255|HAMAP-Rule:MF_00740}; Note=Binds 2 manganese ions. {ECO:0000255|HAMAP-Rule:MF_00740};',\n",
       "       ...,\n",
       "       'COFACTOR: Name=Fe(2+); Xref=ChEBI:CHEBI:29033; Evidence={ECO:0000269|PubMed:20945916};',\n",
       "       'COFACTOR: Name=heme; Xref=ChEBI:CHEBI:30413; COFACTOR: Name=Mg(2+); Xref=ChEBI:CHEBI:18420;',\n",
       "       'COFACTOR: Name=Zn(2+); Xref=ChEBI:CHEBI:29105; Evidence={ECO:0000269|Ref.5}; Note=Binds 2 Zn(2+) ions per subunit. {ECO:0000269|Ref.5};'],\n",
       "      dtype=object)"
      ]
     },
     "execution_count": 49,
     "metadata": {},
     "output_type": "execute_result"
    }
   ],
   "source": [
    "df['Cofactor'].unique()"
   ]
  },
  {
   "cell_type": "markdown",
   "id": "4c6ac679",
   "metadata": {},
   "source": [
    "\n",
    "# Context -> Subcellular location [CC] (65.36%), Pathway (26.76%)"
   ]
  },
  {
   "cell_type": "code",
   "execution_count": 51,
   "id": "fbf3a802",
   "metadata": {},
   "outputs": [
    {
     "data": {
      "text/plain": [
       "array(['SUBCELLULAR LOCATION: Cell inner membrane {ECO:0000255|HAMAP-Rule:MF_01585}; Multi-pass membrane protein {ECO:0000255|HAMAP-Rule:MF_01585}.',\n",
       "       'SUBCELLULAR LOCATION: Cytoplasm {ECO:0000255|HAMAP-Rule:MF_01109}.',\n",
       "       'SUBCELLULAR LOCATION: Basolateral cell membrane; Multi-pass membrane protein.',\n",
       "       ...,\n",
       "       'SUBCELLULAR LOCATION: Golgi apparatus membrane {ECO:0000269|PubMed:10899003}; Single-pass type II membrane protein {ECO:0000269|PubMed:10899003}.',\n",
       "       'SUBCELLULAR LOCATION: [Isoform 1]: Mitochondrion {ECO:0000269|PubMed:7599275}.; SUBCELLULAR LOCATION: [Isoform 2]: Mitochondrion {ECO:0000269|PubMed:7599275}. Nucleus inner membrane {ECO:0000269|PubMed:19602197, ECO:0000269|PubMed:7599275}; Peripheral membrane protein {ECO:0000269|PubMed:19602197, ECO:0000269|PubMed:7599275}; Nucleoplasmic side {ECO:0000269|PubMed:19602197, ECO:0000269|PubMed:7599275}. Note=Predominantly targeted to the nucleus. {ECO:0000269|PubMed:7599275}.',\n",
       "       'SUBCELLULAR LOCATION: Mitochondrion {ECO:0000269|PubMed:16491469}.'],\n",
       "      dtype=object)"
      ]
     },
     "execution_count": 51,
     "metadata": {},
     "output_type": "execute_result"
    }
   ],
   "source": [
    "df['Subcellular location [CC]'].unique()"
   ]
  },
  {
   "cell_type": "code",
   "execution_count": 52,
   "id": "f18d0bbf",
   "metadata": {},
   "outputs": [
    {
     "data": {
      "text/plain": [
       "array([nan,\n",
       "       'PATHWAY: Amino-acid biosynthesis; L-arginine biosynthesis; L-arginine from L-ornithine and carbamoyl phosphate: step 1/3. {ECO:0000255|HAMAP-Rule:MF_01109}.',\n",
       "       'PATHWAY: Purine metabolism; IMP biosynthesis via de novo pathway; 5-amino-1-(5-phospho-D-ribosyl)imidazole from N(2)-formyl-N(1)-(5-phospho-D-ribosyl)glycinamide: step 1/2. {ECO:0000255|HAMAP-Rule:MF_00421}.',\n",
       "       ...,\n",
       "       'PATHWAY: Porphyrin-containing compound metabolism; bacteriochlorophyll biosynthesis (light-independent). {ECO:0000305|PubMed:15090495}.',\n",
       "       'PATHWAY: Protein modification; protein glycosylation. {ECO:0000269|PubMed:8877369}.',\n",
       "       'PATHWAY: Lipopolysaccharide biosynthesis; LPS oligosaccharide biosynthesis. {ECO:0000303|PubMed:12676935, ECO:0000303|PubMed:16150700, ECO:0000303|PubMed:16800635, ECO:0000303|PubMed:17251184}.'],\n",
       "      dtype=object)"
      ]
     },
     "execution_count": 52,
     "metadata": {},
     "output_type": "execute_result"
    }
   ],
   "source": [
    "df['Pathway'].unique()"
   ]
  },
  {
   "cell_type": "markdown",
   "id": "d4633817",
   "metadata": {},
   "source": [
    "# ID COLS -> Rhea ID (46.83%) / SABIO-RK (1.30%). -> reaction"
   ]
  },
  {
   "cell_type": "code",
   "execution_count": 53,
   "id": "277c9dc7",
   "metadata": {},
   "outputs": [
    {
     "data": {
      "text/plain": [
       "array([nan, 'RHEA:19513', 'RHEA:24080', ..., 'RHEA:49180', 'RHEA:14257',\n",
       "       'RHEA:28170'], dtype=object)"
      ]
     },
     "execution_count": 53,
     "metadata": {},
     "output_type": "execute_result"
    }
   ],
   "source": [
    "df['Rhea ID'].unique()"
   ]
  },
  {
   "cell_type": "code",
   "execution_count": 58,
   "id": "2dec5dce",
   "metadata": {},
   "outputs": [
    {
     "data": {
      "text/plain": [
       "array([nan,\n",
       "       'CATALYTIC ACTIVITY: Reaction=carbamoyl phosphate + L-ornithine = L-citrulline + phosphate + H(+); Xref=Rhea:RHEA:19513, ChEBI:CHEBI:15378, ChEBI:CHEBI:43474, ChEBI:CHEBI:46911, ChEBI:CHEBI:57743, ChEBI:CHEBI:58228; EC=2.1.3.3; Evidence={ECO:0000255|HAMAP-Rule:MF_01109};',\n",
       "       'CATALYTIC ACTIVITY: Reaction=tRNA(Trp) + L-tryptophan + ATP = L-tryptophyl-tRNA(Trp) + AMP + diphosphate + H(+); Xref=Rhea:RHEA:24080, Rhea:RHEA-COMP:9671, Rhea:RHEA-COMP:9705, ChEBI:CHEBI:15378, ChEBI:CHEBI:30616, ChEBI:CHEBI:33019, ChEBI:CHEBI:57912, ChEBI:CHEBI:78442, ChEBI:CHEBI:78535, ChEBI:CHEBI:456215; EC=6.1.1.2; Evidence={ECO:0000255|HAMAP-Rule:MF_00140};',\n",
       "       ...,\n",
       "       'CATALYTIC ACTIVITY: Reaction=3-O-(alpha-L-fucosyl)-L-threonyl-[EGF-like domain protein] + UDP-N-acetyl-alpha-D-glucosamine = 3-O-(N-acetyl-beta-D-glucosaminyl-(1->3)-alpha-L-fucosyl)-L-threonyl-[EGF-like domain protein] + UDP + H(+); Xref=Rhea:RHEA:70531, Rhea:RHEA-COMP:17922, Rhea:RHEA-COMP:17923, ChEBI:CHEBI:15378, ChEBI:CHEBI:57705, ChEBI:CHEBI:58223, ChEBI:CHEBI:189631, ChEBI:CHEBI:189634; EC=2.4.1.222; CATALYTIC ACTIVITY: Reaction=3-O-(alpha-L-fucosyl)-L-seryl-[EGF-like domain protein] + UDP-N-acetyl-alpha-D-glucosamine = 3-O-(N-acetyl-beta-D-glucosaminyl-(1->3)-alpha-L-fucosyl)-L-seryl-[EGF-like domain protein] + UDP + H(+); Xref=Rhea:RHEA:70511, Rhea:RHEA-COMP:17919, Rhea:RHEA-COMP:17920, ChEBI:CHEBI:15378, ChEBI:CHEBI:57705, ChEBI:CHEBI:58223, ChEBI:CHEBI:189632, ChEBI:CHEBI:189633; EC=2.4.1.222;',\n",
       "       'CATALYTIC ACTIVITY: Reaction=guanosine(26) in tRNA + 2 S-adenosyl-L-methionine = N(2)-dimethylguanosine(26) in tRNA + 2 S-adenosyl-L-homocysteine + 2 H(+); Xref=Rhea:RHEA:43140, Rhea:RHEA-COMP:10359, Rhea:RHEA-COMP:10360, ChEBI:CHEBI:15378, ChEBI:CHEBI:57856, ChEBI:CHEBI:59789, ChEBI:CHEBI:74269, ChEBI:CHEBI:74513; EC=2.1.1.216; Evidence={ECO:0000255|PROSITE-ProRule:PRU00958, ECO:0000269|PubMed:9801306};',\n",
       "       'CATALYTIC ACTIVITY: Reaction=2-[(2R,5Z)-2-carboxy-4-methylthiazol-5(2H)-ylidene]ethyl phosphate + 4-amino-2-methyl-5-(diphosphooxymethyl)pyrimidine + 2 H(+) = thiamine phosphate + CO2 + diphosphate; Xref=Rhea:RHEA:47844, ChEBI:CHEBI:15378, ChEBI:CHEBI:16526, ChEBI:CHEBI:33019, ChEBI:CHEBI:37575, ChEBI:CHEBI:57841, ChEBI:CHEBI:62899; EC=2.5.1.3; Evidence={ECO:0000250|UniProtKB:Q5M731}; CATALYTIC ACTIVITY: Reaction=2-(2-carboxy-4-methylthiazol-5-yl)ethyl phosphate + 4-amino-2-methyl-5-(diphosphooxymethyl)pyrimidine + 2 H(+) = thiamine phosphate + CO2 + diphosphate; Xref=Rhea:RHEA:47848, ChEBI:CHEBI:15378, ChEBI:CHEBI:16526, ChEBI:CHEBI:33019, ChEBI:CHEBI:37575, ChEBI:CHEBI:57841, ChEBI:CHEBI:62890; EC=2.5.1.3; Evidence={ECO:0000250|UniProtKB:Q5M731}; CATALYTIC ACTIVITY: Reaction=4-methyl-5-(2-phosphooxyethyl)-thiazole + 4-amino-2-methyl-5-(diphosphooxymethyl)pyrimidine + H(+) = thiamine phosphate + diphosphate; Xref=Rhea:RHEA:22328, ChEBI:CHEBI:15378, ChEBI:CHEBI:33019, ChEBI:CHEBI:37575, ChEBI:CHEBI:57841, ChEBI:CHEBI:58296; EC=2.5.1.3; Evidence={ECO:0000250|UniProtKB:Q5M731}; CATALYTIC ACTIVITY: Reaction=4-amino-5-hydroxymethyl-2-methylpyrimidine + ATP = 4-amino-2-methyl-5-(phosphooxymethyl)pyrimidine + ADP + H(+); Xref=Rhea:RHEA:23096, ChEBI:CHEBI:15378, ChEBI:CHEBI:16892, ChEBI:CHEBI:30616, ChEBI:CHEBI:58354, ChEBI:CHEBI:456216; EC=2.7.1.49; Evidence={ECO:0000250|UniProtKB:P30137};'],\n",
       "      dtype=object)"
      ]
     },
     "execution_count": 58,
     "metadata": {},
     "output_type": "execute_result"
    }
   ],
   "source": [
    "df['Catalytic activity'].unique()"
   ]
  },
  {
   "cell_type": "code",
   "execution_count": 59,
   "id": "ddc413a2",
   "metadata": {},
   "outputs": [
    {
     "name": "stdout",
     "output_type": "stream",
     "text": [
      "Rows with Rhea ID but no Catalytic activity: 0\n"
     ]
    },
    {
     "data": {
      "text/html": [
       "<div>\n",
       "<style scoped>\n",
       "    .dataframe tbody tr th:only-of-type {\n",
       "        vertical-align: middle;\n",
       "    }\n",
       "\n",
       "    .dataframe tbody tr th {\n",
       "        vertical-align: top;\n",
       "    }\n",
       "\n",
       "    .dataframe thead th {\n",
       "        text-align: right;\n",
       "    }\n",
       "</style>\n",
       "<table border=\"1\" class=\"dataframe\">\n",
       "  <thead>\n",
       "    <tr style=\"text-align: right;\">\n",
       "      <th></th>\n",
       "      <th>Rhea ID</th>\n",
       "      <th>Catalytic activity</th>\n",
       "    </tr>\n",
       "  </thead>\n",
       "  <tbody>\n",
       "  </tbody>\n",
       "</table>\n",
       "</div>"
      ],
      "text/plain": [
       "Empty DataFrame\n",
       "Columns: [Rhea ID, Catalytic activity]\n",
       "Index: []"
      ]
     },
     "execution_count": 59,
     "metadata": {},
     "output_type": "execute_result"
    }
   ],
   "source": [
    "# Find rows where Rhea ID is not null but Catalytic activity is null\n",
    "missing_activity = df[df[\"Rhea ID\"].notna() & df[\"Catalytic activity\"].isna()]\n",
    "\n",
    "print(f\"Rows with Rhea ID but no Catalytic activity: {len(missing_activity)}\")\n",
    "missing_activity[[\"Rhea ID\", \"Catalytic activity\"]].head(20)\n"
   ]
  },
  {
   "cell_type": "code",
   "execution_count": 60,
   "id": "2672fbfb",
   "metadata": {},
   "outputs": [],
   "source": [
    "df = df.drop(columns=[\"Rhea ID\", \"SABIO-RK\"])"
   ]
  },
  {
   "cell_type": "markdown",
   "id": "25c2afd5",
   "metadata": {},
   "source": [
    "# - Reactome (7.20%) / UniPathway (26.02%)  -> pathway"
   ]
  },
  {
   "cell_type": "code",
   "execution_count": 65,
   "id": "75b511d9",
   "metadata": {},
   "outputs": [
    {
     "name": "stdout",
     "output_type": "stream",
     "text": [
      "Rows with Reactome but no Pathway: 15996\n",
      "Rows with UniPathway but no Pathway: 0\n"
     ]
    }
   ],
   "source": [
    "missing_kegg = df[df[\"Reactome\"].notna() & df[\"Pathway\"].isna()]\n",
    "# count\n",
    "print(f\"Rows with Reactome but no Pathway: {len(missing_kegg)}\")\n",
    "\n",
    "missing_uni_pathway = df[df[\"UniPathway\"].notna() & df[\"Pathway\"].isna()]\n",
    "print(f\"Rows with UniPathway but no Pathway: {len(missing_uni_pathway)}\")"
   ]
  },
  {
   "cell_type": "code",
   "execution_count": null,
   "id": "23c7d61f",
   "metadata": {},
   "outputs": [
    {
     "data": {
      "text/plain": [
       "array([nan,\n",
       "       'PATHWAY: Amino-acid biosynthesis; L-arginine biosynthesis; L-arginine from L-ornithine and carbamoyl phosphate: step 1/3. {ECO:0000255|HAMAP-Rule:MF_01109}.',\n",
       "       'PATHWAY: Purine metabolism; IMP biosynthesis via de novo pathway; 5-amino-1-(5-phospho-D-ribosyl)imidazole from N(2)-formyl-N(1)-(5-phospho-D-ribosyl)glycinamide: step 1/2. {ECO:0000255|HAMAP-Rule:MF_00421}.',\n",
       "       ...,\n",
       "       'PATHWAY: Porphyrin-containing compound metabolism; bacteriochlorophyll biosynthesis (light-independent). {ECO:0000305|PubMed:15090495}.',\n",
       "       'PATHWAY: Protein modification; protein glycosylation. {ECO:0000269|PubMed:8877369}.',\n",
       "       'PATHWAY: Lipopolysaccharide biosynthesis; LPS oligosaccharide biosynthesis. {ECO:0000303|PubMed:12676935, ECO:0000303|PubMed:16150700, ECO:0000303|PubMed:16800635, ECO:0000303|PubMed:17251184}.'],\n",
       "      dtype=object)"
      ]
     },
     "execution_count": 66,
     "metadata": {},
     "output_type": "execute_result"
    }
   ],
   "source": [
    "df['Pathway'].unique()"
   ]
  },
  {
   "cell_type": "code",
   "execution_count": 67,
   "id": "e6526be9",
   "metadata": {},
   "outputs": [
    {
     "data": {
      "text/plain": [
       "array([nan, 'R-DDI-204005;R-DDI-2132295;R-DDI-5694530;R-DDI-6798695;',\n",
       "       'R-MMU-8951664;R-MMU-983168;', ..., 'R-CEL-5673001;',\n",
       "       'R-DRE-5621480;R-DRE-913709;R-DRE-9696264;R-DRE-9696270;R-DRE-9696273;R-DRE-977068;',\n",
       "       'R-SCE-193368;R-SCE-2046106;R-SCE-389887;R-SCE-390247;R-SCE-9033241;'],\n",
       "      dtype=object)"
      ]
     },
     "execution_count": 67,
     "metadata": {},
     "output_type": "execute_result"
    }
   ],
   "source": [
    "df[\"Reactome\"].unique()"
   ]
  },
  {
   "cell_type": "markdown",
   "id": "cdbc8649",
   "metadata": {},
   "source": [
    "# Topological domain (5.21%), Motif (4.68%), DNA binding (1.90%)"
   ]
  },
  {
   "cell_type": "code",
   "execution_count": 69,
   "id": "4848a437",
   "metadata": {},
   "outputs": [
    {
     "data": {
      "text/plain": [
       "array(['TOPO_DOM 1..17; /note=\"Periplasmic\"; /evidence=\"ECO:0000255|HAMAP-Rule:MF_01585\"; TOPO_DOM 39..52; /note=\"Cytoplasmic\"; /evidence=\"ECO:0000255|HAMAP-Rule:MF_01585\"; TOPO_DOM 74..90; /note=\"Periplasmic\"; /evidence=\"ECO:0000255|HAMAP-Rule:MF_01585\"; TOPO_DOM 112..144; /note=\"Cytoplasmic\"; /evidence=\"ECO:0000255|HAMAP-Rule:MF_01585\"; TOPO_DOM 166; /note=\"Periplasmic\"; /evidence=\"ECO:0000255|HAMAP-Rule:MF_01585\"; TOPO_DOM 188..226; /note=\"Cytoplasmic\"; /evidence=\"ECO:0000255|HAMAP-Rule:MF_01585\"; TOPO_DOM 248..256; /note=\"Periplasmic\"; /evidence=\"ECO:0000255|HAMAP-Rule:MF_01585\"; TOPO_DOM 278..280; /note=\"Cytoplasmic\"; /evidence=\"ECO:0000255|HAMAP-Rule:MF_01585\"; TOPO_DOM 302..304; /note=\"Periplasmic\"; /evidence=\"ECO:0000255|HAMAP-Rule:MF_01585\"; TOPO_DOM 326..343; /note=\"Cytoplasmic\"; /evidence=\"ECO:0000255|HAMAP-Rule:MF_01585\"; TOPO_DOM 365..366; /note=\"Periplasmic\"; /evidence=\"ECO:0000255|HAMAP-Rule:MF_01585\"; TOPO_DOM 388..397; /note=\"Cytoplasmic\"; /evidence=\"ECO:0000255|HAMAP-Rule:MF_01585\"',\n",
       "       nan,\n",
       "       'TOPO_DOM 1..14; /note=\"Cytoplasmic\"; /evidence=\"ECO:0000255\"; TOPO_DOM 35..75; /note=\"Extracellular\"; /evidence=\"ECO:0000255\"; TOPO_DOM 96..97; /note=\"Cytoplasmic\"; /evidence=\"ECO:0000255\"; TOPO_DOM 118..122; /note=\"Extracellular\"; /evidence=\"ECO:0000255\"; TOPO_DOM 143..149; /note=\"Cytoplasmic\"; /evidence=\"ECO:0000255\"; TOPO_DOM 170..195; /note=\"Extracellular\"; /evidence=\"ECO:0000255\"; TOPO_DOM 215..225; /note=\"Cytoplasmic\"; /evidence=\"ECO:0000255\"; TOPO_DOM 245..261; /note=\"Extracellular\"; /evidence=\"ECO:0000255\"; TOPO_DOM 283..311; /note=\"Cytoplasmic\"; /evidence=\"ECO:0000255\"; TOPO_DOM 331..352; /note=\"Extracellular\"; /evidence=\"ECO:0000255\"; TOPO_DOM 373..376; /note=\"Cytoplasmic\"; /evidence=\"ECO:0000255\"; TOPO_DOM 399..446; /note=\"Extracellular\"; /evidence=\"ECO:0000255\"; TOPO_DOM 468..759; /note=\"Cytoplasmic\"; /evidence=\"ECO:0000255\"',\n",
       "       ...,\n",
       "       'TOPO_DOM 1..10; /note=\"Cytoplasmic\"; /evidence=\"ECO:0000255\"; TOPO_DOM 32..390; /note=\"Lumenal\"; /evidence=\"ECO:0000255\"',\n",
       "       'TOPO_DOM 1..35; /note=\"Cytoplasmic\"; /evidence=\"ECO:0000305\"; TOPO_DOM 57..104; /note=\"Lumenal\"; /evidence=\"ECO:0000305\"; TOPO_DOM 126..145; /note=\"Cytoplasmic\"; /evidence=\"ECO:0000305\"; TOPO_DOM 167..223; /note=\"Lumenal\"; /evidence=\"ECO:0000305\"; TOPO_DOM 245..263; /note=\"Cytoplasmic\"; /evidence=\"ECO:0000305\"; TOPO_DOM 285..332; /note=\"Lumenal\"; /evidence=\"ECO:0000305\"; TOPO_DOM 354..356; /note=\"Cytoplasmic\"; /evidence=\"ECO:0000305\"; TOPO_DOM 378..398; /note=\"Lumenal\"; /evidence=\"ECO:0000305\"; TOPO_DOM 420..425; /note=\"Cytoplasmic\"; /evidence=\"ECO:0000305\"; TOPO_DOM 447..481; /note=\"Lumenal\"; /evidence=\"ECO:0000305\"; TOPO_DOM 503..508; /note=\"Cytoplasmic\"; /evidence=\"ECO:0000305\"; TOPO_DOM 530..544; /note=\"Lumenal\"; /evidence=\"ECO:0000305\"',\n",
       "       'TOPO_DOM 1..15; /note=\"Cytoplasmic\"; /evidence=\"ECO:0000255\"; TOPO_DOM 35..412; /note=\"Lumenal\"; /evidence=\"ECO:0000255\"'],\n",
       "      dtype=object)"
      ]
     },
     "execution_count": 69,
     "metadata": {},
     "output_type": "execute_result"
    }
   ],
   "source": [
    "df['Topological domain'].unique()"
   ]
  },
  {
   "cell_type": "code",
   "execution_count": 70,
   "id": "08b2af8e",
   "metadata": {},
   "outputs": [
    {
     "data": {
      "text/plain": [
       "0                                                       NaN\n",
       "1                                                       NaN\n",
       "2                                                       NaN\n",
       "3                                                       NaN\n",
       "4         MOTIF 14..22; /note=\"'HIGH' region\"; /evidence...\n",
       "                                ...                        \n",
       "256685                                                  NaN\n",
       "256686                                                  NaN\n",
       "256687                                                  NaN\n",
       "256688                                                  NaN\n",
       "256689                                                  NaN\n",
       "Name: Motif, Length: 256690, dtype: object"
      ]
     },
     "execution_count": 70,
     "metadata": {},
     "output_type": "execute_result"
    }
   ],
   "source": [
    "df['Motif']"
   ]
  },
  {
   "cell_type": "code",
   "execution_count": 71,
   "id": "d2969208",
   "metadata": {},
   "outputs": [
    {
     "data": {
      "text/plain": [
       "array([nan,\n",
       "       'DNA_BIND 246..305; /note=\"Homeobox\"; /evidence=\"ECO:0000255|PROSITE-ProRule:PRU00108\"',\n",
       "       'DNA_BIND 34..110; /note=\"Nuclear receptor\"; /evidence=\"ECO:0000255|PROSITE-ProRule:PRU00407\"',\n",
       "       ...,\n",
       "       'DNA_BIND 343..402; /note=\"Homeobox\"; /evidence=\"ECO:0000255|PROSITE-ProRule:PRU00108\"',\n",
       "       'DNA_BIND 51..70; /note=\"H-T-H motif\"; /evidence=\"ECO:0000255|PROSITE-ProRule:PRU00307\"',\n",
       "       'DNA_BIND 42..61; /note=\"H-T-H motif\"; /evidence=\"ECO:0000255|PROSITE-ProRule:PRU00411\"'],\n",
       "      dtype=object)"
      ]
     },
     "execution_count": 71,
     "metadata": {},
     "output_type": "execute_result"
    }
   ],
   "source": [
    "df['DNA binding'].unique()"
   ]
  },
  {
   "cell_type": "code",
   "execution_count": 72,
   "id": "0e3992a9",
   "metadata": {},
   "outputs": [
    {
     "name": "stdout",
     "output_type": "stream",
     "text": [
      "<class 'pandas.core.frame.DataFrame'>\n",
      "RangeIndex: 256690 entries, 0 to 256689\n",
      "Data columns (total 25 columns):\n",
      " #   Column                              Non-Null Count   Dtype  \n",
      "---  ------                              --------------   -----  \n",
      " 0   Entry                               256690 non-null  object \n",
      " 1   name                                256690 non-null  object \n",
      " 2   sequence                            256690 non-null  object \n",
      " 3   function                            256690 non-null  object \n",
      " 4   Organism                            256681 non-null  object \n",
      " 5   Length                              256681 non-null  float64\n",
      " 6   Active site                         55837 non-null   object \n",
      " 7   Catalytic activity                  132908 non-null  object \n",
      " 8   Binding site                        115900 non-null  object \n",
      " 9   Cofactor                            65251 non-null   object \n",
      " 10  DNA binding                         4886 non-null    object \n",
      " 11  EC number                           141536 non-null  object \n",
      " 12  Temperature dependence              1848 non-null    object \n",
      " 13  Pathway                             68691 non-null   object \n",
      " 14  pH dependence                       3190 non-null    object \n",
      " 15  BRENDA                              10270 non-null   object \n",
      " 16  Reactome                            18470 non-null   object \n",
      " 17  UniPathway                          66801 non-null   object \n",
      " 18  Subcellular location [CC]           167776 non-null  object \n",
      " 19  Domain [FT]                         63134 non-null   object \n",
      " 20  Gene Ontology (biological process)  222047 non-null  object \n",
      " 21  Gene Ontology (cellular component)  215299 non-null  object \n",
      " 22  Gene Ontology (molecular function)  234925 non-null  object \n",
      " 23  Motif                               12019 non-null   object \n",
      " 24  Topological domain                  13374 non-null   object \n",
      "dtypes: float64(1), object(24)\n",
      "memory usage: 49.0+ MB\n"
     ]
    }
   ],
   "source": [
    "df.info()"
   ]
  },
  {
   "cell_type": "code",
   "execution_count": 73,
   "id": "9f5f97c7",
   "metadata": {},
   "outputs": [],
   "source": [
    "df = df.drop(columns=[\"Temperature dependence\", \"pH dependence\", \"BRENDA\"])"
   ]
  },
  {
   "cell_type": "code",
   "execution_count": 74,
   "id": "b33e9c45",
   "metadata": {},
   "outputs": [],
   "source": [
    "df.to_csv(\"QA_Final.csv\", index=False)"
   ]
  },
  {
   "cell_type": "markdown",
   "id": "a23c2eba",
   "metadata": {},
   "source": [
    "# QA"
   ]
  },
  {
   "cell_type": "code",
   "execution_count": 2,
   "id": "9627d645",
   "metadata": {},
   "outputs": [],
   "source": [
    "import pandas as pd"
   ]
  },
  {
   "cell_type": "code",
   "execution_count": 29,
   "id": "63e1d5c8",
   "metadata": {},
   "outputs": [],
   "source": [
    "qa_df = pd.read_csv(\"QA_Final.csv\")"
   ]
  },
  {
   "cell_type": "code",
   "execution_count": 4,
   "id": "7f692100",
   "metadata": {},
   "outputs": [
    {
     "name": "stdout",
     "output_type": "stream",
     "text": [
      "<class 'pandas.core.frame.DataFrame'>\n",
      "RangeIndex: 256690 entries, 0 to 256689\n",
      "Data columns (total 22 columns):\n",
      " #   Column                              Non-Null Count   Dtype  \n",
      "---  ------                              --------------   -----  \n",
      " 0   Entry                               256690 non-null  object \n",
      " 1   name                                256690 non-null  object \n",
      " 2   sequence                            256690 non-null  object \n",
      " 3   function                            256690 non-null  object \n",
      " 4   Organism                            256681 non-null  object \n",
      " 5   Length                              256681 non-null  float64\n",
      " 6   Active site                         55837 non-null   object \n",
      " 7   Catalytic activity                  132908 non-null  object \n",
      " 8   Binding site                        115900 non-null  object \n",
      " 9   Cofactor                            65251 non-null   object \n",
      " 10  DNA binding                         4886 non-null    object \n",
      " 11  EC number                           141536 non-null  object \n",
      " 12  Pathway                             68691 non-null   object \n",
      " 13  Reactome                            18470 non-null   object \n",
      " 14  UniPathway                          66801 non-null   object \n",
      " 15  Subcellular location [CC]           167776 non-null  object \n",
      " 16  Domain [FT]                         63134 non-null   object \n",
      " 17  Gene Ontology (biological process)  222047 non-null  object \n",
      " 18  Gene Ontology (cellular component)  215299 non-null  object \n",
      " 19  Gene Ontology (molecular function)  234925 non-null  object \n",
      " 20  Motif                               12019 non-null   object \n",
      " 21  Topological domain                  13374 non-null   object \n",
      "dtypes: float64(1), object(21)\n",
      "memory usage: 43.1+ MB\n"
     ]
    }
   ],
   "source": [
    "qa_df.info()"
   ]
  },
  {
   "cell_type": "code",
   "execution_count": 7,
   "id": "d16cc12d",
   "metadata": {},
   "outputs": [
    {
     "name": "stdout",
     "output_type": "stream",
     "text": [
      "# 1---Entry: ['B7LNJ1' 'Q6LG09' 'Q01345']---\n",
      "# 2---name: ['LPLT_ESCF3' 'OTC_PHOPR' 'NHEB_ONCMY']---\n",
      "# 3---sequence: ['MSESVHTNTSLWSKGMKAVIVAQFLSAFGDNALLFATLALLKAQFYPEWSQPVLQMVFVGAYILFAPFVGQVADSFAKGRVMMFANGLKLLGAASICFGFNPFVGYTLVGIGAAAYSPAKYGILGELTTGDKLVKANGLMEASTIAAILLGSVAGGVLADLHVLVALAACALAYAGAVAANIYIPKLAAARPGQSWNVLKMTCSFKSACTSLWQNGETRFSLVGTSLFWGAGVTLRFLLVLWVPVALGITDNATPTYLNAMVAIGIVLGAGAAAKLVTLETVSRCMPAGILIGVVVLFFSLQHELLPAYALLMLIGVLGGFFVVPLNALLQERGKKSVGAGNAIAVQNLGENSAMLLMLGIYSLAVLVGIPVVPIGIGFGTLFALAITALWIWQRRH'\n",
      " 'MSFNLRNRNFLKLLDFTGKEIEHLIALAQDLKHAKYAGTEQQKLKGKNIALIFEKTSTRTRCAFEVAAHDQGAHVTYIGGGSQMGHKESTKDTARVLGRFYDGIEYRGFGQDVVETLGEHAGVPVWNGLTDEWHPTQIIADWMTMLEHGNGKRLNQMKLAYMGDAKNNMGNSLMVGAAKVGMEIRLVGPKAYWPDPALVAECNELCKISGGKIVITDNVQEGVDSVDFIYGDVWVSMGEPEELWATRINDLAPYQVNMSVITATQNPAVKYMHCLPAFHNDETRVGKKIEEKFNMKGLEVTEDVFESSYTICFDEAENRMHSIKAIMVATLGD'\n",
      " 'MPAFSCAFPGCRRDLLVIVLVVFVGIGLPIEASAPAYQSHGTEGSHLTNITNTKKAFPVLAVNYEHVRKPFEIALWILLALLMKLGFHLIPRLSAVVPESCLLIVVGLLVGGLIKVIGEEPPVLDSQLFFLCLLPPIILDAGYFLPIRPFTENVGTILVFAVIGTLWNAFFMGGLLYALCQIESVGLSGVDLLACLLFGSIVSAVDPVAVLAVFEEIHINELVHILVFGESLLNDAVTVVLYNLFEEFSKVGTVTVLDVFLGVVCFFVVSLGGVLVGAIYGFLAAFTSRFTSHTRVIEPLFVFLYSYMAYLSSEMFHLSGIMALIACGVVMRPYVEANISHKSYTTIKYFLKMWSSVSETLIFIFLGVSTVAGPHAWNWTFVITTVILCLVSRVLGVIGLTFIINKFRIVKLTKKDQFIVAYGGLRGAIAFSLGYLLSNSHQMRNLFLTAIITVIFFTVFVQGMTIRPLVELLAVKKKKESKPSINEEIHTEFLDHLLTGVEGVCGHYGHYHWKEKLNRFNKTYVKRWLIAGENFKEPELIAFYRKMELKQAIMMVESGQLPSVLPSTISMQNIQPRAIPRVSKKREEEIRRILRANLQNNKQKMRSRSYSRHTLFDADEEDNVSEVRLRKTKMEMERRVSVMERRMSHYLTVPANRESPRPGVRRVRFESDNQVFSADSFPTVHFEQPSPPSTPDAVSLEEEEEEVPKRPSLKADIEGPRGNASDNHQGELDYQRLARCLSDPGPNKDKEDDDPFMSC']---\n",
      "# 4---function: ['Catalyzes the facilitated diffusion of 2-acyl-glycero-3-phosphoethanolamine (2-acyl-GPE) into the cell.'\n",
      " 'Reversibly catalyzes the transfer of the carbamoyl group from carbamoyl phosphate (CP) to the N(epsilon) atom of ornithine (ORN) to produce L-citrulline.'\n",
      " 'Involved in pH regulation to eliminate acids generated by active metabolism or to counter adverse environmental conditions. Major proton extruding system driven by the inward sodium ion chemical gradient.']---\n",
      "# 5---Organism: ['Escherichia fergusonii' 'Photobacterium profundum' 'Oncorhynchus mykiss']---\n",
      "# 6---Length: [397. 333. 759.]---\n",
      "# 7---Active site: ['ACT_SITE 262; /evidence=\"ECO:0000255|PROSITE-ProRule:PRU10088\"; ACT_SITE 397; /evidence=\"ECO:0000255|PROSITE-ProRule:PRU10088\"; ACT_SITE 415; /evidence=\"ECO:0000255|PROSITE-ProRule:PRU10088\"'\n",
      " 'ACT_SITE 154; /note=\"Nucleophile\"; /evidence=\"ECO:0000269|PubMed:15081808\"; ACT_SITE 215; /note=\"Charge relay system\"; /evidence=\"ECO:0000305|PubMed:15103133\"; ACT_SITE 268; /note=\"Charge relay system\"; /evidence=\"ECO:0000305|PubMed:15103133\"'\n",
      " 'ACT_SITE 86; /note=\"Nucleophile\"; /evidence=\"ECO:0000255|HAMAP-Rule:MF_00421\"; ACT_SITE 195; /evidence=\"ECO:0000255|HAMAP-Rule:MF_00421\"; ACT_SITE 197; /evidence=\"ECO:0000255|HAMAP-Rule:MF_00421\"']---\n",
      "# 8---Catalytic activity: ['CATALYTIC ACTIVITY: Reaction=carbamoyl phosphate + L-ornithine = L-citrulline + phosphate + H(+); Xref=Rhea:RHEA:19513, ChEBI:CHEBI:15378, ChEBI:CHEBI:43474, ChEBI:CHEBI:46911, ChEBI:CHEBI:57743, ChEBI:CHEBI:58228; EC=2.1.3.3; Evidence={ECO:0000255|HAMAP-Rule:MF_01109};'\n",
      " 'CATALYTIC ACTIVITY: Reaction=tRNA(Trp) + L-tryptophan + ATP = L-tryptophyl-tRNA(Trp) + AMP + diphosphate + H(+); Xref=Rhea:RHEA:24080, Rhea:RHEA-COMP:9671, Rhea:RHEA-COMP:9705, ChEBI:CHEBI:15378, ChEBI:CHEBI:30616, ChEBI:CHEBI:33019, ChEBI:CHEBI:57912, ChEBI:CHEBI:78442, ChEBI:CHEBI:78535, ChEBI:CHEBI:456215; EC=6.1.1.2; Evidence={ECO:0000255|HAMAP-Rule:MF_00140};'\n",
      " 'CATALYTIC ACTIVITY: Reaction=UMP + diphosphate = 5-phospho-alpha-D-ribose 1-diphosphate + uracil; Xref=Rhea:RHEA:13017, ChEBI:CHEBI:17568, ChEBI:CHEBI:33019, ChEBI:CHEBI:57865, ChEBI:CHEBI:58017; EC=2.4.2.9; Evidence={ECO:0000255|HAMAP-Rule:MF_01219};']---\n",
      "# 9---Binding site: ['BINDING 57..60; /ligand=\"carbamoyl phosphate\"; /ligand_id=\"ChEBI:CHEBI:58228\"; /evidence=\"ECO:0000255|HAMAP-Rule:MF_01109\"; BINDING 83; /ligand=\"carbamoyl phosphate\"; /ligand_id=\"ChEBI:CHEBI:58228\"; /evidence=\"ECO:0000255|HAMAP-Rule:MF_01109\"; BINDING 107; /ligand=\"carbamoyl phosphate\"; /ligand_id=\"ChEBI:CHEBI:58228\"; /evidence=\"ECO:0000255|HAMAP-Rule:MF_01109\"; BINDING 134..137; /ligand=\"carbamoyl phosphate\"; /ligand_id=\"ChEBI:CHEBI:58228\"; /evidence=\"ECO:0000255|HAMAP-Rule:MF_01109\"; BINDING 168; /ligand=\"L-ornithine\"; /ligand_id=\"ChEBI:CHEBI:46911\"; /evidence=\"ECO:0000255|HAMAP-Rule:MF_01109\"; BINDING 232; /ligand=\"L-ornithine\"; /ligand_id=\"ChEBI:CHEBI:46911\"; /evidence=\"ECO:0000255|HAMAP-Rule:MF_01109\"; BINDING 236..237; /ligand=\"L-ornithine\"; /ligand_id=\"ChEBI:CHEBI:46911\"; /evidence=\"ECO:0000255|HAMAP-Rule:MF_01109\"; BINDING 274..275; /ligand=\"carbamoyl phosphate\"; /ligand_id=\"ChEBI:CHEBI:58228\"; /evidence=\"ECO:0000255|HAMAP-Rule:MF_01109\"; BINDING 319; /ligand=\"carbamoyl phosphate\"; /ligand_id=\"ChEBI:CHEBI:58228\"; /evidence=\"ECO:0000255|HAMAP-Rule:MF_01109\"'\n",
      " 'BINDING 13..15; /ligand=\"ATP\"; /ligand_id=\"ChEBI:CHEBI:30616\"; /evidence=\"ECO:0000255|HAMAP-Rule:MF_00140\"; BINDING 21..22; /ligand=\"ATP\"; /ligand_id=\"ChEBI:CHEBI:30616\"; /evidence=\"ECO:0000255|HAMAP-Rule:MF_00140\"; BINDING 137; /ligand=\"L-tryptophan\"; /ligand_id=\"ChEBI:CHEBI:57912\"; /evidence=\"ECO:0000255|HAMAP-Rule:MF_00140\"; BINDING 149..151; /ligand=\"ATP\"; /ligand_id=\"ChEBI:CHEBI:30616\"; /evidence=\"ECO:0000255|HAMAP-Rule:MF_00140\"; BINDING 208; /ligand=\"ATP\"; /ligand_id=\"ChEBI:CHEBI:30616\"; /evidence=\"ECO:0000255|HAMAP-Rule:MF_00140\"; BINDING 217..221; /ligand=\"ATP\"; /ligand_id=\"ChEBI:CHEBI:30616\"; /evidence=\"ECO:0000255|HAMAP-Rule:MF_00140\"'\n",
      " 'BINDING 98; /ligand=\"substrate\"; /evidence=\"ECO:0000269|PubMed:16128806\"; BINDING 101; /ligand=\"substrate\"; /evidence=\"ECO:0000269|PubMed:16128806\"; BINDING 268; /ligand=\"substrate\"; /evidence=\"ECO:0000269|PubMed:16128806\"']---\n",
      "# 10---Cofactor: ['COFACTOR: Name=Mn(2+); Xref=ChEBI:CHEBI:29035; Evidence={ECO:0000255|HAMAP-Rule:MF_00453}; Note=Binds 1 Mn(2+) ion per subunit. {ECO:0000255|HAMAP-Rule:MF_00453};'\n",
      " 'COFACTOR: Name=Mn(2+); Xref=ChEBI:CHEBI:29035; Evidence={ECO:0000255|HAMAP-Rule:MF_00740}; Note=Binds 2 manganese ions. {ECO:0000255|HAMAP-Rule:MF_00740};'\n",
      " 'COFACTOR: Name=Mg(2+); Xref=ChEBI:CHEBI:18420; Evidence={ECO:0000255|HAMAP-Rule:MF_00034}; Note=Binds 2 Mg(2+) ion per subunit. {ECO:0000255|HAMAP-Rule:MF_00034};']---\n",
      "# 11---DNA binding: ['DNA_BIND 246..305; /note=\"Homeobox\"; /evidence=\"ECO:0000255|PROSITE-ProRule:PRU00108\"'\n",
      " 'DNA_BIND 34..110; /note=\"Nuclear receptor\"; /evidence=\"ECO:0000255|PROSITE-ProRule:PRU00407\"'\n",
      " 'DNA_BIND 47..67; /note=\"H-T-H motif\"; /evidence=\"ECO:0000255|HAMAP-Rule:MF_00015\"']---\n",
      "# 12---EC number: ['2.1.3.3' '3.4.22.-' '6.1.1.2']---\n",
      "# 13---Pathway: ['PATHWAY: Amino-acid biosynthesis; L-arginine biosynthesis; L-arginine from L-ornithine and carbamoyl phosphate: step 1/3. {ECO:0000255|HAMAP-Rule:MF_01109}.'\n",
      " 'PATHWAY: Purine metabolism; IMP biosynthesis via de novo pathway; 5-amino-1-(5-phospho-D-ribosyl)imidazole from N(2)-formyl-N(1)-(5-phospho-D-ribosyl)glycinamide: step 1/2. {ECO:0000255|HAMAP-Rule:MF_00421}.'\n",
      " 'PATHWAY: Carbohydrate biosynthesis; gluconeogenesis. {ECO:0000255|HAMAP-Rule:MF_00453}.']---\n",
      "# 14---Reactome: ['R-DDI-204005;R-DDI-2132295;R-DDI-5694530;R-DDI-6798695;'\n",
      " 'R-MMU-8951664;R-MMU-983168;' 'R-HSA-171319;R-HSA-6790901;']---\n",
      "# 15---UniPathway: ['UPA00068;' 'UPA00074;' 'UPA00138;']---\n",
      "# 16---Subcellular location [CC]: ['SUBCELLULAR LOCATION: Cell inner membrane {ECO:0000255|HAMAP-Rule:MF_01585}; Multi-pass membrane protein {ECO:0000255|HAMAP-Rule:MF_01585}.'\n",
      " 'SUBCELLULAR LOCATION: Cytoplasm {ECO:0000255|HAMAP-Rule:MF_01109}.'\n",
      " 'SUBCELLULAR LOCATION: Basolateral cell membrane; Multi-pass membrane protein.']---\n",
      "# 17---Domain [FT]: ['DOMAIN 30..157; /note=\"SCP\"'\n",
      " 'DOMAIN 80..175; /note=\"Toprim\"; /evidence=\"ECO:0000255|HAMAP-Rule:MF_00017\"'\n",
      " 'DOMAIN 4..226; /note=\"Glutamine amidotransferase type-1\"; /evidence=\"ECO:0000255|HAMAP-Rule:MF_00421\"']---\n",
      "# 18---Gene Ontology (biological process): ['arginine biosynthetic process via ornithine [GO:0042450]; citrulline biosynthetic process [GO:0019240]; L-arginine biosynthetic process [GO:0006526]'\n",
      " 'regulation of intracellular pH [GO:0051453]; sodium ion import across plasma membrane [GO:0098719]'\n",
      " 'conjugation with cellular fusion [GO:0000747]; immune response [GO:0006955]; positive regulation of apoptotic signaling pathway [GO:2001235]; proteolysis involved in protein catabolic process [GO:0051603]; sexual reproduction [GO:0019953]']---\n",
      "# 19---Gene Ontology (cellular component): ['plasma membrane [GO:0005886]' 'cytoplasm [GO:0005737]'\n",
      " 'basolateral plasma membrane [GO:0016323]']---\n",
      "# 20---Gene Ontology (molecular function): ['lysophospholipid:sodium symporter activity [GO:0051978]'\n",
      " 'amino acid binding [GO:0016597]; ornithine carbamoyltransferase activity [GO:0004585]'\n",
      " 'potassium:proton antiporter activity [GO:0015386]; sodium:proton antiporter activity [GO:0015385]']---\n",
      "# 21---Motif: ['MOTIF 14..22; /note=\"\\'HIGH\\' region\"; /evidence=\"ECO:0000255|HAMAP-Rule:MF_00140\"; MOTIF 217..221; /note=\"\\'KMSKS\\' region\"; /evidence=\"ECO:0000255|HAMAP-Rule:MF_00140\"'\n",
      " 'MOTIF 90..102; /note=\"PRPP-binding\"; /evidence=\"ECO:0000255|HAMAP-Rule:MF_01219\"'\n",
      " 'MOTIF 185..190; /note=\"Selectivity filter\"']---\n",
      "# 22---Topological domain: ['TOPO_DOM 1..17; /note=\"Periplasmic\"; /evidence=\"ECO:0000255|HAMAP-Rule:MF_01585\"; TOPO_DOM 39..52; /note=\"Cytoplasmic\"; /evidence=\"ECO:0000255|HAMAP-Rule:MF_01585\"; TOPO_DOM 74..90; /note=\"Periplasmic\"; /evidence=\"ECO:0000255|HAMAP-Rule:MF_01585\"; TOPO_DOM 112..144; /note=\"Cytoplasmic\"; /evidence=\"ECO:0000255|HAMAP-Rule:MF_01585\"; TOPO_DOM 166; /note=\"Periplasmic\"; /evidence=\"ECO:0000255|HAMAP-Rule:MF_01585\"; TOPO_DOM 188..226; /note=\"Cytoplasmic\"; /evidence=\"ECO:0000255|HAMAP-Rule:MF_01585\"; TOPO_DOM 248..256; /note=\"Periplasmic\"; /evidence=\"ECO:0000255|HAMAP-Rule:MF_01585\"; TOPO_DOM 278..280; /note=\"Cytoplasmic\"; /evidence=\"ECO:0000255|HAMAP-Rule:MF_01585\"; TOPO_DOM 302..304; /note=\"Periplasmic\"; /evidence=\"ECO:0000255|HAMAP-Rule:MF_01585\"; TOPO_DOM 326..343; /note=\"Cytoplasmic\"; /evidence=\"ECO:0000255|HAMAP-Rule:MF_01585\"; TOPO_DOM 365..366; /note=\"Periplasmic\"; /evidence=\"ECO:0000255|HAMAP-Rule:MF_01585\"; TOPO_DOM 388..397; /note=\"Cytoplasmic\"; /evidence=\"ECO:0000255|HAMAP-Rule:MF_01585\"'\n",
      " 'TOPO_DOM 1..14; /note=\"Cytoplasmic\"; /evidence=\"ECO:0000255\"; TOPO_DOM 35..75; /note=\"Extracellular\"; /evidence=\"ECO:0000255\"; TOPO_DOM 96..97; /note=\"Cytoplasmic\"; /evidence=\"ECO:0000255\"; TOPO_DOM 118..122; /note=\"Extracellular\"; /evidence=\"ECO:0000255\"; TOPO_DOM 143..149; /note=\"Cytoplasmic\"; /evidence=\"ECO:0000255\"; TOPO_DOM 170..195; /note=\"Extracellular\"; /evidence=\"ECO:0000255\"; TOPO_DOM 215..225; /note=\"Cytoplasmic\"; /evidence=\"ECO:0000255\"; TOPO_DOM 245..261; /note=\"Extracellular\"; /evidence=\"ECO:0000255\"; TOPO_DOM 283..311; /note=\"Cytoplasmic\"; /evidence=\"ECO:0000255\"; TOPO_DOM 331..352; /note=\"Extracellular\"; /evidence=\"ECO:0000255\"; TOPO_DOM 373..376; /note=\"Cytoplasmic\"; /evidence=\"ECO:0000255\"; TOPO_DOM 399..446; /note=\"Extracellular\"; /evidence=\"ECO:0000255\"; TOPO_DOM 468..759; /note=\"Cytoplasmic\"; /evidence=\"ECO:0000255\"'\n",
      " 'TOPO_DOM 1..5; /note=\"Lumenal\"; /evidence=\"ECO:0000305\"; TOPO_DOM 27..323; /note=\"Cytoplasmic\"; /evidence=\"ECO:0000305\"']---\n"
     ]
    }
   ],
   "source": [
    "# Print 3 unique values from each column \n",
    "i = 1\n",
    "for col in qa_df.columns:\n",
    "    unique_vals = qa_df[col].dropna().unique()[:3]\n",
    "    print(f\"# {i}---{col}: {unique_vals}---\")\n",
    "    i += 1"
   ]
  },
  {
   "cell_type": "code",
   "execution_count": 11,
   "id": "db9558c7",
   "metadata": {},
   "outputs": [
    {
     "data": {
      "text/html": [
       "<div>\n",
       "<style scoped>\n",
       "    .dataframe tbody tr th:only-of-type {\n",
       "        vertical-align: middle;\n",
       "    }\n",
       "\n",
       "    .dataframe tbody tr th {\n",
       "        vertical-align: top;\n",
       "    }\n",
       "\n",
       "    .dataframe thead th {\n",
       "        text-align: right;\n",
       "    }\n",
       "</style>\n",
       "<table border=\"1\" class=\"dataframe\">\n",
       "  <thead>\n",
       "    <tr style=\"text-align: right;\">\n",
       "      <th></th>\n",
       "      <th>Col #</th>\n",
       "      <th>Column</th>\n",
       "      <th>Non-null count</th>\n",
       "      <th>Coverage %</th>\n",
       "      <th>Unique count</th>\n",
       "    </tr>\n",
       "  </thead>\n",
       "  <tbody>\n",
       "    <tr>\n",
       "      <th>0</th>\n",
       "      <td>0</td>\n",
       "      <td>Entry</td>\n",
       "      <td>256690</td>\n",
       "      <td>100.00</td>\n",
       "      <td>256690</td>\n",
       "    </tr>\n",
       "    <tr>\n",
       "      <th>1</th>\n",
       "      <td>1</td>\n",
       "      <td>name</td>\n",
       "      <td>256690</td>\n",
       "      <td>100.00</td>\n",
       "      <td>256690</td>\n",
       "    </tr>\n",
       "    <tr>\n",
       "      <th>2</th>\n",
       "      <td>2</td>\n",
       "      <td>sequence</td>\n",
       "      <td>256690</td>\n",
       "      <td>100.00</td>\n",
       "      <td>256690</td>\n",
       "    </tr>\n",
       "    <tr>\n",
       "      <th>3</th>\n",
       "      <td>3</td>\n",
       "      <td>function</td>\n",
       "      <td>256690</td>\n",
       "      <td>100.00</td>\n",
       "      <td>52194</td>\n",
       "    </tr>\n",
       "    <tr>\n",
       "      <th>4</th>\n",
       "      <td>4</td>\n",
       "      <td>Organism</td>\n",
       "      <td>256681</td>\n",
       "      <td>100.00</td>\n",
       "      <td>7520</td>\n",
       "    </tr>\n",
       "    <tr>\n",
       "      <th>5</th>\n",
       "      <td>5</td>\n",
       "      <td>Length</td>\n",
       "      <td>256681</td>\n",
       "      <td>100.00</td>\n",
       "      <td>2305</td>\n",
       "    </tr>\n",
       "    <tr>\n",
       "      <th>19</th>\n",
       "      <td>19</td>\n",
       "      <td>Gene Ontology (molecular function)</td>\n",
       "      <td>234925</td>\n",
       "      <td>91.52</td>\n",
       "      <td>24613</td>\n",
       "    </tr>\n",
       "    <tr>\n",
       "      <th>17</th>\n",
       "      <td>17</td>\n",
       "      <td>Gene Ontology (biological process)</td>\n",
       "      <td>222047</td>\n",
       "      <td>86.50</td>\n",
       "      <td>36885</td>\n",
       "    </tr>\n",
       "    <tr>\n",
       "      <th>18</th>\n",
       "      <td>18</td>\n",
       "      <td>Gene Ontology (cellular component)</td>\n",
       "      <td>215299</td>\n",
       "      <td>83.88</td>\n",
       "      <td>21760</td>\n",
       "    </tr>\n",
       "    <tr>\n",
       "      <th>15</th>\n",
       "      <td>15</td>\n",
       "      <td>Subcellular location [CC]</td>\n",
       "      <td>167776</td>\n",
       "      <td>65.36</td>\n",
       "      <td>31886</td>\n",
       "    </tr>\n",
       "    <tr>\n",
       "      <th>11</th>\n",
       "      <td>11</td>\n",
       "      <td>EC number</td>\n",
       "      <td>141536</td>\n",
       "      <td>55.14</td>\n",
       "      <td>5841</td>\n",
       "    </tr>\n",
       "    <tr>\n",
       "      <th>7</th>\n",
       "      <td>7</td>\n",
       "      <td>Catalytic activity</td>\n",
       "      <td>132908</td>\n",
       "      <td>51.78</td>\n",
       "      <td>17790</td>\n",
       "    </tr>\n",
       "    <tr>\n",
       "      <th>8</th>\n",
       "      <td>8</td>\n",
       "      <td>Binding site</td>\n",
       "      <td>115900</td>\n",
       "      <td>45.15</td>\n",
       "      <td>48325</td>\n",
       "    </tr>\n",
       "    <tr>\n",
       "      <th>12</th>\n",
       "      <td>12</td>\n",
       "      <td>Pathway</td>\n",
       "      <td>68691</td>\n",
       "      <td>26.76</td>\n",
       "      <td>5577</td>\n",
       "    </tr>\n",
       "    <tr>\n",
       "      <th>14</th>\n",
       "      <td>14</td>\n",
       "      <td>UniPathway</td>\n",
       "      <td>66801</td>\n",
       "      <td>26.02</td>\n",
       "      <td>866</td>\n",
       "    </tr>\n",
       "    <tr>\n",
       "      <th>9</th>\n",
       "      <td>9</td>\n",
       "      <td>Cofactor</td>\n",
       "      <td>65251</td>\n",
       "      <td>25.42</td>\n",
       "      <td>6320</td>\n",
       "    </tr>\n",
       "    <tr>\n",
       "      <th>16</th>\n",
       "      <td>16</td>\n",
       "      <td>Domain [FT]</td>\n",
       "      <td>63134</td>\n",
       "      <td>24.60</td>\n",
       "      <td>36131</td>\n",
       "    </tr>\n",
       "    <tr>\n",
       "      <th>6</th>\n",
       "      <td>6</td>\n",
       "      <td>Active site</td>\n",
       "      <td>55837</td>\n",
       "      <td>21.75</td>\n",
       "      <td>19668</td>\n",
       "    </tr>\n",
       "    <tr>\n",
       "      <th>13</th>\n",
       "      <td>13</td>\n",
       "      <td>Reactome</td>\n",
       "      <td>18470</td>\n",
       "      <td>7.20</td>\n",
       "      <td>10001</td>\n",
       "    </tr>\n",
       "    <tr>\n",
       "      <th>21</th>\n",
       "      <td>21</td>\n",
       "      <td>Topological domain</td>\n",
       "      <td>13374</td>\n",
       "      <td>5.21</td>\n",
       "      <td>11197</td>\n",
       "    </tr>\n",
       "    <tr>\n",
       "      <th>20</th>\n",
       "      <td>20</td>\n",
       "      <td>Motif</td>\n",
       "      <td>12019</td>\n",
       "      <td>4.68</td>\n",
       "      <td>7776</td>\n",
       "    </tr>\n",
       "    <tr>\n",
       "      <th>10</th>\n",
       "      <td>10</td>\n",
       "      <td>DNA binding</td>\n",
       "      <td>4886</td>\n",
       "      <td>1.90</td>\n",
       "      <td>2596</td>\n",
       "    </tr>\n",
       "  </tbody>\n",
       "</table>\n",
       "</div>"
      ],
      "text/plain": [
       "    Col #                              Column  Non-null count  Coverage %  \\\n",
       "0       0                               Entry          256690      100.00   \n",
       "1       1                                name          256690      100.00   \n",
       "2       2                            sequence          256690      100.00   \n",
       "3       3                            function          256690      100.00   \n",
       "4       4                            Organism          256681      100.00   \n",
       "5       5                              Length          256681      100.00   \n",
       "19     19  Gene Ontology (molecular function)          234925       91.52   \n",
       "17     17  Gene Ontology (biological process)          222047       86.50   \n",
       "18     18  Gene Ontology (cellular component)          215299       83.88   \n",
       "15     15           Subcellular location [CC]          167776       65.36   \n",
       "11     11                           EC number          141536       55.14   \n",
       "7       7                  Catalytic activity          132908       51.78   \n",
       "8       8                        Binding site          115900       45.15   \n",
       "12     12                             Pathway           68691       26.76   \n",
       "14     14                          UniPathway           66801       26.02   \n",
       "9       9                            Cofactor           65251       25.42   \n",
       "16     16                         Domain [FT]           63134       24.60   \n",
       "6       6                         Active site           55837       21.75   \n",
       "13     13                            Reactome           18470        7.20   \n",
       "21     21                  Topological domain           13374        5.21   \n",
       "20     20                               Motif           12019        4.68   \n",
       "10     10                         DNA binding            4886        1.90   \n",
       "\n",
       "    Unique count  \n",
       "0         256690  \n",
       "1         256690  \n",
       "2         256690  \n",
       "3          52194  \n",
       "4           7520  \n",
       "5           2305  \n",
       "19         24613  \n",
       "17         36885  \n",
       "18         21760  \n",
       "15         31886  \n",
       "11          5841  \n",
       "7          17790  \n",
       "8          48325  \n",
       "12          5577  \n",
       "14           866  \n",
       "9           6320  \n",
       "16         36131  \n",
       "6          19668  \n",
       "13         10001  \n",
       "21         11197  \n",
       "20          7776  \n",
       "10          2596  "
      ]
     },
     "metadata": {},
     "output_type": "display_data"
    }
   ],
   "source": [
    "show_coverage(qa_df)"
   ]
  },
  {
   "cell_type": "code",
   "execution_count": 14,
   "id": "d66b1831",
   "metadata": {},
   "outputs": [
    {
     "data": {
      "text/plain": [
       "0                    Escherichia fergusonii\n",
       "1                  Photobacterium profundum\n",
       "2                       Oncorhynchus mykiss\n",
       "3                  Dictyostelium discoideum\n",
       "4                      Agrobacterium fabrum\n",
       "                        ...                \n",
       "256685             Saccharomyces cerevisiae\n",
       "256686           Mycobacterium tuberculosis\n",
       "256687    Carboxydothermus hydrogenoformans\n",
       "256688                          Danio rerio\n",
       "256689              Drosophila melanogaster\n",
       "Name: Organism, Length: 256690, dtype: object"
      ]
     },
     "execution_count": 14,
     "metadata": {},
     "output_type": "execute_result"
    }
   ],
   "source": [
    "qa_df['Organism']"
   ]
  },
  {
   "cell_type": "markdown",
   "id": "856ef7ae",
   "metadata": {},
   "source": [
    "# Pre-Processing"
   ]
  },
  {
   "cell_type": "code",
   "execution_count": 30,
   "id": "852044da",
   "metadata": {},
   "outputs": [
    {
     "data": {
      "text/html": [
       "<div>\n",
       "<style scoped>\n",
       "    .dataframe tbody tr th:only-of-type {\n",
       "        vertical-align: middle;\n",
       "    }\n",
       "\n",
       "    .dataframe tbody tr th {\n",
       "        vertical-align: top;\n",
       "    }\n",
       "\n",
       "    .dataframe thead th {\n",
       "        text-align: right;\n",
       "    }\n",
       "</style>\n",
       "<table border=\"1\" class=\"dataframe\">\n",
       "  <thead>\n",
       "    <tr style=\"text-align: right;\">\n",
       "      <th></th>\n",
       "      <th>Col #</th>\n",
       "      <th>Column</th>\n",
       "      <th>Non-null count</th>\n",
       "      <th>Coverage %</th>\n",
       "      <th>Unique count</th>\n",
       "    </tr>\n",
       "  </thead>\n",
       "  <tbody>\n",
       "    <tr>\n",
       "      <th>0</th>\n",
       "      <td>0</td>\n",
       "      <td>Entry</td>\n",
       "      <td>256690</td>\n",
       "      <td>100.00</td>\n",
       "      <td>256690</td>\n",
       "    </tr>\n",
       "    <tr>\n",
       "      <th>1</th>\n",
       "      <td>1</td>\n",
       "      <td>name</td>\n",
       "      <td>256690</td>\n",
       "      <td>100.00</td>\n",
       "      <td>256690</td>\n",
       "    </tr>\n",
       "    <tr>\n",
       "      <th>2</th>\n",
       "      <td>2</td>\n",
       "      <td>sequence</td>\n",
       "      <td>256690</td>\n",
       "      <td>100.00</td>\n",
       "      <td>256690</td>\n",
       "    </tr>\n",
       "    <tr>\n",
       "      <th>3</th>\n",
       "      <td>3</td>\n",
       "      <td>function</td>\n",
       "      <td>256690</td>\n",
       "      <td>100.00</td>\n",
       "      <td>52194</td>\n",
       "    </tr>\n",
       "    <tr>\n",
       "      <th>4</th>\n",
       "      <td>4</td>\n",
       "      <td>Organism</td>\n",
       "      <td>256681</td>\n",
       "      <td>100.00</td>\n",
       "      <td>7520</td>\n",
       "    </tr>\n",
       "    <tr>\n",
       "      <th>5</th>\n",
       "      <td>5</td>\n",
       "      <td>Length</td>\n",
       "      <td>256681</td>\n",
       "      <td>100.00</td>\n",
       "      <td>2305</td>\n",
       "    </tr>\n",
       "    <tr>\n",
       "      <th>19</th>\n",
       "      <td>19</td>\n",
       "      <td>Gene Ontology (molecular function)</td>\n",
       "      <td>234925</td>\n",
       "      <td>91.52</td>\n",
       "      <td>24613</td>\n",
       "    </tr>\n",
       "    <tr>\n",
       "      <th>17</th>\n",
       "      <td>17</td>\n",
       "      <td>Gene Ontology (biological process)</td>\n",
       "      <td>222047</td>\n",
       "      <td>86.50</td>\n",
       "      <td>36885</td>\n",
       "    </tr>\n",
       "    <tr>\n",
       "      <th>18</th>\n",
       "      <td>18</td>\n",
       "      <td>Gene Ontology (cellular component)</td>\n",
       "      <td>215299</td>\n",
       "      <td>83.88</td>\n",
       "      <td>21760</td>\n",
       "    </tr>\n",
       "    <tr>\n",
       "      <th>15</th>\n",
       "      <td>15</td>\n",
       "      <td>Subcellular location [CC]</td>\n",
       "      <td>167776</td>\n",
       "      <td>65.36</td>\n",
       "      <td>31886</td>\n",
       "    </tr>\n",
       "    <tr>\n",
       "      <th>11</th>\n",
       "      <td>11</td>\n",
       "      <td>EC number</td>\n",
       "      <td>141536</td>\n",
       "      <td>55.14</td>\n",
       "      <td>5841</td>\n",
       "    </tr>\n",
       "    <tr>\n",
       "      <th>7</th>\n",
       "      <td>7</td>\n",
       "      <td>Catalytic activity</td>\n",
       "      <td>132908</td>\n",
       "      <td>51.78</td>\n",
       "      <td>17790</td>\n",
       "    </tr>\n",
       "    <tr>\n",
       "      <th>8</th>\n",
       "      <td>8</td>\n",
       "      <td>Binding site</td>\n",
       "      <td>115900</td>\n",
       "      <td>45.15</td>\n",
       "      <td>48325</td>\n",
       "    </tr>\n",
       "    <tr>\n",
       "      <th>12</th>\n",
       "      <td>12</td>\n",
       "      <td>Pathway</td>\n",
       "      <td>68691</td>\n",
       "      <td>26.76</td>\n",
       "      <td>5577</td>\n",
       "    </tr>\n",
       "    <tr>\n",
       "      <th>14</th>\n",
       "      <td>14</td>\n",
       "      <td>UniPathway</td>\n",
       "      <td>66801</td>\n",
       "      <td>26.02</td>\n",
       "      <td>866</td>\n",
       "    </tr>\n",
       "    <tr>\n",
       "      <th>9</th>\n",
       "      <td>9</td>\n",
       "      <td>Cofactor</td>\n",
       "      <td>65251</td>\n",
       "      <td>25.42</td>\n",
       "      <td>6320</td>\n",
       "    </tr>\n",
       "    <tr>\n",
       "      <th>16</th>\n",
       "      <td>16</td>\n",
       "      <td>Domain [FT]</td>\n",
       "      <td>63134</td>\n",
       "      <td>24.60</td>\n",
       "      <td>36131</td>\n",
       "    </tr>\n",
       "    <tr>\n",
       "      <th>6</th>\n",
       "      <td>6</td>\n",
       "      <td>Active site</td>\n",
       "      <td>55837</td>\n",
       "      <td>21.75</td>\n",
       "      <td>19668</td>\n",
       "    </tr>\n",
       "    <tr>\n",
       "      <th>13</th>\n",
       "      <td>13</td>\n",
       "      <td>Reactome</td>\n",
       "      <td>18470</td>\n",
       "      <td>7.20</td>\n",
       "      <td>10001</td>\n",
       "    </tr>\n",
       "    <tr>\n",
       "      <th>21</th>\n",
       "      <td>21</td>\n",
       "      <td>Topological domain</td>\n",
       "      <td>13374</td>\n",
       "      <td>5.21</td>\n",
       "      <td>11197</td>\n",
       "    </tr>\n",
       "    <tr>\n",
       "      <th>20</th>\n",
       "      <td>20</td>\n",
       "      <td>Motif</td>\n",
       "      <td>12019</td>\n",
       "      <td>4.68</td>\n",
       "      <td>7776</td>\n",
       "    </tr>\n",
       "    <tr>\n",
       "      <th>10</th>\n",
       "      <td>10</td>\n",
       "      <td>DNA binding</td>\n",
       "      <td>4886</td>\n",
       "      <td>1.90</td>\n",
       "      <td>2596</td>\n",
       "    </tr>\n",
       "  </tbody>\n",
       "</table>\n",
       "</div>"
      ],
      "text/plain": [
       "    Col #                              Column  Non-null count  Coverage %  \\\n",
       "0       0                               Entry          256690      100.00   \n",
       "1       1                                name          256690      100.00   \n",
       "2       2                            sequence          256690      100.00   \n",
       "3       3                            function          256690      100.00   \n",
       "4       4                            Organism          256681      100.00   \n",
       "5       5                              Length          256681      100.00   \n",
       "19     19  Gene Ontology (molecular function)          234925       91.52   \n",
       "17     17  Gene Ontology (biological process)          222047       86.50   \n",
       "18     18  Gene Ontology (cellular component)          215299       83.88   \n",
       "15     15           Subcellular location [CC]          167776       65.36   \n",
       "11     11                           EC number          141536       55.14   \n",
       "7       7                  Catalytic activity          132908       51.78   \n",
       "8       8                        Binding site          115900       45.15   \n",
       "12     12                             Pathway           68691       26.76   \n",
       "14     14                          UniPathway           66801       26.02   \n",
       "9       9                            Cofactor           65251       25.42   \n",
       "16     16                         Domain [FT]           63134       24.60   \n",
       "6       6                         Active site           55837       21.75   \n",
       "13     13                            Reactome           18470        7.20   \n",
       "21     21                  Topological domain           13374        5.21   \n",
       "20     20                               Motif           12019        4.68   \n",
       "10     10                         DNA binding            4886        1.90   \n",
       "\n",
       "    Unique count  \n",
       "0         256690  \n",
       "1         256690  \n",
       "2         256690  \n",
       "3          52194  \n",
       "4           7520  \n",
       "5           2305  \n",
       "19         24613  \n",
       "17         36885  \n",
       "18         21760  \n",
       "15         31886  \n",
       "11          5841  \n",
       "7          17790  \n",
       "8          48325  \n",
       "12          5577  \n",
       "14           866  \n",
       "9           6320  \n",
       "16         36131  \n",
       "6          19668  \n",
       "13         10001  \n",
       "21         11197  \n",
       "20          7776  \n",
       "10          2596  "
      ]
     },
     "metadata": {},
     "output_type": "display_data"
    }
   ],
   "source": [
    "show_coverage(qa_df)"
   ]
  },
  {
   "cell_type": "markdown",
   "id": "bfe78771",
   "metadata": {},
   "source": [
    "### Fixing missing Organism, length"
   ]
  },
  {
   "cell_type": "code",
   "execution_count": 32,
   "id": "1a4d3e70",
   "metadata": {},
   "outputs": [
    {
     "name": "stdout",
     "output_type": "stream",
     "text": [
      "Missing Length after fix: 0\n"
     ]
    }
   ],
   "source": [
    "# Fix length\n",
    "import pandas as pd\n",
    "\n",
    "# assume df is your dataframe\n",
    "\n",
    "# fill missing Length values by computing sequence length\n",
    "qa_df['Length'] = qa_df['Length'].fillna(qa_df['sequence'].str.len())\n",
    "\n",
    "# sanity check: how many are still missing?\n",
    "print(\"Missing Length after fix:\", qa_df['Length'].isna().sum())\n",
    "\n",
    "# optional: enforce integer type\n",
    "qa_df['Length'] = qa_df['Length'].astype(int)"
   ]
  },
  {
   "cell_type": "code",
   "execution_count": 33,
   "id": "ddd662ce",
   "metadata": {},
   "outputs": [
    {
     "name": "stdout",
     "output_type": "stream",
     "text": [
      "<class 'pandas.core.frame.DataFrame'>\n",
      "RangeIndex: 256690 entries, 0 to 256689\n",
      "Data columns (total 22 columns):\n",
      " #   Column                              Non-Null Count   Dtype \n",
      "---  ------                              --------------   ----- \n",
      " 0   Entry                               256690 non-null  object\n",
      " 1   name                                256690 non-null  object\n",
      " 2   sequence                            256690 non-null  object\n",
      " 3   function                            256690 non-null  object\n",
      " 4   Organism                            256681 non-null  object\n",
      " 5   Length                              256690 non-null  int64 \n",
      " 6   Active site                         55837 non-null   object\n",
      " 7   Catalytic activity                  132908 non-null  object\n",
      " 8   Binding site                        115900 non-null  object\n",
      " 9   Cofactor                            65251 non-null   object\n",
      " 10  DNA binding                         4886 non-null    object\n",
      " 11  EC number                           141536 non-null  object\n",
      " 12  Pathway                             68691 non-null   object\n",
      " 13  Reactome                            18470 non-null   object\n",
      " 14  UniPathway                          66801 non-null   object\n",
      " 15  Subcellular location [CC]           167776 non-null  object\n",
      " 16  Domain [FT]                         63134 non-null   object\n",
      " 17  Gene Ontology (biological process)  222047 non-null  object\n",
      " 18  Gene Ontology (cellular component)  215299 non-null  object\n",
      " 19  Gene Ontology (molecular function)  234925 non-null  object\n",
      " 20  Motif                               12019 non-null   object\n",
      " 21  Topological domain                  13374 non-null   object\n",
      "dtypes: int64(1), object(21)\n",
      "memory usage: 43.1+ MB\n"
     ]
    }
   ],
   "source": [
    "qa_df.info()"
   ]
  },
  {
   "cell_type": "code",
   "execution_count": 35,
   "id": "3b01f87f",
   "metadata": {},
   "outputs": [
    {
     "name": "stdout",
     "output_type": "stream",
     "text": [
      "Number of rows missing Organism: 9\n",
      "             Entry                                           sequence\n",
      "4733    A0A0U1LSP0  MASQSAHLVKTHQLWELLRHRTKTGSYELDGDSLHIADVVATAQQT...\n",
      "46027       Q6GMV1  MERSAFMELDAGSRLVMHLREWPALLVSSTGWTEFEQLTLDGHNLP...\n",
      "54429       P79371  MAAQKDLWDAIVIGAGIQGCFTVYHLVKHRKRILLLEQFFLPHSRG...\n",
      "115258      P07631  MMSDYNWFEGIPFPAISYQREILEDIRNKFVVKEEDLLILTYPKSG...\n",
      "170978      P36185  AAGIRIASAIDFNTWASKNNKHFTAIEKLRRRAIFNMNAKFVDSFN...\n",
      "189684  A0A0B4J2F2  MVIMSEFSADPAGQGQGQQKPLRVGFYDIERTLGKGNFAVVKLARH...\n",
      "207357      Q06964  LAIANAIDFNTWAANNNKHFTAVEALRRRAIFNMNARFVAEFNKKG...\n",
      "245018      P0DUJ1  MKFLWAALVVTLLAGCQADVEEEVKLGQEPDRWQAKQPWEQALGRF...\n",
      "252773      Q8WV35  MYSSGWPAGAAEPRHGRGRELAQALGCMHGAPSQLASLSLAHCSSL...\n"
     ]
    }
   ],
   "source": [
    "missing_orgs = qa_df[qa_df['Organism'].isna()][['Entry', 'sequence']]\n",
    "\n",
    "print(\"Number of rows missing Organism:\", len(missing_orgs))\n",
    "print(missing_orgs)"
   ]
  },
  {
   "cell_type": "code",
   "execution_count": 36,
   "id": "469bed8b",
   "metadata": {},
   "outputs": [
    {
     "data": {
      "text/html": [
       "<div>\n",
       "<style scoped>\n",
       "    .dataframe tbody tr th:only-of-type {\n",
       "        vertical-align: middle;\n",
       "    }\n",
       "\n",
       "    .dataframe tbody tr th {\n",
       "        vertical-align: top;\n",
       "    }\n",
       "\n",
       "    .dataframe thead th {\n",
       "        text-align: right;\n",
       "    }\n",
       "</style>\n",
       "<table border=\"1\" class=\"dataframe\">\n",
       "  <thead>\n",
       "    <tr style=\"text-align: right;\">\n",
       "      <th></th>\n",
       "      <th>Entry</th>\n",
       "      <th>name</th>\n",
       "      <th>sequence</th>\n",
       "      <th>function</th>\n",
       "      <th>Organism</th>\n",
       "      <th>Length</th>\n",
       "      <th>Active site</th>\n",
       "      <th>Catalytic activity</th>\n",
       "      <th>Binding site</th>\n",
       "      <th>Cofactor</th>\n",
       "      <th>...</th>\n",
       "      <th>Pathway</th>\n",
       "      <th>Reactome</th>\n",
       "      <th>UniPathway</th>\n",
       "      <th>Subcellular location [CC]</th>\n",
       "      <th>Domain [FT]</th>\n",
       "      <th>Gene Ontology (biological process)</th>\n",
       "      <th>Gene Ontology (cellular component)</th>\n",
       "      <th>Gene Ontology (molecular function)</th>\n",
       "      <th>Motif</th>\n",
       "      <th>Topological domain</th>\n",
       "    </tr>\n",
       "  </thead>\n",
       "  <tbody>\n",
       "    <tr>\n",
       "      <th>0</th>\n",
       "      <td>B7LNJ1</td>\n",
       "      <td>LPLT_ESCF3</td>\n",
       "      <td>MSESVHTNTSLWSKGMKAVIVAQFLSAFGDNALLFATLALLKAQFY...</td>\n",
       "      <td>Catalyzes the facilitated diffusion of 2-acyl-...</td>\n",
       "      <td>Escherichia fergusonii</td>\n",
       "      <td>397</td>\n",
       "      <td>NaN</td>\n",
       "      <td>NaN</td>\n",
       "      <td>NaN</td>\n",
       "      <td>NaN</td>\n",
       "      <td>...</td>\n",
       "      <td>NaN</td>\n",
       "      <td>NaN</td>\n",
       "      <td>NaN</td>\n",
       "      <td>SUBCELLULAR LOCATION: Cell inner membrane {ECO...</td>\n",
       "      <td>NaN</td>\n",
       "      <td>NaN</td>\n",
       "      <td>plasma membrane [GO:0005886]</td>\n",
       "      <td>lysophospholipid:sodium symporter activity [GO...</td>\n",
       "      <td>NaN</td>\n",
       "      <td>TOPO_DOM 1..17; /note=\"Periplasmic\"; /evidence...</td>\n",
       "    </tr>\n",
       "    <tr>\n",
       "      <th>1</th>\n",
       "      <td>Q6LG09</td>\n",
       "      <td>OTC_PHOPR</td>\n",
       "      <td>MSFNLRNRNFLKLLDFTGKEIEHLIALAQDLKHAKYAGTEQQKLKG...</td>\n",
       "      <td>Reversibly catalyzes the transfer of the carba...</td>\n",
       "      <td>Photobacterium profundum</td>\n",
       "      <td>333</td>\n",
       "      <td>NaN</td>\n",
       "      <td>CATALYTIC ACTIVITY: Reaction=carbamoyl phospha...</td>\n",
       "      <td>BINDING 57..60; /ligand=\"carbamoyl phosphate\";...</td>\n",
       "      <td>NaN</td>\n",
       "      <td>...</td>\n",
       "      <td>PATHWAY: Amino-acid biosynthesis; L-arginine b...</td>\n",
       "      <td>NaN</td>\n",
       "      <td>UPA00068;</td>\n",
       "      <td>SUBCELLULAR LOCATION: Cytoplasm {ECO:0000255|H...</td>\n",
       "      <td>NaN</td>\n",
       "      <td>arginine biosynthetic process via ornithine [G...</td>\n",
       "      <td>cytoplasm [GO:0005737]</td>\n",
       "      <td>amino acid binding [GO:0016597]; ornithine car...</td>\n",
       "      <td>NaN</td>\n",
       "      <td>NaN</td>\n",
       "    </tr>\n",
       "  </tbody>\n",
       "</table>\n",
       "<p>2 rows × 22 columns</p>\n",
       "</div>"
      ],
      "text/plain": [
       "    Entry        name                                           sequence  \\\n",
       "0  B7LNJ1  LPLT_ESCF3  MSESVHTNTSLWSKGMKAVIVAQFLSAFGDNALLFATLALLKAQFY...   \n",
       "1  Q6LG09   OTC_PHOPR  MSFNLRNRNFLKLLDFTGKEIEHLIALAQDLKHAKYAGTEQQKLKG...   \n",
       "\n",
       "                                            function  \\\n",
       "0  Catalyzes the facilitated diffusion of 2-acyl-...   \n",
       "1  Reversibly catalyzes the transfer of the carba...   \n",
       "\n",
       "                   Organism  Length Active site  \\\n",
       "0    Escherichia fergusonii     397         NaN   \n",
       "1  Photobacterium profundum     333         NaN   \n",
       "\n",
       "                                  Catalytic activity  \\\n",
       "0                                                NaN   \n",
       "1  CATALYTIC ACTIVITY: Reaction=carbamoyl phospha...   \n",
       "\n",
       "                                        Binding site Cofactor  ...  \\\n",
       "0                                                NaN      NaN  ...   \n",
       "1  BINDING 57..60; /ligand=\"carbamoyl phosphate\";...      NaN  ...   \n",
       "\n",
       "                                             Pathway Reactome UniPathway  \\\n",
       "0                                                NaN      NaN        NaN   \n",
       "1  PATHWAY: Amino-acid biosynthesis; L-arginine b...      NaN  UPA00068;   \n",
       "\n",
       "                           Subcellular location [CC] Domain [FT]  \\\n",
       "0  SUBCELLULAR LOCATION: Cell inner membrane {ECO...         NaN   \n",
       "1  SUBCELLULAR LOCATION: Cytoplasm {ECO:0000255|H...         NaN   \n",
       "\n",
       "                  Gene Ontology (biological process)  \\\n",
       "0                                                NaN   \n",
       "1  arginine biosynthetic process via ornithine [G...   \n",
       "\n",
       "  Gene Ontology (cellular component)  \\\n",
       "0       plasma membrane [GO:0005886]   \n",
       "1             cytoplasm [GO:0005737]   \n",
       "\n",
       "                  Gene Ontology (molecular function) Motif  \\\n",
       "0  lysophospholipid:sodium symporter activity [GO...   NaN   \n",
       "1  amino acid binding [GO:0016597]; ornithine car...   NaN   \n",
       "\n",
       "                                  Topological domain  \n",
       "0  TOPO_DOM 1..17; /note=\"Periplasmic\"; /evidence...  \n",
       "1                                                NaN  \n",
       "\n",
       "[2 rows x 22 columns]"
      ]
     },
     "execution_count": 36,
     "metadata": {},
     "output_type": "execute_result"
    }
   ],
   "source": [
    "qa_df.head(2)"
   ]
  },
  {
   "cell_type": "code",
   "execution_count": 37,
   "id": "45310db0",
   "metadata": {},
   "outputs": [],
   "source": [
    "old_df = pd.read_csv(\"Prot2text_UniProt.csv\")"
   ]
  },
  {
   "cell_type": "code",
   "execution_count": 38,
   "id": "94a8a542",
   "metadata": {},
   "outputs": [
    {
     "data": {
      "text/plain": [
       "array(['Escherichia', 'Photobacterium', 'Oncorhynchus', ..., 'Polyorchis',\n",
       "       'Sulfitobacter', 'Lobophytum'], dtype=object)"
      ]
     },
     "execution_count": 38,
     "metadata": {},
     "output_type": "execute_result"
    }
   ],
   "source": [
    "old_df['taxon'].unique()"
   ]
  },
  {
   "cell_type": "code",
   "execution_count": 39,
   "id": "cb4921e4",
   "metadata": {},
   "outputs": [
    {
     "data": {
      "text/plain": [
       "array(['Escherichia fergusonii', 'Photobacterium profundum',\n",
       "       'Oncorhynchus mykiss', ..., 'Sulfitobacter sp.',\n",
       "       'Lobophytum crassum', 'Streptomyces pratensis'], dtype=object)"
      ]
     },
     "execution_count": 39,
     "metadata": {},
     "output_type": "execute_result"
    }
   ],
   "source": [
    "qa_df['Organism'].unique()"
   ]
  },
  {
   "cell_type": "code",
   "execution_count": 40,
   "id": "bb041c6c",
   "metadata": {},
   "outputs": [
    {
     "data": {
      "text/html": [
       "<div>\n",
       "<style scoped>\n",
       "    .dataframe tbody tr th:only-of-type {\n",
       "        vertical-align: middle;\n",
       "    }\n",
       "\n",
       "    .dataframe tbody tr th {\n",
       "        vertical-align: top;\n",
       "    }\n",
       "\n",
       "    .dataframe thead th {\n",
       "        text-align: right;\n",
       "    }\n",
       "</style>\n",
       "<table border=\"1\" class=\"dataframe\">\n",
       "  <thead>\n",
       "    <tr style=\"text-align: right;\">\n",
       "      <th></th>\n",
       "      <th>Entry</th>\n",
       "      <th>taxon</th>\n",
       "    </tr>\n",
       "  </thead>\n",
       "  <tbody>\n",
       "    <tr>\n",
       "      <th>4733</th>\n",
       "      <td>A0A0U1LSP0</td>\n",
       "      <td>Talaromyces sect. Islandici</td>\n",
       "    </tr>\n",
       "    <tr>\n",
       "      <th>46027</th>\n",
       "      <td>Q6GMV1</td>\n",
       "      <td>Homo</td>\n",
       "    </tr>\n",
       "    <tr>\n",
       "      <th>54429</th>\n",
       "      <td>P79371</td>\n",
       "      <td>Oryctolagus</td>\n",
       "    </tr>\n",
       "    <tr>\n",
       "      <th>115258</th>\n",
       "      <td>P07631</td>\n",
       "      <td>Rattus</td>\n",
       "    </tr>\n",
       "    <tr>\n",
       "      <th>170978</th>\n",
       "      <td>P36185</td>\n",
       "      <td>Entamoeba</td>\n",
       "    </tr>\n",
       "    <tr>\n",
       "      <th>189684</th>\n",
       "      <td>A0A0B4J2F2</td>\n",
       "      <td>Homo</td>\n",
       "    </tr>\n",
       "    <tr>\n",
       "      <th>207357</th>\n",
       "      <td>Q06964</td>\n",
       "      <td>Entamoeba</td>\n",
       "    </tr>\n",
       "    <tr>\n",
       "      <th>245018</th>\n",
       "      <td>P0DUJ1</td>\n",
       "      <td>Pteropus</td>\n",
       "    </tr>\n",
       "    <tr>\n",
       "      <th>252773</th>\n",
       "      <td>Q8WV35</td>\n",
       "      <td>Homo</td>\n",
       "    </tr>\n",
       "  </tbody>\n",
       "</table>\n",
       "</div>"
      ],
      "text/plain": [
       "             Entry                        taxon\n",
       "4733    A0A0U1LSP0  Talaromyces sect. Islandici\n",
       "46027       Q6GMV1                         Homo\n",
       "54429       P79371                  Oryctolagus\n",
       "115258      P07631                       Rattus\n",
       "170978      P36185                    Entamoeba\n",
       "189684  A0A0B4J2F2                         Homo\n",
       "207357      Q06964                    Entamoeba\n",
       "245018      P0DUJ1                     Pteropus\n",
       "252773      Q8WV35                         Homo"
      ]
     },
     "execution_count": 40,
     "metadata": {},
     "output_type": "execute_result"
    }
   ],
   "source": [
    "import pandas as pd\n",
    "\n",
    "# assume you already have:\n",
    "# df = your new dataframe (with missing Organism for 9 entries)\n",
    "# old_df = previous dataset with 'taxon' column\n",
    "\n",
    "# list of the 9 missing Entry IDs\n",
    "missing_entries = [\n",
    "    \"A0A0U1LSP0\", \"Q6GMV1\", \"P79371\", \"P07631\", \"P36185\",\n",
    "    \"A0A0B4J2F2\", \"Q06964\", \"P0DUJ1\", \"Q8WV35\"\n",
    "]\n",
    "\n",
    "# search them in old_df\n",
    "lookup = old_df[old_df['Entry'].isin(missing_entries)][['Entry', 'taxon']]\n",
    "lookup\n"
   ]
  },
  {
   "cell_type": "code",
   "execution_count": 41,
   "id": "5ee7954b",
   "metadata": {},
   "outputs": [
    {
     "name": "stdout",
     "output_type": "stream",
     "text": [
      "Mapping taxon to full Organism names found in qa_df:\n",
      "Talaromyces sect. Islandici -> []\n",
      "Homo -> ['Homo sapiens', 'Trichomonas vaginalis', 'Stenotrophomonas maltophilia', 'Hyphomonas neptunium', 'Xanthomonas axonopodis pv. citri', 'Syntrophomonas wolfei subsp. wolfei', 'Xanthomonas oryzae pv. oryzae', 'Xanthomonas campestris pv. campestris', 'Xanthomonas campestris pv. phaseoli', 'Xanthomonas euvesicatoria pv. vesicatoria', 'Phomopsis amygdali', 'Xanthomonas campestris pv. cyanopsidis', 'Homoroselaps lacteus', 'Homoeomma sp.', 'Xanthomonas campestris pv. juglandis', 'Xanthomonas campestris', 'Xanthomonas euvesicatoria', 'Xanthomonas albilineans', 'Abies homolepis', 'Thomomys mazama', 'Xanthomonas campestris pv. translucens', 'Pseudoxanthomonas mexicana', 'Tritrichomonas foetus', 'Thomomys talpoides', 'Homo sapiens neanderthalensis', 'Xanthomonas citri', 'Xanthomonas campestris pv. glycines', 'Thomomys bulbivorus', 'Xanthomonas vasicola', 'Xanthomonas oryzae pv. oryzicola', 'Xanthomonas campestris pv. amaranthicola', 'Plexaura homomalla']\n",
      "Oryctolagus -> ['Oryctolagus cuniculus']\n",
      "Rattus -> ['Rattus norvegicus', 'Rattus tunneyi', 'Rattus fuscipes', 'Rattus rattus']\n",
      "Entamoeba -> ['Entamoeba histolytica', 'Entamoeba dispar', 'Entamoeba invadens']\n",
      "Pteropus -> ['Pteropus vampyrus', 'Pteropus poliocephalus', 'Pteropus alecto', 'Pteropus hypomelanus', 'Pteropus scapulatus', 'Pteropus pselaphon', 'Pteropus speciosus', 'Pteropus dasymallus', 'Pteropus pumilus', 'Pteropus rodricensis', 'Pteropus rufus']\n"
     ]
    }
   ],
   "source": [
    "# build dictionary: short taxon -> list of full organism names in qa_df\n",
    "taxon_to_full = {}\n",
    "for taxon in lookup['taxon'].unique():\n",
    "    matches = qa_df[qa_df['Organism'].str.contains(taxon, case=False, na=False)]['Organism'].unique().tolist()\n",
    "    taxon_to_full[taxon] = matches\n",
    "\n",
    "print(\"Mapping taxon to full Organism names found in qa_df:\")\n",
    "for k, v in taxon_to_full.items():\n",
    "    print(f\"{k} -> {v}\")\n"
   ]
  },
  {
   "cell_type": "code",
   "execution_count": 43,
   "id": "77487206",
   "metadata": {},
   "outputs": [
    {
     "name": "stdout",
     "output_type": "stream",
     "text": [
      "             Entry                     Organism\n",
      "4733    A0A0U1LSP0  Talaromyces sect. Islandici\n",
      "46027       Q6GMV1                 Homo sapiens\n",
      "54429       P79371        Oryctolagus cuniculus\n",
      "115258      P07631                   Rattus sp.\n",
      "170978      P36185                Entamoeba sp.\n",
      "189684  A0A0B4J2F2                 Homo sapiens\n",
      "207357      Q06964                Entamoeba sp.\n",
      "245018      P0DUJ1                 Pteropus sp.\n",
      "252773      Q8WV35                 Homo sapiens\n"
     ]
    }
   ],
   "source": [
    "# dictionary for safe auto-fills\n",
    "manual_map = {\n",
    "    \"Oryctolagus\": \"Oryctolagus cuniculus\",\n",
    "    \"Homo\": \"Homo sapiens\",  \n",
    "    \"Rattus\": \"Rattus sp.\",\n",
    "    \"Entamoeba\": \"Entamoeba sp.\",\n",
    "    \"Pteropus\": \"Pteropus sp.\",\n",
    "    \"Talaromyces sect. Islandici\": \"Talaromyces sect. Islandici\"\n",
    "}\n",
    "\n",
    "# patch Organism values for missing entries\n",
    "for entry, taxon in zip(lookup['Entry'], lookup['taxon']):\n",
    "    if pd.isna(qa_df.loc[qa_df['Entry'] == entry, 'Organism']).any():\n",
    "        qa_df.loc[qa_df['Entry'] == entry, 'Organism'] = manual_map.get(taxon, taxon)\n",
    "\n",
    "# verify all fixed\n",
    "print(qa_df.loc[qa_df['Entry'].isin(missing_entries), ['Entry', 'Organism']])"
   ]
  },
  {
   "cell_type": "code",
   "execution_count": 45,
   "id": "198fc715",
   "metadata": {},
   "outputs": [
    {
     "name": "stdout",
     "output_type": "stream",
     "text": [
      "<class 'pandas.core.frame.DataFrame'>\n",
      "RangeIndex: 256690 entries, 0 to 256689\n",
      "Data columns (total 22 columns):\n",
      " #   Column                              Non-Null Count   Dtype \n",
      "---  ------                              --------------   ----- \n",
      " 0   Entry                               256690 non-null  object\n",
      " 1   name                                256690 non-null  object\n",
      " 2   sequence                            256690 non-null  object\n",
      " 3   function                            256690 non-null  object\n",
      " 4   Organism                            256690 non-null  object\n",
      " 5   Length                              256690 non-null  int64 \n",
      " 6   Active site                         55837 non-null   object\n",
      " 7   Catalytic activity                  132908 non-null  object\n",
      " 8   Binding site                        115900 non-null  object\n",
      " 9   Cofactor                            65251 non-null   object\n",
      " 10  DNA binding                         4886 non-null    object\n",
      " 11  EC number                           141536 non-null  object\n",
      " 12  Pathway                             68691 non-null   object\n",
      " 13  Reactome                            18470 non-null   object\n",
      " 14  UniPathway                          66801 non-null   object\n",
      " 15  Subcellular location [CC]           167776 non-null  object\n",
      " 16  Domain [FT]                         63134 non-null   object\n",
      " 17  Gene Ontology (biological process)  222047 non-null  object\n",
      " 18  Gene Ontology (cellular component)  215299 non-null  object\n",
      " 19  Gene Ontology (molecular function)  234925 non-null  object\n",
      " 20  Motif                               12019 non-null   object\n",
      " 21  Topological domain                  13374 non-null   object\n",
      "dtypes: int64(1), object(21)\n",
      "memory usage: 43.1+ MB\n"
     ]
    }
   ],
   "source": [
    "qa_df.info()"
   ]
  },
  {
   "cell_type": "code",
   "execution_count": 50,
   "id": "623d8a15",
   "metadata": {},
   "outputs": [],
   "source": [
    "# Make sure length col is coorrct. \n",
    "# recompute the length from the sequence, and overwrite the length col. Keep it int\n",
    "\n",
    "qa_df['length'] = qa_df['sequence'].str.len().astype(int)"
   ]
  },
  {
   "cell_type": "code",
   "execution_count": 51,
   "id": "1784a829",
   "metadata": {},
   "outputs": [
    {
     "data": {
      "text/plain": [
       "0          397\n",
       "1          333\n",
       "2          759\n",
       "3          448\n",
       "4          354\n",
       "          ... \n",
       "256685     253\n",
       "256686     301\n",
       "256687     535\n",
       "256688     212\n",
       "256689    1365\n",
       "Name: length, Length: 256690, dtype: int64"
      ]
     },
     "execution_count": 51,
     "metadata": {},
     "output_type": "execute_result"
    }
   ],
   "source": [
    "qa_df.length"
   ]
  },
  {
   "cell_type": "code",
   "execution_count": 52,
   "id": "b0b86323",
   "metadata": {},
   "outputs": [],
   "source": [
    "qa_df.to_csv(\"QA_Final_v2.csv\", index=False)"
   ]
  },
  {
   "cell_type": "markdown",
   "id": "e91cddbd",
   "metadata": {},
   "source": [
    "### Active site, Binding site"
   ]
  },
  {
   "cell_type": "markdown",
   "id": "8fd746f6",
   "metadata": {},
   "source": [
    "- Active site: Marks key catalytic residues directly responsible for the chemical reaction.\n",
    "- Binding site: Marks residues interacting with ligands/cofactors/substrates/products."
   ]
  },
  {
   "cell_type": "code",
   "execution_count": 53,
   "id": "622c2d23",
   "metadata": {},
   "outputs": [
    {
     "data": {
      "text/plain": [
       "array([nan,\n",
       "       'ACT_SITE 262; /evidence=\"ECO:0000255|PROSITE-ProRule:PRU10088\"; ACT_SITE 397; /evidence=\"ECO:0000255|PROSITE-ProRule:PRU10088\"; ACT_SITE 415; /evidence=\"ECO:0000255|PROSITE-ProRule:PRU10088\"',\n",
       "       'ACT_SITE 154; /note=\"Nucleophile\"; /evidence=\"ECO:0000269|PubMed:15081808\"; ACT_SITE 215; /note=\"Charge relay system\"; /evidence=\"ECO:0000305|PubMed:15103133\"; ACT_SITE 268; /note=\"Charge relay system\"; /evidence=\"ECO:0000305|PubMed:15103133\"',\n",
       "       ...,\n",
       "       'ACT_SITE 246; /note=\"Nucleophile\"; /evidence=\"ECO:0000305|PubMed:16797589\"',\n",
       "       'ACT_SITE 259; /note=\"Charge relay system\"; /evidence=\"ECO:0000250\"; ACT_SITE 282; /note=\"Charge relay system\"; /evidence=\"ECO:0000250\"; ACT_SITE 333; /note=\"Charge relay system\"; /evidence=\"ECO:0000250\"',\n",
       "       'ACT_SITE 327; /evidence=\"ECO:0000250\"'], dtype=object)"
      ]
     },
     "execution_count": 53,
     "metadata": {},
     "output_type": "execute_result"
    }
   ],
   "source": [
    "qa_df['Active site'].unique()"
   ]
  },
  {
   "cell_type": "code",
   "execution_count": 54,
   "id": "7738083f",
   "metadata": {},
   "outputs": [
    {
     "data": {
      "text/plain": [
       "array([nan,\n",
       "       'BINDING 57..60; /ligand=\"carbamoyl phosphate\"; /ligand_id=\"ChEBI:CHEBI:58228\"; /evidence=\"ECO:0000255|HAMAP-Rule:MF_01109\"; BINDING 83; /ligand=\"carbamoyl phosphate\"; /ligand_id=\"ChEBI:CHEBI:58228\"; /evidence=\"ECO:0000255|HAMAP-Rule:MF_01109\"; BINDING 107; /ligand=\"carbamoyl phosphate\"; /ligand_id=\"ChEBI:CHEBI:58228\"; /evidence=\"ECO:0000255|HAMAP-Rule:MF_01109\"; BINDING 134..137; /ligand=\"carbamoyl phosphate\"; /ligand_id=\"ChEBI:CHEBI:58228\"; /evidence=\"ECO:0000255|HAMAP-Rule:MF_01109\"; BINDING 168; /ligand=\"L-ornithine\"; /ligand_id=\"ChEBI:CHEBI:46911\"; /evidence=\"ECO:0000255|HAMAP-Rule:MF_01109\"; BINDING 232; /ligand=\"L-ornithine\"; /ligand_id=\"ChEBI:CHEBI:46911\"; /evidence=\"ECO:0000255|HAMAP-Rule:MF_01109\"; BINDING 236..237; /ligand=\"L-ornithine\"; /ligand_id=\"ChEBI:CHEBI:46911\"; /evidence=\"ECO:0000255|HAMAP-Rule:MF_01109\"; BINDING 274..275; /ligand=\"carbamoyl phosphate\"; /ligand_id=\"ChEBI:CHEBI:58228\"; /evidence=\"ECO:0000255|HAMAP-Rule:MF_01109\"; BINDING 319; /ligand=\"carbamoyl phosphate\"; /ligand_id=\"ChEBI:CHEBI:58228\"; /evidence=\"ECO:0000255|HAMAP-Rule:MF_01109\"',\n",
       "       'BINDING 13..15; /ligand=\"ATP\"; /ligand_id=\"ChEBI:CHEBI:30616\"; /evidence=\"ECO:0000255|HAMAP-Rule:MF_00140\"; BINDING 21..22; /ligand=\"ATP\"; /ligand_id=\"ChEBI:CHEBI:30616\"; /evidence=\"ECO:0000255|HAMAP-Rule:MF_00140\"; BINDING 137; /ligand=\"L-tryptophan\"; /ligand_id=\"ChEBI:CHEBI:57912\"; /evidence=\"ECO:0000255|HAMAP-Rule:MF_00140\"; BINDING 149..151; /ligand=\"ATP\"; /ligand_id=\"ChEBI:CHEBI:30616\"; /evidence=\"ECO:0000255|HAMAP-Rule:MF_00140\"; BINDING 208; /ligand=\"ATP\"; /ligand_id=\"ChEBI:CHEBI:30616\"; /evidence=\"ECO:0000255|HAMAP-Rule:MF_00140\"; BINDING 217..221; /ligand=\"ATP\"; /ligand_id=\"ChEBI:CHEBI:30616\"; /evidence=\"ECO:0000255|HAMAP-Rule:MF_00140\"',\n",
       "       ...,\n",
       "       'BINDING 164; /ligand=\"substrate\"; /evidence=\"ECO:0000250\"; BINDING 237; /ligand=\"substrate\"; /evidence=\"ECO:0000250\"; BINDING 238; /ligand=\"Mn(2+)\"; /ligand_id=\"ChEBI:CHEBI:29035\"; /evidence=\"ECO:0000250\"; BINDING 351; /ligand=\"Mn(2+)\"; /ligand_id=\"ChEBI:CHEBI:29035\"; /evidence=\"ECO:0000250\"',\n",
       "       'BINDING 70; /ligand=\"S-adenosyl-L-methionine\"; /ligand_id=\"ChEBI:CHEBI:59789\"; /evidence=\"ECO:0000250|UniProtKB:O67010\"; BINDING 146; /ligand=\"S-adenosyl-L-methionine\"; /ligand_id=\"ChEBI:CHEBI:59789\"; /evidence=\"ECO:0000250|UniProtKB:O67010\"; BINDING 164; /ligand=\"S-adenosyl-L-methionine\"; /ligand_id=\"ChEBI:CHEBI:59789\"; /evidence=\"ECO:0000250|UniProtKB:O67010\"; BINDING 195; /ligand=\"S-adenosyl-L-methionine\"; /ligand_id=\"ChEBI:CHEBI:59789\"; /evidence=\"ECO:0000250|UniProtKB:O67010\"; BINDING 330; /ligand=\"Zn(2+)\"; /ligand_id=\"ChEBI:CHEBI:29105\"; /evidence=\"ECO:0000250|UniProtKB:O67010\"; BINDING 333; /ligand=\"Zn(2+)\"; /ligand_id=\"ChEBI:CHEBI:29105\"; /evidence=\"ECO:0000250|UniProtKB:O67010\"; BINDING 370; /ligand=\"Zn(2+)\"; /ligand_id=\"ChEBI:CHEBI:29105\"; /evidence=\"ECO:0000250|UniProtKB:O67010\"; BINDING 373; /ligand=\"Zn(2+)\"; /ligand_id=\"ChEBI:CHEBI:29105\"; /evidence=\"ECO:0000250|UniProtKB:O67010\"',\n",
       "       'BINDING 372..376; /ligand=\"4-amino-2-methyl-5-(diphosphooxymethyl)pyrimidine\"; /ligand_id=\"ChEBI:CHEBI:57841\"; /evidence=\"ECO:0000250\"; BINDING 404; /ligand=\"4-amino-2-methyl-5-(diphosphooxymethyl)pyrimidine\"; /ligand_id=\"ChEBI:CHEBI:57841\"; /evidence=\"ECO:0000250\"; BINDING 405; /ligand=\"Mg(2+)\"; /ligand_id=\"ChEBI:CHEBI:18420\"; /evidence=\"ECO:0000250\"; BINDING 424; /ligand=\"Mg(2+)\"; /ligand_id=\"ChEBI:CHEBI:18420\"; /evidence=\"ECO:0000250\"; BINDING 443; /ligand=\"4-amino-2-methyl-5-(diphosphooxymethyl)pyrimidine\"; /ligand_id=\"ChEBI:CHEBI:57841\"; /evidence=\"ECO:0000250\"; BINDING 469..471; /ligand=\"2-[(2R,5Z)-2-carboxy-4-methylthiazol-5(2H)-ylidene]ethyl phosphate\"; /ligand_id=\"ChEBI:CHEBI:62899\"; /evidence=\"ECO:0000250\"; BINDING 472; /ligand=\"4-amino-2-methyl-5-(diphosphooxymethyl)pyrimidine\"; /ligand_id=\"ChEBI:CHEBI:57841\"; /evidence=\"ECO:0000250\"; BINDING 499; /ligand=\"2-[(2R,5Z)-2-carboxy-4-methylthiazol-5(2H)-ylidene]ethyl phosphate\"; /ligand_id=\"ChEBI:CHEBI:62899\"; /evidence=\"ECO:0000250\"; BINDING 522..523; /ligand=\"2-[(2R,5Z)-2-carboxy-4-methylthiazol-5(2H)-ylidene]ethyl phosphate\"; /ligand_id=\"ChEBI:CHEBI:62899\"; /evidence=\"ECO:0000250\"'],\n",
       "      dtype=object)"
      ]
     },
     "execution_count": 54,
     "metadata": {},
     "output_type": "execute_result"
    }
   ],
   "source": [
    "qa_df['Binding site'].unique()"
   ]
  },
  {
   "cell_type": "code",
   "execution_count": 60,
   "id": "07ee8608",
   "metadata": {},
   "outputs": [
    {
     "name": "stdout",
     "output_type": "stream",
     "text": [
      "[\n",
      "  {\n",
      "    \"pos\": 262,\n",
      "    \"note\": null,\n",
      "    \"evidence\": [\n",
      "      \"ECO:0000255\"\n",
      "    ]\n",
      "  },\n",
      "  {\n",
      "    \"pos\": 397,\n",
      "    \"note\": null,\n",
      "    \"evidence\": [\n",
      "      \"ECO:0000255\"\n",
      "    ]\n",
      "  },\n",
      "  {\n",
      "    \"pos\": 415,\n",
      "    \"note\": null,\n",
      "    \"evidence\": [\n",
      "      \"ECO:0000255\"\n",
      "    ]\n",
      "  }\n",
      "]\n"
     ]
    }
   ],
   "source": [
    "import re\n",
    "import pandas as pd\n",
    "\n",
    "def parse_active_site_json(s):\n",
    "    if pd.isna(s):\n",
    "        return None\n",
    "    sites = []\n",
    "    for chunk in s.split(\"ACT_SITE\"):\n",
    "        chunk = chunk.strip()\n",
    "        if not chunk:\n",
    "            continue\n",
    "        # position\n",
    "        pos_match = re.match(r\"(\\d+)\", chunk)\n",
    "        pos = int(pos_match.group(1)) if pos_match else None\n",
    "        # note (can contain semicolons etc.)\n",
    "        note_match = re.search(r'/note=\"([^\"]+)\"', chunk)\n",
    "        note = note_match.group(1) if note_match else None\n",
    "        # evidence\n",
    "        eco_matches = re.findall(r'ECO:\\d+', chunk)\n",
    "        pmid_matches = re.findall(r'PubMed:\\d+', chunk)\n",
    "        evidence = eco_matches + pmid_matches\n",
    "        sites.append({\n",
    "            \"pos\": pos,\n",
    "            \"note\": note,\n",
    "            \"evidence\": evidence\n",
    "        })\n",
    "    return sites\n",
    "\n",
    "# Apply to your dataframe\n",
    "qa_df['Active_site_json'] = qa_df['Active site'].apply(parse_active_site_json)\n",
    "\n",
    "# Example check\n",
    "import json\n",
    "print(json.dumps(qa_df['Active_site_json'].dropna().iloc[0], indent=2))"
   ]
  },
  {
   "cell_type": "code",
   "execution_count": 61,
   "id": "7a1e2cc7",
   "metadata": {},
   "outputs": [
    {
     "name": "stdout",
     "output_type": "stream",
     "text": [
      "<class 'pandas.core.frame.DataFrame'>\n",
      "RangeIndex: 256690 entries, 0 to 256689\n",
      "Data columns (total 24 columns):\n",
      " #   Column                              Non-Null Count   Dtype \n",
      "---  ------                              --------------   ----- \n",
      " 0   Entry                               256690 non-null  object\n",
      " 1   name                                256690 non-null  object\n",
      " 2   sequence                            256690 non-null  object\n",
      " 3   function                            256690 non-null  object\n",
      " 4   Organism                            256690 non-null  object\n",
      " 5   Length                              256690 non-null  int64 \n",
      " 6   Active site                         55837 non-null   object\n",
      " 7   Catalytic activity                  132908 non-null  object\n",
      " 8   Binding site                        115900 non-null  object\n",
      " 9   Cofactor                            65251 non-null   object\n",
      " 10  DNA binding                         4886 non-null    object\n",
      " 11  EC number                           141536 non-null  object\n",
      " 12  Pathway                             68691 non-null   object\n",
      " 13  Reactome                            18470 non-null   object\n",
      " 14  UniPathway                          66801 non-null   object\n",
      " 15  Subcellular location [CC]           167776 non-null  object\n",
      " 16  Domain [FT]                         63134 non-null   object\n",
      " 17  Gene Ontology (biological process)  222047 non-null  object\n",
      " 18  Gene Ontology (cellular component)  215299 non-null  object\n",
      " 19  Gene Ontology (molecular function)  234925 non-null  object\n",
      " 20  Motif                               12019 non-null   object\n",
      " 21  Topological domain                  13374 non-null   object\n",
      " 22  length                              256690 non-null  int64 \n",
      " 23  Active_site_json                    55837 non-null   object\n",
      "dtypes: int64(2), object(22)\n",
      "memory usage: 47.0+ MB\n"
     ]
    }
   ],
   "source": [
    "qa_df.info()"
   ]
  },
  {
   "cell_type": "code",
   "execution_count": 69,
   "id": "8f351f2f",
   "metadata": {},
   "outputs": [],
   "source": [
    "# download entry, active_site_json for entries with active_site_json not null tsv\n",
    "qa_df[qa_df['Active_site_json'].notna()][['Entry', 'Active site','Active_site_json']].to_csv(\"temp/QA_Active_Sites.tsv\", sep='\\t', index=False)"
   ]
  },
  {
   "cell_type": "code",
   "execution_count": 77,
   "id": "4f7ccea4",
   "metadata": {},
   "outputs": [
    {
     "name": "stdout",
     "output_type": "stream",
     "text": [
      "Validation: 256690 / 256690 valid\n"
     ]
    }
   ],
   "source": [
    "import pandas as pd\n",
    "import re\n",
    "import json\n",
    "import random\n",
    "\n",
    "\n",
    "# ---- Parser ----\n",
    "pos_pat = re.compile(r'^\\s*(\\d+)(?:\\.\\.(\\d+))?')\n",
    "ligand_pat = re.compile(r'/ligand=\"([^\"]+)\"')\n",
    "ligandid_pat = re.compile(r'/ligand_id=\"([^\"]+)\"')\n",
    "note_pat = re.compile(r'/note=\"([^\"]+)\"')\n",
    "evidence_pat = re.compile(r'/evidence=\"([^\"]+)\"')\n",
    "pmid_inline_pat = re.compile(r'PubMed:\\d+')\n",
    "eco_inline_pat = re.compile(r'ECO:\\d+')\n",
    "\n",
    "def parse_binding_sites_to_json(s: str):\n",
    "    if pd.isna(s) or not isinstance(s, str) or not s.strip():\n",
    "        return None\n",
    "    blocks = s.split(\"BINDING\")\n",
    "    out = []\n",
    "    for blk in blocks:\n",
    "        blk = blk.strip()\n",
    "        if not blk:\n",
    "            continue\n",
    "        # positions\n",
    "        m = pos_pat.match(blk)\n",
    "        if not m:\n",
    "            continue\n",
    "        start = int(m.group(1))\n",
    "        end = int(m.group(2)) if m.group(2) else start\n",
    "        # ligand fields\n",
    "        lig_name = (ligand_pat.search(blk).group(1)\n",
    "                    if ligand_pat.search(blk) else None)\n",
    "        lig_id = (ligandid_pat.search(blk).group(1)\n",
    "                  if ligandid_pat.search(blk) else None)\n",
    "        # note\n",
    "        note_m = note_pat.search(blk)\n",
    "        note = note_m.group(1) if note_m else None\n",
    "        # evidence\n",
    "        evidence_tokens = []\n",
    "        m5 = evidence_pat.search(blk)\n",
    "        if m5:\n",
    "            evidence_tokens.extend([tok.strip() for tok in m5.group(1).split(\"|\") if tok.strip()])\n",
    "        evidence_tokens.extend(eco_inline_pat.findall(blk))\n",
    "        evidence_tokens.extend(pmid_inline_pat.findall(blk))\n",
    "        # de-dupe\n",
    "        seen, ev_list = set(), []\n",
    "        for tok in evidence_tokens:\n",
    "            if tok not in seen:\n",
    "                seen.add(tok); ev_list.append(tok)\n",
    "        out.append({\n",
    "            \"start\": start,\n",
    "            \"end\": end,\n",
    "            \"ligand_name\": lig_name,\n",
    "            \"ligand_id\": lig_id,\n",
    "            \"note\": note,\n",
    "            \"evidence\": ev_list\n",
    "        })\n",
    "    return out if out else None\n",
    "\n",
    "# Apply + strict JSON\n",
    "qa_df['Binding_site_parsed'] = qa_df['Binding site'].apply(parse_binding_sites_to_json)\n",
    "qa_df['Binding_site_json'] = qa_df['Binding_site_parsed'].apply(\n",
    "    lambda obj: None if obj is None else json.dumps(obj, ensure_ascii=False)\n",
    ")\n",
    "\n",
    "# Validate\n",
    "def is_valid_json_list(s):\n",
    "    if s is None:\n",
    "        return True\n",
    "    try:\n",
    "        parsed = json.loads(s)\n",
    "        if not isinstance(parsed, list): return False\n",
    "        for d in parsed:\n",
    "            if not isinstance(d, dict): return False\n",
    "            for k in [\"start\", \"end\", \"ligand_name\", \"ligand_id\", \"note\", \"evidence\"]:\n",
    "                if k not in d: return False\n",
    "        return True\n",
    "    except Exception:\n",
    "        return False\n",
    "\n",
    "qa_df['valid'] = qa_df['Binding_site_json'].apply(is_valid_json_list)\n",
    "print(\"Validation:\", qa_df['valid'].sum(), \"/\", len(qa_df), \"valid\")\n",
    "\n",
    "# Save cleaned TSV\n",
    "qa_df[['Entry','Binding site','Binding_site_json']].to_csv(\n",
    "    \"temp/QA_Binding_Sites_with_JSON.tsv\", sep=\"\\t\", index=False\n",
    ")\n",
    "\n",
    "# Also save 30 manual samples (original + JSON)\n",
    "import sys\n",
    "import random\n",
    "sample_indices = random.sample(range(len(qa_df)), k=min(30, len(qa_df)))\n",
    "lines = [f\"Total rows: {len(qa_df)}\\n\"]\n",
    "for idx in sample_indices:\n",
    "    orig = qa_df.iloc[idx]['Binding site']\n",
    "    js = qa_df.iloc[idx]['Binding_site_json']\n",
    "    lines.append(f\"[{idx}] Binding site:\\n{orig}\\nParsed JSON:\\n{js}\\n\")\n",
    "with open(\"temp/binding_site_parsing_samples.txt\", \"w\", encoding=\"utf-8\") as f:\n",
    "    f.write(\"\\n\".join(lines))"
   ]
  },
  {
   "cell_type": "code",
   "execution_count": 78,
   "id": "ca97ba83",
   "metadata": {},
   "outputs": [
    {
     "name": "stdout",
     "output_type": "stream",
     "text": [
      "<class 'pandas.core.frame.DataFrame'>\n",
      "RangeIndex: 256690 entries, 0 to 256689\n",
      "Data columns (total 27 columns):\n",
      " #   Column                              Non-Null Count   Dtype \n",
      "---  ------                              --------------   ----- \n",
      " 0   Entry                               256690 non-null  object\n",
      " 1   name                                256690 non-null  object\n",
      " 2   sequence                            256690 non-null  object\n",
      " 3   function                            256690 non-null  object\n",
      " 4   Organism                            256690 non-null  object\n",
      " 5   Length                              256690 non-null  int64 \n",
      " 6   Active site                         55837 non-null   object\n",
      " 7   Catalytic activity                  132908 non-null  object\n",
      " 8   Binding site                        115900 non-null  object\n",
      " 9   Cofactor                            65251 non-null   object\n",
      " 10  DNA binding                         4886 non-null    object\n",
      " 11  EC number                           141536 non-null  object\n",
      " 12  Pathway                             68691 non-null   object\n",
      " 13  Reactome                            18470 non-null   object\n",
      " 14  UniPathway                          66801 non-null   object\n",
      " 15  Subcellular location [CC]           167776 non-null  object\n",
      " 16  Domain [FT]                         63134 non-null   object\n",
      " 17  Gene Ontology (biological process)  222047 non-null  object\n",
      " 18  Gene Ontology (cellular component)  215299 non-null  object\n",
      " 19  Gene Ontology (molecular function)  234925 non-null  object\n",
      " 20  Motif                               12019 non-null   object\n",
      " 21  Topological domain                  13374 non-null   object\n",
      " 22  length                              256690 non-null  int64 \n",
      " 23  Active_site_json                    55837 non-null   object\n",
      " 24  Binding_site_parsed                 115897 non-null  object\n",
      " 25  Binding_site_json                   115897 non-null  object\n",
      " 26  valid                               256690 non-null  bool  \n",
      "dtypes: bool(1), int64(2), object(24)\n",
      "memory usage: 51.2+ MB\n"
     ]
    }
   ],
   "source": [
    "qa_df.info()"
   ]
  },
  {
   "cell_type": "code",
   "execution_count": 81,
   "id": "77b3b866",
   "metadata": {},
   "outputs": [],
   "source": [
    "qa_df = qa_df.drop(columns=[\"Binding_site_parsed\", \"valid\"])"
   ]
  },
  {
   "cell_type": "code",
   "execution_count": 84,
   "id": "494b6377",
   "metadata": {},
   "outputs": [
    {
     "name": "stdout",
     "output_type": "stream",
     "text": [
      "<class 'pandas.core.frame.DataFrame'>\n",
      "RangeIndex: 256690 entries, 0 to 256689\n",
      "Data columns (total 25 columns):\n",
      " #   Column                              Non-Null Count   Dtype \n",
      "---  ------                              --------------   ----- \n",
      " 0   Entry                               256690 non-null  object\n",
      " 1   name                                256690 non-null  object\n",
      " 2   sequence                            256690 non-null  object\n",
      " 3   function                            256690 non-null  object\n",
      " 4   Organism                            256690 non-null  object\n",
      " 5   Length                              256690 non-null  int64 \n",
      " 6   Active site                         55837 non-null   object\n",
      " 7   Catalytic activity                  132908 non-null  object\n",
      " 8   Binding site                        115900 non-null  object\n",
      " 9   Cofactor                            65251 non-null   object\n",
      " 10  DNA binding                         4886 non-null    object\n",
      " 11  EC number                           141536 non-null  object\n",
      " 12  Pathway                             68691 non-null   object\n",
      " 13  Reactome                            18470 non-null   object\n",
      " 14  UniPathway                          66801 non-null   object\n",
      " 15  Subcellular location [CC]           167776 non-null  object\n",
      " 16  Domain [FT]                         63134 non-null   object\n",
      " 17  Gene Ontology (biological process)  222047 non-null  object\n",
      " 18  Gene Ontology (cellular component)  215299 non-null  object\n",
      " 19  Gene Ontology (molecular function)  234925 non-null  object\n",
      " 20  Motif                               12019 non-null   object\n",
      " 21  Topological domain                  13374 non-null   object\n",
      " 22  length                              256690 non-null  int64 \n",
      " 23  Active_site_json                    55837 non-null   object\n",
      " 24  Binding_site_json                   115897 non-null  object\n",
      "dtypes: int64(2), object(23)\n",
      "memory usage: 49.0+ MB\n"
     ]
    }
   ],
   "source": [
    "qa_df.info()"
   ]
  },
  {
   "cell_type": "markdown",
   "id": "da2c79ef",
   "metadata": {},
   "source": [
    "### Catalytic activity"
   ]
  },
  {
   "cell_type": "code",
   "execution_count": 87,
   "id": "28a3da72",
   "metadata": {},
   "outputs": [],
   "source": [
    "import pandas as pd\n",
    "import re\n",
    "import json\n",
    "\n",
    "# --- Patterns ---\n",
    "reaction_iter_pat = re.compile(r'Reaction=')\n",
    "field_reaction_pat = re.compile(r'Reaction=([^;]+);')\n",
    "ec_pat = re.compile(r'EC=([^;]+);')\n",
    "evidence_pat = re.compile(r'Evidence=\\{([^}]+)\\};')\n",
    "\n",
    "rhea_reac_token = re.compile(r'RHEA:\\d+')\n",
    "rhea_comp_token = re.compile(r'RHEA-COMP:\\d+')\n",
    "chebi_any_token = re.compile(r'(?:ChEBI:)?(CHEBI:\\d+)')\n",
    "eco_token = re.compile(r'ECO:\\d+')\n",
    "pmid_token = re.compile(r'PubMed:\\d+')\n",
    "\n",
    "def _dedup(seq):\n",
    "    seen = set(); outl = []\n",
    "    for t in seq:\n",
    "        if t not in seen:\n",
    "            seen.add(t); outl.append(t)\n",
    "    return outl\n",
    "\n",
    "def parse_catalytic_activity_to_json(s: str):\n",
    "    \"\"\"Return list of reaction blocks with reaction text, RHEA/RHEA-COMP/CHEBI/EC/evidence.\"\"\"\n",
    "    if pd.isna(s) or not isinstance(s, str) or not s.strip():\n",
    "        return None\n",
    "    text = s.strip()\n",
    "\n",
    "    # Segment by successive Reaction= occurrences\n",
    "    blocks = [m.start() for m in reaction_iter_pat.finditer(text)]\n",
    "    if not blocks:\n",
    "        blocks = [0]\n",
    "    blocks.append(len(text))\n",
    "\n",
    "    out = []\n",
    "    for i in range(len(blocks)-1):\n",
    "        seg = text[blocks[i]:blocks[i+1]]\n",
    "\n",
    "        # Reaction text\n",
    "        m_reac = field_reaction_pat.search(seg)\n",
    "        reaction = m_reac.group(1).strip() if m_reac else None\n",
    "\n",
    "        # IDs from the whole segment\n",
    "        rhea_ids = _dedup(rhea_reac_token.findall(seg))\n",
    "        rhea_comp_ids = _dedup(rhea_comp_token.findall(seg))\n",
    "        chebi_ids = _dedup([m.group(1) for m in chebi_any_token.finditer(seg)])\n",
    "\n",
    "        # EC numbers\n",
    "        ec_numbers = []\n",
    "        m_ec = ec_pat.search(seg)\n",
    "        if m_ec:\n",
    "            ec_numbers = [tok.strip() for tok in m_ec.group(1).split(\",\") if tok.strip()]\n",
    "\n",
    "        # Evidence (block + inline)\n",
    "        evidence = []\n",
    "        m_ev = evidence_pat.search(seg)\n",
    "        if m_ev:\n",
    "            evidence.extend([tok.strip() for tok in m_ev.group(1).split(\"|\") if tok.strip()])\n",
    "        for tok in eco_token.findall(seg):\n",
    "            if tok not in evidence:\n",
    "                evidence.append(tok)\n",
    "        for tok in pmid_token.findall(seg):\n",
    "            if tok not in evidence:\n",
    "                evidence.append(tok)\n",
    "\n",
    "        if not (reaction or rhea_ids or rhea_comp_ids or chebi_ids or ec_numbers or evidence):\n",
    "            continue\n",
    "\n",
    "        out.append({\n",
    "            \"reaction\": reaction,\n",
    "            \"rhea_ids\": rhea_ids,\n",
    "            \"rhea_comp_ids\": rhea_comp_ids,\n",
    "            \"chebi_ids\": chebi_ids,\n",
    "            \"ec_numbers\": ec_numbers,\n",
    "            \"evidence\": evidence\n",
    "        })\n",
    "\n",
    "    return out if out else None\n",
    "\n",
    "# --- Apply on your dataframe df ---\n",
    "# df = pd.read_csv(\"YOUR_FILE.tsv\", sep=\"\\t\")\n",
    "df = qa_df.copy()\n",
    "df['Catalytic_Activity_json'] = df['Catalytic activity'].apply(\n",
    "    lambda s: None if (obj := parse_catalytic_activity_to_json(s)) is None else json.dumps(obj, ensure_ascii=False)\n",
    ")\n"
   ]
  },
  {
   "cell_type": "code",
   "execution_count": 88,
   "id": "52696298",
   "metadata": {},
   "outputs": [
    {
     "name": "stdout",
     "output_type": "stream",
     "text": [
      "<class 'pandas.core.frame.DataFrame'>\n",
      "RangeIndex: 256690 entries, 0 to 256689\n",
      "Data columns (total 26 columns):\n",
      " #   Column                              Non-Null Count   Dtype \n",
      "---  ------                              --------------   ----- \n",
      " 0   Entry                               256690 non-null  object\n",
      " 1   name                                256690 non-null  object\n",
      " 2   sequence                            256690 non-null  object\n",
      " 3   function                            256690 non-null  object\n",
      " 4   Organism                            256690 non-null  object\n",
      " 5   Length                              256690 non-null  int64 \n",
      " 6   Active site                         55837 non-null   object\n",
      " 7   Catalytic activity                  132908 non-null  object\n",
      " 8   Binding site                        115900 non-null  object\n",
      " 9   Cofactor                            65251 non-null   object\n",
      " 10  DNA binding                         4886 non-null    object\n",
      " 11  EC number                           141536 non-null  object\n",
      " 12  Pathway                             68691 non-null   object\n",
      " 13  Reactome                            18470 non-null   object\n",
      " 14  UniPathway                          66801 non-null   object\n",
      " 15  Subcellular location [CC]           167776 non-null  object\n",
      " 16  Domain [FT]                         63134 non-null   object\n",
      " 17  Gene Ontology (biological process)  222047 non-null  object\n",
      " 18  Gene Ontology (cellular component)  215299 non-null  object\n",
      " 19  Gene Ontology (molecular function)  234925 non-null  object\n",
      " 20  Motif                               12019 non-null   object\n",
      " 21  Topological domain                  13374 non-null   object\n",
      " 22  length                              256690 non-null  int64 \n",
      " 23  Active_site_json                    55837 non-null   object\n",
      " 24  Binding_site_json                   115897 non-null  object\n",
      " 25  Catalytic_Activity_json             132908 non-null  object\n",
      "dtypes: int64(2), object(24)\n",
      "memory usage: 50.9+ MB\n"
     ]
    }
   ],
   "source": [
    "df.info()"
   ]
  },
  {
   "cell_type": "code",
   "execution_count": 91,
   "id": "58d49a88",
   "metadata": {},
   "outputs": [],
   "source": [
    "# save active site, active site json, binding site, binding site json, catalytic activity, catalytic activity json into a tsv. total three csv. 3 cols per csv. only non null rows\n",
    "df[df['Active site'].notna()][['Entry', 'Active site','Active_site_json']].to_csv(\"temp/QA_Active_Sites.tsv\", sep='\\t', index=False)\n",
    "df[df['Binding site'].notna()][['Entry','Binding site','Binding_site_json']].to_csv(\"temp/QA_Binding_Sites_with_JSON.tsv\", sep=\"\\t\", index=False)\n",
    "df[df['Catalytic activity'].notna()][['Entry','Catalytic activity','Catalytic_Activity_json']].to_csv(\"temp/QA_Catalytic_Activities_with_JSON.tsv\", sep=\"\\t\", index=False)\n"
   ]
  },
  {
   "cell_type": "code",
   "execution_count": 92,
   "id": "4249a744",
   "metadata": {},
   "outputs": [
    {
     "name": "stdout",
     "output_type": "stream",
     "text": [
      "<class 'pandas.core.frame.DataFrame'>\n",
      "RangeIndex: 256690 entries, 0 to 256689\n",
      "Data columns (total 26 columns):\n",
      " #   Column                              Non-Null Count   Dtype \n",
      "---  ------                              --------------   ----- \n",
      " 0   Entry                               256690 non-null  object\n",
      " 1   name                                256690 non-null  object\n",
      " 2   sequence                            256690 non-null  object\n",
      " 3   function                            256690 non-null  object\n",
      " 4   Organism                            256690 non-null  object\n",
      " 5   Length                              256690 non-null  int64 \n",
      " 6   Active site                         55837 non-null   object\n",
      " 7   Catalytic activity                  132908 non-null  object\n",
      " 8   Binding site                        115900 non-null  object\n",
      " 9   Cofactor                            65251 non-null   object\n",
      " 10  DNA binding                         4886 non-null    object\n",
      " 11  EC number                           141536 non-null  object\n",
      " 12  Pathway                             68691 non-null   object\n",
      " 13  Reactome                            18470 non-null   object\n",
      " 14  UniPathway                          66801 non-null   object\n",
      " 15  Subcellular location [CC]           167776 non-null  object\n",
      " 16  Domain [FT]                         63134 non-null   object\n",
      " 17  Gene Ontology (biological process)  222047 non-null  object\n",
      " 18  Gene Ontology (cellular component)  215299 non-null  object\n",
      " 19  Gene Ontology (molecular function)  234925 non-null  object\n",
      " 20  Motif                               12019 non-null   object\n",
      " 21  Topological domain                  13374 non-null   object\n",
      " 22  length                              256690 non-null  int64 \n",
      " 23  Active_site_json                    55837 non-null   object\n",
      " 24  Binding_site_json                   115897 non-null  object\n",
      " 25  Catalytic_Activity_json             132908 non-null  object\n",
      "dtypes: int64(2), object(24)\n",
      "memory usage: 50.9+ MB\n"
     ]
    }
   ],
   "source": [
    "df.info()"
   ]
  },
  {
   "cell_type": "markdown",
   "id": "1d55acbc",
   "metadata": {},
   "source": [
    "### Cofactor, DNA binding"
   ]
  },
  {
   "cell_type": "code",
   "execution_count": 93,
   "id": "f32da11e",
   "metadata": {},
   "outputs": [
    {
     "data": {
      "text/plain": [
       "array([nan,\n",
       "       'COFACTOR: Name=Mn(2+); Xref=ChEBI:CHEBI:29035; Evidence={ECO:0000255|HAMAP-Rule:MF_00453}; Note=Binds 1 Mn(2+) ion per subunit. {ECO:0000255|HAMAP-Rule:MF_00453};',\n",
       "       'COFACTOR: Name=Mn(2+); Xref=ChEBI:CHEBI:29035; Evidence={ECO:0000255|HAMAP-Rule:MF_00740}; Note=Binds 2 manganese ions. {ECO:0000255|HAMAP-Rule:MF_00740};',\n",
       "       ...,\n",
       "       'COFACTOR: Name=Fe(2+); Xref=ChEBI:CHEBI:29033; Evidence={ECO:0000269|PubMed:20945916};',\n",
       "       'COFACTOR: Name=heme; Xref=ChEBI:CHEBI:30413; COFACTOR: Name=Mg(2+); Xref=ChEBI:CHEBI:18420;',\n",
       "       'COFACTOR: Name=Zn(2+); Xref=ChEBI:CHEBI:29105; Evidence={ECO:0000269|Ref.5}; Note=Binds 2 Zn(2+) ions per subunit. {ECO:0000269|Ref.5};'],\n",
       "      dtype=object)"
      ]
     },
     "execution_count": 93,
     "metadata": {},
     "output_type": "execute_result"
    }
   ],
   "source": [
    "df['Cofactor'].unique()"
   ]
  },
  {
   "cell_type": "code",
   "execution_count": 94,
   "id": "80155bdc",
   "metadata": {},
   "outputs": [],
   "source": [
    "# save all the cofactor rows with non null cofactor\n",
    "df[df['Cofactor'].notna()][['Entry','Cofactor']].to_csv(\"temp/QA_Cofactors.tsv\", sep=\"\\t\", index=False)\n",
    "\n",
    "# dna binding\n",
    "df[df['DNA binding'].notna()][['Entry','DNA binding']].to_csv(\"temp/QA_DNA_Binding.tsv\", sep=\"\\t\", index=False)"
   ]
  },
  {
   "cell_type": "code",
   "execution_count": null,
   "id": "19f9c295",
   "metadata": {},
   "outputs": [],
   "source": [
    "import pandas as pd\n",
    "import re\n",
    "import json\n",
    "\n",
    "# Regex patterns\n",
    "block_pat = re.compile(r'Name=([^;]+);')\n",
    "evidence_pat = re.compile(r'Evidence=\\{([^}]+)\\};')\n",
    "chebi_token = re.compile(r'(?:ChEBI:)?(CHEBI:\\d+)')\n",
    "eco_token = re.compile(r'ECO:\\d+')\n",
    "pmid_token = re.compile(r'PubMed:\\d+')\n",
    "\n",
    "def parse_cofactor_to_json(s: str):\n",
    "    if pd.isna(s) or not isinstance(s, str) or not s.strip():\n",
    "        return None\n",
    "    text = s.strip()\n",
    "    # Split into blocks\n",
    "    blocks = [m.start() for m in block_pat.finditer(text)]\n",
    "    if not blocks:\n",
    "        blocks = [0]\n",
    "    blocks.append(len(text))\n",
    "\n",
    "    out = []\n",
    "    for i in range(len(blocks)-1):\n",
    "        seg = text[blocks[i]:blocks[i+1]]\n",
    "\n",
    "        # Name\n",
    "        name = None\n",
    "        m_name = block_pat.search(seg)\n",
    "        if m_name:\n",
    "            name = m_name.group(1).strip()\n",
    "\n",
    "        # ChEBI IDs\n",
    "        chebi_ids = [m.group(1) for m in chebi_token.finditer(seg)]\n",
    "        chebi_ids = list(dict.fromkeys(chebi_ids))\n",
    "\n",
    "        # Evidence\n",
    "        evidence = []\n",
    "        m_ev = evidence_pat.search(seg)\n",
    "        if m_ev:\n",
    "            evidence.extend([tok.strip() for tok in m_ev.group(1).split(\"|\") if tok.strip()])\n",
    "        for tok in eco_token.findall(seg):\n",
    "            if tok not in evidence:\n",
    "                evidence.append(tok)\n",
    "        for tok in pmid_token.findall(seg):\n",
    "            if tok not in evidence:\n",
    "                evidence.append(tok)\n",
    "\n",
    "        if not (name or chebi_ids or evidence):\n",
    "            continue\n",
    "\n",
    "        out.append({\n",
    "            \"name\": name,\n",
    "            \"chebi_ids\": chebi_ids,\n",
    "            \"evidence\": evidence\n",
    "        })\n",
    "    return out if out else None\n",
    "\n",
    "# Apply to dataset\n",
    "df['Cofactor_json'] = df['Cofactor'].apply(\n",
    "    lambda s: None if (obj := parse_cofactor_to_json(s)) is None else json.dumps(obj, ensure_ascii=False)\n",
    ")\n"
   ]
  },
  {
   "cell_type": "code",
   "execution_count": 98,
   "id": "72558bd0",
   "metadata": {},
   "outputs": [],
   "source": [
    "# non null cofactor rows\n",
    "# Save\n",
    "df[df['Cofactor'].notna()][['Entry', 'Cofactor', 'Cofactor_json']].to_csv(\"temp/QA_Cofactors_with_JSON.tsv\", sep=\"\\t\", index=False)\n",
    "\n",
    "\n",
    "df[df['Active site'].notna()][['Entry', 'Active site', 'Active_site_json']].to_csv(\"temp/QA_Active_Sites_with_JSON.tsv\", sep='\\t', index=False)"
   ]
  },
  {
   "cell_type": "code",
   "execution_count": 100,
   "id": "d781129f",
   "metadata": {},
   "outputs": [
    {
     "name": "stdout",
     "output_type": "stream",
     "text": [
      "<class 'pandas.core.frame.DataFrame'>\n",
      "RangeIndex: 256690 entries, 0 to 256689\n",
      "Data columns (total 27 columns):\n",
      " #   Column                              Non-Null Count   Dtype \n",
      "---  ------                              --------------   ----- \n",
      " 0   Entry                               256690 non-null  object\n",
      " 1   name                                256690 non-null  object\n",
      " 2   sequence                            256690 non-null  object\n",
      " 3   function                            256690 non-null  object\n",
      " 4   Organism                            256690 non-null  object\n",
      " 5   Length                              256690 non-null  int64 \n",
      " 6   Active site                         55837 non-null   object\n",
      " 7   Catalytic activity                  132908 non-null  object\n",
      " 8   Binding site                        115900 non-null  object\n",
      " 9   Cofactor                            65251 non-null   object\n",
      " 10  DNA binding                         4886 non-null    object\n",
      " 11  EC number                           141536 non-null  object\n",
      " 12  Pathway                             68691 non-null   object\n",
      " 13  Reactome                            18470 non-null   object\n",
      " 14  UniPathway                          66801 non-null   object\n",
      " 15  Subcellular location [CC]           167776 non-null  object\n",
      " 16  Domain [FT]                         63134 non-null   object\n",
      " 17  Gene Ontology (biological process)  222047 non-null  object\n",
      " 18  Gene Ontology (cellular component)  215299 non-null  object\n",
      " 19  Gene Ontology (molecular function)  234925 non-null  object\n",
      " 20  Motif                               12019 non-null   object\n",
      " 21  Topological domain                  13374 non-null   object\n",
      " 22  length                              256690 non-null  int64 \n",
      " 23  Active_site_json                    55837 non-null   object\n",
      " 24  Binding_site_json                   115897 non-null  object\n",
      " 25  Catalytic_Activity_json             132908 non-null  object\n",
      " 26  Cofactor_json                       65245 non-null   object\n",
      "dtypes: int64(2), object(25)\n",
      "memory usage: 52.9+ MB\n"
     ]
    }
   ],
   "source": [
    "df.info()"
   ]
  },
  {
   "cell_type": "code",
   "execution_count": 101,
   "id": "cf97d17b",
   "metadata": {},
   "outputs": [],
   "source": [
    "import pandas as pd\n",
    "import re\n",
    "import json\n",
    "\n",
    "pos_pat = re.compile(r'(\\d+)(?:\\.\\.(\\d+))?')\n",
    "note_pat = re.compile(r'/note=\"([^\"]+)\"')\n",
    "evidence_pat = re.compile(r'/evidence=\"([^\"]+)\"')\n",
    "eco_token = re.compile(r'ECO:\\d+')\n",
    "pmid_token = re.compile(r'PubMed:\\d+')\n",
    "\n",
    "def parse_dna_binding_to_json(s: str):\n",
    "    if pd.isna(s) or not isinstance(s, str) or not s.strip():\n",
    "        return None\n",
    "    text = s.strip()\n",
    "    blocks = text.split(\"DNA_BIND\")\n",
    "    out = []\n",
    "    for blk in blocks:\n",
    "        blk = blk.strip()\n",
    "        if not blk:\n",
    "            continue\n",
    "        # Position(s)\n",
    "        m = pos_pat.search(blk)\n",
    "        if not m:\n",
    "            continue\n",
    "        start = int(m.group(1))\n",
    "        end = int(m.group(2)) if m.group(2) else start\n",
    "\n",
    "        # Note\n",
    "        note = None\n",
    "        m_note = note_pat.search(blk)\n",
    "        if m_note:\n",
    "            note = m_note.group(1)\n",
    "\n",
    "        # Evidence\n",
    "        evidence = []\n",
    "        m_ev = evidence_pat.search(blk)\n",
    "        if m_ev:\n",
    "            evidence.extend([tok.strip() for tok in m_ev.group(1).split(\"|\") if tok.strip()])\n",
    "        for tok in eco_token.findall(blk):\n",
    "            if tok not in evidence:\n",
    "                evidence.append(tok)\n",
    "        for tok in pmid_token.findall(blk):\n",
    "            if tok not in evidence:\n",
    "                evidence.append(tok)\n",
    "\n",
    "        out.append({\n",
    "            \"start\": start,\n",
    "            \"end\": end,\n",
    "            \"note\": note,\n",
    "            \"evidence\": evidence\n",
    "        })\n",
    "    return out if out else None\n",
    "\n",
    "\n",
    "df['DNA_binding_json'] = df['DNA binding'].apply(\n",
    "    lambda s: None if (obj := parse_dna_binding_to_json(s)) is None else json.dumps(obj, ensure_ascii=False)\n",
    ")\n",
    "\n",
    "# Save non null dna binding rows\n",
    "df[df['DNA binding'].notna()][['Entry', 'DNA binding', 'DNA_binding_json']].to_csv(\"temp/QA_DNA_Binding_with_JSON.tsv\", sep='\\t', index=False)"
   ]
  },
  {
   "cell_type": "code",
   "execution_count": 102,
   "id": "520f11a0",
   "metadata": {},
   "outputs": [
    {
     "name": "stdout",
     "output_type": "stream",
     "text": [
      "<class 'pandas.core.frame.DataFrame'>\n",
      "RangeIndex: 256690 entries, 0 to 256689\n",
      "Data columns (total 28 columns):\n",
      " #   Column                              Non-Null Count   Dtype \n",
      "---  ------                              --------------   ----- \n",
      " 0   Entry                               256690 non-null  object\n",
      " 1   name                                256690 non-null  object\n",
      " 2   sequence                            256690 non-null  object\n",
      " 3   function                            256690 non-null  object\n",
      " 4   Organism                            256690 non-null  object\n",
      " 5   Length                              256690 non-null  int64 \n",
      " 6   Active site                         55837 non-null   object\n",
      " 7   Catalytic activity                  132908 non-null  object\n",
      " 8   Binding site                        115900 non-null  object\n",
      " 9   Cofactor                            65251 non-null   object\n",
      " 10  DNA binding                         4886 non-null    object\n",
      " 11  EC number                           141536 non-null  object\n",
      " 12  Pathway                             68691 non-null   object\n",
      " 13  Reactome                            18470 non-null   object\n",
      " 14  UniPathway                          66801 non-null   object\n",
      " 15  Subcellular location [CC]           167776 non-null  object\n",
      " 16  Domain [FT]                         63134 non-null   object\n",
      " 17  Gene Ontology (biological process)  222047 non-null  object\n",
      " 18  Gene Ontology (cellular component)  215299 non-null  object\n",
      " 19  Gene Ontology (molecular function)  234925 non-null  object\n",
      " 20  Motif                               12019 non-null   object\n",
      " 21  Topological domain                  13374 non-null   object\n",
      " 22  length                              256690 non-null  int64 \n",
      " 23  Active_site_json                    55837 non-null   object\n",
      " 24  Binding_site_json                   115897 non-null  object\n",
      " 25  Catalytic_Activity_json             132908 non-null  object\n",
      " 26  Cofactor_json                       65245 non-null   object\n",
      " 27  DNA_binding_json                    4886 non-null    object\n",
      "dtypes: int64(2), object(26)\n",
      "memory usage: 54.8+ MB\n"
     ]
    }
   ],
   "source": [
    "df.info()"
   ]
  },
  {
   "cell_type": "markdown",
   "id": "54004247",
   "metadata": {},
   "source": [
    "### pathway"
   ]
  },
  {
   "cell_type": "code",
   "execution_count": 107,
   "id": "69c8e8a5",
   "metadata": {},
   "outputs": [],
   "source": [
    "import pandas as pd\n",
    "import re\n",
    "import json\n",
    "\n",
    "# ----- Patterns -----\n",
    "PATHWAY_SPLIT = re.compile(r'PATHWAY:\\s*', flags=re.IGNORECASE)\n",
    "EVID_BLOCK    = re.compile(r'\\{([^}]*)\\}')                       # contents inside {...}\n",
    "STEP_RX       = re.compile(r'\\bstep\\s+(\\d+)\\s*/\\s*(\\d+)\\b', flags=re.IGNORECASE)\n",
    "\n",
    "def parse_pathway_to_json(s: str):\n",
    "    \"\"\"\n",
    "    Parse a UniProt-style PATHWAY field into a JSON-ready list of segments.\n",
    "    Each segment:\n",
    "      - levels: list[str]  (semicolon-separated hierarchy, sans 'step X/Y' and evidence)\n",
    "      - step_index: int|None\n",
    "      - step_total: int|None\n",
    "      - evidence: list[str] (split on '|' or ',' within {...})\n",
    "    \"\"\"\n",
    "    if pd.isna(s) or not isinstance(s, str) or not s.strip():\n",
    "        return None\n",
    "\n",
    "    text = s.strip().rstrip(\".\")\n",
    "    segments = [p for p in PATHWAY_SPLIT.split(text) if p.strip()]\n",
    "    out = []\n",
    "\n",
    "    for seg in segments:\n",
    "        seg = seg.strip().rstrip(\".\")\n",
    "\n",
    "        # Evidence in {...}\n",
    "        evidence = []\n",
    "        m_e = EVID_BLOCK.search(seg)\n",
    "        if m_e:\n",
    "            ev_text = m_e.group(1)\n",
    "            # split on pipe or comma; normalize whitespace\n",
    "            evidence = [t.strip() for t in re.split(r'[|,]', ev_text) if t.strip()]\n",
    "            # remove evidence block from segment\n",
    "            seg = seg[:m_e.start()].strip().rstrip(\".\")\n",
    "\n",
    "        # Hierarchy levels\n",
    "        levels = [p.strip() for p in seg.split(';') if p.strip()]\n",
    "\n",
    "        # step X/Y at tail of last level\n",
    "        step_index = step_total = None\n",
    "        if levels:\n",
    "            last = levels[-1]\n",
    "            m_s = STEP_RX.search(last)\n",
    "            if m_s:\n",
    "                step_index = int(m_s.group(1))\n",
    "                step_total = int(m_s.group(2))\n",
    "                # remove \" : step X/Y\" or \" step X/Y\" from last level\n",
    "                cleaned_last = re.sub(r'[:\\s]*step\\s+\\d+\\s*/\\s*\\d+\\s*$', '', last, flags=re.IGNORECASE).rstrip(\".\").strip()\n",
    "                levels[-1] = cleaned_last\n",
    "\n",
    "        out.append({\n",
    "            \"levels\": levels,\n",
    "            \"step_index\": step_index,\n",
    "            \"step_total\": step_total,\n",
    "            \"evidence\": evidence\n",
    "        })\n",
    "\n",
    "    return out if out else None\n",
    "\n",
    "# ----- Apply to your dataset -----\n",
    "df['Pathway_json'] = df['Pathway'].apply(\n",
    "    lambda s: None if (obj := parse_pathway_to_json(s)) is None else json.dumps(obj, ensure_ascii=False)\n",
    ")\n",
    "\n",
    "# Optional: quick validation on a random sample (value-level)\n",
    "# (same logic as parser; compare parsed vs re-extracted)\n",
    "def extract_reference_signals(raw: str):\n",
    "    if pd.isna(raw) or not isinstance(raw, str) or not raw.strip():\n",
    "        return []\n",
    "    text = raw.strip().rstrip(\".\")\n",
    "    segs = [p for p in PATHWAY_SPLIT.split(text) if p.strip()]\n",
    "    sigs = []\n",
    "    for seg in segs:\n",
    "        seg = seg.strip().rstrip(\".\")\n",
    "        evidence = []\n",
    "        m = EVID_BLOCK.search(seg)\n",
    "        if m:\n",
    "            evidence = [t.strip() for t in re.split(r'[|,]', m.group(1)) if t.strip()]\n",
    "            seg = seg[:m.start()].strip().rstrip(\".\")\n",
    "        levels = [p.strip() for p in seg.split(';') if p.strip()]\n",
    "        s_idx = s_tot = None\n",
    "        if levels:\n",
    "            last = levels[-1]\n",
    "            m_s = STEP_RX.search(last)\n",
    "            if m_s:\n",
    "                s_idx, s_tot = int(m_s.group(1)), int(m_s.group(2))\n",
    "                levels[-1] = re.sub(r'[:\\s]*step\\s+\\d+\\s*/\\s*\\d+\\s*$', '', last, flags=re.IGNORECASE).rstrip(\".\").strip()\n",
    "        sigs.append({\"levels\": levels, \"step_index\": s_idx, \"step_total\": s_tot, \"evidence\": evidence})\n",
    "    return sigs\n",
    "\n",
    "json.loads(df.iloc[i]['Pathway_json'])\n",
    "# Example quick check:\n",
    "import random, json\n",
    "\n",
    "idxs = random.sample(range(len(df)), 2000)\n",
    "\n",
    "for i in idxs:\n",
    "    raw = df.iloc[i]['Pathway']\n",
    "    parsed_json = df.iloc[i]['Pathway_json']\n",
    "    ref = extract_reference_signals(raw)\n",
    "\n",
    "    if parsed_json is None or (isinstance(parsed_json, float) and pd.isna(parsed_json)):\n",
    "        assert ref == [], f\"Mismatch at row {i}\"\n",
    "    else:\n",
    "        parsed = json.loads(parsed_json)\n",
    "        assert ref == parsed, f\"Mismatch at row {i}\"\n"
   ]
  },
  {
   "cell_type": "code",
   "execution_count": 108,
   "id": "f0a1aa84",
   "metadata": {},
   "outputs": [
    {
     "name": "stdout",
     "output_type": "stream",
     "text": [
      "<class 'pandas.core.frame.DataFrame'>\n",
      "RangeIndex: 256690 entries, 0 to 256689\n",
      "Data columns (total 29 columns):\n",
      " #   Column                              Non-Null Count   Dtype \n",
      "---  ------                              --------------   ----- \n",
      " 0   Entry                               256690 non-null  object\n",
      " 1   name                                256690 non-null  object\n",
      " 2   sequence                            256690 non-null  object\n",
      " 3   function                            256690 non-null  object\n",
      " 4   Organism                            256690 non-null  object\n",
      " 5   Length                              256690 non-null  int64 \n",
      " 6   Active site                         55837 non-null   object\n",
      " 7   Catalytic activity                  132908 non-null  object\n",
      " 8   Binding site                        115900 non-null  object\n",
      " 9   Cofactor                            65251 non-null   object\n",
      " 10  DNA binding                         4886 non-null    object\n",
      " 11  EC number                           141536 non-null  object\n",
      " 12  Pathway                             68691 non-null   object\n",
      " 13  Reactome                            18470 non-null   object\n",
      " 14  UniPathway                          66801 non-null   object\n",
      " 15  Subcellular location [CC]           167776 non-null  object\n",
      " 16  Domain [FT]                         63134 non-null   object\n",
      " 17  Gene Ontology (biological process)  222047 non-null  object\n",
      " 18  Gene Ontology (cellular component)  215299 non-null  object\n",
      " 19  Gene Ontology (molecular function)  234925 non-null  object\n",
      " 20  Motif                               12019 non-null   object\n",
      " 21  Topological domain                  13374 non-null   object\n",
      " 22  length                              256690 non-null  int64 \n",
      " 23  Active_site_json                    55837 non-null   object\n",
      " 24  Binding_site_json                   115897 non-null  object\n",
      " 25  Catalytic_Activity_json             132908 non-null  object\n",
      " 26  Cofactor_json                       65245 non-null   object\n",
      " 27  DNA_binding_json                    4886 non-null    object\n",
      " 28  Pathway_json                        68691 non-null   object\n",
      "dtypes: int64(2), object(27)\n",
      "memory usage: 56.8+ MB\n"
     ]
    }
   ],
   "source": [
    "df.info()"
   ]
  },
  {
   "cell_type": "code",
   "execution_count": 109,
   "id": "97fdb007",
   "metadata": {},
   "outputs": [],
   "source": [
    "# save non null pathway rows\n",
    "df[df['Pathway'].notna()][['Entry', 'Pathway', 'Pathway_json']].to_csv(\"temp/QA_Pathways_with_JSON.tsv\", sep=\"\\t\", index=False)"
   ]
  },
  {
   "cell_type": "markdown",
   "id": "c6740a86",
   "metadata": {},
   "source": [
    "### Subcellular location [CC]"
   ]
  },
  {
   "cell_type": "code",
   "execution_count": 111,
   "id": "850f4ab9",
   "metadata": {},
   "outputs": [
    {
     "name": "stdout",
     "output_type": "stream",
     "text": [
      "<class 'pandas.core.frame.DataFrame'>\n",
      "RangeIndex: 256690 entries, 0 to 256689\n",
      "Data columns (total 29 columns):\n",
      " #   Column                              Non-Null Count   Dtype \n",
      "---  ------                              --------------   ----- \n",
      " 0   Entry                               256690 non-null  object\n",
      " 1   name                                256690 non-null  object\n",
      " 2   sequence                            256690 non-null  object\n",
      " 3   function                            256690 non-null  object\n",
      " 4   Organism                            256690 non-null  object\n",
      " 5   Length                              256690 non-null  int64 \n",
      " 6   Active site                         55837 non-null   object\n",
      " 7   Catalytic activity                  132908 non-null  object\n",
      " 8   Binding site                        115900 non-null  object\n",
      " 9   Cofactor                            65251 non-null   object\n",
      " 10  DNA binding                         4886 non-null    object\n",
      " 11  EC number                           141536 non-null  object\n",
      " 12  Pathway                             68691 non-null   object\n",
      " 13  Reactome                            18470 non-null   object\n",
      " 14  UniPathway                          66801 non-null   object\n",
      " 15  Subcellular location [CC]           167776 non-null  object\n",
      " 16  Domain [FT]                         63134 non-null   object\n",
      " 17  Gene Ontology (biological process)  222047 non-null  object\n",
      " 18  Gene Ontology (cellular component)  215299 non-null  object\n",
      " 19  Gene Ontology (molecular function)  234925 non-null  object\n",
      " 20  Motif                               12019 non-null   object\n",
      " 21  Topological domain                  13374 non-null   object\n",
      " 22  length                              256690 non-null  int64 \n",
      " 23  Active_site_json                    55837 non-null   object\n",
      " 24  Binding_site_json                   115897 non-null  object\n",
      " 25  Catalytic_Activity_json             132908 non-null  object\n",
      " 26  Cofactor_json                       65245 non-null   object\n",
      " 27  DNA_binding_json                    4886 non-null    object\n",
      " 28  Pathway_json                        68691 non-null   object\n",
      "dtypes: int64(2), object(27)\n",
      "memory usage: 56.8+ MB\n"
     ]
    }
   ],
   "source": [
    "df.info()"
   ]
  },
  {
   "cell_type": "code",
   "execution_count": 110,
   "id": "91fa9c9e",
   "metadata": {},
   "outputs": [
    {
     "data": {
      "text/plain": [
       "array(['SUBCELLULAR LOCATION: Cell inner membrane {ECO:0000255|HAMAP-Rule:MF_01585}; Multi-pass membrane protein {ECO:0000255|HAMAP-Rule:MF_01585}.',\n",
       "       'SUBCELLULAR LOCATION: Cytoplasm {ECO:0000255|HAMAP-Rule:MF_01109}.',\n",
       "       'SUBCELLULAR LOCATION: Basolateral cell membrane; Multi-pass membrane protein.',\n",
       "       ...,\n",
       "       'SUBCELLULAR LOCATION: Golgi apparatus membrane {ECO:0000269|PubMed:10899003}; Single-pass type II membrane protein {ECO:0000269|PubMed:10899003}.',\n",
       "       'SUBCELLULAR LOCATION: [Isoform 1]: Mitochondrion {ECO:0000269|PubMed:7599275}.; SUBCELLULAR LOCATION: [Isoform 2]: Mitochondrion {ECO:0000269|PubMed:7599275}. Nucleus inner membrane {ECO:0000269|PubMed:19602197, ECO:0000269|PubMed:7599275}; Peripheral membrane protein {ECO:0000269|PubMed:19602197, ECO:0000269|PubMed:7599275}; Nucleoplasmic side {ECO:0000269|PubMed:19602197, ECO:0000269|PubMed:7599275}. Note=Predominantly targeted to the nucleus. {ECO:0000269|PubMed:7599275}.',\n",
       "       'SUBCELLULAR LOCATION: Mitochondrion {ECO:0000269|PubMed:16491469}.'],\n",
       "      dtype=object)"
      ]
     },
     "execution_count": 110,
     "metadata": {},
     "output_type": "execute_result"
    }
   ],
   "source": [
    "df['Subcellular location [CC]'].unique()"
   ]
  },
  {
   "cell_type": "code",
   "execution_count": 112,
   "id": "7e841a97",
   "metadata": {},
   "outputs": [
    {
     "name": "stdout",
     "output_type": "stream",
     "text": [
      "\n",
      "RAW: nan\n",
      "PARSED: None\n",
      "\n",
      "RAW: nan\n",
      "PARSED: None\n",
      "\n",
      "RAW: nan\n",
      "PARSED: None\n",
      "\n",
      "RAW: SUBCELLULAR LOCATION: Cell membrane {ECO:0000255|HAMAP-Rule:MF_00386}; Peripheral membrane protein {ECO:0000255|HAMAP-Rule:MF_00386}; Cytoplasmic side {ECO:0000255|HAMAP-Rule:MF_00386}.\n",
      "PARSED: [{\"location\": \"Cell membrane\", \"modifiers\": [], \"note\": null, \"evidence\": [\"ECO:0000255\", \"HAMAP-Rule:MF_00386\"]}, {\"location\": \"Peripheral membrane protein\", \"modifiers\": [], \"note\": null, \"evidence\": [\"ECO:0000255\", \"HAMAP-Rule:MF_00386\"]}, {\"location\": \"Cytoplasmic side\", \"modifiers\": [], \"note\": null, \"evidence\": [\"ECO:0000255\", \"HAMAP-Rule:MF_00386\"]}]\n",
      "\n",
      "RAW: nan\n",
      "PARSED: None\n",
      "\n",
      "RAW: nan\n",
      "PARSED: None\n",
      "\n",
      "RAW: SUBCELLULAR LOCATION: Plastid, chloroplast thylakoid membrane {ECO:0000255|HAMAP-Rule:MF_01496}; Multi-pass membrane protein {ECO:0000255|HAMAP-Rule:MF_01496}.\n",
      "PARSED: [{\"location\": \"Plastid\", \"modifiers\": [\"chloroplast thylakoid membrane\"], \"note\": null, \"evidence\": [\"ECO:0000255\", \"HAMAP-Rule:MF_01496\"]}, {\"location\": \"Multi-pass membrane protein\", \"modifiers\": [], \"note\": null, \"evidence\": [\"ECO:0000255\", \"HAMAP-Rule:MF_01496\"]}]\n",
      "\n",
      "RAW: nan\n",
      "PARSED: None\n",
      "\n",
      "RAW: SUBCELLULAR LOCATION: Plastid, chloroplast thylakoid membrane {ECO:0000255|HAMAP-Rule:MF_00431}; Single-pass membrane protein {ECO:0000255|HAMAP-Rule:MF_00431}.\n",
      "PARSED: [{\"location\": \"Plastid\", \"modifiers\": [\"chloroplast thylakoid membrane\"], \"note\": null, \"evidence\": [\"ECO:0000255\", \"HAMAP-Rule:MF_00431\"]}, {\"location\": \"Single-pass membrane protein\", \"modifiers\": [], \"note\": null, \"evidence\": [\"ECO:0000255\", \"HAMAP-Rule:MF_00431\"]}]\n",
      "\n",
      "RAW: SUBCELLULAR LOCATION: Nucleus {ECO:0000255}.\n",
      "PARSED: [{\"location\": \"Nucleus\", \"modifiers\": [], \"note\": null, \"evidence\": [\"ECO:0000255\"]}]\n",
      "\n",
      "RAW: SUBCELLULAR LOCATION: Cytoplasm {ECO:0000255|HAMAP-Rule:MF_01274}.\n",
      "PARSED: [{\"location\": \"Cytoplasm\", \"modifiers\": [], \"note\": null, \"evidence\": [\"ECO:0000255\", \"HAMAP-Rule:MF_01274\"]}]\n",
      "\n",
      "RAW: nan\n",
      "PARSED: None\n",
      "\n",
      "RAW: SUBCELLULAR LOCATION: Membrane {ECO:0000255}; Multi-pass membrane protein {ECO:0000255}.\n",
      "PARSED: [{\"location\": \"Membrane\", \"modifiers\": [], \"note\": null, \"evidence\": [\"ECO:0000255\"]}, {\"location\": \"Multi-pass membrane protein\", \"modifiers\": [], \"note\": null, \"evidence\": [\"ECO:0000255\"]}]\n",
      "\n",
      "RAW: SUBCELLULAR LOCATION: Cytoplasm {ECO:0000255|HAMAP-Rule:MF_00112}.\n",
      "PARSED: [{\"location\": \"Cytoplasm\", \"modifiers\": [], \"note\": null, \"evidence\": [\"ECO:0000255\", \"HAMAP-Rule:MF_00112\"]}]\n",
      "\n",
      "RAW: SUBCELLULAR LOCATION: Cytoplasm {ECO:0000255|HAMAP-Rule:MF_00563}.\n",
      "PARSED: [{\"location\": \"Cytoplasm\", \"modifiers\": [], \"note\": null, \"evidence\": [\"ECO:0000255\", \"HAMAP-Rule:MF_00563\"]}]\n",
      "\n",
      "RAW: nan\n",
      "PARSED: None\n",
      "\n",
      "RAW: SUBCELLULAR LOCATION: Nucleus {ECO:0000305}.\n",
      "PARSED: [{\"location\": \"Nucleus\", \"modifiers\": [], \"note\": null, \"evidence\": [\"ECO:0000305\"]}]\n",
      "\n",
      "RAW: SUBCELLULAR LOCATION: Cell membrane {ECO:0000305}; Single-pass membrane protein {ECO:0000305}.\n",
      "PARSED: [{\"location\": \"Cell membrane\", \"modifiers\": [], \"note\": null, \"evidence\": [\"ECO:0000305\"]}, {\"location\": \"Single-pass membrane protein\", \"modifiers\": [], \"note\": null, \"evidence\": [\"ECO:0000305\"]}]\n",
      "\n",
      "RAW: nan\n",
      "PARSED: None\n",
      "\n",
      "RAW: SUBCELLULAR LOCATION: Plastid, chloroplast.\n",
      "PARSED: [{\"location\": \"Plastid\", \"modifiers\": [\"chloroplast\"], \"note\": null, \"evidence\": []}]\n"
     ]
    }
   ],
   "source": [
    "import pandas as pd\n",
    "import re, json\n",
    "\n",
    "# ----- Patterns -----\n",
    "SUBCELL_SPLIT = re.compile(r'SUBCELLULAR LOCATION:', flags=re.IGNORECASE)\n",
    "EVID_BLOCK    = re.compile(r'\\{([^}]*)\\}')\n",
    "NOTE_RX       = re.compile(r'Note=([^.{]+)')   # text after Note= up to '.' or '{'\n",
    "ECO_RX        = re.compile(r'ECO:\\d+')\n",
    "PMID_RX       = re.compile(r'PubMed:\\d+')\n",
    "\n",
    "def parse_subcell_to_json(s: str):\n",
    "    \"\"\"\n",
    "    Parse UniProt-style 'Subcellular location [CC]' into structured JSON.\n",
    "    Schema:\n",
    "      [\n",
    "        {\n",
    "          \"location\": str,            # main compartment\n",
    "          \"modifiers\": [str],         # descriptors or subparts\n",
    "          \"note\": str|null,           # note if present\n",
    "          \"evidence\": [str]           # ECO/PMID/rule tokens\n",
    "        },\n",
    "        ...\n",
    "      ]\n",
    "    \"\"\"\n",
    "    if pd.isna(s) or not isinstance(s, str) or not s.strip():\n",
    "        return None\n",
    "\n",
    "    text = s.strip()\n",
    "    # Split multiple SUBCELLULAR LOCATION: sentences\n",
    "    segs = [seg.strip().rstrip('.') for seg in SUBCELL_SPLIT.split(text) if seg.strip()]\n",
    "    out = []\n",
    "\n",
    "    for seg in segs:\n",
    "        # Split into statements by '.' then by ';'\n",
    "        stmts = []\n",
    "        for sent in seg.split('.'):\n",
    "            sent = sent.strip()\n",
    "            if not sent:\n",
    "                continue\n",
    "            stmts.extend([frag.strip() for frag in sent.split(';') if frag.strip()])\n",
    "\n",
    "        for stmt in stmts:\n",
    "            raw = stmt\n",
    "\n",
    "            # Evidence in {...}\n",
    "            evidence = []\n",
    "            evid_matches = EVID_BLOCK.findall(raw)\n",
    "            for evid_text in evid_matches:\n",
    "                evidence.extend([tok.strip() for tok in re.split(r'[|,]', evid_text) if tok.strip()])\n",
    "            # Remove evidence from raw\n",
    "            raw = EVID_BLOCK.sub('', raw).strip()\n",
    "\n",
    "            # Note=\n",
    "            note = None\n",
    "            m_note = NOTE_RX.search(raw)\n",
    "            if m_note:\n",
    "                note = m_note.group(1).strip()\n",
    "                raw = NOTE_RX.sub('', raw).strip()\n",
    "\n",
    "            # Also include inline ECO/PMID tokens if not captured\n",
    "            for tok in ECO_RX.findall(stmt):\n",
    "                if tok not in evidence:\n",
    "                    evidence.append(tok)\n",
    "            for tok in PMID_RX.findall(stmt):\n",
    "                if tok not in evidence:\n",
    "                    evidence.append(tok)\n",
    "\n",
    "            # Split by comma into location + modifiers\n",
    "            parts = [p.strip() for p in raw.split(',') if p.strip()]\n",
    "            if not parts:\n",
    "                continue\n",
    "            location = parts[0]\n",
    "            modifiers = parts[1:] if len(parts) > 1 else []\n",
    "\n",
    "            out.append({\n",
    "                \"location\": location,\n",
    "                \"modifiers\": modifiers,\n",
    "                \"note\": note,\n",
    "                \"evidence\": evidence\n",
    "            })\n",
    "\n",
    "    return out if out else None\n",
    "\n",
    "\n",
    "# ----- Apply to dataset -----\n",
    "df['Subcellular_location_json'] = df['Subcellular location [CC]'].apply(\n",
    "    lambda s: None if (obj := parse_subcell_to_json(s)) is None else json.dumps(obj, ensure_ascii=False)\n",
    ")\n",
    "\n",
    "# ----- Optional validation -----\n",
    "# You can check a sample manually:\n",
    "import random\n",
    "for i in random.sample(range(len(df)), 20):\n",
    "    print(\"\\nRAW:\", df.iloc[i]['Subcellular location [CC]'])\n",
    "    print(\"PARSED:\", df.iloc[i]['Subcellular_location_json'])\n",
    "\n",
    "# ----- Save non null tsv -----\n",
    "df[df['Subcellular location [CC]'].notna()][['Entry', 'Subcellular location [CC]', 'Subcellular_location_json']].to_csv(\"temp/QA_Subcellular_Locations_with_JSON.tsv\", sep=\"\\t\", index=False)\n"
   ]
  },
  {
   "cell_type": "markdown",
   "id": "305fab5f",
   "metadata": {},
   "source": [
    "### Domain [FT]\n"
   ]
  },
  {
   "cell_type": "code",
   "execution_count": 113,
   "id": "4190e118",
   "metadata": {},
   "outputs": [],
   "source": [
    "import pandas as pd, re, json\n",
    "\n",
    "# ---- Patterns ----\n",
    "# Handle standard and qualified coordinates: \"12..200\", \"<1..166\", \"10..>200\", or single pos \"42\"\n",
    "POS_RX        = re.compile(r'^\\s*(?:<|>)?(\\d+)(?:\\.\\.(?:<|>)?(\\d+))?')\n",
    "NOTE_RX       = re.compile(r'/note=\"([^\"]+)\"')\n",
    "DESC_RX       = re.compile(r'/description=\"([^\"]+)\"')\n",
    "DBX_ALL_RX    = re.compile(r'/db_xref=\"([^\"]+)\"')     # may appear multiple times\n",
    "EVID_RX       = re.compile(r'/evidence=\"([^\"]+)\"')\n",
    "ECO_INLINE_RX = re.compile(r'ECO:\\d+')\n",
    "PMID_INLINE_RX= re.compile(r'PubMed:\\d+')\n",
    "\n",
    "def parse_domain_ft_to_json(s: str):\n",
    "    \"\"\"\n",
    "    Parse UniProt 'Domain [FT]' into a list of blocks with:\n",
    "      start, end, note, description, db_xref(list), evidence(list).\n",
    "    \"\"\"\n",
    "    if pd.isna(s) or not isinstance(s, str) or not s.strip():\n",
    "        return None\n",
    "\n",
    "    out = []\n",
    "    for blk in s.strip().split('DOMAIN'):\n",
    "        blk = blk.strip()\n",
    "        if not blk:\n",
    "            continue\n",
    "\n",
    "        # positions\n",
    "        mpos = POS_RX.match(blk)\n",
    "        if not mpos:\n",
    "            continue\n",
    "        start = int(mpos.group(1))\n",
    "        end = int(mpos.group(2)) if mpos.group(2) else start\n",
    "\n",
    "        # note / description\n",
    "        note = NOTE_RX.search(blk).group(1) if NOTE_RX.search(blk) else None\n",
    "        description = DESC_RX.search(blk).group(1) if DESC_RX.search(blk) else None\n",
    "\n",
    "        # db_xref: collect all\n",
    "        db_xrefs = DBX_ALL_RX.findall(blk) or []\n",
    "\n",
    "        # evidence: from /evidence= and inline ECO/PMID\n",
    "        evidence = []\n",
    "        me = EVID_RX.search(blk)\n",
    "        if me:\n",
    "            evidence.extend([t.strip() for t in me.group(1).split(\"|\") if t.strip()])\n",
    "        for tok in ECO_INLINE_RX.findall(blk):\n",
    "            if tok not in evidence:\n",
    "                evidence.append(tok)\n",
    "        for tok in PMID_INLINE_RX.findall(blk):\n",
    "            if tok not in evidence:\n",
    "                evidence.append(tok)\n",
    "\n",
    "        out.append({\n",
    "            \"start\": start,\n",
    "            \"end\": end,\n",
    "            \"note\": note,\n",
    "            \"description\": description,\n",
    "            \"db_xref\": db_xrefs,\n",
    "            \"evidence\": evidence\n",
    "        })\n",
    "\n",
    "    return out if out else None\n",
    "\n",
    "# ---- Apply to your dataset ----\n",
    "df['DomainFT_json'] = df['Domain [FT]'].apply(\n",
    "    lambda s: None if (obj := parse_domain_ft_to_json(s)) is None else json.dumps(obj, ensure_ascii=False)\n",
    ")\n",
    "\n",
    "# ---- Optional: value-level validation on a large random sample ----\n",
    "# (Independent re-extract using the same patterns to assert equality)\n",
    "import random\n",
    "def extract_reference_domain(raw: str):\n",
    "    if pd.isna(raw) or not isinstance(raw, str) or not raw.strip():\n",
    "        return []\n",
    "    out = []\n",
    "    for seg in raw.strip().split('DOMAIN'):\n",
    "        seg = seg.strip()\n",
    "        if not seg: continue\n",
    "        mpos = POS_RX.match(seg)\n",
    "        if not mpos: continue\n",
    "        start = int(mpos.group(1))\n",
    "        end = int(mpos.group(2)) if mpos.group(2) else start\n",
    "        note = NOTE_RX.search(seg).group(1) if NOTE_RX.search(seg) else None\n",
    "        desc = DESC_RX.search(seg).group(1) if DESC_RX.search(seg) else None\n",
    "        dbxs = DBX_ALL_RX.findall(seg) or []\n",
    "        evidence = []\n",
    "        me = EVID_RX.search(seg)\n",
    "        if me:\n",
    "            evidence.extend([t.strip() for t in me.group(1).split(\"|\") if t.strip()])\n",
    "        for tok in ECO_INLINE_RX.findall(seg):\n",
    "            if tok not in evidence: evidence.append(tok)\n",
    "        for tok in PMID_INLINE_RX.findall(seg):\n",
    "            if tok not in evidence: evidence.append(tok)\n",
    "        out.append({\n",
    "            \"start\": start, \"end\": end, \"note\": note,\n",
    "            \"description\": desc, \"db_xref\": dbxs, \"evidence\": evidence\n",
    "        })\n",
    "    return out\n",
    "\n",
    "# save to tsv\n",
    "df[df['Domain [FT]'].notna()][['Entry', 'Domain [FT]', 'DomainFT_json']].to_csv(\"temp/QA_Domains_with_JSON.tsv\", sep=\"\\t\", index=False)"
   ]
  },
  {
   "cell_type": "markdown",
   "id": "fbeebbce",
   "metadata": {},
   "source": [
    "### Motif, Topological domain"
   ]
  },
  {
   "cell_type": "code",
   "execution_count": 114,
   "id": "64392b15",
   "metadata": {},
   "outputs": [
    {
     "data": {
      "text/plain": [
       "array([nan,\n",
       "       'MOTIF 14..22; /note=\"\\'HIGH\\' region\"; /evidence=\"ECO:0000255|HAMAP-Rule:MF_00140\"; MOTIF 217..221; /note=\"\\'KMSKS\\' region\"; /evidence=\"ECO:0000255|HAMAP-Rule:MF_00140\"',\n",
       "       'MOTIF 90..102; /note=\"PRPP-binding\"; /evidence=\"ECO:0000255|HAMAP-Rule:MF_01219\"',\n",
       "       ...,\n",
       "       'MOTIF 401..405; /note=\"FXDXF motif\"; /evidence=\"ECO:0000250|UniProtKB:Q8TEH3\"; MOTIF 558..567; /note=\"Clathrin box\"; /evidence=\"ECO:0000250|UniProtKB:Q8TEH3\"',\n",
       "       'MOTIF 347..349; /note=\"Microbody targeting signal\"; /evidence=\"ECO:0000255\"',\n",
       "       'MOTIF 95..101; /note=\"Nuclear localization signal\"'], dtype=object)"
      ]
     },
     "execution_count": 114,
     "metadata": {},
     "output_type": "execute_result"
    }
   ],
   "source": [
    "df['Motif'].unique()"
   ]
  },
  {
   "cell_type": "code",
   "execution_count": 120,
   "id": "eacfa128",
   "metadata": {},
   "outputs": [],
   "source": [
    "import pandas as pd, re, json\n",
    "\n",
    "# ---- Patterns ----\n",
    "# Optional isoform/accession prefix like \"Q9NXH9-3:\" then coordinate range.\n",
    "POS_RX = re.compile(r'^\\s*(?:[A-Za-z0-9]+(?:-[A-Za-z0-9]+)?:)?\\s*(?:<|>)?(\\d+)(?:\\.\\.(?:<|>)?(\\d+))?')\n",
    "NOTE_RX = re.compile(r'/note=\"([^\"]+)\"')\n",
    "EVID_RX = re.compile(r'/evidence=\"([^\"]+)\"')\n",
    "ECO_RX  = re.compile(r'ECO:\\d+')\n",
    "PMID_RX = re.compile(r'PubMed:\\d+')\n",
    "\n",
    "def parse_motif_to_json(s: str):\n",
    "    \"\"\"\n",
    "    Parse UniProt-style MOTIF features into a list of dicts:\n",
    "      {start:int, end:int, note:str|None, evidence:list[str]}\n",
    "    \"\"\"\n",
    "    if pd.isna(s) or not isinstance(s, str) or not s.strip():\n",
    "        return None\n",
    "\n",
    "    out = []\n",
    "    for blk in s.strip().split('MOTIF'):\n",
    "        blk = blk.strip()\n",
    "        if not blk:\n",
    "            continue\n",
    "\n",
    "        # coordinates\n",
    "        mpos = POS_RX.match(blk)\n",
    "        if not mpos:\n",
    "            continue\n",
    "        start = int(mpos.group(1))\n",
    "        end   = int(mpos.group(2)) if mpos.group(2) else start\n",
    "\n",
    "        # note\n",
    "        note = NOTE_RX.search(blk).group(1) if NOTE_RX.search(blk) else None\n",
    "\n",
    "        # evidence (block + inline tokens)\n",
    "        evidence = []\n",
    "        me = EVID_RX.search(blk)\n",
    "        if me:\n",
    "            evidence.extend([t.strip() for t in re.split(r'[|,]', me.group(1)) if t.strip()])\n",
    "        for tok in ECO_RX.findall(blk):\n",
    "            if tok not in evidence:\n",
    "                evidence.append(tok)\n",
    "        for tok in PMID_RX.findall(blk):\n",
    "            if tok not in evidence:\n",
    "                evidence.append(tok)\n",
    "\n",
    "        out.append({\n",
    "            \"start\": start,\n",
    "            \"end\": end,\n",
    "            \"note\": note,\n",
    "            \"evidence\": evidence\n",
    "        })\n",
    "\n",
    "    return out if out else None\n",
    "\n",
    "# ---- Apply to dataset ----\n",
    "df['Motif_json'] = df['Motif'].apply(\n",
    "    lambda s: None if (obj := parse_motif_to_json(s)) is None else json.dumps(obj, ensure_ascii=False)\n",
    ")\n",
    "\n",
    "# ---- Optional: value-level validation on a large sample ----\n",
    "def extract_reference_motif(raw: str):\n",
    "    if pd.isna(raw) or not isinstance(raw, str) or not raw.strip():\n",
    "        return []\n",
    "    out = []\n",
    "    for seg in raw.strip().split('MOTIF'):\n",
    "        seg = seg.strip()\n",
    "        if not seg: continue\n",
    "        mpos = POS_RX.match(seg)\n",
    "        if not mpos: continue\n",
    "        start = int(mpos.group(1))\n",
    "        end = int(mpos.group(2)) if mpos.group(2) else start\n",
    "        note = NOTE_RX.search(seg).group(1) if NOTE_RX.search(seg) else None\n",
    "        evidence = []\n",
    "        me = EVID_RX.search(seg)\n",
    "        if me:\n",
    "            evidence.extend([t.strip() for t in re.split(r'[|,]', me.group(1)) if t.strip()])\n",
    "        for tok in ECO_RX.findall(seg):\n",
    "            if tok not in evidence: evidence.append(tok)\n",
    "        for tok in PMID_RX.findall(seg):\n",
    "            if tok not in evidence: evidence.append(tok)\n",
    "        out.append({\"start\": start, \"end\": end, \"note\": note, \"evidence\": evidence})\n",
    "    return out\n",
    "\n",
    "import random, json\n",
    "\n",
    "idxs = random.sample(range(len(df)), 6000)\n",
    "\n",
    "for i in idxs:\n",
    "    raw = df.iloc[i]['Motif']\n",
    "    ref = extract_reference_motif(raw)\n",
    "    parsed_json = df.iloc[i]['Motif_json']\n",
    "\n",
    "    if parsed_json is None or (isinstance(parsed_json, float) and pd.isna(parsed_json)):\n",
    "        # For rows without Motif, both should be empty\n",
    "        assert ref == [], f\"Mismatch at row {i}\"\n",
    "    else:\n",
    "        parsed = json.loads(parsed_json)\n",
    "        assert ref == parsed, f\"Mismatch at row {i}\"\n",
    "\n",
    "\n",
    "# ---- Save ----\n",
    "df[df['Motif'].notna()][['Entry', 'Motif', 'Motif_json']].to_csv(\"temp/QA_Motifs_with_JSON.tsv\", sep=\"\\t\", index=False)\n"
   ]
  },
  {
   "cell_type": "code",
   "execution_count": 115,
   "id": "4f97f7f5",
   "metadata": {},
   "outputs": [
    {
     "data": {
      "text/plain": [
       "array(['TOPO_DOM 1..17; /note=\"Periplasmic\"; /evidence=\"ECO:0000255|HAMAP-Rule:MF_01585\"; TOPO_DOM 39..52; /note=\"Cytoplasmic\"; /evidence=\"ECO:0000255|HAMAP-Rule:MF_01585\"; TOPO_DOM 74..90; /note=\"Periplasmic\"; /evidence=\"ECO:0000255|HAMAP-Rule:MF_01585\"; TOPO_DOM 112..144; /note=\"Cytoplasmic\"; /evidence=\"ECO:0000255|HAMAP-Rule:MF_01585\"; TOPO_DOM 166; /note=\"Periplasmic\"; /evidence=\"ECO:0000255|HAMAP-Rule:MF_01585\"; TOPO_DOM 188..226; /note=\"Cytoplasmic\"; /evidence=\"ECO:0000255|HAMAP-Rule:MF_01585\"; TOPO_DOM 248..256; /note=\"Periplasmic\"; /evidence=\"ECO:0000255|HAMAP-Rule:MF_01585\"; TOPO_DOM 278..280; /note=\"Cytoplasmic\"; /evidence=\"ECO:0000255|HAMAP-Rule:MF_01585\"; TOPO_DOM 302..304; /note=\"Periplasmic\"; /evidence=\"ECO:0000255|HAMAP-Rule:MF_01585\"; TOPO_DOM 326..343; /note=\"Cytoplasmic\"; /evidence=\"ECO:0000255|HAMAP-Rule:MF_01585\"; TOPO_DOM 365..366; /note=\"Periplasmic\"; /evidence=\"ECO:0000255|HAMAP-Rule:MF_01585\"; TOPO_DOM 388..397; /note=\"Cytoplasmic\"; /evidence=\"ECO:0000255|HAMAP-Rule:MF_01585\"',\n",
       "       nan,\n",
       "       'TOPO_DOM 1..14; /note=\"Cytoplasmic\"; /evidence=\"ECO:0000255\"; TOPO_DOM 35..75; /note=\"Extracellular\"; /evidence=\"ECO:0000255\"; TOPO_DOM 96..97; /note=\"Cytoplasmic\"; /evidence=\"ECO:0000255\"; TOPO_DOM 118..122; /note=\"Extracellular\"; /evidence=\"ECO:0000255\"; TOPO_DOM 143..149; /note=\"Cytoplasmic\"; /evidence=\"ECO:0000255\"; TOPO_DOM 170..195; /note=\"Extracellular\"; /evidence=\"ECO:0000255\"; TOPO_DOM 215..225; /note=\"Cytoplasmic\"; /evidence=\"ECO:0000255\"; TOPO_DOM 245..261; /note=\"Extracellular\"; /evidence=\"ECO:0000255\"; TOPO_DOM 283..311; /note=\"Cytoplasmic\"; /evidence=\"ECO:0000255\"; TOPO_DOM 331..352; /note=\"Extracellular\"; /evidence=\"ECO:0000255\"; TOPO_DOM 373..376; /note=\"Cytoplasmic\"; /evidence=\"ECO:0000255\"; TOPO_DOM 399..446; /note=\"Extracellular\"; /evidence=\"ECO:0000255\"; TOPO_DOM 468..759; /note=\"Cytoplasmic\"; /evidence=\"ECO:0000255\"',\n",
       "       ...,\n",
       "       'TOPO_DOM 1..10; /note=\"Cytoplasmic\"; /evidence=\"ECO:0000255\"; TOPO_DOM 32..390; /note=\"Lumenal\"; /evidence=\"ECO:0000255\"',\n",
       "       'TOPO_DOM 1..35; /note=\"Cytoplasmic\"; /evidence=\"ECO:0000305\"; TOPO_DOM 57..104; /note=\"Lumenal\"; /evidence=\"ECO:0000305\"; TOPO_DOM 126..145; /note=\"Cytoplasmic\"; /evidence=\"ECO:0000305\"; TOPO_DOM 167..223; /note=\"Lumenal\"; /evidence=\"ECO:0000305\"; TOPO_DOM 245..263; /note=\"Cytoplasmic\"; /evidence=\"ECO:0000305\"; TOPO_DOM 285..332; /note=\"Lumenal\"; /evidence=\"ECO:0000305\"; TOPO_DOM 354..356; /note=\"Cytoplasmic\"; /evidence=\"ECO:0000305\"; TOPO_DOM 378..398; /note=\"Lumenal\"; /evidence=\"ECO:0000305\"; TOPO_DOM 420..425; /note=\"Cytoplasmic\"; /evidence=\"ECO:0000305\"; TOPO_DOM 447..481; /note=\"Lumenal\"; /evidence=\"ECO:0000305\"; TOPO_DOM 503..508; /note=\"Cytoplasmic\"; /evidence=\"ECO:0000305\"; TOPO_DOM 530..544; /note=\"Lumenal\"; /evidence=\"ECO:0000305\"',\n",
       "       'TOPO_DOM 1..15; /note=\"Cytoplasmic\"; /evidence=\"ECO:0000255\"; TOPO_DOM 35..412; /note=\"Lumenal\"; /evidence=\"ECO:0000255\"'],\n",
       "      dtype=object)"
      ]
     },
     "execution_count": 115,
     "metadata": {},
     "output_type": "execute_result"
    }
   ],
   "source": [
    "df['Topological domain'].unique()"
   ]
  },
  {
   "cell_type": "code",
   "execution_count": 121,
   "id": "c694a718",
   "metadata": {},
   "outputs": [],
   "source": [
    "import pandas as pd, re, json\n",
    "\n",
    "# ---- Patterns ----\n",
    "# Optional isoform/accession prefix like \"Q9NXH9-3:\"; supports open bounds < or >\n",
    "POS_RX        = re.compile(r'^\\s*(?:[A-Za-z0-9]+(?:-[A-Za-z0-9]+)?:)?\\s*(?:<|>)?(\\d+)(?:\\.\\.(?:<|>)?(\\d+))?')\n",
    "NOTE_RX       = re.compile(r'/note=\"([^\"]+)\"')\n",
    "DESC_RX       = re.compile(r'/description=\"([^\"]+)\"')\n",
    "DBX_ALL_RX    = re.compile(r'/db_xref=\"([^\"]+)\"')     # may occur multiple times\n",
    "EVID_RX       = re.compile(r'/evidence=\"([^\"]+)\"')\n",
    "ECO_RX        = re.compile(r'ECO:\\d+')\n",
    "PMID_RX       = re.compile(r'PubMed:\\d+')\n",
    "\n",
    "def parse_topodomain_to_json(s: str):\n",
    "    \"\"\"\n",
    "    Parse UniProt-style 'Topological domain' (TOPO_DOM) into a list of blocks:\n",
    "      start:int, end:int, note:str|None, description:str|None, db_xref:list[str], evidence:list[str]\n",
    "    \"\"\"\n",
    "    if pd.isna(s) or not isinstance(s, str) or not s.strip():\n",
    "        return None\n",
    "    out = []\n",
    "    for blk in s.strip().split('TOPO_DOM'):\n",
    "        blk = blk.strip()\n",
    "        if not blk:\n",
    "            continue\n",
    "\n",
    "        # Coordinates\n",
    "        mpos = POS_RX.match(blk)\n",
    "        if not mpos:\n",
    "            continue\n",
    "        start = int(mpos.group(1))\n",
    "        end   = int(mpos.group(2)) if mpos.group(2) else start\n",
    "\n",
    "        # Qualifiers\n",
    "        note = NOTE_RX.search(blk).group(1) if NOTE_RX.search(blk) else None\n",
    "        description = DESC_RX.search(blk).group(1) if DESC_RX.search(blk) else None\n",
    "        db_xrefs = DBX_ALL_RX.findall(blk) or []\n",
    "\n",
    "        # Evidence (from /evidence= and any inline ECO/PMID)\n",
    "        evidence = []\n",
    "        me = EVID_RX.search(blk)\n",
    "        if me:\n",
    "            evidence.extend([t.strip() for t in re.split(r'[|,]', me.group(1)) if t.strip()])\n",
    "        for tok in ECO_RX.findall(blk):\n",
    "            if tok not in evidence:\n",
    "                evidence.append(tok)\n",
    "        for tok in PMID_RX.findall(blk):\n",
    "            if tok not in evidence:\n",
    "                evidence.append(tok)\n",
    "\n",
    "        out.append({\n",
    "            \"start\": start,\n",
    "            \"end\": end,\n",
    "            \"note\": note,\n",
    "            \"description\": description,\n",
    "            \"db_xref\": db_xrefs,\n",
    "            \"evidence\": evidence\n",
    "        })\n",
    "    return out if out else None\n",
    "\n",
    "# ---- Apply to your dataset ----\n",
    "df['Topological_domain_json'] = df['Topological domain'].apply(\n",
    "    lambda s: None if (obj := parse_topodomain_to_json(s)) is None else json.dumps(obj, ensure_ascii=False)\n",
    ")\n",
    "\n",
    "\n",
    "df[df['Topological domain'].notna()][['Entry', 'Topological domain', 'Topological_domain_json']].to_csv(\"temp/QA_Topological_Domains_with_JSON.tsv\", sep=\"\\t\", index=False)\n"
   ]
  },
  {
   "cell_type": "code",
   "execution_count": 122,
   "id": "accaec64",
   "metadata": {},
   "outputs": [
    {
     "name": "stdout",
     "output_type": "stream",
     "text": [
      "<class 'pandas.core.frame.DataFrame'>\n",
      "RangeIndex: 256690 entries, 0 to 256689\n",
      "Data columns (total 33 columns):\n",
      " #   Column                              Non-Null Count   Dtype \n",
      "---  ------                              --------------   ----- \n",
      " 0   Entry                               256690 non-null  object\n",
      " 1   name                                256690 non-null  object\n",
      " 2   sequence                            256690 non-null  object\n",
      " 3   function                            256690 non-null  object\n",
      " 4   Organism                            256690 non-null  object\n",
      " 5   Length                              256690 non-null  int64 \n",
      " 6   Active site                         55837 non-null   object\n",
      " 7   Catalytic activity                  132908 non-null  object\n",
      " 8   Binding site                        115900 non-null  object\n",
      " 9   Cofactor                            65251 non-null   object\n",
      " 10  DNA binding                         4886 non-null    object\n",
      " 11  EC number                           141536 non-null  object\n",
      " 12  Pathway                             68691 non-null   object\n",
      " 13  Reactome                            18470 non-null   object\n",
      " 14  UniPathway                          66801 non-null   object\n",
      " 15  Subcellular location [CC]           167776 non-null  object\n",
      " 16  Domain [FT]                         63134 non-null   object\n",
      " 17  Gene Ontology (biological process)  222047 non-null  object\n",
      " 18  Gene Ontology (cellular component)  215299 non-null  object\n",
      " 19  Gene Ontology (molecular function)  234925 non-null  object\n",
      " 20  Motif                               12019 non-null   object\n",
      " 21  Topological domain                  13374 non-null   object\n",
      " 22  length                              256690 non-null  int64 \n",
      " 23  Active_site_json                    55837 non-null   object\n",
      " 24  Binding_site_json                   115897 non-null  object\n",
      " 25  Catalytic_Activity_json             132908 non-null  object\n",
      " 26  Cofactor_json                       65245 non-null   object\n",
      " 27  DNA_binding_json                    4886 non-null    object\n",
      " 28  Pathway_json                        68691 non-null   object\n",
      " 29  Subcellular_location_json           167764 non-null  object\n",
      " 30  DomainFT_json                       63134 non-null   object\n",
      " 31  Motif_json                          12019 non-null   object\n",
      " 32  Topological_domain_json             13374 non-null   object\n",
      "dtypes: int64(2), object(31)\n",
      "memory usage: 64.6+ MB\n"
     ]
    }
   ],
   "source": [
    "df.info()"
   ]
  },
  {
   "cell_type": "markdown",
   "id": "f7a42626",
   "metadata": {},
   "source": [
    "# Gene Ontology (biological process), Gene Ontology (cellular component), Gene Ontology (molecular function)"
   ]
  },
  {
   "cell_type": "code",
   "execution_count": 116,
   "id": "31d859ab",
   "metadata": {},
   "outputs": [
    {
     "data": {
      "text/plain": [
       "array([nan,\n",
       "       'arginine biosynthetic process via ornithine [GO:0042450]; citrulline biosynthetic process [GO:0019240]; L-arginine biosynthetic process [GO:0006526]',\n",
       "       'regulation of intracellular pH [GO:0051453]; sodium ion import across plasma membrane [GO:0098719]',\n",
       "       ...,\n",
       "       'compound eye development [GO:0048749]; compound eye morphogenesis [GO:0001745]; cuticle pattern formation [GO:0035017]; dorsal/ventral pattern formation, imaginal disc [GO:0007450]; female germ-line stem cell population maintenance [GO:0036099]; follicle cell of egg chamber development [GO:0030707]; germarium-derived egg chamber formation [GO:0007293]; imaginal disc-derived leg morphogenesis [GO:0007480]; imaginal disc-derived leg segmentation [GO:0036011]; imaginal disc-derived wing margin morphogenesis [GO:0008587]; imaginal disc-derived wing morphogenesis [GO:0007476]; negative regulation of Notch signaling pathway [GO:0045746]; positive regulation of Notch signaling pathway [GO:0045747]; protein glycosylation [GO:0006486]; regulation of Notch signaling pathway [GO:0008593]; wing disc anterior/posterior pattern formation [GO:0048100]; wing disc dorsal/ventral pattern formation [GO:0048190]',\n",
       "       'tRNA methylation [GO:0030488]; tRNA N2-guanine methylation [GO:0002940]',\n",
       "       'antennal joint development [GO:0048098]; compound eye photoreceptor cell differentiation [GO:0001751]; glial cell development [GO:0021782]; imaginal disc-derived wing vein morphogenesis [GO:0008586]; male genitalia development [GO:0030539]; male gonad development [GO:0008584]; muscle organ morphogenesis [GO:0048644]; negative regulation of terminal cell fate specification, open tracheal system [GO:0035155]; notum cell fate specification [GO:0035310]; oenocyte development [GO:0007438]; open tracheal system development [GO:0007424]; R7 cell differentiation [GO:0045466]; R8 cell differentiation [GO:0045465]; regulation of alternative mRNA splicing, via spliceosome [GO:0000381]; regulation of cell fate specification [GO:0042659]; regulation of DNA-templated transcription [GO:0006355]; regulation of transcription by RNA polymerase II [GO:0006357]; sensory organ development [GO:0007423]; sensory perception of sound [GO:0007605]; somatic muscle development [GO:0007525]; spiracle morphogenesis, open tracheal system [GO:0035277]; tracheal pit formation in open tracheal system [GO:0035202]'],\n",
       "      dtype=object)"
      ]
     },
     "execution_count": 116,
     "metadata": {},
     "output_type": "execute_result"
    }
   ],
   "source": [
    "df['Gene Ontology (biological process)'].unique()"
   ]
  },
  {
   "cell_type": "code",
   "execution_count": 123,
   "id": "6e4b034e",
   "metadata": {},
   "outputs": [],
   "source": [
    "import pandas as pd, re, json\n",
    "\n",
    "# ---- Patterns ----\n",
    "ITEM_SPLIT = re.compile(r'\\s*;\\s*')                 # split items\n",
    "GO_ITEM_RX = re.compile(r'^(.*?)\\s*\\[(GO:\\d{7})\\]\\s*$')\n",
    "GO_ID_ANY  = re.compile(r'(GO:\\d{7})')\n",
    "\n",
    "def parse_go_bp_to_json(s: str):\n",
    "    \"\"\"\n",
    "    Parse 'Gene Ontology (biological process)' entries into list of:\n",
    "      {go_id:str, term:str, aspect:'BP', evidence:list[str]}.\n",
    "    \"\"\"\n",
    "    if pd.isna(s) or not isinstance(s, str) or not s.strip():\n",
    "        return None\n",
    "    text = s.strip()\n",
    "    items = [p for p in ITEM_SPLIT.split(text) if p.strip()]\n",
    "    out = []\n",
    "    for it in items:\n",
    "        it = it.strip()\n",
    "        m = GO_ITEM_RX.match(it)\n",
    "        if m:\n",
    "            term = m.group(1).strip()\n",
    "            go_id = m.group(2)\n",
    "        else:\n",
    "            # Fallback: find GO id anywhere, take the text before it as the term\n",
    "            mid = GO_ID_ANY.search(it)\n",
    "            if not mid:\n",
    "                continue\n",
    "            go_id = mid.group(1)\n",
    "            bpos = it.find('[' + go_id + ']')\n",
    "            term = it[:bpos].strip() if bpos != -1 else it[:mid.start()].strip()\n",
    "\n",
    "        if term.endswith(','):\n",
    "            term = term[:-1].rstrip()\n",
    "\n",
    "        out.append({\"go_id\": go_id, \"term\": term, \"aspect\": \"BP\", \"evidence\": []})\n",
    "    return out if out else None\n",
    "\n",
    "# ---- Apply to dataset ----\n",
    "col_bp = 'Gene Ontology (biological process)'\n",
    "df['GO_BP_json'] = df[col_bp].apply(\n",
    "    lambda s: None if (obj := parse_go_bp_to_json(s)) is None else json.dumps(obj, ensure_ascii=False)\n",
    ")\n",
    "\n",
    "\n",
    "# ---- Save ----\n",
    "df[df[col_bp].notna()][['Entry', col_bp, 'GO_BP_json']].to_csv(\"temp/QA_GO_BP_with_JSON.tsv\", sep=\"\\t\", index=False)"
   ]
  },
  {
   "cell_type": "code",
   "execution_count": 117,
   "id": "67288b85",
   "metadata": {},
   "outputs": [
    {
     "data": {
      "text/plain": [
       "array(['plasma membrane [GO:0005886]', 'cytoplasm [GO:0005737]',\n",
       "       'basolateral plasma membrane [GO:0016323]', ...,\n",
       "       'cytosol [GO:0005829]; early endosome [GO:0005769]; endocytic vesicle [GO:0030139]; recycling endosome [GO:0055037]',\n",
       "       'cytoplasm [GO:0005737]; Golgi medial cisterna [GO:0005797]; Golgi membrane [GO:0000139]; Golgi stack [GO:0005795]',\n",
       "       'mitochondrion [GO:0005739]; nuclear envelope [GO:0005635]; nuclear inner membrane [GO:0005637]; nucleus [GO:0005634]'],\n",
       "      dtype=object)"
      ]
     },
     "execution_count": 117,
     "metadata": {},
     "output_type": "execute_result"
    }
   ],
   "source": [
    "df['Gene Ontology (cellular component)'].unique()"
   ]
  },
  {
   "cell_type": "code",
   "execution_count": 124,
   "id": "f4c578bb",
   "metadata": {},
   "outputs": [],
   "source": [
    "import pandas as pd, re, json\n",
    "\n",
    "# ---- Patterns ----\n",
    "ITEM_SPLIT = re.compile(r'\\s*;\\s*')\n",
    "GO_ITEM_RX = re.compile(r'^(.*?)\\s*\\[(GO:\\d{7})\\]\\s*$')\n",
    "GO_ID_ANY  = re.compile(r'(GO:\\d{7})')\n",
    "\n",
    "def parse_go_cc_to_json(s: str):\n",
    "    \"\"\"\n",
    "    Parse 'Gene Ontology (cellular component)' items into:\n",
    "      {go_id:str, term:str, aspect:'CC', evidence:list[str]}\n",
    "    \"\"\"\n",
    "    if pd.isna(s) or not isinstance(s, str) or not s.strip():\n",
    "        return None\n",
    "    text = s.strip()\n",
    "    items = [p for p in ITEM_SPLIT.split(text) if p.strip()]\n",
    "    out = []\n",
    "    for it in items:\n",
    "        it = it.strip()\n",
    "        m = GO_ITEM_RX.match(it)\n",
    "        if m:\n",
    "            term = m.group(1).strip()\n",
    "            go_id = m.group(2)\n",
    "        else:\n",
    "            # Fallback: find GO id anywhere, use text before it as term\n",
    "            mid = GO_ID_ANY.search(it)\n",
    "            if not mid:\n",
    "                continue\n",
    "            go_id = mid.group(1)\n",
    "            bpos = it.find('[' + go_id + ']')\n",
    "            term = it[:bpos].strip() if bpos != -1 else it[:mid.start()].strip()\n",
    "        if term.endswith(','):\n",
    "            term = term[:-1].rstrip()\n",
    "        out.append({\"go_id\": go_id, \"term\": term, \"aspect\": \"CC\", \"evidence\": []})\n",
    "    return out if out else None\n",
    "\n",
    "# ---- Apply to dataset ----\n",
    "col_cc = 'Gene Ontology (cellular component)'\n",
    "df['GO_CC_json'] = df[col_cc].apply(\n",
    "    lambda s: None if (obj := parse_go_cc_to_json(s)) is None else json.dumps(obj, ensure_ascii=False)\n",
    ")\n",
    "\n",
    "# ---- Optional: value-level validation on a large sample ----\n",
    "def extract_reference_go_cc(raw: str):\n",
    "    if pd.isna(raw) or not isinstance(raw, str) or not raw.strip():\n",
    "        return []\n",
    "    items = [p for p in ITEM_SPLIT.split(raw.strip()) if p.strip()]\n",
    "    sigs = []\n",
    "    for it in items:\n",
    "        it = it.strip()\n",
    "        m = GO_ITEM_RX.match(it)\n",
    "        if m:\n",
    "            term = m.group(1).strip(); go_id = m.group(2)\n",
    "        else:\n",
    "            mid = GO_ID_ANY.search(it)\n",
    "            if not mid: continue\n",
    "            go_id = mid.group(1)\n",
    "            bpos = it.find('[' + go_id + ']')\n",
    "            term = it[:bpos].strip() if bpos != -1 else it[:mid.start()].strip()\n",
    "        if term.endswith(','): term = term[:-1].rstrip()\n",
    "        sigs.append({\"go_id\": go_id, \"term\": term, \"aspect\": \"CC\", \"evidence\": []})\n",
    "    return sigs\n",
    "\n",
    "# ---- Save ----\n",
    "df[df[col_cc].notna()][['Entry', col_cc, 'GO_CC_json']].to_csv(\"temp/QA_GO_CC_with_JSON.tsv\", sep=\"\\t\", index=False)"
   ]
  },
  {
   "cell_type": "code",
   "execution_count": 118,
   "id": "ef0d2533",
   "metadata": {},
   "outputs": [
    {
     "data": {
      "text/plain": [
       "array(['lysophospholipid:sodium symporter activity [GO:0051978]',\n",
       "       'amino acid binding [GO:0016597]; ornithine carbamoyltransferase activity [GO:0004585]',\n",
       "       'potassium:proton antiporter activity [GO:0015386]; sodium:proton antiporter activity [GO:0015385]',\n",
       "       ...,\n",
       "       'DNA binding [GO:0003677]; guanyl-nucleotide exchange factor activity [GO:0005085]; small GTPase binding [GO:0031267]; zinc ion binding [GO:0008270]',\n",
       "       'DNA-binding transcription activator activity, RNA polymerase II-specific [GO:0001228]; RNA polymerase II cis-regulatory region sequence-specific DNA binding [GO:0000978]; sequence-specific DNA binding [GO:0043565]; sequence-specific double-stranded DNA binding [GO:1990837]',\n",
       "       'tRNA (guanine(26)-N2)-dimethyltransferase activity [GO:0160104]; tRNA (guanine(26)-N2/guanine(27)-N2)-dimethyltransferase activity [GO:0160103]; tRNA binding [GO:0000049]'],\n",
       "      dtype=object)"
      ]
     },
     "execution_count": 118,
     "metadata": {},
     "output_type": "execute_result"
    }
   ],
   "source": [
    "df['Gene Ontology (molecular function)'].unique()"
   ]
  },
  {
   "cell_type": "code",
   "execution_count": 125,
   "id": "11961c12",
   "metadata": {},
   "outputs": [],
   "source": [
    "import pandas as pd, re, json\n",
    "\n",
    "# ---- Patterns ----\n",
    "ITEM_SPLIT = re.compile(r'\\s*;\\s*')\n",
    "GO_ITEM_RX = re.compile(r'^(.*?)\\s*\\[(GO:\\d{7})\\]\\s*$')\n",
    "GO_ID_ANY  = re.compile(r'(GO:\\d{7})')\n",
    "\n",
    "def parse_go_mf_to_json(s: str):\n",
    "    \"\"\"\n",
    "    Parse 'Gene Ontology (molecular function)' items into:\n",
    "      {go_id:str, term:str, aspect:'MF', evidence:list[str]}\n",
    "    \"\"\"\n",
    "    if pd.isna(s) or not isinstance(s, str) or not s.strip():\n",
    "        return None\n",
    "    items = [p for p in ITEM_SPLIT.split(s.strip()) if p.strip()]\n",
    "    out = []\n",
    "    for it in items:\n",
    "        it = it.strip()\n",
    "        m = GO_ITEM_RX.match(it)\n",
    "        if m:\n",
    "            term = m.group(1).strip()\n",
    "            go_id = m.group(2)\n",
    "        else:\n",
    "            # Fallback: find GO id anywhere, use text before it as term\n",
    "            mid = GO_ID_ANY.search(it)\n",
    "            if not mid:\n",
    "                continue\n",
    "            go_id = mid.group(1)\n",
    "            bpos = it.find('[' + go_id + ']')\n",
    "            term = it[:bpos].strip() if bpos != -1 else it[:mid.start()].strip()\n",
    "        if term.endswith(','):\n",
    "            term = term[:-1].rstrip()\n",
    "        out.append({\"go_id\": go_id, \"term\": term, \"aspect\": \"MF\", \"evidence\": []})\n",
    "    return out if out else None\n",
    "\n",
    "# ---- Apply to dataset ----\n",
    "col_mf = 'Gene Ontology (molecular function)'\n",
    "df['GO_MF_json'] = df[col_mf].apply(\n",
    "    lambda s: None if (obj := parse_go_mf_to_json(s)) is None else json.dumps(obj, ensure_ascii=False)\n",
    ")\n",
    "\n",
    "# ---- Optional: value-level validation on a large sample ----\n",
    "def extract_reference_go_mf(raw: str):\n",
    "    if pd.isna(raw) or not isinstance(raw, str) or not raw.strip():\n",
    "        return []\n",
    "    items = [p for p in ITEM_SPLIT.split(raw.strip()) if p.strip()]\n",
    "    sigs = []\n",
    "    for it in items:\n",
    "        it = it.strip()\n",
    "        m = GO_ITEM_RX.match(it)\n",
    "        if m:\n",
    "            term = m.group(1).strip(); go_id = m.group(2)\n",
    "        else:\n",
    "            mid = GO_ID_ANY.search(it)\n",
    "            if not mid: continue\n",
    "            go_id = mid.group(1)\n",
    "            bpos = it.find('[' + go_id + ']')\n",
    "            term = it[:bpos].strip() if bpos != -1 else it[:mid.start()].strip()\n",
    "        if term.endswith(','): term = term[:-1].rstrip()\n",
    "        sigs.append({\"go_id\": go_id, \"term\": term, \"aspect\": \"MF\", \"evidence\": []})\n",
    "    return sigs\n",
    "\n",
    "\n",
    "# ---- Save ----\n",
    "df[df[col_mf].notna()][['Entry', col_mf, 'GO_MF_json']].to_csv(\"temp/QA_GO_MF_with_JSON.tsv\", sep=\"\\t\", index=False)"
   ]
  },
  {
   "cell_type": "code",
   "execution_count": 126,
   "id": "83adc83e",
   "metadata": {},
   "outputs": [
    {
     "name": "stdout",
     "output_type": "stream",
     "text": [
      "<class 'pandas.core.frame.DataFrame'>\n",
      "RangeIndex: 256690 entries, 0 to 256689\n",
      "Data columns (total 36 columns):\n",
      " #   Column                              Non-Null Count   Dtype \n",
      "---  ------                              --------------   ----- \n",
      " 0   Entry                               256690 non-null  object\n",
      " 1   name                                256690 non-null  object\n",
      " 2   sequence                            256690 non-null  object\n",
      " 3   function                            256690 non-null  object\n",
      " 4   Organism                            256690 non-null  object\n",
      " 5   Length                              256690 non-null  int64 \n",
      " 6   Active site                         55837 non-null   object\n",
      " 7   Catalytic activity                  132908 non-null  object\n",
      " 8   Binding site                        115900 non-null  object\n",
      " 9   Cofactor                            65251 non-null   object\n",
      " 10  DNA binding                         4886 non-null    object\n",
      " 11  EC number                           141536 non-null  object\n",
      " 12  Pathway                             68691 non-null   object\n",
      " 13  Reactome                            18470 non-null   object\n",
      " 14  UniPathway                          66801 non-null   object\n",
      " 15  Subcellular location [CC]           167776 non-null  object\n",
      " 16  Domain [FT]                         63134 non-null   object\n",
      " 17  Gene Ontology (biological process)  222047 non-null  object\n",
      " 18  Gene Ontology (cellular component)  215299 non-null  object\n",
      " 19  Gene Ontology (molecular function)  234925 non-null  object\n",
      " 20  Motif                               12019 non-null   object\n",
      " 21  Topological domain                  13374 non-null   object\n",
      " 22  length                              256690 non-null  int64 \n",
      " 23  Active_site_json                    55837 non-null   object\n",
      " 24  Binding_site_json                   115897 non-null  object\n",
      " 25  Catalytic_Activity_json             132908 non-null  object\n",
      " 26  Cofactor_json                       65245 non-null   object\n",
      " 27  DNA_binding_json                    4886 non-null    object\n",
      " 28  Pathway_json                        68691 non-null   object\n",
      " 29  Subcellular_location_json           167764 non-null  object\n",
      " 30  DomainFT_json                       63134 non-null   object\n",
      " 31  Motif_json                          12019 non-null   object\n",
      " 32  Topological_domain_json             13374 non-null   object\n",
      " 33  GO_BP_json                          222047 non-null  object\n",
      " 34  GO_CC_json                          215299 non-null  object\n",
      " 35  GO_MF_json                          234925 non-null  object\n",
      "dtypes: int64(2), object(34)\n",
      "memory usage: 70.5+ MB\n"
     ]
    }
   ],
   "source": [
    "df.info()"
   ]
  },
  {
   "cell_type": "code",
   "execution_count": 129,
   "id": "cbe9cfa7",
   "metadata": {},
   "outputs": [
    {
     "name": "stdout",
     "output_type": "stream",
     "text": [
      "<class 'pandas.core.frame.DataFrame'>\n",
      "RangeIndex: 256690 entries, 0 to 256689\n",
      "Data columns (total 36 columns):\n",
      " #   Column                              Non-Null Count   Dtype \n",
      "---  ------                              --------------   ----- \n",
      " 0   Entry                               256690 non-null  object\n",
      " 1   name                                256690 non-null  object\n",
      " 2   sequence                            256690 non-null  object\n",
      " 3   function                            256690 non-null  object\n",
      " 4   Organism                            256690 non-null  object\n",
      " 5   Length                              256690 non-null  int64 \n",
      " 6   Active site                         55837 non-null   object\n",
      " 7   Catalytic activity                  132908 non-null  object\n",
      " 8   Binding site                        115900 non-null  object\n",
      " 9   Cofactor                            65251 non-null   object\n",
      " 10  DNA binding                         4886 non-null    object\n",
      " 11  EC number                           141536 non-null  object\n",
      " 12  Pathway                             68691 non-null   object\n",
      " 13  Reactome                            18470 non-null   object\n",
      " 14  UniPathway                          66801 non-null   object\n",
      " 15  Subcellular location [CC]           167776 non-null  object\n",
      " 16  Domain [FT]                         63134 non-null   object\n",
      " 17  Gene Ontology (biological process)  222047 non-null  object\n",
      " 18  Gene Ontology (cellular component)  215299 non-null  object\n",
      " 19  Gene Ontology (molecular function)  234925 non-null  object\n",
      " 20  Motif                               12019 non-null   object\n",
      " 21  Topological domain                  13374 non-null   object\n",
      " 22  length                              256690 non-null  int64 \n",
      " 23  Active_site_json                    55837 non-null   object\n",
      " 24  Binding_site_json                   115897 non-null  object\n",
      " 25  Catalytic_Activity_json             132908 non-null  object\n",
      " 26  Cofactor_json                       65245 non-null   object\n",
      " 27  DNA_binding_json                    4886 non-null    object\n",
      " 28  Pathway_json                        68691 non-null   object\n",
      " 29  Subcellular_location_json           167764 non-null  object\n",
      " 30  DomainFT_json                       63134 non-null   object\n",
      " 31  Motif_json                          12019 non-null   object\n",
      " 32  Topological_domain_json             13374 non-null   object\n",
      " 33  GO_BP_json                          222047 non-null  object\n",
      " 34  GO_CC_json                          215299 non-null  object\n",
      " 35  GO_MF_json                          234925 non-null  object\n",
      "dtypes: int64(2), object(34)\n",
      "memory usage: 70.5+ MB\n"
     ]
    }
   ],
   "source": [
    "df.info()"
   ]
  },
  {
   "cell_type": "code",
   "execution_count": 130,
   "id": "25d3c9cf",
   "metadata": {},
   "outputs": [],
   "source": [
    "df2 = pd.read_csv(\"main/Main_Data_Parsed.csv\")\n",
    "\n",
    "uniprot_seq_df = pd.read_csv(\"main/seq/UniProt_Sequence.tsv\", sep=\"\\t\")\n",
    "\n",
    "# join with main df on Entry, change the new column name to 'sequence_UniProt'\n",
    "uniprot_seq_df.rename(columns={'Entry': 'Entry', 'Sequence': 'sequence_UniProt'}, inplace=True)\n",
    "df2 = df2.merge(uniprot_seq_df[['Entry', 'sequence_UniProt']], on='Entry', how='left')\n"
   ]
  },
  {
   "cell_type": "code",
   "execution_count": 131,
   "id": "3caee7ae",
   "metadata": {},
   "outputs": [
    {
     "name": "stdout",
     "output_type": "stream",
     "text": [
      "<class 'pandas.core.frame.DataFrame'>\n",
      "RangeIndex: 256690 entries, 0 to 256689\n",
      "Data columns (total 37 columns):\n",
      " #   Column                              Non-Null Count   Dtype \n",
      "---  ------                              --------------   ----- \n",
      " 0   Entry                               256690 non-null  object\n",
      " 1   name                                256690 non-null  object\n",
      " 2   sequence                            256690 non-null  object\n",
      " 3   function                            256690 non-null  object\n",
      " 4   Organism                            256690 non-null  object\n",
      " 5   Length                              256690 non-null  int64 \n",
      " 6   Active site                         55837 non-null   object\n",
      " 7   Catalytic activity                  132908 non-null  object\n",
      " 8   Binding site                        115900 non-null  object\n",
      " 9   Cofactor                            65251 non-null   object\n",
      " 10  DNA binding                         4886 non-null    object\n",
      " 11  EC number                           141536 non-null  object\n",
      " 12  Pathway                             68691 non-null   object\n",
      " 13  Reactome                            18470 non-null   object\n",
      " 14  UniPathway                          66801 non-null   object\n",
      " 15  Subcellular location [CC]           167776 non-null  object\n",
      " 16  Domain [FT]                         63134 non-null   object\n",
      " 17  Gene Ontology (biological process)  222047 non-null  object\n",
      " 18  Gene Ontology (cellular component)  215299 non-null  object\n",
      " 19  Gene Ontology (molecular function)  234925 non-null  object\n",
      " 20  Motif                               12019 non-null   object\n",
      " 21  Topological domain                  13374 non-null   object\n",
      " 22  length                              256690 non-null  int64 \n",
      " 23  Active_site_json                    55837 non-null   object\n",
      " 24  Binding_site_json                   115897 non-null  object\n",
      " 25  Catalytic_Activity_json             132908 non-null  object\n",
      " 26  Cofactor_json                       65245 non-null   object\n",
      " 27  DNA_binding_json                    4886 non-null    object\n",
      " 28  Pathway_json                        68691 non-null   object\n",
      " 29  Subcellular_location_json           167764 non-null  object\n",
      " 30  DomainFT_json                       63134 non-null   object\n",
      " 31  Motif_json                          12019 non-null   object\n",
      " 32  Topological_domain_json             13374 non-null   object\n",
      " 33  GO_BP_json                          222047 non-null  object\n",
      " 34  GO_CC_json                          215299 non-null  object\n",
      " 35  GO_MF_json                          234925 non-null  object\n",
      " 36  sequence_UniProt                    256681 non-null  object\n",
      "dtypes: int64(2), object(35)\n",
      "memory usage: 72.5+ MB\n"
     ]
    }
   ],
   "source": [
    "df2.info()"
   ]
  },
  {
   "cell_type": "code",
   "execution_count": 132,
   "id": "1ea029c3",
   "metadata": {},
   "outputs": [
    {
     "name": "stderr",
     "output_type": "stream",
     "text": [
      "/var/folders/7g/nsys8v9n73ddsfkrmy2zz58w0000gn/T/ipykernel_2164/3621565579.py:5: FutureWarning: A value is trying to be set on a copy of a DataFrame or Series through chained assignment using an inplace method.\n",
      "The behavior will change in pandas 3.0. This inplace method will never work because the intermediate object on which we are setting values always behaves as a copy.\n",
      "\n",
      "For example, when doing 'df[col].method(value, inplace=True)', try using 'df.method({col: value}, inplace=True)' or df[col] = df[col].method(value) instead, to perform the operation inplace on the original object.\n",
      "\n",
      "\n",
      "  df2['sequence'].fillna('', inplace=True)\n",
      "/var/folders/7g/nsys8v9n73ddsfkrmy2zz58w0000gn/T/ipykernel_2164/3621565579.py:6: FutureWarning: A value is trying to be set on a copy of a DataFrame or Series through chained assignment using an inplace method.\n",
      "The behavior will change in pandas 3.0. This inplace method will never work because the intermediate object on which we are setting values always behaves as a copy.\n",
      "\n",
      "For example, when doing 'df[col].method(value, inplace=True)', try using 'df.method({col: value}, inplace=True)' or df[col] = df[col].method(value) instead, to perform the operation inplace on the original object.\n",
      "\n",
      "\n",
      "  df2['sequence_UniProt'].fillna('', inplace=True)\n"
     ]
    }
   ],
   "source": [
    "# sequence                            256690 non-null  object\n",
    "# sequence_UniProt                   256681 non-null  object\n",
    "\n",
    "# check how many sequences are different\n",
    "df2['sequence'].fillna('', inplace=True)\n",
    "df2['sequence_UniProt'].fillna('', inplace=True)\n",
    "df2['seq_match'] = df2['sequence'] == df2['sequence_UniProt']   "
   ]
  },
  {
   "cell_type": "code",
   "execution_count": 133,
   "id": "22af6b7a",
   "metadata": {},
   "outputs": [
    {
     "data": {
      "text/plain": [
       "seq_match\n",
       "True     256295\n",
       "False       395\n",
       "Name: count, dtype: int64"
      ]
     },
     "execution_count": 133,
     "metadata": {},
     "output_type": "execute_result"
    }
   ],
   "source": [
    "df2['seq_match'].value_counts()"
   ]
  },
  {
   "cell_type": "code",
   "execution_count": 134,
   "id": "bd96b766",
   "metadata": {},
   "outputs": [
    {
     "data": {
      "text/html": [
       "<div>\n",
       "<style scoped>\n",
       "    .dataframe tbody tr th:only-of-type {\n",
       "        vertical-align: middle;\n",
       "    }\n",
       "\n",
       "    .dataframe tbody tr th {\n",
       "        vertical-align: top;\n",
       "    }\n",
       "\n",
       "    .dataframe thead th {\n",
       "        text-align: right;\n",
       "    }\n",
       "</style>\n",
       "<table border=\"1\" class=\"dataframe\">\n",
       "  <thead>\n",
       "    <tr style=\"text-align: right;\">\n",
       "      <th></th>\n",
       "      <th>Entry</th>\n",
       "      <th>sequence</th>\n",
       "      <th>sequence_UniProt</th>\n",
       "    </tr>\n",
       "  </thead>\n",
       "  <tbody>\n",
       "    <tr>\n",
       "      <th>18</th>\n",
       "      <td>A0A1W2PPG7</td>\n",
       "      <td>MSSKVAINSDIGQALWAVEQLQMEAGIDQVKMAADLLKFCTEQAKN...</td>\n",
       "      <td>MSSKVAINSDIGQALWAVEQLQMEAGIDQVKVRVGASAGGGKRWEH...</td>\n",
       "    </tr>\n",
       "    <tr>\n",
       "      <th>576</th>\n",
       "      <td>Q2U0K2</td>\n",
       "      <td>MWWPRATADRLQTCTFWFLWLFTWDDEIDQSTSDLFIHIHKANDFR...</td>\n",
       "      <td>MSQSVVVNPRPALKAKLTKEPFSIPNLKPYYKAWPTAVNPDYPGLK...</td>\n",
       "    </tr>\n",
       "    <tr>\n",
       "      <th>627</th>\n",
       "      <td>Q4IBL8</td>\n",
       "      <td>MREIVTLQLDQESYFTYSSDEKSLIDHNVHWRAGLGADGSETFLPR...</td>\n",
       "      <td>MREIVTLQLGQLSNYTATHFWNAQESYFTYSSDEKSLIDHNVHWRA...</td>\n",
       "    </tr>\n",
       "    <tr>\n",
       "      <th>832</th>\n",
       "      <td>Q8NGJ2</td>\n",
       "      <td>MPSASAMIIFNLSSYNPGPFILVGIPGLEQFHVWIGIPFCIIYIVA...</td>\n",
       "      <td>MIIFNLSSYNPGPFILVGIPGLEQFHVWIGIPFCIIYIVAVVGNCI...</td>\n",
       "    </tr>\n",
       "    <tr>\n",
       "      <th>844</th>\n",
       "      <td>Q99490</td>\n",
       "      <td>MSRGAGALQRRTTTYLISLTLVKLESVPPPPPSPSAAAVGAPGARG...</td>\n",
       "      <td>MSRGAGALQRRTTTYLISLTLVKLESVPPPPPSPSAAAAGAAGARG...</td>\n",
       "    </tr>\n",
       "    <tr>\n",
       "      <th>...</th>\n",
       "      <td>...</td>\n",
       "      <td>...</td>\n",
       "      <td>...</td>\n",
       "    </tr>\n",
       "    <tr>\n",
       "      <th>255845</th>\n",
       "      <td>Q5K8L4</td>\n",
       "      <td>MASKQHAHILSLARSMIPPLHPKLHKGQAGRIGVLGGSGDYSGAPY...</td>\n",
       "      <td>MASKQHAHILSLARSMIPPLHPKLHKGQAGRIGVLGGSGDYSGAPY...</td>\n",
       "    </tr>\n",
       "    <tr>\n",
       "      <th>256322</th>\n",
       "      <td>O13861</td>\n",
       "      <td>METLQVEVFFLFDFTSIMAGFKVPSWITYKSFWIAVSSSVTTACVI...</td>\n",
       "      <td>MAGFKVPSWITYKSFWIAVSSSVTTACVILGTLEFRKHRSIRRLQS...</td>\n",
       "    </tr>\n",
       "    <tr>\n",
       "      <th>256323</th>\n",
       "      <td>P34331</td>\n",
       "      <td>MNRLPNIAKPPQKSNQRKEKAPPEVPALIADKDRGTYYEKGRFLGK...</td>\n",
       "      <td>MNRLPNIAKPPQKSNQRKEKAPPEVPALIADKDRGTYYEKGRFLGK...</td>\n",
       "    </tr>\n",
       "    <tr>\n",
       "      <th>256513</th>\n",
       "      <td>Q10337</td>\n",
       "      <td>MEKIKLLNVKTPNHYTIIFKVVAYYSALQPNQNELRKKELFIKNDG...</td>\n",
       "      <td>MLAAESSNKELFIKNDGKALSFPYDWKLATHVICDDFSSPNVQEGS...</td>\n",
       "    </tr>\n",
       "    <tr>\n",
       "      <th>256555</th>\n",
       "      <td>P07358</td>\n",
       "      <td>MKNSRTWAWRAPVELFLLCAALGCLSLPGSRGERPHSFGSNAVNKS...</td>\n",
       "      <td>MKNSRTWAWRAPVELFLLCAALGCLSLPGSRGERPHSFGSNAVNKS...</td>\n",
       "    </tr>\n",
       "  </tbody>\n",
       "</table>\n",
       "<p>395 rows × 3 columns</p>\n",
       "</div>"
      ],
      "text/plain": [
       "             Entry                                           sequence  \\\n",
       "18      A0A1W2PPG7  MSSKVAINSDIGQALWAVEQLQMEAGIDQVKMAADLLKFCTEQAKN...   \n",
       "576         Q2U0K2  MWWPRATADRLQTCTFWFLWLFTWDDEIDQSTSDLFIHIHKANDFR...   \n",
       "627         Q4IBL8  MREIVTLQLDQESYFTYSSDEKSLIDHNVHWRAGLGADGSETFLPR...   \n",
       "832         Q8NGJ2  MPSASAMIIFNLSSYNPGPFILVGIPGLEQFHVWIGIPFCIIYIVA...   \n",
       "844         Q99490  MSRGAGALQRRTTTYLISLTLVKLESVPPPPPSPSAAAVGAPGARG...   \n",
       "...            ...                                                ...   \n",
       "255845      Q5K8L4  MASKQHAHILSLARSMIPPLHPKLHKGQAGRIGVLGGSGDYSGAPY...   \n",
       "256322      O13861  METLQVEVFFLFDFTSIMAGFKVPSWITYKSFWIAVSSSVTTACVI...   \n",
       "256323      P34331  MNRLPNIAKPPQKSNQRKEKAPPEVPALIADKDRGTYYEKGRFLGK...   \n",
       "256513      Q10337  MEKIKLLNVKTPNHYTIIFKVVAYYSALQPNQNELRKKELFIKNDG...   \n",
       "256555      P07358  MKNSRTWAWRAPVELFLLCAALGCLSLPGSRGERPHSFGSNAVNKS...   \n",
       "\n",
       "                                         sequence_UniProt  \n",
       "18      MSSKVAINSDIGQALWAVEQLQMEAGIDQVKVRVGASAGGGKRWEH...  \n",
       "576     MSQSVVVNPRPALKAKLTKEPFSIPNLKPYYKAWPTAVNPDYPGLK...  \n",
       "627     MREIVTLQLGQLSNYTATHFWNAQESYFTYSSDEKSLIDHNVHWRA...  \n",
       "832     MIIFNLSSYNPGPFILVGIPGLEQFHVWIGIPFCIIYIVAVVGNCI...  \n",
       "844     MSRGAGALQRRTTTYLISLTLVKLESVPPPPPSPSAAAAGAAGARG...  \n",
       "...                                                   ...  \n",
       "255845  MASKQHAHILSLARSMIPPLHPKLHKGQAGRIGVLGGSGDYSGAPY...  \n",
       "256322  MAGFKVPSWITYKSFWIAVSSSVTTACVILGTLEFRKHRSIRRLQS...  \n",
       "256323  MNRLPNIAKPPQKSNQRKEKAPPEVPALIADKDRGTYYEKGRFLGK...  \n",
       "256513  MLAAESSNKELFIKNDGKALSFPYDWKLATHVICDDFSSPNVQEGS...  \n",
       "256555  MKNSRTWAWRAPVELFLLCAALGCLSLPGSRGERPHSFGSNAVNKS...  \n",
       "\n",
       "[395 rows x 3 columns]"
      ]
     },
     "execution_count": 134,
     "metadata": {},
     "output_type": "execute_result"
    }
   ],
   "source": [
    "# show the rows where the sequences are different\n",
    "df2[df2['seq_match'] == False][['Entry', 'sequence', 'sequence_UniProt']]"
   ]
  },
  {
   "cell_type": "code",
   "execution_count": 136,
   "id": "60fb82e8",
   "metadata": {},
   "outputs": [],
   "source": [
    "# values where sequence is different, why is it different?\n",
    "# 3 col tsv\n",
    "df2[df2['seq_match'] == False][['Entry', 'sequence', 'sequence_UniProt']].to_csv(\"temp/QA_Sequence_Mismatches.tsv\", sep=\"\\t\", index=False)"
   ]
  },
  {
   "cell_type": "code",
   "execution_count": 137,
   "id": "709278e3",
   "metadata": {},
   "outputs": [
    {
     "name": "stdout",
     "output_type": "stream",
     "text": [
      "<class 'pandas.core.frame.DataFrame'>\n",
      "RangeIndex: 256690 entries, 0 to 256689\n",
      "Data columns (total 38 columns):\n",
      " #   Column                              Non-Null Count   Dtype \n",
      "---  ------                              --------------   ----- \n",
      " 0   Entry                               256690 non-null  object\n",
      " 1   name                                256690 non-null  object\n",
      " 2   sequence                            256690 non-null  object\n",
      " 3   function                            256690 non-null  object\n",
      " 4   Organism                            256690 non-null  object\n",
      " 5   Length                              256690 non-null  int64 \n",
      " 6   Active site                         55837 non-null   object\n",
      " 7   Catalytic activity                  132908 non-null  object\n",
      " 8   Binding site                        115900 non-null  object\n",
      " 9   Cofactor                            65251 non-null   object\n",
      " 10  DNA binding                         4886 non-null    object\n",
      " 11  EC number                           141536 non-null  object\n",
      " 12  Pathway                             68691 non-null   object\n",
      " 13  Reactome                            18470 non-null   object\n",
      " 14  UniPathway                          66801 non-null   object\n",
      " 15  Subcellular location [CC]           167776 non-null  object\n",
      " 16  Domain [FT]                         63134 non-null   object\n",
      " 17  Gene Ontology (biological process)  222047 non-null  object\n",
      " 18  Gene Ontology (cellular component)  215299 non-null  object\n",
      " 19  Gene Ontology (molecular function)  234925 non-null  object\n",
      " 20  Motif                               12019 non-null   object\n",
      " 21  Topological domain                  13374 non-null   object\n",
      " 22  length                              256690 non-null  int64 \n",
      " 23  Active_site_json                    55837 non-null   object\n",
      " 24  Binding_site_json                   115897 non-null  object\n",
      " 25  Catalytic_Activity_json             132908 non-null  object\n",
      " 26  Cofactor_json                       65245 non-null   object\n",
      " 27  DNA_binding_json                    4886 non-null    object\n",
      " 28  Pathway_json                        68691 non-null   object\n",
      " 29  Subcellular_location_json           167764 non-null  object\n",
      " 30  DomainFT_json                       63134 non-null   object\n",
      " 31  Motif_json                          12019 non-null   object\n",
      " 32  Topological_domain_json             13374 non-null   object\n",
      " 33  GO_BP_json                          222047 non-null  object\n",
      " 34  GO_CC_json                          215299 non-null  object\n",
      " 35  GO_MF_json                          234925 non-null  object\n",
      " 36  sequence_UniProt                    256690 non-null  object\n",
      " 37  seq_match                           256690 non-null  bool  \n",
      "dtypes: bool(1), int64(2), object(35)\n",
      "memory usage: 72.7+ MB\n"
     ]
    }
   ],
   "source": [
    "df2.info()"
   ]
  },
  {
   "cell_type": "code",
   "execution_count": 138,
   "id": "b2cebe94",
   "metadata": {},
   "outputs": [],
   "source": [
    "df2.to_csv(\"main/Main_Data_Parsed.csv\", index=False)"
   ]
  },
  {
   "cell_type": "markdown",
   "id": "d8830f26",
   "metadata": {},
   "source": [
    "### Sequence fixing and final df"
   ]
  },
  {
   "cell_type": "code",
   "execution_count": 2,
   "id": "99982885",
   "metadata": {},
   "outputs": [],
   "source": [
    "import pandas as pd"
   ]
  },
  {
   "cell_type": "code",
   "execution_count": 16,
   "id": "d9126116",
   "metadata": {},
   "outputs": [],
   "source": [
    "final_df = pd.read_csv(\"main/Main_Data_Parsed.csv\")"
   ]
  },
  {
   "cell_type": "code",
   "execution_count": 17,
   "id": "bd6a8bdd",
   "metadata": {},
   "outputs": [
    {
     "name": "stdout",
     "output_type": "stream",
     "text": [
      "<class 'pandas.core.frame.DataFrame'>\n",
      "RangeIndex: 256690 entries, 0 to 256689\n",
      "Data columns (total 38 columns):\n",
      " #   Column                              Non-Null Count   Dtype \n",
      "---  ------                              --------------   ----- \n",
      " 0   Entry                               256690 non-null  object\n",
      " 1   name                                256690 non-null  object\n",
      " 2   sequence                            256690 non-null  object\n",
      " 3   function                            256690 non-null  object\n",
      " 4   Organism                            256690 non-null  object\n",
      " 5   Length                              256690 non-null  int64 \n",
      " 6   Active site                         55837 non-null   object\n",
      " 7   Catalytic activity                  132908 non-null  object\n",
      " 8   Binding site                        115900 non-null  object\n",
      " 9   Cofactor                            65251 non-null   object\n",
      " 10  DNA binding                         4886 non-null    object\n",
      " 11  EC number                           141536 non-null  object\n",
      " 12  Pathway                             68691 non-null   object\n",
      " 13  Reactome                            18470 non-null   object\n",
      " 14  UniPathway                          66801 non-null   object\n",
      " 15  Subcellular location [CC]           167776 non-null  object\n",
      " 16  Domain [FT]                         63134 non-null   object\n",
      " 17  Gene Ontology (biological process)  222047 non-null  object\n",
      " 18  Gene Ontology (cellular component)  215299 non-null  object\n",
      " 19  Gene Ontology (molecular function)  234925 non-null  object\n",
      " 20  Motif                               12019 non-null   object\n",
      " 21  Topological domain                  13374 non-null   object\n",
      " 22  length                              256690 non-null  int64 \n",
      " 23  Active_site_json                    55837 non-null   object\n",
      " 24  Binding_site_json                   115897 non-null  object\n",
      " 25  Catalytic_Activity_json             132908 non-null  object\n",
      " 26  Cofactor_json                       65245 non-null   object\n",
      " 27  DNA_binding_json                    4886 non-null    object\n",
      " 28  Pathway_json                        68691 non-null   object\n",
      " 29  Subcellular_location_json           167764 non-null  object\n",
      " 30  DomainFT_json                       63134 non-null   object\n",
      " 31  Motif_json                          12019 non-null   object\n",
      " 32  Topological_domain_json             13374 non-null   object\n",
      " 33  GO_BP_json                          222047 non-null  object\n",
      " 34  GO_CC_json                          215299 non-null  object\n",
      " 35  GO_MF_json                          234925 non-null  object\n",
      " 36  sequence_UniProt                    256681 non-null  object\n",
      " 37  seq_match                           256690 non-null  bool  \n",
      "dtypes: bool(1), int64(2), object(35)\n",
      "memory usage: 72.7+ MB\n"
     ]
    }
   ],
   "source": [
    "final_df.info()"
   ]
  },
  {
   "cell_type": "code",
   "execution_count": 18,
   "id": "f22c3565",
   "metadata": {},
   "outputs": [
    {
     "name": "stdout",
     "output_type": "stream",
     "text": [
      "Total replaced: 386\n"
     ]
    }
   ],
   "source": [
    "mask = (final_df['sequence'] != final_df['sequence_UniProt']) & final_df['sequence_UniProt'].notna() & (final_df['sequence_UniProt'] != '')\n",
    "\n",
    "final_df.loc[mask, 'sequence'] = final_df.loc[mask, 'sequence_UniProt']\n",
    "\n",
    "replaced_count = mask.sum()\n",
    "print(\"Total replaced:\", replaced_count)"
   ]
  },
  {
   "cell_type": "code",
   "execution_count": 19,
   "id": "c6543f0e",
   "metadata": {},
   "outputs": [
    {
     "name": "stdout",
     "output_type": "stream",
     "text": [
      "<class 'pandas.core.frame.DataFrame'>\n",
      "RangeIndex: 256690 entries, 0 to 256689\n",
      "Data columns (total 38 columns):\n",
      " #   Column                              Non-Null Count   Dtype \n",
      "---  ------                              --------------   ----- \n",
      " 0   Entry                               256690 non-null  object\n",
      " 1   name                                256690 non-null  object\n",
      " 2   sequence                            256690 non-null  object\n",
      " 3   function                            256690 non-null  object\n",
      " 4   Organism                            256690 non-null  object\n",
      " 5   Length                              256690 non-null  int64 \n",
      " 6   Active site                         55837 non-null   object\n",
      " 7   Catalytic activity                  132908 non-null  object\n",
      " 8   Binding site                        115900 non-null  object\n",
      " 9   Cofactor                            65251 non-null   object\n",
      " 10  DNA binding                         4886 non-null    object\n",
      " 11  EC number                           141536 non-null  object\n",
      " 12  Pathway                             68691 non-null   object\n",
      " 13  Reactome                            18470 non-null   object\n",
      " 14  UniPathway                          66801 non-null   object\n",
      " 15  Subcellular location [CC]           167776 non-null  object\n",
      " 16  Domain [FT]                         63134 non-null   object\n",
      " 17  Gene Ontology (biological process)  222047 non-null  object\n",
      " 18  Gene Ontology (cellular component)  215299 non-null  object\n",
      " 19  Gene Ontology (molecular function)  234925 non-null  object\n",
      " 20  Motif                               12019 non-null   object\n",
      " 21  Topological domain                  13374 non-null   object\n",
      " 22  length                              256690 non-null  int64 \n",
      " 23  Active_site_json                    55837 non-null   object\n",
      " 24  Binding_site_json                   115897 non-null  object\n",
      " 25  Catalytic_Activity_json             132908 non-null  object\n",
      " 26  Cofactor_json                       65245 non-null   object\n",
      " 27  DNA_binding_json                    4886 non-null    object\n",
      " 28  Pathway_json                        68691 non-null   object\n",
      " 29  Subcellular_location_json           167764 non-null  object\n",
      " 30  DomainFT_json                       63134 non-null   object\n",
      " 31  Motif_json                          12019 non-null   object\n",
      " 32  Topological_domain_json             13374 non-null   object\n",
      " 33  GO_BP_json                          222047 non-null  object\n",
      " 34  GO_CC_json                          215299 non-null  object\n",
      " 35  GO_MF_json                          234925 non-null  object\n",
      " 36  sequence_UniProt                    256681 non-null  object\n",
      " 37  seq_match                           256690 non-null  bool  \n",
      "dtypes: bool(1), int64(2), object(35)\n",
      "memory usage: 72.7+ MB\n"
     ]
    }
   ],
   "source": [
    "final_df.info()"
   ]
  },
  {
   "cell_type": "code",
   "execution_count": 20,
   "id": "c486289f",
   "metadata": {},
   "outputs": [],
   "source": [
    "final_df.drop(columns=['sequence_UniProt', 'seq_match'], inplace=True)"
   ]
  },
  {
   "cell_type": "code",
   "execution_count": 21,
   "id": "a022e67a",
   "metadata": {},
   "outputs": [],
   "source": [
    "final_df.drop(columns=['Active site', 'Binding site', 'Catalytic activity', 'Cofactor', 'DNA binding', 'Pathway', 'Subcellular location [CC]', 'Domain [FT]', 'Gene Ontology (biological process)', 'Gene Ontology (cellular component)',  'Gene Ontology (molecular function)',  'Motif', 'Topological domain'], inplace=True)"
   ]
  },
  {
   "cell_type": "code",
   "execution_count": 22,
   "id": "bb55f7cf",
   "metadata": {},
   "outputs": [
    {
     "name": "stdout",
     "output_type": "stream",
     "text": [
      "<class 'pandas.core.frame.DataFrame'>\n",
      "RangeIndex: 256690 entries, 0 to 256689\n",
      "Data columns (total 23 columns):\n",
      " #   Column                     Non-Null Count   Dtype \n",
      "---  ------                     --------------   ----- \n",
      " 0   Entry                      256690 non-null  object\n",
      " 1   name                       256690 non-null  object\n",
      " 2   sequence                   256690 non-null  object\n",
      " 3   function                   256690 non-null  object\n",
      " 4   Organism                   256690 non-null  object\n",
      " 5   Length                     256690 non-null  int64 \n",
      " 6   EC number                  141536 non-null  object\n",
      " 7   Reactome                   18470 non-null   object\n",
      " 8   UniPathway                 66801 non-null   object\n",
      " 9   length                     256690 non-null  int64 \n",
      " 10  Active_site_json           55837 non-null   object\n",
      " 11  Binding_site_json          115897 non-null  object\n",
      " 12  Catalytic_Activity_json    132908 non-null  object\n",
      " 13  Cofactor_json              65245 non-null   object\n",
      " 14  DNA_binding_json           4886 non-null    object\n",
      " 15  Pathway_json               68691 non-null   object\n",
      " 16  Subcellular_location_json  167764 non-null  object\n",
      " 17  DomainFT_json              63134 non-null   object\n",
      " 18  Motif_json                 12019 non-null   object\n",
      " 19  Topological_domain_json    13374 non-null   object\n",
      " 20  GO_BP_json                 222047 non-null  object\n",
      " 21  GO_CC_json                 215299 non-null  object\n",
      " 22  GO_MF_json                 234925 non-null  object\n",
      "dtypes: int64(2), object(21)\n",
      "memory usage: 45.0+ MB\n"
     ]
    }
   ],
   "source": [
    "final_df.info()"
   ]
  },
  {
   "cell_type": "code",
   "execution_count": 24,
   "id": "bfd6aec2",
   "metadata": {},
   "outputs": [],
   "source": [
    "final_df['Length'] = final_df['sequence'].str.len()\n"
   ]
  },
  {
   "cell_type": "code",
   "execution_count": 26,
   "id": "2b441271",
   "metadata": {},
   "outputs": [],
   "source": [
    "final_df.drop(columns=['length'], inplace=True) "
   ]
  },
  {
   "cell_type": "code",
   "execution_count": 27,
   "id": "acd3bc2e",
   "metadata": {},
   "outputs": [
    {
     "name": "stdout",
     "output_type": "stream",
     "text": [
      "<class 'pandas.core.frame.DataFrame'>\n",
      "RangeIndex: 256690 entries, 0 to 256689\n",
      "Data columns (total 22 columns):\n",
      " #   Column                     Non-Null Count   Dtype \n",
      "---  ------                     --------------   ----- \n",
      " 0   Entry                      256690 non-null  object\n",
      " 1   name                       256690 non-null  object\n",
      " 2   sequence                   256690 non-null  object\n",
      " 3   function                   256690 non-null  object\n",
      " 4   Organism                   256690 non-null  object\n",
      " 5   Length                     256690 non-null  int64 \n",
      " 6   EC number                  141536 non-null  object\n",
      " 7   Reactome                   18470 non-null   object\n",
      " 8   UniPathway                 66801 non-null   object\n",
      " 9   Active_site_json           55837 non-null   object\n",
      " 10  Binding_site_json          115897 non-null  object\n",
      " 11  Catalytic_Activity_json    132908 non-null  object\n",
      " 12  Cofactor_json              65245 non-null   object\n",
      " 13  DNA_binding_json           4886 non-null    object\n",
      " 14  Pathway_json               68691 non-null   object\n",
      " 15  Subcellular_location_json  167764 non-null  object\n",
      " 16  DomainFT_json              63134 non-null   object\n",
      " 17  Motif_json                 12019 non-null   object\n",
      " 18  Topological_domain_json    13374 non-null   object\n",
      " 19  GO_BP_json                 222047 non-null  object\n",
      " 20  GO_CC_json                 215299 non-null  object\n",
      " 21  GO_MF_json                 234925 non-null  object\n",
      "dtypes: int64(1), object(21)\n",
      "memory usage: 43.1+ MB\n"
     ]
    }
   ],
   "source": [
    "final_df.info()"
   ]
  },
  {
   "cell_type": "code",
   "execution_count": 28,
   "id": "92ac19d7",
   "metadata": {},
   "outputs": [],
   "source": [
    "# save the df\n",
    "final_df.to_csv(\"main/Main_data_final_cols.csv\", index=False)"
   ]
  }
 ],
 "metadata": {
  "kernelspec": {
   "display_name": "base",
   "language": "python",
   "name": "python3"
  },
  "language_info": {
   "codemirror_mode": {
    "name": "ipython",
    "version": 3
   },
   "file_extension": ".py",
   "mimetype": "text/x-python",
   "name": "python",
   "nbconvert_exporter": "python",
   "pygments_lexer": "ipython3",
   "version": "3.12.7"
  }
 },
 "nbformat": 4,
 "nbformat_minor": 5
}
